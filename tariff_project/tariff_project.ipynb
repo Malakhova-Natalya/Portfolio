{
 "cells": [
  {
   "cell_type": "markdown",
   "id": "fd837f9f",
   "metadata": {},
   "source": [
    "# Определение перспективного тарифа для телеком-компании"
   ]
  },
  {
   "cell_type": "markdown",
   "id": "2a25800a",
   "metadata": {
    "toc": true
   },
   "source": [
    "<h1>Содержание<span class=\"tocSkip\"></span></h1>\n",
    "<div class=\"toc\"><ul class=\"toc-item\"><li><span><a href=\"#Описание-проекта\" data-toc-modified-id=\"Описание-проекта-1\"><span class=\"toc-item-num\">1&nbsp;&nbsp;</span>Описание проекта</a></span></li><li><span><a href=\"#Открытие-и-изучение-данных\" data-toc-modified-id=\"Открытие-и-изучение-данных-2\"><span class=\"toc-item-num\">2&nbsp;&nbsp;</span>Открытие и изучение данных</a></span><ul class=\"toc-item\"><li><span><a href=\"#Вывод\" data-toc-modified-id=\"Вывод-2.1\"><span class=\"toc-item-num\">2.1&nbsp;&nbsp;</span>Вывод</a></span></li></ul></li><li><span><a href=\"#Подготовка-данных\" data-toc-modified-id=\"Подготовка-данных-3\"><span class=\"toc-item-num\">3&nbsp;&nbsp;</span>Подготовка данных</a></span><ul class=\"toc-item\"><li><span><a href=\"#Расчёты-для-каждого-пользователя-по-месяцам\" data-toc-modified-id=\"Расчёты-для-каждого-пользователя-по-месяцам-3.1\"><span class=\"toc-item-num\">3.1&nbsp;&nbsp;</span>Расчёты для каждого пользователя по месяцам</a></span><ul class=\"toc-item\"><li><span><a href=\"#Звонки\" data-toc-modified-id=\"Звонки-3.1.1\"><span class=\"toc-item-num\">3.1.1&nbsp;&nbsp;</span>Звонки</a></span></li><li><span><a href=\"#Сообщения\" data-toc-modified-id=\"Сообщения-3.1.2\"><span class=\"toc-item-num\">3.1.2&nbsp;&nbsp;</span>Сообщения</a></span></li><li><span><a href=\"#Интернет-трафик\" data-toc-modified-id=\"Интернет-трафик-3.1.3\"><span class=\"toc-item-num\">3.1.3&nbsp;&nbsp;</span>Интернет-трафик</a></span></li><li><span><a href=\"#Выручка\" data-toc-modified-id=\"Выручка-3.1.4\"><span class=\"toc-item-num\">3.1.4&nbsp;&nbsp;</span>Выручка</a></span></li></ul></li><li><span><a href=\"#Вывод\" data-toc-modified-id=\"Вывод-3.2\"><span class=\"toc-item-num\">3.2&nbsp;&nbsp;</span>Вывод</a></span></li></ul></li><li><span><a href=\"#Анализ-поведения-клиентов\" data-toc-modified-id=\"Анализ-поведения-клиентов-4\"><span class=\"toc-item-num\">4&nbsp;&nbsp;</span>Анализ поведения клиентов</a></span><ul class=\"toc-item\"><li><span><a href=\"#Среднее\" data-toc-modified-id=\"Среднее-4.1\"><span class=\"toc-item-num\">4.1&nbsp;&nbsp;</span>Среднее</a></span></li><li><span><a href=\"#Дисперсия\" data-toc-modified-id=\"Дисперсия-4.2\"><span class=\"toc-item-num\">4.2&nbsp;&nbsp;</span>Дисперсия</a></span></li><li><span><a href=\"#Стандартное-отклонение\" data-toc-modified-id=\"Стандартное-отклонение-4.3\"><span class=\"toc-item-num\">4.3&nbsp;&nbsp;</span>Стандартное отклонение</a></span></li><li><span><a href=\"#Сводная-таблица\" data-toc-modified-id=\"Сводная-таблица-4.4\"><span class=\"toc-item-num\">4.4&nbsp;&nbsp;</span>Сводная таблица</a></span></li><li><span><a href=\"#Гистограммы\" data-toc-modified-id=\"Гистограммы-4.5\"><span class=\"toc-item-num\">4.5&nbsp;&nbsp;</span>Гистограммы</a></span></li><li><span><a href=\"#Вывод\" data-toc-modified-id=\"Вывод-4.6\"><span class=\"toc-item-num\">4.6&nbsp;&nbsp;</span>Вывод</a></span></li></ul></li><li><span><a href=\"#Проверка-гипотез\" data-toc-modified-id=\"Проверка-гипотез-5\"><span class=\"toc-item-num\">5&nbsp;&nbsp;</span>Проверка гипотез</a></span><ul class=\"toc-item\"><li><span><a href=\"#Сравнение-средних-выручек-двух-тарифов\" data-toc-modified-id=\"Сравнение-средних-выручек-двух-тарифов-5.1\"><span class=\"toc-item-num\">5.1&nbsp;&nbsp;</span>Сравнение средних выручек двух тарифов</a></span></li><li><span><a href=\"#Вывод\" data-toc-modified-id=\"Вывод-5.2\"><span class=\"toc-item-num\">5.2&nbsp;&nbsp;</span>Вывод</a></span></li><li><span><a href=\"#Сравнение-средних-выручек-пользователей-из-Москвы-и-из-регионов\" data-toc-modified-id=\"Сравнение-средних-выручек-пользователей-из-Москвы-и-из-регионов-5.3\"><span class=\"toc-item-num\">5.3&nbsp;&nbsp;</span>Сравнение средних выручек пользователей из Москвы и из регионов</a></span></li><li><span><a href=\"#Вывод\" data-toc-modified-id=\"Вывод-5.4\"><span class=\"toc-item-num\">5.4&nbsp;&nbsp;</span>Вывод</a></span></li><li><span><a href=\"#Дополнение:-графики-сравнения-выручек\" data-toc-modified-id=\"Дополнение:-графики-сравнения-выручек-5.5\"><span class=\"toc-item-num\">5.5&nbsp;&nbsp;</span>Дополнение: графики сравнения выручек</a></span></li><li><span><a href=\"#На-какой-тариф-направить-рекламный-бюджет?\" data-toc-modified-id=\"На-какой-тариф-направить-рекламный-бюджет?-5.6\"><span class=\"toc-item-num\">5.6&nbsp;&nbsp;</span>На какой тариф направить рекламный бюджет?</a></span></li><li><span><a href=\"#Вывод\" data-toc-modified-id=\"Вывод-5.7\"><span class=\"toc-item-num\">5.7&nbsp;&nbsp;</span>Вывод</a></span></li></ul></li><li><span><a href=\"#Общий-вывод\" data-toc-modified-id=\"Общий-вывод-6\"><span class=\"toc-item-num\">6&nbsp;&nbsp;</span>Общий вывод</a></span></li></ul></div>"
   ]
  },
  {
   "cell_type": "markdown",
   "id": "860c5e5e",
   "metadata": {},
   "source": [
    "## Описание проекта"
   ]
  },
  {
   "cell_type": "markdown",
   "id": "59ccbf14",
   "metadata": {},
   "source": [
    "В данном исследовании проводится анализ тарифов для коммерческого департамента оператора связи.\n",
    "\n",
    "**Основные задачи**:\n",
    "- сделать предварительный анализ двух тарифов на небольшой выборке клиентов\n",
    "- нужно выяснить, какой тариф приносит компании больше денег: на основе выводов исследования коммерческий департамент будет корректировать рекламный бюджет\n",
    "\n",
    "**План работы**:\n",
    "- подготовка данных, проведение расчётов по всем услугам, вычисление выручки по месяцам\n",
    "- анализ поведения клиентов: в каком объёме пользователи тарифов используют услуги\n",
    "- формулировка и проверка гипотез\n",
    "- визуализация, сравнение выручек двух тарифов\n",
    "- вывод: какой тариф рекомендовать к продвижению\n",
    "\n",
    "**Описание данных**:\n",
    "\n",
    "В ислледовании используются данные компании о 500 пользователях: это информация из 5 отдельных таблиц о звонках, интернет-сессиях, сообщениях, тарифах и самих пользователях."
   ]
  },
  {
   "cell_type": "markdown",
   "id": "bf6b35bf",
   "metadata": {},
   "source": [
    "## Открытие и изучение данных"
   ]
  },
  {
   "cell_type": "markdown",
   "id": "24210204",
   "metadata": {},
   "source": [
    "Загружаем необходимые для исследования библиотеки:"
   ]
  },
  {
   "cell_type": "code",
   "execution_count": 1,
   "id": "33da637c",
   "metadata": {},
   "outputs": [],
   "source": [
    "import pandas as pd\n",
    "import numpy as np\n",
    "import os\n",
    "import math\n",
    "from scipy import stats as st\n",
    "from matplotlib import pyplot as plt\n",
    "import seaborn as sns"
   ]
  },
  {
   "cell_type": "markdown",
   "id": "4bfafd2b",
   "metadata": {},
   "source": [
    "Открываем файлы:"
   ]
  },
  {
   "cell_type": "code",
   "execution_count": 2,
   "id": "568969db",
   "metadata": {},
   "outputs": [],
   "source": [
    "if os.path.exists('/datasets/calls.csv'):\n",
    "    calls = pd.read_csv('/datasets/calls.csv')\n",
    "else:\n",
    "    calls = pd.read_csv('/C:/datasets/calls.csv')"
   ]
  },
  {
   "cell_type": "code",
   "execution_count": 3,
   "id": "e6e1b559",
   "metadata": {},
   "outputs": [],
   "source": [
    "if os.path.exists('/datasets/internet.csv'):\n",
    "    internet = pd.read_csv('/datasets/internet.csv')\n",
    "else:\n",
    "    internet = pd.read_csv('/C:/datasets/internet.csv')"
   ]
  },
  {
   "cell_type": "code",
   "execution_count": 4,
   "id": "52eb3aad",
   "metadata": {},
   "outputs": [],
   "source": [
    "if os.path.exists('/datasets/messages.csv'):\n",
    "    messages = pd.read_csv('/datasets/messages.csv')\n",
    "else:\n",
    "    messages = pd.read_csv('/C:/datasets/messages.csv')"
   ]
  },
  {
   "cell_type": "code",
   "execution_count": 5,
   "id": "2c767156",
   "metadata": {},
   "outputs": [],
   "source": [
    "if os.path.exists('/datasets/tariffs.csv'):\n",
    "    tariffs = pd.read_csv('/datasets/tariffs.csv')\n",
    "else:\n",
    "    tariffs = pd.read_csv('/C:/datasets/tariffs.csv')"
   ]
  },
  {
   "cell_type": "code",
   "execution_count": 6,
   "id": "ca5c1420",
   "metadata": {},
   "outputs": [],
   "source": [
    "if os.path.exists('/datasets/users.csv'):\n",
    "    users = pd.read_csv('/datasets/users.csv')\n",
    "else:\n",
    "    users = pd.read_csv('/C:/datasets/users.csv')"
   ]
  },
  {
   "cell_type": "markdown",
   "id": "fb693cc3",
   "metadata": {},
   "source": [
    "Для ознакомления и проверки данных будем использовать собственную функцию:"
   ]
  },
  {
   "cell_type": "code",
   "execution_count": 7,
   "id": "65b2f7ee",
   "metadata": {},
   "outputs": [],
   "source": [
    "def my_check_function (dataset):\n",
    "    '''Функция для ознакомления и проверки даных'''\n",
    "    \n",
    "    try: \n",
    "        print('Как выглядят случайные 5 строк:')\n",
    "        display(dataset.sample(5, random_state=42))\n",
    "    except:\n",
    "        print('Как выглядит датасет:')\n",
    "        display(dataset)\n",
    "    print()\n",
    "    print('Общая информация о данных, наименования столбцов, типы данных:')\n",
    "    print(dataset.info())\n",
    "    print()\n",
    "    print('Есть ли пропуски, сколько их:')\n",
    "    print(dataset.isna().sum())\n",
    "    print('Доля пропущенных значений:')\n",
    "    print(dataset.isna().mean())\n",
    "    print()\n",
    "    print('Есть ли явные дубликаты, сколько их:')\n",
    "    print(dataset.duplicated().sum())\n",
    "    print('Доля явных дубликатов:')\n",
    "    print(dataset.duplicated().mean())\n",
    "    print()\n",
    "    print('Подробное описание данных:')\n",
    "    display(dataset.describe())"
   ]
  },
  {
   "cell_type": "code",
   "execution_count": 8,
   "id": "5cc5d4d3",
   "metadata": {
    "scrolled": false
   },
   "outputs": [
    {
     "name": "stdout",
     "output_type": "stream",
     "text": [
      "Как выглядят случайные 5 строк:\n"
     ]
    },
    {
     "data": {
      "text/html": [
       "<div>\n",
       "<style scoped>\n",
       "    .dataframe tbody tr th:only-of-type {\n",
       "        vertical-align: middle;\n",
       "    }\n",
       "\n",
       "    .dataframe tbody tr th {\n",
       "        vertical-align: top;\n",
       "    }\n",
       "\n",
       "    .dataframe thead th {\n",
       "        text-align: right;\n",
       "    }\n",
       "</style>\n",
       "<table border=\"1\" class=\"dataframe\">\n",
       "  <thead>\n",
       "    <tr style=\"text-align: right;\">\n",
       "      <th></th>\n",
       "      <th>id</th>\n",
       "      <th>call_date</th>\n",
       "      <th>duration</th>\n",
       "      <th>user_id</th>\n",
       "    </tr>\n",
       "  </thead>\n",
       "  <tbody>\n",
       "    <tr>\n",
       "      <th>158741</th>\n",
       "      <td>1392_406</td>\n",
       "      <td>2018-07-09</td>\n",
       "      <td>4.94</td>\n",
       "      <td>1392</td>\n",
       "    </tr>\n",
       "    <tr>\n",
       "      <th>95947</th>\n",
       "      <td>1244_202</td>\n",
       "      <td>2018-11-09</td>\n",
       "      <td>0.00</td>\n",
       "      <td>1244</td>\n",
       "    </tr>\n",
       "    <tr>\n",
       "      <th>10624</th>\n",
       "      <td>1027_494</td>\n",
       "      <td>2018-10-07</td>\n",
       "      <td>3.10</td>\n",
       "      <td>1027</td>\n",
       "    </tr>\n",
       "    <tr>\n",
       "      <th>167423</th>\n",
       "      <td>1412_340</td>\n",
       "      <td>2018-09-25</td>\n",
       "      <td>5.91</td>\n",
       "      <td>1412</td>\n",
       "    </tr>\n",
       "    <tr>\n",
       "      <th>73194</th>\n",
       "      <td>1184_168</td>\n",
       "      <td>2018-09-03</td>\n",
       "      <td>9.86</td>\n",
       "      <td>1184</td>\n",
       "    </tr>\n",
       "  </tbody>\n",
       "</table>\n",
       "</div>"
      ],
      "text/plain": [
       "              id   call_date  duration  user_id\n",
       "158741  1392_406  2018-07-09      4.94     1392\n",
       "95947   1244_202  2018-11-09      0.00     1244\n",
       "10624   1027_494  2018-10-07      3.10     1027\n",
       "167423  1412_340  2018-09-25      5.91     1412\n",
       "73194   1184_168  2018-09-03      9.86     1184"
      ]
     },
     "metadata": {},
     "output_type": "display_data"
    },
    {
     "name": "stdout",
     "output_type": "stream",
     "text": [
      "\n",
      "Общая информация о данных, наименования столбцов, типы данных:\n",
      "<class 'pandas.core.frame.DataFrame'>\n",
      "RangeIndex: 202607 entries, 0 to 202606\n",
      "Data columns (total 4 columns):\n",
      " #   Column     Non-Null Count   Dtype  \n",
      "---  ------     --------------   -----  \n",
      " 0   id         202607 non-null  object \n",
      " 1   call_date  202607 non-null  object \n",
      " 2   duration   202607 non-null  float64\n",
      " 3   user_id    202607 non-null  int64  \n",
      "dtypes: float64(1), int64(1), object(2)\n",
      "memory usage: 6.2+ MB\n",
      "None\n",
      "\n",
      "Есть ли пропуски, сколько их:\n",
      "id           0\n",
      "call_date    0\n",
      "duration     0\n",
      "user_id      0\n",
      "dtype: int64\n",
      "Доля пропущенных значений:\n",
      "id           0.0\n",
      "call_date    0.0\n",
      "duration     0.0\n",
      "user_id      0.0\n",
      "dtype: float64\n",
      "\n",
      "Есть ли явные дубликаты, сколько их:\n",
      "0\n",
      "Доля явных дубликатов:\n",
      "0.0\n",
      "\n",
      "Подробное описание данных:\n"
     ]
    },
    {
     "data": {
      "text/html": [
       "<div>\n",
       "<style scoped>\n",
       "    .dataframe tbody tr th:only-of-type {\n",
       "        vertical-align: middle;\n",
       "    }\n",
       "\n",
       "    .dataframe tbody tr th {\n",
       "        vertical-align: top;\n",
       "    }\n",
       "\n",
       "    .dataframe thead th {\n",
       "        text-align: right;\n",
       "    }\n",
       "</style>\n",
       "<table border=\"1\" class=\"dataframe\">\n",
       "  <thead>\n",
       "    <tr style=\"text-align: right;\">\n",
       "      <th></th>\n",
       "      <th>duration</th>\n",
       "      <th>user_id</th>\n",
       "    </tr>\n",
       "  </thead>\n",
       "  <tbody>\n",
       "    <tr>\n",
       "      <th>count</th>\n",
       "      <td>202607.000000</td>\n",
       "      <td>202607.000000</td>\n",
       "    </tr>\n",
       "    <tr>\n",
       "      <th>mean</th>\n",
       "      <td>6.755887</td>\n",
       "      <td>1253.940619</td>\n",
       "    </tr>\n",
       "    <tr>\n",
       "      <th>std</th>\n",
       "      <td>5.843365</td>\n",
       "      <td>144.722751</td>\n",
       "    </tr>\n",
       "    <tr>\n",
       "      <th>min</th>\n",
       "      <td>0.000000</td>\n",
       "      <td>1000.000000</td>\n",
       "    </tr>\n",
       "    <tr>\n",
       "      <th>25%</th>\n",
       "      <td>1.300000</td>\n",
       "      <td>1126.000000</td>\n",
       "    </tr>\n",
       "    <tr>\n",
       "      <th>50%</th>\n",
       "      <td>6.000000</td>\n",
       "      <td>1260.000000</td>\n",
       "    </tr>\n",
       "    <tr>\n",
       "      <th>75%</th>\n",
       "      <td>10.700000</td>\n",
       "      <td>1379.000000</td>\n",
       "    </tr>\n",
       "    <tr>\n",
       "      <th>max</th>\n",
       "      <td>38.000000</td>\n",
       "      <td>1499.000000</td>\n",
       "    </tr>\n",
       "  </tbody>\n",
       "</table>\n",
       "</div>"
      ],
      "text/plain": [
       "            duration        user_id\n",
       "count  202607.000000  202607.000000\n",
       "mean        6.755887    1253.940619\n",
       "std         5.843365     144.722751\n",
       "min         0.000000    1000.000000\n",
       "25%         1.300000    1126.000000\n",
       "50%         6.000000    1260.000000\n",
       "75%        10.700000    1379.000000\n",
       "max        38.000000    1499.000000"
      ]
     },
     "metadata": {},
     "output_type": "display_data"
    }
   ],
   "source": [
    "my_check_function(calls)"
   ]
  },
  {
   "cell_type": "code",
   "execution_count": 9,
   "id": "725a1d47",
   "metadata": {},
   "outputs": [
    {
     "name": "stdout",
     "output_type": "stream",
     "text": [
      "Как выглядят случайные 5 строк:\n"
     ]
    },
    {
     "data": {
      "text/html": [
       "<div>\n",
       "<style scoped>\n",
       "    .dataframe tbody tr th:only-of-type {\n",
       "        vertical-align: middle;\n",
       "    }\n",
       "\n",
       "    .dataframe tbody tr th {\n",
       "        vertical-align: top;\n",
       "    }\n",
       "\n",
       "    .dataframe thead th {\n",
       "        text-align: right;\n",
       "    }\n",
       "</style>\n",
       "<table border=\"1\" class=\"dataframe\">\n",
       "  <thead>\n",
       "    <tr style=\"text-align: right;\">\n",
       "      <th></th>\n",
       "      <th>Unnamed: 0</th>\n",
       "      <th>id</th>\n",
       "      <th>mb_used</th>\n",
       "      <th>session_date</th>\n",
       "      <th>user_id</th>\n",
       "    </tr>\n",
       "  </thead>\n",
       "  <tbody>\n",
       "    <tr>\n",
       "      <th>31737</th>\n",
       "      <td>31737</td>\n",
       "      <td>1110_331</td>\n",
       "      <td>351.71</td>\n",
       "      <td>2018-09-04</td>\n",
       "      <td>1110</td>\n",
       "    </tr>\n",
       "    <tr>\n",
       "      <th>31333</th>\n",
       "      <td>31333</td>\n",
       "      <td>1109_399</td>\n",
       "      <td>257.69</td>\n",
       "      <td>2018-06-09</td>\n",
       "      <td>1109</td>\n",
       "    </tr>\n",
       "    <tr>\n",
       "      <th>61121</th>\n",
       "      <td>61121</td>\n",
       "      <td>1207_191</td>\n",
       "      <td>128.18</td>\n",
       "      <td>2018-11-05</td>\n",
       "      <td>1207</td>\n",
       "    </tr>\n",
       "    <tr>\n",
       "      <th>71184</th>\n",
       "      <td>71184</td>\n",
       "      <td>1241_88</td>\n",
       "      <td>736.71</td>\n",
       "      <td>2018-11-23</td>\n",
       "      <td>1241</td>\n",
       "    </tr>\n",
       "    <tr>\n",
       "      <th>84394</th>\n",
       "      <td>84394</td>\n",
       "      <td>1286_76</td>\n",
       "      <td>900.69</td>\n",
       "      <td>2018-12-18</td>\n",
       "      <td>1286</td>\n",
       "    </tr>\n",
       "  </tbody>\n",
       "</table>\n",
       "</div>"
      ],
      "text/plain": [
       "       Unnamed: 0        id  mb_used session_date  user_id\n",
       "31737       31737  1110_331   351.71   2018-09-04     1110\n",
       "31333       31333  1109_399   257.69   2018-06-09     1109\n",
       "61121       61121  1207_191   128.18   2018-11-05     1207\n",
       "71184       71184   1241_88   736.71   2018-11-23     1241\n",
       "84394       84394   1286_76   900.69   2018-12-18     1286"
      ]
     },
     "metadata": {},
     "output_type": "display_data"
    },
    {
     "name": "stdout",
     "output_type": "stream",
     "text": [
      "\n",
      "Общая информация о данных, наименования столбцов, типы данных:\n",
      "<class 'pandas.core.frame.DataFrame'>\n",
      "RangeIndex: 149396 entries, 0 to 149395\n",
      "Data columns (total 5 columns):\n",
      " #   Column        Non-Null Count   Dtype  \n",
      "---  ------        --------------   -----  \n",
      " 0   Unnamed: 0    149396 non-null  int64  \n",
      " 1   id            149396 non-null  object \n",
      " 2   mb_used       149396 non-null  float64\n",
      " 3   session_date  149396 non-null  object \n",
      " 4   user_id       149396 non-null  int64  \n",
      "dtypes: float64(1), int64(2), object(2)\n",
      "memory usage: 5.7+ MB\n",
      "None\n",
      "\n",
      "Есть ли пропуски, сколько их:\n",
      "Unnamed: 0      0\n",
      "id              0\n",
      "mb_used         0\n",
      "session_date    0\n",
      "user_id         0\n",
      "dtype: int64\n",
      "Доля пропущенных значений:\n",
      "Unnamed: 0      0.0\n",
      "id              0.0\n",
      "mb_used         0.0\n",
      "session_date    0.0\n",
      "user_id         0.0\n",
      "dtype: float64\n",
      "\n",
      "Есть ли явные дубликаты, сколько их:\n",
      "0\n",
      "Доля явных дубликатов:\n",
      "0.0\n",
      "\n",
      "Подробное описание данных:\n"
     ]
    },
    {
     "data": {
      "text/html": [
       "<div>\n",
       "<style scoped>\n",
       "    .dataframe tbody tr th:only-of-type {\n",
       "        vertical-align: middle;\n",
       "    }\n",
       "\n",
       "    .dataframe tbody tr th {\n",
       "        vertical-align: top;\n",
       "    }\n",
       "\n",
       "    .dataframe thead th {\n",
       "        text-align: right;\n",
       "    }\n",
       "</style>\n",
       "<table border=\"1\" class=\"dataframe\">\n",
       "  <thead>\n",
       "    <tr style=\"text-align: right;\">\n",
       "      <th></th>\n",
       "      <th>Unnamed: 0</th>\n",
       "      <th>mb_used</th>\n",
       "      <th>user_id</th>\n",
       "    </tr>\n",
       "  </thead>\n",
       "  <tbody>\n",
       "    <tr>\n",
       "      <th>count</th>\n",
       "      <td>149396.000000</td>\n",
       "      <td>149396.000000</td>\n",
       "      <td>149396.000000</td>\n",
       "    </tr>\n",
       "    <tr>\n",
       "      <th>mean</th>\n",
       "      <td>74697.500000</td>\n",
       "      <td>370.192426</td>\n",
       "      <td>1252.099842</td>\n",
       "    </tr>\n",
       "    <tr>\n",
       "      <th>std</th>\n",
       "      <td>43127.054745</td>\n",
       "      <td>278.300951</td>\n",
       "      <td>144.050823</td>\n",
       "    </tr>\n",
       "    <tr>\n",
       "      <th>min</th>\n",
       "      <td>0.000000</td>\n",
       "      <td>0.000000</td>\n",
       "      <td>1000.000000</td>\n",
       "    </tr>\n",
       "    <tr>\n",
       "      <th>25%</th>\n",
       "      <td>37348.750000</td>\n",
       "      <td>138.187500</td>\n",
       "      <td>1130.000000</td>\n",
       "    </tr>\n",
       "    <tr>\n",
       "      <th>50%</th>\n",
       "      <td>74697.500000</td>\n",
       "      <td>348.015000</td>\n",
       "      <td>1251.000000</td>\n",
       "    </tr>\n",
       "    <tr>\n",
       "      <th>75%</th>\n",
       "      <td>112046.250000</td>\n",
       "      <td>559.552500</td>\n",
       "      <td>1380.000000</td>\n",
       "    </tr>\n",
       "    <tr>\n",
       "      <th>max</th>\n",
       "      <td>149395.000000</td>\n",
       "      <td>1724.830000</td>\n",
       "      <td>1499.000000</td>\n",
       "    </tr>\n",
       "  </tbody>\n",
       "</table>\n",
       "</div>"
      ],
      "text/plain": [
       "          Unnamed: 0        mb_used        user_id\n",
       "count  149396.000000  149396.000000  149396.000000\n",
       "mean    74697.500000     370.192426    1252.099842\n",
       "std     43127.054745     278.300951     144.050823\n",
       "min         0.000000       0.000000    1000.000000\n",
       "25%     37348.750000     138.187500    1130.000000\n",
       "50%     74697.500000     348.015000    1251.000000\n",
       "75%    112046.250000     559.552500    1380.000000\n",
       "max    149395.000000    1724.830000    1499.000000"
      ]
     },
     "metadata": {},
     "output_type": "display_data"
    }
   ],
   "source": [
    "my_check_function(internet)"
   ]
  },
  {
   "cell_type": "code",
   "execution_count": 10,
   "id": "8dbae34d",
   "metadata": {},
   "outputs": [
    {
     "name": "stdout",
     "output_type": "stream",
     "text": [
      "Как выглядят случайные 5 строк:\n"
     ]
    },
    {
     "data": {
      "text/html": [
       "<div>\n",
       "<style scoped>\n",
       "    .dataframe tbody tr th:only-of-type {\n",
       "        vertical-align: middle;\n",
       "    }\n",
       "\n",
       "    .dataframe tbody tr th {\n",
       "        vertical-align: top;\n",
       "    }\n",
       "\n",
       "    .dataframe thead th {\n",
       "        text-align: right;\n",
       "    }\n",
       "</style>\n",
       "<table border=\"1\" class=\"dataframe\">\n",
       "  <thead>\n",
       "    <tr style=\"text-align: right;\">\n",
       "      <th></th>\n",
       "      <th>id</th>\n",
       "      <th>message_date</th>\n",
       "      <th>user_id</th>\n",
       "    </tr>\n",
       "  </thead>\n",
       "  <tbody>\n",
       "    <tr>\n",
       "      <th>8581</th>\n",
       "      <td>1033_332</td>\n",
       "      <td>2018-11-08</td>\n",
       "      <td>1033</td>\n",
       "    </tr>\n",
       "    <tr>\n",
       "      <th>12476</th>\n",
       "      <td>1054_32</td>\n",
       "      <td>2018-08-10</td>\n",
       "      <td>1054</td>\n",
       "    </tr>\n",
       "    <tr>\n",
       "      <th>14805</th>\n",
       "      <td>1065_141</td>\n",
       "      <td>2018-05-29</td>\n",
       "      <td>1065</td>\n",
       "    </tr>\n",
       "    <tr>\n",
       "      <th>118278</th>\n",
       "      <td>1481_49</td>\n",
       "      <td>2018-05-24</td>\n",
       "      <td>1481</td>\n",
       "    </tr>\n",
       "    <tr>\n",
       "      <th>23803</th>\n",
       "      <td>1099_10</td>\n",
       "      <td>2018-08-24</td>\n",
       "      <td>1099</td>\n",
       "    </tr>\n",
       "  </tbody>\n",
       "</table>\n",
       "</div>"
      ],
      "text/plain": [
       "              id message_date  user_id\n",
       "8581    1033_332   2018-11-08     1033\n",
       "12476    1054_32   2018-08-10     1054\n",
       "14805   1065_141   2018-05-29     1065\n",
       "118278   1481_49   2018-05-24     1481\n",
       "23803    1099_10   2018-08-24     1099"
      ]
     },
     "metadata": {},
     "output_type": "display_data"
    },
    {
     "name": "stdout",
     "output_type": "stream",
     "text": [
      "\n",
      "Общая информация о данных, наименования столбцов, типы данных:\n",
      "<class 'pandas.core.frame.DataFrame'>\n",
      "RangeIndex: 123036 entries, 0 to 123035\n",
      "Data columns (total 3 columns):\n",
      " #   Column        Non-Null Count   Dtype \n",
      "---  ------        --------------   ----- \n",
      " 0   id            123036 non-null  object\n",
      " 1   message_date  123036 non-null  object\n",
      " 2   user_id       123036 non-null  int64 \n",
      "dtypes: int64(1), object(2)\n",
      "memory usage: 2.8+ MB\n",
      "None\n",
      "\n",
      "Есть ли пропуски, сколько их:\n",
      "id              0\n",
      "message_date    0\n",
      "user_id         0\n",
      "dtype: int64\n",
      "Доля пропущенных значений:\n",
      "id              0.0\n",
      "message_date    0.0\n",
      "user_id         0.0\n",
      "dtype: float64\n",
      "\n",
      "Есть ли явные дубликаты, сколько их:\n",
      "0\n",
      "Доля явных дубликатов:\n",
      "0.0\n",
      "\n",
      "Подробное описание данных:\n"
     ]
    },
    {
     "data": {
      "text/html": [
       "<div>\n",
       "<style scoped>\n",
       "    .dataframe tbody tr th:only-of-type {\n",
       "        vertical-align: middle;\n",
       "    }\n",
       "\n",
       "    .dataframe tbody tr th {\n",
       "        vertical-align: top;\n",
       "    }\n",
       "\n",
       "    .dataframe thead th {\n",
       "        text-align: right;\n",
       "    }\n",
       "</style>\n",
       "<table border=\"1\" class=\"dataframe\">\n",
       "  <thead>\n",
       "    <tr style=\"text-align: right;\">\n",
       "      <th></th>\n",
       "      <th>user_id</th>\n",
       "    </tr>\n",
       "  </thead>\n",
       "  <tbody>\n",
       "    <tr>\n",
       "      <th>count</th>\n",
       "      <td>123036.000000</td>\n",
       "    </tr>\n",
       "    <tr>\n",
       "      <th>mean</th>\n",
       "      <td>1256.989410</td>\n",
       "    </tr>\n",
       "    <tr>\n",
       "      <th>std</th>\n",
       "      <td>143.523967</td>\n",
       "    </tr>\n",
       "    <tr>\n",
       "      <th>min</th>\n",
       "      <td>1000.000000</td>\n",
       "    </tr>\n",
       "    <tr>\n",
       "      <th>25%</th>\n",
       "      <td>1134.000000</td>\n",
       "    </tr>\n",
       "    <tr>\n",
       "      <th>50%</th>\n",
       "      <td>1271.000000</td>\n",
       "    </tr>\n",
       "    <tr>\n",
       "      <th>75%</th>\n",
       "      <td>1381.000000</td>\n",
       "    </tr>\n",
       "    <tr>\n",
       "      <th>max</th>\n",
       "      <td>1499.000000</td>\n",
       "    </tr>\n",
       "  </tbody>\n",
       "</table>\n",
       "</div>"
      ],
      "text/plain": [
       "             user_id\n",
       "count  123036.000000\n",
       "mean     1256.989410\n",
       "std       143.523967\n",
       "min      1000.000000\n",
       "25%      1134.000000\n",
       "50%      1271.000000\n",
       "75%      1381.000000\n",
       "max      1499.000000"
      ]
     },
     "metadata": {},
     "output_type": "display_data"
    }
   ],
   "source": [
    "my_check_function(messages)"
   ]
  },
  {
   "cell_type": "code",
   "execution_count": 11,
   "id": "c587f74f",
   "metadata": {},
   "outputs": [
    {
     "name": "stdout",
     "output_type": "stream",
     "text": [
      "Как выглядят случайные 5 строк:\n",
      "Как выглядит датасет:\n"
     ]
    },
    {
     "data": {
      "text/html": [
       "<div>\n",
       "<style scoped>\n",
       "    .dataframe tbody tr th:only-of-type {\n",
       "        vertical-align: middle;\n",
       "    }\n",
       "\n",
       "    .dataframe tbody tr th {\n",
       "        vertical-align: top;\n",
       "    }\n",
       "\n",
       "    .dataframe thead th {\n",
       "        text-align: right;\n",
       "    }\n",
       "</style>\n",
       "<table border=\"1\" class=\"dataframe\">\n",
       "  <thead>\n",
       "    <tr style=\"text-align: right;\">\n",
       "      <th></th>\n",
       "      <th>messages_included</th>\n",
       "      <th>mb_per_month_included</th>\n",
       "      <th>minutes_included</th>\n",
       "      <th>rub_monthly_fee</th>\n",
       "      <th>rub_per_gb</th>\n",
       "      <th>rub_per_message</th>\n",
       "      <th>rub_per_minute</th>\n",
       "      <th>tariff_name</th>\n",
       "    </tr>\n",
       "  </thead>\n",
       "  <tbody>\n",
       "    <tr>\n",
       "      <th>0</th>\n",
       "      <td>50</td>\n",
       "      <td>15360</td>\n",
       "      <td>500</td>\n",
       "      <td>550</td>\n",
       "      <td>200</td>\n",
       "      <td>3</td>\n",
       "      <td>3</td>\n",
       "      <td>smart</td>\n",
       "    </tr>\n",
       "    <tr>\n",
       "      <th>1</th>\n",
       "      <td>1000</td>\n",
       "      <td>30720</td>\n",
       "      <td>3000</td>\n",
       "      <td>1950</td>\n",
       "      <td>150</td>\n",
       "      <td>1</td>\n",
       "      <td>1</td>\n",
       "      <td>ultra</td>\n",
       "    </tr>\n",
       "  </tbody>\n",
       "</table>\n",
       "</div>"
      ],
      "text/plain": [
       "   messages_included  mb_per_month_included  minutes_included  \\\n",
       "0                 50                  15360               500   \n",
       "1               1000                  30720              3000   \n",
       "\n",
       "   rub_monthly_fee  rub_per_gb  rub_per_message  rub_per_minute tariff_name  \n",
       "0              550         200                3               3       smart  \n",
       "1             1950         150                1               1       ultra  "
      ]
     },
     "metadata": {},
     "output_type": "display_data"
    },
    {
     "name": "stdout",
     "output_type": "stream",
     "text": [
      "\n",
      "Общая информация о данных, наименования столбцов, типы данных:\n",
      "<class 'pandas.core.frame.DataFrame'>\n",
      "RangeIndex: 2 entries, 0 to 1\n",
      "Data columns (total 8 columns):\n",
      " #   Column                 Non-Null Count  Dtype \n",
      "---  ------                 --------------  ----- \n",
      " 0   messages_included      2 non-null      int64 \n",
      " 1   mb_per_month_included  2 non-null      int64 \n",
      " 2   minutes_included       2 non-null      int64 \n",
      " 3   rub_monthly_fee        2 non-null      int64 \n",
      " 4   rub_per_gb             2 non-null      int64 \n",
      " 5   rub_per_message        2 non-null      int64 \n",
      " 6   rub_per_minute         2 non-null      int64 \n",
      " 7   tariff_name            2 non-null      object\n",
      "dtypes: int64(7), object(1)\n",
      "memory usage: 256.0+ bytes\n",
      "None\n",
      "\n",
      "Есть ли пропуски, сколько их:\n",
      "messages_included        0\n",
      "mb_per_month_included    0\n",
      "minutes_included         0\n",
      "rub_monthly_fee          0\n",
      "rub_per_gb               0\n",
      "rub_per_message          0\n",
      "rub_per_minute           0\n",
      "tariff_name              0\n",
      "dtype: int64\n",
      "Доля пропущенных значений:\n",
      "messages_included        0.0\n",
      "mb_per_month_included    0.0\n",
      "minutes_included         0.0\n",
      "rub_monthly_fee          0.0\n",
      "rub_per_gb               0.0\n",
      "rub_per_message          0.0\n",
      "rub_per_minute           0.0\n",
      "tariff_name              0.0\n",
      "dtype: float64\n",
      "\n",
      "Есть ли явные дубликаты, сколько их:\n",
      "0\n",
      "Доля явных дубликатов:\n",
      "0.0\n",
      "\n",
      "Подробное описание данных:\n"
     ]
    },
    {
     "data": {
      "text/html": [
       "<div>\n",
       "<style scoped>\n",
       "    .dataframe tbody tr th:only-of-type {\n",
       "        vertical-align: middle;\n",
       "    }\n",
       "\n",
       "    .dataframe tbody tr th {\n",
       "        vertical-align: top;\n",
       "    }\n",
       "\n",
       "    .dataframe thead th {\n",
       "        text-align: right;\n",
       "    }\n",
       "</style>\n",
       "<table border=\"1\" class=\"dataframe\">\n",
       "  <thead>\n",
       "    <tr style=\"text-align: right;\">\n",
       "      <th></th>\n",
       "      <th>messages_included</th>\n",
       "      <th>mb_per_month_included</th>\n",
       "      <th>minutes_included</th>\n",
       "      <th>rub_monthly_fee</th>\n",
       "      <th>rub_per_gb</th>\n",
       "      <th>rub_per_message</th>\n",
       "      <th>rub_per_minute</th>\n",
       "    </tr>\n",
       "  </thead>\n",
       "  <tbody>\n",
       "    <tr>\n",
       "      <th>count</th>\n",
       "      <td>2.000000</td>\n",
       "      <td>2.000000</td>\n",
       "      <td>2.000000</td>\n",
       "      <td>2.000000</td>\n",
       "      <td>2.000000</td>\n",
       "      <td>2.000000</td>\n",
       "      <td>2.000000</td>\n",
       "    </tr>\n",
       "    <tr>\n",
       "      <th>mean</th>\n",
       "      <td>525.000000</td>\n",
       "      <td>23040.000000</td>\n",
       "      <td>1750.000000</td>\n",
       "      <td>1250.000000</td>\n",
       "      <td>175.000000</td>\n",
       "      <td>2.000000</td>\n",
       "      <td>2.000000</td>\n",
       "    </tr>\n",
       "    <tr>\n",
       "      <th>std</th>\n",
       "      <td>671.751442</td>\n",
       "      <td>10861.160159</td>\n",
       "      <td>1767.766953</td>\n",
       "      <td>989.949494</td>\n",
       "      <td>35.355339</td>\n",
       "      <td>1.414214</td>\n",
       "      <td>1.414214</td>\n",
       "    </tr>\n",
       "    <tr>\n",
       "      <th>min</th>\n",
       "      <td>50.000000</td>\n",
       "      <td>15360.000000</td>\n",
       "      <td>500.000000</td>\n",
       "      <td>550.000000</td>\n",
       "      <td>150.000000</td>\n",
       "      <td>1.000000</td>\n",
       "      <td>1.000000</td>\n",
       "    </tr>\n",
       "    <tr>\n",
       "      <th>25%</th>\n",
       "      <td>287.500000</td>\n",
       "      <td>19200.000000</td>\n",
       "      <td>1125.000000</td>\n",
       "      <td>900.000000</td>\n",
       "      <td>162.500000</td>\n",
       "      <td>1.500000</td>\n",
       "      <td>1.500000</td>\n",
       "    </tr>\n",
       "    <tr>\n",
       "      <th>50%</th>\n",
       "      <td>525.000000</td>\n",
       "      <td>23040.000000</td>\n",
       "      <td>1750.000000</td>\n",
       "      <td>1250.000000</td>\n",
       "      <td>175.000000</td>\n",
       "      <td>2.000000</td>\n",
       "      <td>2.000000</td>\n",
       "    </tr>\n",
       "    <tr>\n",
       "      <th>75%</th>\n",
       "      <td>762.500000</td>\n",
       "      <td>26880.000000</td>\n",
       "      <td>2375.000000</td>\n",
       "      <td>1600.000000</td>\n",
       "      <td>187.500000</td>\n",
       "      <td>2.500000</td>\n",
       "      <td>2.500000</td>\n",
       "    </tr>\n",
       "    <tr>\n",
       "      <th>max</th>\n",
       "      <td>1000.000000</td>\n",
       "      <td>30720.000000</td>\n",
       "      <td>3000.000000</td>\n",
       "      <td>1950.000000</td>\n",
       "      <td>200.000000</td>\n",
       "      <td>3.000000</td>\n",
       "      <td>3.000000</td>\n",
       "    </tr>\n",
       "  </tbody>\n",
       "</table>\n",
       "</div>"
      ],
      "text/plain": [
       "       messages_included  mb_per_month_included  minutes_included  \\\n",
       "count           2.000000               2.000000          2.000000   \n",
       "mean          525.000000           23040.000000       1750.000000   \n",
       "std           671.751442           10861.160159       1767.766953   \n",
       "min            50.000000           15360.000000        500.000000   \n",
       "25%           287.500000           19200.000000       1125.000000   \n",
       "50%           525.000000           23040.000000       1750.000000   \n",
       "75%           762.500000           26880.000000       2375.000000   \n",
       "max          1000.000000           30720.000000       3000.000000   \n",
       "\n",
       "       rub_monthly_fee  rub_per_gb  rub_per_message  rub_per_minute  \n",
       "count         2.000000    2.000000         2.000000        2.000000  \n",
       "mean       1250.000000  175.000000         2.000000        2.000000  \n",
       "std         989.949494   35.355339         1.414214        1.414214  \n",
       "min         550.000000  150.000000         1.000000        1.000000  \n",
       "25%         900.000000  162.500000         1.500000        1.500000  \n",
       "50%        1250.000000  175.000000         2.000000        2.000000  \n",
       "75%        1600.000000  187.500000         2.500000        2.500000  \n",
       "max        1950.000000  200.000000         3.000000        3.000000  "
      ]
     },
     "metadata": {},
     "output_type": "display_data"
    }
   ],
   "source": [
    "my_check_function(tariffs)"
   ]
  },
  {
   "cell_type": "code",
   "execution_count": 12,
   "id": "c9256c2f",
   "metadata": {},
   "outputs": [
    {
     "name": "stdout",
     "output_type": "stream",
     "text": [
      "Как выглядят случайные 5 строк:\n"
     ]
    },
    {
     "data": {
      "text/html": [
       "<div>\n",
       "<style scoped>\n",
       "    .dataframe tbody tr th:only-of-type {\n",
       "        vertical-align: middle;\n",
       "    }\n",
       "\n",
       "    .dataframe tbody tr th {\n",
       "        vertical-align: top;\n",
       "    }\n",
       "\n",
       "    .dataframe thead th {\n",
       "        text-align: right;\n",
       "    }\n",
       "</style>\n",
       "<table border=\"1\" class=\"dataframe\">\n",
       "  <thead>\n",
       "    <tr style=\"text-align: right;\">\n",
       "      <th></th>\n",
       "      <th>user_id</th>\n",
       "      <th>age</th>\n",
       "      <th>churn_date</th>\n",
       "      <th>city</th>\n",
       "      <th>first_name</th>\n",
       "      <th>last_name</th>\n",
       "      <th>reg_date</th>\n",
       "      <th>tariff</th>\n",
       "    </tr>\n",
       "  </thead>\n",
       "  <tbody>\n",
       "    <tr>\n",
       "      <th>361</th>\n",
       "      <td>1361</td>\n",
       "      <td>38</td>\n",
       "      <td>NaN</td>\n",
       "      <td>Екатеринбург</td>\n",
       "      <td>Рената</td>\n",
       "      <td>Кошелева</td>\n",
       "      <td>2018-09-09</td>\n",
       "      <td>ultra</td>\n",
       "    </tr>\n",
       "    <tr>\n",
       "      <th>73</th>\n",
       "      <td>1073</td>\n",
       "      <td>63</td>\n",
       "      <td>NaN</td>\n",
       "      <td>Владикавказ</td>\n",
       "      <td>Гордей</td>\n",
       "      <td>Павловский</td>\n",
       "      <td>2018-10-04</td>\n",
       "      <td>smart</td>\n",
       "    </tr>\n",
       "    <tr>\n",
       "      <th>374</th>\n",
       "      <td>1374</td>\n",
       "      <td>67</td>\n",
       "      <td>NaN</td>\n",
       "      <td>Махачкала</td>\n",
       "      <td>Леонид</td>\n",
       "      <td>Аркадьев</td>\n",
       "      <td>2018-04-01</td>\n",
       "      <td>smart</td>\n",
       "    </tr>\n",
       "    <tr>\n",
       "      <th>155</th>\n",
       "      <td>1155</td>\n",
       "      <td>71</td>\n",
       "      <td>NaN</td>\n",
       "      <td>Ставрополь</td>\n",
       "      <td>Александр</td>\n",
       "      <td>Чернов</td>\n",
       "      <td>2018-01-02</td>\n",
       "      <td>smart</td>\n",
       "    </tr>\n",
       "    <tr>\n",
       "      <th>104</th>\n",
       "      <td>1104</td>\n",
       "      <td>60</td>\n",
       "      <td>NaN</td>\n",
       "      <td>Нижний Тагил</td>\n",
       "      <td>Габриэль</td>\n",
       "      <td>Поляков</td>\n",
       "      <td>2018-02-21</td>\n",
       "      <td>ultra</td>\n",
       "    </tr>\n",
       "  </tbody>\n",
       "</table>\n",
       "</div>"
      ],
      "text/plain": [
       "     user_id  age churn_date          city first_name   last_name    reg_date  \\\n",
       "361     1361   38        NaN  Екатеринбург     Рената    Кошелева  2018-09-09   \n",
       "73      1073   63        NaN   Владикавказ     Гордей  Павловский  2018-10-04   \n",
       "374     1374   67        NaN     Махачкала     Леонид    Аркадьев  2018-04-01   \n",
       "155     1155   71        NaN    Ставрополь  Александр      Чернов  2018-01-02   \n",
       "104     1104   60        NaN  Нижний Тагил   Габриэль     Поляков  2018-02-21   \n",
       "\n",
       "    tariff  \n",
       "361  ultra  \n",
       "73   smart  \n",
       "374  smart  \n",
       "155  smart  \n",
       "104  ultra  "
      ]
     },
     "metadata": {},
     "output_type": "display_data"
    },
    {
     "name": "stdout",
     "output_type": "stream",
     "text": [
      "\n",
      "Общая информация о данных, наименования столбцов, типы данных:\n",
      "<class 'pandas.core.frame.DataFrame'>\n",
      "RangeIndex: 500 entries, 0 to 499\n",
      "Data columns (total 8 columns):\n",
      " #   Column      Non-Null Count  Dtype \n",
      "---  ------      --------------  ----- \n",
      " 0   user_id     500 non-null    int64 \n",
      " 1   age         500 non-null    int64 \n",
      " 2   churn_date  38 non-null     object\n",
      " 3   city        500 non-null    object\n",
      " 4   first_name  500 non-null    object\n",
      " 5   last_name   500 non-null    object\n",
      " 6   reg_date    500 non-null    object\n",
      " 7   tariff      500 non-null    object\n",
      "dtypes: int64(2), object(6)\n",
      "memory usage: 31.4+ KB\n",
      "None\n",
      "\n",
      "Есть ли пропуски, сколько их:\n",
      "user_id         0\n",
      "age             0\n",
      "churn_date    462\n",
      "city            0\n",
      "first_name      0\n",
      "last_name       0\n",
      "reg_date        0\n",
      "tariff          0\n",
      "dtype: int64\n",
      "Доля пропущенных значений:\n",
      "user_id       0.000\n",
      "age           0.000\n",
      "churn_date    0.924\n",
      "city          0.000\n",
      "first_name    0.000\n",
      "last_name     0.000\n",
      "reg_date      0.000\n",
      "tariff        0.000\n",
      "dtype: float64\n",
      "\n",
      "Есть ли явные дубликаты, сколько их:\n",
      "0\n",
      "Доля явных дубликатов:\n",
      "0.0\n",
      "\n",
      "Подробное описание данных:\n"
     ]
    },
    {
     "data": {
      "text/html": [
       "<div>\n",
       "<style scoped>\n",
       "    .dataframe tbody tr th:only-of-type {\n",
       "        vertical-align: middle;\n",
       "    }\n",
       "\n",
       "    .dataframe tbody tr th {\n",
       "        vertical-align: top;\n",
       "    }\n",
       "\n",
       "    .dataframe thead th {\n",
       "        text-align: right;\n",
       "    }\n",
       "</style>\n",
       "<table border=\"1\" class=\"dataframe\">\n",
       "  <thead>\n",
       "    <tr style=\"text-align: right;\">\n",
       "      <th></th>\n",
       "      <th>user_id</th>\n",
       "      <th>age</th>\n",
       "    </tr>\n",
       "  </thead>\n",
       "  <tbody>\n",
       "    <tr>\n",
       "      <th>count</th>\n",
       "      <td>500.000000</td>\n",
       "      <td>500.00000</td>\n",
       "    </tr>\n",
       "    <tr>\n",
       "      <th>mean</th>\n",
       "      <td>1249.500000</td>\n",
       "      <td>46.58800</td>\n",
       "    </tr>\n",
       "    <tr>\n",
       "      <th>std</th>\n",
       "      <td>144.481833</td>\n",
       "      <td>16.66763</td>\n",
       "    </tr>\n",
       "    <tr>\n",
       "      <th>min</th>\n",
       "      <td>1000.000000</td>\n",
       "      <td>18.00000</td>\n",
       "    </tr>\n",
       "    <tr>\n",
       "      <th>25%</th>\n",
       "      <td>1124.750000</td>\n",
       "      <td>32.00000</td>\n",
       "    </tr>\n",
       "    <tr>\n",
       "      <th>50%</th>\n",
       "      <td>1249.500000</td>\n",
       "      <td>46.00000</td>\n",
       "    </tr>\n",
       "    <tr>\n",
       "      <th>75%</th>\n",
       "      <td>1374.250000</td>\n",
       "      <td>62.00000</td>\n",
       "    </tr>\n",
       "    <tr>\n",
       "      <th>max</th>\n",
       "      <td>1499.000000</td>\n",
       "      <td>75.00000</td>\n",
       "    </tr>\n",
       "  </tbody>\n",
       "</table>\n",
       "</div>"
      ],
      "text/plain": [
       "           user_id        age\n",
       "count   500.000000  500.00000\n",
       "mean   1249.500000   46.58800\n",
       "std     144.481833   16.66763\n",
       "min    1000.000000   18.00000\n",
       "25%    1124.750000   32.00000\n",
       "50%    1249.500000   46.00000\n",
       "75%    1374.250000   62.00000\n",
       "max    1499.000000   75.00000"
      ]
     },
     "metadata": {},
     "output_type": "display_data"
    }
   ],
   "source": [
    "my_check_function(users)"
   ]
  },
  {
   "cell_type": "markdown",
   "id": "40e85090",
   "metadata": {},
   "source": [
    "### Вывод"
   ]
  },
  {
   "cell_type": "markdown",
   "id": "a85fdeb5",
   "metadata": {},
   "source": [
    "- во всех таблицах не обнаружено ни пропусков, ни дубликатов. Исключение: дата прекращения пользования тарифом - 462 пропуска - но это естественная ситуация - значит, на момент выгрузки данных тариф действовал.\n",
    "- также есть данные о звонках с нулевой продолжительностью, но это тоже естественная ситуация: это пропущенные звонки, их не надо удалять\n",
    "- вся информация о датах на данный момент представлена в формате object, этот формат можно изменить\n",
    "- есть ненужный столбец в таблице internet (Unnamed: 0), это индексы, видимо случайно продублированные в отдельный столбец. Их можно убрать"
   ]
  },
  {
   "cell_type": "markdown",
   "id": "63c4d158",
   "metadata": {},
   "source": [
    "## Подготовка данных"
   ]
  },
  {
   "cell_type": "markdown",
   "id": "42de6245",
   "metadata": {},
   "source": [
    "Приведём данные к нужным типам:"
   ]
  },
  {
   "cell_type": "code",
   "execution_count": 13,
   "id": "8f4aafdf",
   "metadata": {},
   "outputs": [],
   "source": [
    "calls['call_date'] = pd.to_datetime(calls['call_date'], format='%Y-%m-%d')"
   ]
  },
  {
   "cell_type": "code",
   "execution_count": 14,
   "id": "c5dcacda",
   "metadata": {},
   "outputs": [],
   "source": [
    "internet['session_date'] = pd.to_datetime(internet['session_date'], format='%Y-%m-%d')"
   ]
  },
  {
   "cell_type": "code",
   "execution_count": 15,
   "id": "4aa840c7",
   "metadata": {},
   "outputs": [],
   "source": [
    "messages['message_date'] = pd.to_datetime(messages['message_date'], format='%Y-%m-%d')"
   ]
  },
  {
   "cell_type": "code",
   "execution_count": 16,
   "id": "4435801a",
   "metadata": {},
   "outputs": [],
   "source": [
    "users['reg_date'] = pd.to_datetime(users['reg_date'], format='%Y-%m-%d')"
   ]
  },
  {
   "cell_type": "code",
   "execution_count": 17,
   "id": "2530ada7",
   "metadata": {},
   "outputs": [],
   "source": [
    "users['churn_date'] = pd.to_datetime(users['churn_date'], format='%Y-%m-%d')"
   ]
  },
  {
   "cell_type": "markdown",
   "id": "e6956416",
   "metadata": {},
   "source": [
    "Убираем ненужный столбец:"
   ]
  },
  {
   "cell_type": "code",
   "execution_count": 18,
   "id": "efd7399a",
   "metadata": {},
   "outputs": [],
   "source": [
    "internet = internet.drop('Unnamed: 0', axis=1)"
   ]
  },
  {
   "cell_type": "markdown",
   "id": "f9c1554b",
   "metadata": {},
   "source": [
    "На всякий случай проверяем, нет ли у нас в данных о звонках, интернет-трафике и сообщениях таких user_id, которых нет в таблице с информацией о пользователях."
   ]
  },
  {
   "cell_type": "code",
   "execution_count": 19,
   "id": "a49c970c",
   "metadata": {},
   "outputs": [],
   "source": [
    "users_user_id = users['user_id'].unique().tolist()\n",
    "calls_user_id = calls['user_id'].unique().tolist()\n",
    "internet_user_id = internet['user_id'].unique().tolist()\n",
    "messages_user_id = messages['user_id'].unique().tolist()"
   ]
  },
  {
   "cell_type": "code",
   "execution_count": 20,
   "id": "050d99c0",
   "metadata": {},
   "outputs": [
    {
     "name": "stdout",
     "output_type": "stream",
     "text": [
      "[]\n",
      "[]\n",
      "[]\n"
     ]
    }
   ],
   "source": [
    "print(list(set(calls_user_id) - set(users_user_id)))\n",
    "print(list(set(internet_user_id) - set(users_user_id)))\n",
    "print(list(set(messages_user_id) - set(users_user_id)))"
   ]
  },
  {
   "cell_type": "markdown",
   "id": "85abc204",
   "metadata": {},
   "source": [
    "Таких несовпадений не обнаружено."
   ]
  },
  {
   "cell_type": "markdown",
   "id": "15a00cb5",
   "metadata": {},
   "source": [
    "### Расчёты для каждого пользователя по месяцам"
   ]
  },
  {
   "cell_type": "markdown",
   "id": "bbcf3e4c",
   "metadata": {},
   "source": [
    "Выполним следующие расчёты для каждого пользователя:\n",
    "- количество сделанных звонков и израсходованных минут разговора по месяцам;\n",
    "- количество отправленных сообщений по месяцам;\n",
    "- объем израсходованного интернет-трафика по месяцам;\n",
    "- помесячную выручку с каждого пользователя."
   ]
  },
  {
   "cell_type": "markdown",
   "id": "0bc6c12d",
   "metadata": {},
   "source": [
    "#### Звонки"
   ]
  },
  {
   "cell_type": "markdown",
   "id": "5bf166d9",
   "metadata": {},
   "source": [
    "Поскольку в компании каждый звонок округляется отдельно, создадим столбец с такой \"округлённой\" длиной каждого звонка:"
   ]
  },
  {
   "cell_type": "code",
   "execution_count": 21,
   "id": "44722e6d",
   "metadata": {},
   "outputs": [],
   "source": [
    "calls['duration_rounded'] = np.ceil(calls['duration'])"
   ]
  },
  {
   "cell_type": "markdown",
   "id": "b1421efa",
   "metadata": {},
   "source": [
    "Проверяем:"
   ]
  },
  {
   "cell_type": "code",
   "execution_count": 22,
   "id": "9a990ae0",
   "metadata": {
    "scrolled": true
   },
   "outputs": [
    {
     "data": {
      "text/html": [
       "<div>\n",
       "<style scoped>\n",
       "    .dataframe tbody tr th:only-of-type {\n",
       "        vertical-align: middle;\n",
       "    }\n",
       "\n",
       "    .dataframe tbody tr th {\n",
       "        vertical-align: top;\n",
       "    }\n",
       "\n",
       "    .dataframe thead th {\n",
       "        text-align: right;\n",
       "    }\n",
       "</style>\n",
       "<table border=\"1\" class=\"dataframe\">\n",
       "  <thead>\n",
       "    <tr style=\"text-align: right;\">\n",
       "      <th></th>\n",
       "      <th>id</th>\n",
       "      <th>call_date</th>\n",
       "      <th>duration</th>\n",
       "      <th>user_id</th>\n",
       "      <th>duration_rounded</th>\n",
       "    </tr>\n",
       "  </thead>\n",
       "  <tbody>\n",
       "    <tr>\n",
       "      <th>0</th>\n",
       "      <td>1000_0</td>\n",
       "      <td>2018-07-25</td>\n",
       "      <td>0.00</td>\n",
       "      <td>1000</td>\n",
       "      <td>0.0</td>\n",
       "    </tr>\n",
       "    <tr>\n",
       "      <th>1</th>\n",
       "      <td>1000_1</td>\n",
       "      <td>2018-08-17</td>\n",
       "      <td>0.00</td>\n",
       "      <td>1000</td>\n",
       "      <td>0.0</td>\n",
       "    </tr>\n",
       "    <tr>\n",
       "      <th>2</th>\n",
       "      <td>1000_2</td>\n",
       "      <td>2018-06-11</td>\n",
       "      <td>2.85</td>\n",
       "      <td>1000</td>\n",
       "      <td>3.0</td>\n",
       "    </tr>\n",
       "    <tr>\n",
       "      <th>3</th>\n",
       "      <td>1000_3</td>\n",
       "      <td>2018-09-21</td>\n",
       "      <td>13.80</td>\n",
       "      <td>1000</td>\n",
       "      <td>14.0</td>\n",
       "    </tr>\n",
       "    <tr>\n",
       "      <th>4</th>\n",
       "      <td>1000_4</td>\n",
       "      <td>2018-12-15</td>\n",
       "      <td>5.18</td>\n",
       "      <td>1000</td>\n",
       "      <td>6.0</td>\n",
       "    </tr>\n",
       "  </tbody>\n",
       "</table>\n",
       "</div>"
      ],
      "text/plain": [
       "       id  call_date  duration  user_id  duration_rounded\n",
       "0  1000_0 2018-07-25      0.00     1000               0.0\n",
       "1  1000_1 2018-08-17      0.00     1000               0.0\n",
       "2  1000_2 2018-06-11      2.85     1000               3.0\n",
       "3  1000_3 2018-09-21     13.80     1000              14.0\n",
       "4  1000_4 2018-12-15      5.18     1000               6.0"
      ]
     },
     "execution_count": 22,
     "metadata": {},
     "output_type": "execute_result"
    }
   ],
   "source": [
    "calls.head()"
   ]
  },
  {
   "cell_type": "markdown",
   "id": "7f965e2e",
   "metadata": {},
   "source": [
    "Вычисления корректны (округление в большую сторону - как принято в компании)."
   ]
  },
  {
   "cell_type": "markdown",
   "id": "93f138a5",
   "metadata": {},
   "source": [
    "Поскольку нам понадобятся расчёты по месяцам, выделяем из дат звонков месяцы:"
   ]
  },
  {
   "cell_type": "code",
   "execution_count": 23,
   "id": "265ee6e1",
   "metadata": {},
   "outputs": [],
   "source": [
    "calls['month'] = pd.to_datetime(calls['call_date']).astype('datetime64[M]')"
   ]
  },
  {
   "cell_type": "markdown",
   "id": "ba9da6af",
   "metadata": {},
   "source": [
    "Выполняем необходимые расчёты и сохраняем их в таблицу:"
   ]
  },
  {
   "cell_type": "code",
   "execution_count": 24,
   "id": "0f5135c5",
   "metadata": {},
   "outputs": [
    {
     "data": {
      "text/html": [
       "<div>\n",
       "<style scoped>\n",
       "    .dataframe tbody tr th:only-of-type {\n",
       "        vertical-align: middle;\n",
       "    }\n",
       "\n",
       "    .dataframe tbody tr th {\n",
       "        vertical-align: top;\n",
       "    }\n",
       "\n",
       "    .dataframe thead th {\n",
       "        text-align: right;\n",
       "    }\n",
       "</style>\n",
       "<table border=\"1\" class=\"dataframe\">\n",
       "  <thead>\n",
       "    <tr style=\"text-align: right;\">\n",
       "      <th></th>\n",
       "      <th>user_id</th>\n",
       "      <th>month</th>\n",
       "      <th>calls_spent</th>\n",
       "      <th>minutes_spent</th>\n",
       "    </tr>\n",
       "  </thead>\n",
       "  <tbody>\n",
       "    <tr>\n",
       "      <th>0</th>\n",
       "      <td>1000</td>\n",
       "      <td>2018-05-01</td>\n",
       "      <td>22</td>\n",
       "      <td>159.0</td>\n",
       "    </tr>\n",
       "    <tr>\n",
       "      <th>1</th>\n",
       "      <td>1000</td>\n",
       "      <td>2018-06-01</td>\n",
       "      <td>43</td>\n",
       "      <td>172.0</td>\n",
       "    </tr>\n",
       "    <tr>\n",
       "      <th>2</th>\n",
       "      <td>1000</td>\n",
       "      <td>2018-07-01</td>\n",
       "      <td>47</td>\n",
       "      <td>340.0</td>\n",
       "    </tr>\n",
       "    <tr>\n",
       "      <th>3</th>\n",
       "      <td>1000</td>\n",
       "      <td>2018-08-01</td>\n",
       "      <td>52</td>\n",
       "      <td>408.0</td>\n",
       "    </tr>\n",
       "    <tr>\n",
       "      <th>4</th>\n",
       "      <td>1000</td>\n",
       "      <td>2018-09-01</td>\n",
       "      <td>58</td>\n",
       "      <td>466.0</td>\n",
       "    </tr>\n",
       "    <tr>\n",
       "      <th>...</th>\n",
       "      <td>...</td>\n",
       "      <td>...</td>\n",
       "      <td>...</td>\n",
       "      <td>...</td>\n",
       "    </tr>\n",
       "    <tr>\n",
       "      <th>3169</th>\n",
       "      <td>1498</td>\n",
       "      <td>2018-10-01</td>\n",
       "      <td>41</td>\n",
       "      <td>247.0</td>\n",
       "    </tr>\n",
       "    <tr>\n",
       "      <th>3170</th>\n",
       "      <td>1499</td>\n",
       "      <td>2018-09-01</td>\n",
       "      <td>9</td>\n",
       "      <td>70.0</td>\n",
       "    </tr>\n",
       "    <tr>\n",
       "      <th>3171</th>\n",
       "      <td>1499</td>\n",
       "      <td>2018-10-01</td>\n",
       "      <td>68</td>\n",
       "      <td>449.0</td>\n",
       "    </tr>\n",
       "    <tr>\n",
       "      <th>3172</th>\n",
       "      <td>1499</td>\n",
       "      <td>2018-11-01</td>\n",
       "      <td>74</td>\n",
       "      <td>612.0</td>\n",
       "    </tr>\n",
       "    <tr>\n",
       "      <th>3173</th>\n",
       "      <td>1499</td>\n",
       "      <td>2018-12-01</td>\n",
       "      <td>69</td>\n",
       "      <td>492.0</td>\n",
       "    </tr>\n",
       "  </tbody>\n",
       "</table>\n",
       "<p>3174 rows × 4 columns</p>\n",
       "</div>"
      ],
      "text/plain": [
       "      user_id      month  calls_spent  minutes_spent\n",
       "0        1000 2018-05-01           22          159.0\n",
       "1        1000 2018-06-01           43          172.0\n",
       "2        1000 2018-07-01           47          340.0\n",
       "3        1000 2018-08-01           52          408.0\n",
       "4        1000 2018-09-01           58          466.0\n",
       "...       ...        ...          ...            ...\n",
       "3169     1498 2018-10-01           41          247.0\n",
       "3170     1499 2018-09-01            9           70.0\n",
       "3171     1499 2018-10-01           68          449.0\n",
       "3172     1499 2018-11-01           74          612.0\n",
       "3173     1499 2018-12-01           69          492.0\n",
       "\n",
       "[3174 rows x 4 columns]"
      ]
     },
     "execution_count": 24,
     "metadata": {},
     "output_type": "execute_result"
    }
   ],
   "source": [
    "calls_grouped = (calls.groupby(['user_id', 'month'], as_index=False)\n",
    "                      .agg({'id':'count','duration_rounded':'sum'}))\n",
    "calls_grouped = calls_grouped.rename(columns={'id':'calls_spent', 'duration_rounded':'minutes_spent'})\n",
    "calls_grouped"
   ]
  },
  {
   "cell_type": "markdown",
   "id": "183144e0",
   "metadata": {},
   "source": [
    "#### Сообщения"
   ]
  },
  {
   "cell_type": "markdown",
   "id": "7b2949d2",
   "metadata": {},
   "source": [
    "Выделяем месяцы из дат:"
   ]
  },
  {
   "cell_type": "code",
   "execution_count": 25,
   "id": "0eb7af00",
   "metadata": {},
   "outputs": [],
   "source": [
    "messages['month'] = pd.to_datetime(messages['message_date']).astype('datetime64[M]')"
   ]
  },
  {
   "cell_type": "markdown",
   "id": "93593818",
   "metadata": {},
   "source": [
    "Для каждого пользователя вычисляем количество отправленных сообщений по месяцам:"
   ]
  },
  {
   "cell_type": "code",
   "execution_count": 26,
   "id": "5049157f",
   "metadata": {},
   "outputs": [
    {
     "data": {
      "text/html": [
       "<div>\n",
       "<style scoped>\n",
       "    .dataframe tbody tr th:only-of-type {\n",
       "        vertical-align: middle;\n",
       "    }\n",
       "\n",
       "    .dataframe tbody tr th {\n",
       "        vertical-align: top;\n",
       "    }\n",
       "\n",
       "    .dataframe thead th {\n",
       "        text-align: right;\n",
       "    }\n",
       "</style>\n",
       "<table border=\"1\" class=\"dataframe\">\n",
       "  <thead>\n",
       "    <tr style=\"text-align: right;\">\n",
       "      <th></th>\n",
       "      <th>user_id</th>\n",
       "      <th>month</th>\n",
       "      <th>messages_spent</th>\n",
       "    </tr>\n",
       "  </thead>\n",
       "  <tbody>\n",
       "    <tr>\n",
       "      <th>0</th>\n",
       "      <td>1000</td>\n",
       "      <td>2018-05-01</td>\n",
       "      <td>22</td>\n",
       "    </tr>\n",
       "    <tr>\n",
       "      <th>1</th>\n",
       "      <td>1000</td>\n",
       "      <td>2018-06-01</td>\n",
       "      <td>60</td>\n",
       "    </tr>\n",
       "    <tr>\n",
       "      <th>2</th>\n",
       "      <td>1000</td>\n",
       "      <td>2018-07-01</td>\n",
       "      <td>75</td>\n",
       "    </tr>\n",
       "    <tr>\n",
       "      <th>3</th>\n",
       "      <td>1000</td>\n",
       "      <td>2018-08-01</td>\n",
       "      <td>81</td>\n",
       "    </tr>\n",
       "    <tr>\n",
       "      <th>4</th>\n",
       "      <td>1000</td>\n",
       "      <td>2018-09-01</td>\n",
       "      <td>57</td>\n",
       "    </tr>\n",
       "    <tr>\n",
       "      <th>...</th>\n",
       "      <td>...</td>\n",
       "      <td>...</td>\n",
       "      <td>...</td>\n",
       "    </tr>\n",
       "    <tr>\n",
       "      <th>2712</th>\n",
       "      <td>1498</td>\n",
       "      <td>2018-10-01</td>\n",
       "      <td>42</td>\n",
       "    </tr>\n",
       "    <tr>\n",
       "      <th>2713</th>\n",
       "      <td>1499</td>\n",
       "      <td>2018-09-01</td>\n",
       "      <td>11</td>\n",
       "    </tr>\n",
       "    <tr>\n",
       "      <th>2714</th>\n",
       "      <td>1499</td>\n",
       "      <td>2018-10-01</td>\n",
       "      <td>48</td>\n",
       "    </tr>\n",
       "    <tr>\n",
       "      <th>2715</th>\n",
       "      <td>1499</td>\n",
       "      <td>2018-11-01</td>\n",
       "      <td>59</td>\n",
       "    </tr>\n",
       "    <tr>\n",
       "      <th>2716</th>\n",
       "      <td>1499</td>\n",
       "      <td>2018-12-01</td>\n",
       "      <td>66</td>\n",
       "    </tr>\n",
       "  </tbody>\n",
       "</table>\n",
       "<p>2717 rows × 3 columns</p>\n",
       "</div>"
      ],
      "text/plain": [
       "      user_id      month  messages_spent\n",
       "0        1000 2018-05-01              22\n",
       "1        1000 2018-06-01              60\n",
       "2        1000 2018-07-01              75\n",
       "3        1000 2018-08-01              81\n",
       "4        1000 2018-09-01              57\n",
       "...       ...        ...             ...\n",
       "2712     1498 2018-10-01              42\n",
       "2713     1499 2018-09-01              11\n",
       "2714     1499 2018-10-01              48\n",
       "2715     1499 2018-11-01              59\n",
       "2716     1499 2018-12-01              66\n",
       "\n",
       "[2717 rows x 3 columns]"
      ]
     },
     "execution_count": 26,
     "metadata": {},
     "output_type": "execute_result"
    }
   ],
   "source": [
    "messages_grouped = (messages.groupby(['user_id', 'month'], as_index=False)\n",
    "                      .agg({'id':'count'}))\n",
    "messages_grouped = messages_grouped.rename(columns={'id':'messages_spent'})\n",
    "messages_grouped"
   ]
  },
  {
   "cell_type": "markdown",
   "id": "765f7819",
   "metadata": {},
   "source": [
    "#### Интернет-трафик"
   ]
  },
  {
   "cell_type": "markdown",
   "id": "2757a1ae",
   "metadata": {},
   "source": [
    "Выделяем месяцы из дат:"
   ]
  },
  {
   "cell_type": "code",
   "execution_count": 27,
   "id": "bd238226",
   "metadata": {},
   "outputs": [],
   "source": [
    "internet['month'] = pd.to_datetime(internet['session_date']).astype('datetime64[M]')"
   ]
  },
  {
   "cell_type": "markdown",
   "id": "06b6191a",
   "metadata": {},
   "source": [
    "Вычисляем, сколько трафика потрачено в гигабайтах:"
   ]
  },
  {
   "cell_type": "code",
   "execution_count": 28,
   "id": "498e7a33",
   "metadata": {},
   "outputs": [],
   "source": [
    "internet['gb_used'] = internet['mb_used'] / 1024"
   ]
  },
  {
   "cell_type": "markdown",
   "id": "7dc28617",
   "metadata": {},
   "source": [
    "Для каждого пользователя вычисляем объем израсходованного интернет-трафика по месяцам (с округлением трафика за месяц в большую сторону):"
   ]
  },
  {
   "cell_type": "code",
   "execution_count": 29,
   "id": "ff2b25d2",
   "metadata": {},
   "outputs": [
    {
     "data": {
      "text/html": [
       "<div>\n",
       "<style scoped>\n",
       "    .dataframe tbody tr th:only-of-type {\n",
       "        vertical-align: middle;\n",
       "    }\n",
       "\n",
       "    .dataframe tbody tr th {\n",
       "        vertical-align: top;\n",
       "    }\n",
       "\n",
       "    .dataframe thead th {\n",
       "        text-align: right;\n",
       "    }\n",
       "</style>\n",
       "<table border=\"1\" class=\"dataframe\">\n",
       "  <thead>\n",
       "    <tr style=\"text-align: right;\">\n",
       "      <th></th>\n",
       "      <th>user_id</th>\n",
       "      <th>month</th>\n",
       "      <th>gb_spent</th>\n",
       "    </tr>\n",
       "  </thead>\n",
       "  <tbody>\n",
       "    <tr>\n",
       "      <th>0</th>\n",
       "      <td>1000</td>\n",
       "      <td>2018-05-01</td>\n",
       "      <td>3</td>\n",
       "    </tr>\n",
       "    <tr>\n",
       "      <th>1</th>\n",
       "      <td>1000</td>\n",
       "      <td>2018-06-01</td>\n",
       "      <td>23</td>\n",
       "    </tr>\n",
       "    <tr>\n",
       "      <th>2</th>\n",
       "      <td>1000</td>\n",
       "      <td>2018-07-01</td>\n",
       "      <td>14</td>\n",
       "    </tr>\n",
       "    <tr>\n",
       "      <th>3</th>\n",
       "      <td>1000</td>\n",
       "      <td>2018-08-01</td>\n",
       "      <td>14</td>\n",
       "    </tr>\n",
       "    <tr>\n",
       "      <th>4</th>\n",
       "      <td>1000</td>\n",
       "      <td>2018-09-01</td>\n",
       "      <td>15</td>\n",
       "    </tr>\n",
       "    <tr>\n",
       "      <th>...</th>\n",
       "      <td>...</td>\n",
       "      <td>...</td>\n",
       "      <td>...</td>\n",
       "    </tr>\n",
       "    <tr>\n",
       "      <th>3198</th>\n",
       "      <td>1498</td>\n",
       "      <td>2018-10-01</td>\n",
       "      <td>21</td>\n",
       "    </tr>\n",
       "    <tr>\n",
       "      <th>3199</th>\n",
       "      <td>1499</td>\n",
       "      <td>2018-09-01</td>\n",
       "      <td>2</td>\n",
       "    </tr>\n",
       "    <tr>\n",
       "      <th>3200</th>\n",
       "      <td>1499</td>\n",
       "      <td>2018-10-01</td>\n",
       "      <td>18</td>\n",
       "    </tr>\n",
       "    <tr>\n",
       "      <th>3201</th>\n",
       "      <td>1499</td>\n",
       "      <td>2018-11-01</td>\n",
       "      <td>18</td>\n",
       "    </tr>\n",
       "    <tr>\n",
       "      <th>3202</th>\n",
       "      <td>1499</td>\n",
       "      <td>2018-12-01</td>\n",
       "      <td>13</td>\n",
       "    </tr>\n",
       "  </tbody>\n",
       "</table>\n",
       "<p>3203 rows × 3 columns</p>\n",
       "</div>"
      ],
      "text/plain": [
       "      user_id      month  gb_spent\n",
       "0        1000 2018-05-01         3\n",
       "1        1000 2018-06-01        23\n",
       "2        1000 2018-07-01        14\n",
       "3        1000 2018-08-01        14\n",
       "4        1000 2018-09-01        15\n",
       "...       ...        ...       ...\n",
       "3198     1498 2018-10-01        21\n",
       "3199     1499 2018-09-01         2\n",
       "3200     1499 2018-10-01        18\n",
       "3201     1499 2018-11-01        18\n",
       "3202     1499 2018-12-01        13\n",
       "\n",
       "[3203 rows x 3 columns]"
      ]
     },
     "execution_count": 29,
     "metadata": {},
     "output_type": "execute_result"
    }
   ],
   "source": [
    "internet_grouped = (internet.groupby(['user_id', 'month'], as_index=False)\n",
    "                      .agg({'gb_used':'sum'})\n",
    "                      .rename(columns={'gb_used':'gb_spent'}))\n",
    "internet_grouped['gb_spent'] = internet_grouped['gb_spent'].apply(lambda x: math.ceil(x))\n",
    "internet_grouped"
   ]
  },
  {
   "cell_type": "markdown",
   "id": "9cc73063",
   "metadata": {},
   "source": [
    "#### Выручка"
   ]
  },
  {
   "cell_type": "markdown",
   "id": "baa0a334",
   "metadata": {},
   "source": [
    "Соединим данные обо всех использованных услугах:"
   ]
  },
  {
   "cell_type": "code",
   "execution_count": 30,
   "id": "17e9f4aa",
   "metadata": {
    "scrolled": true
   },
   "outputs": [
    {
     "data": {
      "text/html": [
       "<div>\n",
       "<style scoped>\n",
       "    .dataframe tbody tr th:only-of-type {\n",
       "        vertical-align: middle;\n",
       "    }\n",
       "\n",
       "    .dataframe tbody tr th {\n",
       "        vertical-align: top;\n",
       "    }\n",
       "\n",
       "    .dataframe thead th {\n",
       "        text-align: right;\n",
       "    }\n",
       "</style>\n",
       "<table border=\"1\" class=\"dataframe\">\n",
       "  <thead>\n",
       "    <tr style=\"text-align: right;\">\n",
       "      <th></th>\n",
       "      <th>user_id</th>\n",
       "      <th>month</th>\n",
       "      <th>calls_spent</th>\n",
       "      <th>minutes_spent</th>\n",
       "      <th>messages_spent</th>\n",
       "      <th>gb_spent</th>\n",
       "    </tr>\n",
       "  </thead>\n",
       "  <tbody>\n",
       "    <tr>\n",
       "      <th>0</th>\n",
       "      <td>1000</td>\n",
       "      <td>2018-05-01</td>\n",
       "      <td>22.0</td>\n",
       "      <td>159.0</td>\n",
       "      <td>22.0</td>\n",
       "      <td>3.0</td>\n",
       "    </tr>\n",
       "    <tr>\n",
       "      <th>1</th>\n",
       "      <td>1000</td>\n",
       "      <td>2018-06-01</td>\n",
       "      <td>43.0</td>\n",
       "      <td>172.0</td>\n",
       "      <td>60.0</td>\n",
       "      <td>23.0</td>\n",
       "    </tr>\n",
       "    <tr>\n",
       "      <th>2</th>\n",
       "      <td>1000</td>\n",
       "      <td>2018-07-01</td>\n",
       "      <td>47.0</td>\n",
       "      <td>340.0</td>\n",
       "      <td>75.0</td>\n",
       "      <td>14.0</td>\n",
       "    </tr>\n",
       "    <tr>\n",
       "      <th>3</th>\n",
       "      <td>1000</td>\n",
       "      <td>2018-08-01</td>\n",
       "      <td>52.0</td>\n",
       "      <td>408.0</td>\n",
       "      <td>81.0</td>\n",
       "      <td>14.0</td>\n",
       "    </tr>\n",
       "    <tr>\n",
       "      <th>4</th>\n",
       "      <td>1000</td>\n",
       "      <td>2018-09-01</td>\n",
       "      <td>58.0</td>\n",
       "      <td>466.0</td>\n",
       "      <td>57.0</td>\n",
       "      <td>15.0</td>\n",
       "    </tr>\n",
       "    <tr>\n",
       "      <th>...</th>\n",
       "      <td>...</td>\n",
       "      <td>...</td>\n",
       "      <td>...</td>\n",
       "      <td>...</td>\n",
       "      <td>...</td>\n",
       "      <td>...</td>\n",
       "    </tr>\n",
       "    <tr>\n",
       "      <th>3169</th>\n",
       "      <td>1498</td>\n",
       "      <td>2018-10-01</td>\n",
       "      <td>41.0</td>\n",
       "      <td>247.0</td>\n",
       "      <td>42.0</td>\n",
       "      <td>21.0</td>\n",
       "    </tr>\n",
       "    <tr>\n",
       "      <th>3170</th>\n",
       "      <td>1499</td>\n",
       "      <td>2018-09-01</td>\n",
       "      <td>9.0</td>\n",
       "      <td>70.0</td>\n",
       "      <td>11.0</td>\n",
       "      <td>2.0</td>\n",
       "    </tr>\n",
       "    <tr>\n",
       "      <th>3171</th>\n",
       "      <td>1499</td>\n",
       "      <td>2018-10-01</td>\n",
       "      <td>68.0</td>\n",
       "      <td>449.0</td>\n",
       "      <td>48.0</td>\n",
       "      <td>18.0</td>\n",
       "    </tr>\n",
       "    <tr>\n",
       "      <th>3172</th>\n",
       "      <td>1499</td>\n",
       "      <td>2018-11-01</td>\n",
       "      <td>74.0</td>\n",
       "      <td>612.0</td>\n",
       "      <td>59.0</td>\n",
       "      <td>18.0</td>\n",
       "    </tr>\n",
       "    <tr>\n",
       "      <th>3173</th>\n",
       "      <td>1499</td>\n",
       "      <td>2018-12-01</td>\n",
       "      <td>69.0</td>\n",
       "      <td>492.0</td>\n",
       "      <td>66.0</td>\n",
       "      <td>13.0</td>\n",
       "    </tr>\n",
       "  </tbody>\n",
       "</table>\n",
       "<p>3214 rows × 6 columns</p>\n",
       "</div>"
      ],
      "text/plain": [
       "      user_id      month  calls_spent  minutes_spent  messages_spent  gb_spent\n",
       "0        1000 2018-05-01         22.0          159.0            22.0       3.0\n",
       "1        1000 2018-06-01         43.0          172.0            60.0      23.0\n",
       "2        1000 2018-07-01         47.0          340.0            75.0      14.0\n",
       "3        1000 2018-08-01         52.0          408.0            81.0      14.0\n",
       "4        1000 2018-09-01         58.0          466.0            57.0      15.0\n",
       "...       ...        ...          ...            ...             ...       ...\n",
       "3169     1498 2018-10-01         41.0          247.0            42.0      21.0\n",
       "3170     1499 2018-09-01          9.0           70.0            11.0       2.0\n",
       "3171     1499 2018-10-01         68.0          449.0            48.0      18.0\n",
       "3172     1499 2018-11-01         74.0          612.0            59.0      18.0\n",
       "3173     1499 2018-12-01         69.0          492.0            66.0      13.0\n",
       "\n",
       "[3214 rows x 6 columns]"
      ]
     },
     "execution_count": 30,
     "metadata": {},
     "output_type": "execute_result"
    }
   ],
   "source": [
    "services_spent = (calls_grouped.merge(messages_grouped, on=['user_id','month'], how='outer')\n",
    "                                .merge(internet_grouped, on=['user_id','month'], how='outer'))\n",
    "services_spent = services_spent.sort_values(by=['user_id','month'])\n",
    "services_spent"
   ]
  },
  {
   "cell_type": "markdown",
   "id": "02e50aed",
   "metadata": {},
   "source": [
    "Переименуем столбец с названием тарифа, чтобы соединить два датасета:"
   ]
  },
  {
   "cell_type": "code",
   "execution_count": 31,
   "id": "7008d51b",
   "metadata": {},
   "outputs": [],
   "source": [
    "tariffs = tariffs.rename(columns={'tariff_name':'tariff'})"
   ]
  },
  {
   "cell_type": "markdown",
   "id": "7feb06a6",
   "metadata": {},
   "source": [
    "Объединим данные о пользователях, о тарифах, которыми они пользуются и об использованных услугах. Кроме этого добавим столбец с информацией об интернет-трафике в гигабайтах:"
   ]
  },
  {
   "cell_type": "code",
   "execution_count": 32,
   "id": "5326b440",
   "metadata": {
    "scrolled": false
   },
   "outputs": [
    {
     "data": {
      "text/html": [
       "<div>\n",
       "<style scoped>\n",
       "    .dataframe tbody tr th:only-of-type {\n",
       "        vertical-align: middle;\n",
       "    }\n",
       "\n",
       "    .dataframe tbody tr th {\n",
       "        vertical-align: top;\n",
       "    }\n",
       "\n",
       "    .dataframe thead th {\n",
       "        text-align: right;\n",
       "    }\n",
       "</style>\n",
       "<table border=\"1\" class=\"dataframe\">\n",
       "  <thead>\n",
       "    <tr style=\"text-align: right;\">\n",
       "      <th></th>\n",
       "      <th>user_id</th>\n",
       "      <th>age</th>\n",
       "      <th>churn_date</th>\n",
       "      <th>city</th>\n",
       "      <th>first_name</th>\n",
       "      <th>last_name</th>\n",
       "      <th>reg_date</th>\n",
       "      <th>tariff</th>\n",
       "      <th>messages_included</th>\n",
       "      <th>mb_per_month_included</th>\n",
       "      <th>minutes_included</th>\n",
       "      <th>rub_monthly_fee</th>\n",
       "      <th>rub_per_gb</th>\n",
       "      <th>rub_per_message</th>\n",
       "      <th>rub_per_minute</th>\n",
       "      <th>gb_per_month_included</th>\n",
       "      <th>month</th>\n",
       "      <th>calls_spent</th>\n",
       "      <th>minutes_spent</th>\n",
       "      <th>messages_spent</th>\n",
       "      <th>gb_spent</th>\n",
       "    </tr>\n",
       "  </thead>\n",
       "  <tbody>\n",
       "    <tr>\n",
       "      <th>0</th>\n",
       "      <td>1000</td>\n",
       "      <td>52</td>\n",
       "      <td>NaT</td>\n",
       "      <td>Краснодар</td>\n",
       "      <td>Рафаил</td>\n",
       "      <td>Верещагин</td>\n",
       "      <td>2018-05-25</td>\n",
       "      <td>ultra</td>\n",
       "      <td>1000</td>\n",
       "      <td>30720</td>\n",
       "      <td>3000</td>\n",
       "      <td>1950</td>\n",
       "      <td>150</td>\n",
       "      <td>1</td>\n",
       "      <td>1</td>\n",
       "      <td>30.0</td>\n",
       "      <td>2018-05-01</td>\n",
       "      <td>22.0</td>\n",
       "      <td>159.0</td>\n",
       "      <td>22.0</td>\n",
       "      <td>3.0</td>\n",
       "    </tr>\n",
       "    <tr>\n",
       "      <th>1</th>\n",
       "      <td>1000</td>\n",
       "      <td>52</td>\n",
       "      <td>NaT</td>\n",
       "      <td>Краснодар</td>\n",
       "      <td>Рафаил</td>\n",
       "      <td>Верещагин</td>\n",
       "      <td>2018-05-25</td>\n",
       "      <td>ultra</td>\n",
       "      <td>1000</td>\n",
       "      <td>30720</td>\n",
       "      <td>3000</td>\n",
       "      <td>1950</td>\n",
       "      <td>150</td>\n",
       "      <td>1</td>\n",
       "      <td>1</td>\n",
       "      <td>30.0</td>\n",
       "      <td>2018-06-01</td>\n",
       "      <td>43.0</td>\n",
       "      <td>172.0</td>\n",
       "      <td>60.0</td>\n",
       "      <td>23.0</td>\n",
       "    </tr>\n",
       "    <tr>\n",
       "      <th>2</th>\n",
       "      <td>1000</td>\n",
       "      <td>52</td>\n",
       "      <td>NaT</td>\n",
       "      <td>Краснодар</td>\n",
       "      <td>Рафаил</td>\n",
       "      <td>Верещагин</td>\n",
       "      <td>2018-05-25</td>\n",
       "      <td>ultra</td>\n",
       "      <td>1000</td>\n",
       "      <td>30720</td>\n",
       "      <td>3000</td>\n",
       "      <td>1950</td>\n",
       "      <td>150</td>\n",
       "      <td>1</td>\n",
       "      <td>1</td>\n",
       "      <td>30.0</td>\n",
       "      <td>2018-07-01</td>\n",
       "      <td>47.0</td>\n",
       "      <td>340.0</td>\n",
       "      <td>75.0</td>\n",
       "      <td>14.0</td>\n",
       "    </tr>\n",
       "    <tr>\n",
       "      <th>3</th>\n",
       "      <td>1000</td>\n",
       "      <td>52</td>\n",
       "      <td>NaT</td>\n",
       "      <td>Краснодар</td>\n",
       "      <td>Рафаил</td>\n",
       "      <td>Верещагин</td>\n",
       "      <td>2018-05-25</td>\n",
       "      <td>ultra</td>\n",
       "      <td>1000</td>\n",
       "      <td>30720</td>\n",
       "      <td>3000</td>\n",
       "      <td>1950</td>\n",
       "      <td>150</td>\n",
       "      <td>1</td>\n",
       "      <td>1</td>\n",
       "      <td>30.0</td>\n",
       "      <td>2018-08-01</td>\n",
       "      <td>52.0</td>\n",
       "      <td>408.0</td>\n",
       "      <td>81.0</td>\n",
       "      <td>14.0</td>\n",
       "    </tr>\n",
       "    <tr>\n",
       "      <th>4</th>\n",
       "      <td>1000</td>\n",
       "      <td>52</td>\n",
       "      <td>NaT</td>\n",
       "      <td>Краснодар</td>\n",
       "      <td>Рафаил</td>\n",
       "      <td>Верещагин</td>\n",
       "      <td>2018-05-25</td>\n",
       "      <td>ultra</td>\n",
       "      <td>1000</td>\n",
       "      <td>30720</td>\n",
       "      <td>3000</td>\n",
       "      <td>1950</td>\n",
       "      <td>150</td>\n",
       "      <td>1</td>\n",
       "      <td>1</td>\n",
       "      <td>30.0</td>\n",
       "      <td>2018-09-01</td>\n",
       "      <td>58.0</td>\n",
       "      <td>466.0</td>\n",
       "      <td>57.0</td>\n",
       "      <td>15.0</td>\n",
       "    </tr>\n",
       "    <tr>\n",
       "      <th>...</th>\n",
       "      <td>...</td>\n",
       "      <td>...</td>\n",
       "      <td>...</td>\n",
       "      <td>...</td>\n",
       "      <td>...</td>\n",
       "      <td>...</td>\n",
       "      <td>...</td>\n",
       "      <td>...</td>\n",
       "      <td>...</td>\n",
       "      <td>...</td>\n",
       "      <td>...</td>\n",
       "      <td>...</td>\n",
       "      <td>...</td>\n",
       "      <td>...</td>\n",
       "      <td>...</td>\n",
       "      <td>...</td>\n",
       "      <td>...</td>\n",
       "      <td>...</td>\n",
       "      <td>...</td>\n",
       "      <td>...</td>\n",
       "      <td>...</td>\n",
       "    </tr>\n",
       "    <tr>\n",
       "      <th>3209</th>\n",
       "      <td>1498</td>\n",
       "      <td>68</td>\n",
       "      <td>2018-10-25</td>\n",
       "      <td>Владикавказ</td>\n",
       "      <td>Всеволод</td>\n",
       "      <td>Акимчин</td>\n",
       "      <td>2018-07-19</td>\n",
       "      <td>smart</td>\n",
       "      <td>50</td>\n",
       "      <td>15360</td>\n",
       "      <td>500</td>\n",
       "      <td>550</td>\n",
       "      <td>200</td>\n",
       "      <td>3</td>\n",
       "      <td>3</td>\n",
       "      <td>15.0</td>\n",
       "      <td>2018-10-01</td>\n",
       "      <td>41.0</td>\n",
       "      <td>247.0</td>\n",
       "      <td>42.0</td>\n",
       "      <td>21.0</td>\n",
       "    </tr>\n",
       "    <tr>\n",
       "      <th>3210</th>\n",
       "      <td>1499</td>\n",
       "      <td>35</td>\n",
       "      <td>NaT</td>\n",
       "      <td>Пермь</td>\n",
       "      <td>Гектор</td>\n",
       "      <td>Корнилов</td>\n",
       "      <td>2018-09-27</td>\n",
       "      <td>smart</td>\n",
       "      <td>50</td>\n",
       "      <td>15360</td>\n",
       "      <td>500</td>\n",
       "      <td>550</td>\n",
       "      <td>200</td>\n",
       "      <td>3</td>\n",
       "      <td>3</td>\n",
       "      <td>15.0</td>\n",
       "      <td>2018-09-01</td>\n",
       "      <td>9.0</td>\n",
       "      <td>70.0</td>\n",
       "      <td>11.0</td>\n",
       "      <td>2.0</td>\n",
       "    </tr>\n",
       "    <tr>\n",
       "      <th>3211</th>\n",
       "      <td>1499</td>\n",
       "      <td>35</td>\n",
       "      <td>NaT</td>\n",
       "      <td>Пермь</td>\n",
       "      <td>Гектор</td>\n",
       "      <td>Корнилов</td>\n",
       "      <td>2018-09-27</td>\n",
       "      <td>smart</td>\n",
       "      <td>50</td>\n",
       "      <td>15360</td>\n",
       "      <td>500</td>\n",
       "      <td>550</td>\n",
       "      <td>200</td>\n",
       "      <td>3</td>\n",
       "      <td>3</td>\n",
       "      <td>15.0</td>\n",
       "      <td>2018-10-01</td>\n",
       "      <td>68.0</td>\n",
       "      <td>449.0</td>\n",
       "      <td>48.0</td>\n",
       "      <td>18.0</td>\n",
       "    </tr>\n",
       "    <tr>\n",
       "      <th>3212</th>\n",
       "      <td>1499</td>\n",
       "      <td>35</td>\n",
       "      <td>NaT</td>\n",
       "      <td>Пермь</td>\n",
       "      <td>Гектор</td>\n",
       "      <td>Корнилов</td>\n",
       "      <td>2018-09-27</td>\n",
       "      <td>smart</td>\n",
       "      <td>50</td>\n",
       "      <td>15360</td>\n",
       "      <td>500</td>\n",
       "      <td>550</td>\n",
       "      <td>200</td>\n",
       "      <td>3</td>\n",
       "      <td>3</td>\n",
       "      <td>15.0</td>\n",
       "      <td>2018-11-01</td>\n",
       "      <td>74.0</td>\n",
       "      <td>612.0</td>\n",
       "      <td>59.0</td>\n",
       "      <td>18.0</td>\n",
       "    </tr>\n",
       "    <tr>\n",
       "      <th>3213</th>\n",
       "      <td>1499</td>\n",
       "      <td>35</td>\n",
       "      <td>NaT</td>\n",
       "      <td>Пермь</td>\n",
       "      <td>Гектор</td>\n",
       "      <td>Корнилов</td>\n",
       "      <td>2018-09-27</td>\n",
       "      <td>smart</td>\n",
       "      <td>50</td>\n",
       "      <td>15360</td>\n",
       "      <td>500</td>\n",
       "      <td>550</td>\n",
       "      <td>200</td>\n",
       "      <td>3</td>\n",
       "      <td>3</td>\n",
       "      <td>15.0</td>\n",
       "      <td>2018-12-01</td>\n",
       "      <td>69.0</td>\n",
       "      <td>492.0</td>\n",
       "      <td>66.0</td>\n",
       "      <td>13.0</td>\n",
       "    </tr>\n",
       "  </tbody>\n",
       "</table>\n",
       "<p>3214 rows × 21 columns</p>\n",
       "</div>"
      ],
      "text/plain": [
       "      user_id  age churn_date         city first_name  last_name   reg_date  \\\n",
       "0        1000   52        NaT    Краснодар     Рафаил  Верещагин 2018-05-25   \n",
       "1        1000   52        NaT    Краснодар     Рафаил  Верещагин 2018-05-25   \n",
       "2        1000   52        NaT    Краснодар     Рафаил  Верещагин 2018-05-25   \n",
       "3        1000   52        NaT    Краснодар     Рафаил  Верещагин 2018-05-25   \n",
       "4        1000   52        NaT    Краснодар     Рафаил  Верещагин 2018-05-25   \n",
       "...       ...  ...        ...          ...        ...        ...        ...   \n",
       "3209     1498   68 2018-10-25  Владикавказ   Всеволод    Акимчин 2018-07-19   \n",
       "3210     1499   35        NaT        Пермь     Гектор   Корнилов 2018-09-27   \n",
       "3211     1499   35        NaT        Пермь     Гектор   Корнилов 2018-09-27   \n",
       "3212     1499   35        NaT        Пермь     Гектор   Корнилов 2018-09-27   \n",
       "3213     1499   35        NaT        Пермь     Гектор   Корнилов 2018-09-27   \n",
       "\n",
       "     tariff  messages_included  mb_per_month_included  minutes_included  \\\n",
       "0     ultra               1000                  30720              3000   \n",
       "1     ultra               1000                  30720              3000   \n",
       "2     ultra               1000                  30720              3000   \n",
       "3     ultra               1000                  30720              3000   \n",
       "4     ultra               1000                  30720              3000   \n",
       "...     ...                ...                    ...               ...   \n",
       "3209  smart                 50                  15360               500   \n",
       "3210  smart                 50                  15360               500   \n",
       "3211  smart                 50                  15360               500   \n",
       "3212  smart                 50                  15360               500   \n",
       "3213  smart                 50                  15360               500   \n",
       "\n",
       "      rub_monthly_fee  rub_per_gb  rub_per_message  rub_per_minute  \\\n",
       "0                1950         150                1               1   \n",
       "1                1950         150                1               1   \n",
       "2                1950         150                1               1   \n",
       "3                1950         150                1               1   \n",
       "4                1950         150                1               1   \n",
       "...               ...         ...              ...             ...   \n",
       "3209              550         200                3               3   \n",
       "3210              550         200                3               3   \n",
       "3211              550         200                3               3   \n",
       "3212              550         200                3               3   \n",
       "3213              550         200                3               3   \n",
       "\n",
       "      gb_per_month_included      month  calls_spent  minutes_spent  \\\n",
       "0                      30.0 2018-05-01         22.0          159.0   \n",
       "1                      30.0 2018-06-01         43.0          172.0   \n",
       "2                      30.0 2018-07-01         47.0          340.0   \n",
       "3                      30.0 2018-08-01         52.0          408.0   \n",
       "4                      30.0 2018-09-01         58.0          466.0   \n",
       "...                     ...        ...          ...            ...   \n",
       "3209                   15.0 2018-10-01         41.0          247.0   \n",
       "3210                   15.0 2018-09-01          9.0           70.0   \n",
       "3211                   15.0 2018-10-01         68.0          449.0   \n",
       "3212                   15.0 2018-11-01         74.0          612.0   \n",
       "3213                   15.0 2018-12-01         69.0          492.0   \n",
       "\n",
       "      messages_spent  gb_spent  \n",
       "0               22.0       3.0  \n",
       "1               60.0      23.0  \n",
       "2               75.0      14.0  \n",
       "3               81.0      14.0  \n",
       "4               57.0      15.0  \n",
       "...              ...       ...  \n",
       "3209            42.0      21.0  \n",
       "3210            11.0       2.0  \n",
       "3211            48.0      18.0  \n",
       "3212            59.0      18.0  \n",
       "3213            66.0      13.0  \n",
       "\n",
       "[3214 rows x 21 columns]"
      ]
     },
     "execution_count": 32,
     "metadata": {},
     "output_type": "execute_result"
    }
   ],
   "source": [
    "df = users.merge(tariffs, on='tariff', how='left')\n",
    "df['gb_per_month_included'] = df['mb_per_month_included'] / 1024\n",
    "df = df.merge(services_spent, on='user_id', how='right')\n",
    "pd.set_option('display.max_columns', None)\n",
    "df"
   ]
  },
  {
   "cell_type": "markdown",
   "id": "89e65bd9",
   "metadata": {},
   "source": [
    "Теперь мы можем рассчитать помесячную выручку для каждого пользователя. Для этого\n",
    "- вычтем бесплатный лимит из использованных услуг"
   ]
  },
  {
   "cell_type": "code",
   "execution_count": 33,
   "id": "95bc4bb2",
   "metadata": {},
   "outputs": [],
   "source": [
    "df['minutes'] = df['minutes_spent'] - df['minutes_included']\n",
    "df['messages'] = df['messages_spent'] - df['messages_included']\n",
    "df['gb'] = df['gb_spent'] - df['gb_per_month_included']"
   ]
  },
  {
   "cell_type": "markdown",
   "id": "139731d6",
   "metadata": {},
   "source": [
    "Но не всегда разница между фактически использованными услугами и услугами, включёнными в тариф, положительная. Например, пользователь оплатил тариф \"Ультра\" с 3000 минут, а использовал всего 159. Нам же нужно \n",
    "- найти услуги, которые пользователи использовали сверх лимита:"
   ]
  },
  {
   "cell_type": "code",
   "execution_count": 34,
   "id": "1a2e9caa",
   "metadata": {},
   "outputs": [],
   "source": [
    "df['minutes_over_limit'] = df.loc[df['minutes'] > 0]['minutes']\n",
    "df['messages_over_limit'] = df.loc[df['messages'] > 0]['messages']\n",
    "df['gb_over_limit'] = df.loc[df['gb'] > 0]['gb']"
   ]
  },
  {
   "cell_type": "markdown",
   "id": "b77345f0",
   "metadata": {},
   "source": [
    "А если пользователь не использовал услуг сверх лимита, заполним пропуски нулями:"
   ]
  },
  {
   "cell_type": "code",
   "execution_count": 35,
   "id": "2cb96072",
   "metadata": {},
   "outputs": [],
   "source": [
    "df['minutes_over_limit'] = df['minutes_over_limit'].fillna(0)\n",
    "df['messages_over_limit'] = df['messages_over_limit'].fillna(0)\n",
    "df['gb_over_limit'] = df['gb_over_limit'].fillna(0)"
   ]
  },
  {
   "cell_type": "markdown",
   "id": "c621d77e",
   "metadata": {},
   "source": [
    "Теперь \n",
    "- рассчитаем стоимость всех услуг, которые были использованы сверх тарифного плана:"
   ]
  },
  {
   "cell_type": "code",
   "execution_count": 36,
   "id": "76c8fa52",
   "metadata": {},
   "outputs": [],
   "source": [
    "df['minutes_payment'] = df['minutes_over_limit'] * df['rub_per_minute']\n",
    "df['messages_payment'] = df['messages_over_limit'] * df['rub_per_message']\n",
    "df['gb_payment'] = df['gb_over_limit'] * df['rub_per_gb']"
   ]
  },
  {
   "cell_type": "markdown",
   "id": "0a48c3bb",
   "metadata": {},
   "source": [
    "Сложив все виды оплат,\n",
    "- найдём помесячную выручку с каждого пользователя:"
   ]
  },
  {
   "cell_type": "code",
   "execution_count": 37,
   "id": "147c046e",
   "metadata": {
    "scrolled": true
   },
   "outputs": [
    {
     "data": {
      "text/html": [
       "<div>\n",
       "<style scoped>\n",
       "    .dataframe tbody tr th:only-of-type {\n",
       "        vertical-align: middle;\n",
       "    }\n",
       "\n",
       "    .dataframe tbody tr th {\n",
       "        vertical-align: top;\n",
       "    }\n",
       "\n",
       "    .dataframe thead th {\n",
       "        text-align: right;\n",
       "    }\n",
       "</style>\n",
       "<table border=\"1\" class=\"dataframe\">\n",
       "  <thead>\n",
       "    <tr style=\"text-align: right;\">\n",
       "      <th></th>\n",
       "      <th>user_id</th>\n",
       "      <th>age</th>\n",
       "      <th>churn_date</th>\n",
       "      <th>city</th>\n",
       "      <th>first_name</th>\n",
       "      <th>last_name</th>\n",
       "      <th>reg_date</th>\n",
       "      <th>tariff</th>\n",
       "      <th>messages_included</th>\n",
       "      <th>mb_per_month_included</th>\n",
       "      <th>minutes_included</th>\n",
       "      <th>rub_monthly_fee</th>\n",
       "      <th>rub_per_gb</th>\n",
       "      <th>rub_per_message</th>\n",
       "      <th>rub_per_minute</th>\n",
       "      <th>gb_per_month_included</th>\n",
       "      <th>month</th>\n",
       "      <th>calls_spent</th>\n",
       "      <th>minutes_spent</th>\n",
       "      <th>messages_spent</th>\n",
       "      <th>gb_spent</th>\n",
       "      <th>minutes</th>\n",
       "      <th>messages</th>\n",
       "      <th>gb</th>\n",
       "      <th>minutes_over_limit</th>\n",
       "      <th>messages_over_limit</th>\n",
       "      <th>gb_over_limit</th>\n",
       "      <th>minutes_payment</th>\n",
       "      <th>messages_payment</th>\n",
       "      <th>gb_payment</th>\n",
       "      <th>revenue</th>\n",
       "    </tr>\n",
       "  </thead>\n",
       "  <tbody>\n",
       "    <tr>\n",
       "      <th>0</th>\n",
       "      <td>1000</td>\n",
       "      <td>52</td>\n",
       "      <td>NaT</td>\n",
       "      <td>Краснодар</td>\n",
       "      <td>Рафаил</td>\n",
       "      <td>Верещагин</td>\n",
       "      <td>2018-05-25</td>\n",
       "      <td>ultra</td>\n",
       "      <td>1000</td>\n",
       "      <td>30720</td>\n",
       "      <td>3000</td>\n",
       "      <td>1950</td>\n",
       "      <td>150</td>\n",
       "      <td>1</td>\n",
       "      <td>1</td>\n",
       "      <td>30.0</td>\n",
       "      <td>2018-05-01</td>\n",
       "      <td>22.0</td>\n",
       "      <td>159.0</td>\n",
       "      <td>22.0</td>\n",
       "      <td>3.0</td>\n",
       "      <td>-2841.0</td>\n",
       "      <td>-978.0</td>\n",
       "      <td>-27.0</td>\n",
       "      <td>0.0</td>\n",
       "      <td>0.0</td>\n",
       "      <td>0.0</td>\n",
       "      <td>0.0</td>\n",
       "      <td>0.0</td>\n",
       "      <td>0.0</td>\n",
       "      <td>1950.0</td>\n",
       "    </tr>\n",
       "    <tr>\n",
       "      <th>1</th>\n",
       "      <td>1000</td>\n",
       "      <td>52</td>\n",
       "      <td>NaT</td>\n",
       "      <td>Краснодар</td>\n",
       "      <td>Рафаил</td>\n",
       "      <td>Верещагин</td>\n",
       "      <td>2018-05-25</td>\n",
       "      <td>ultra</td>\n",
       "      <td>1000</td>\n",
       "      <td>30720</td>\n",
       "      <td>3000</td>\n",
       "      <td>1950</td>\n",
       "      <td>150</td>\n",
       "      <td>1</td>\n",
       "      <td>1</td>\n",
       "      <td>30.0</td>\n",
       "      <td>2018-06-01</td>\n",
       "      <td>43.0</td>\n",
       "      <td>172.0</td>\n",
       "      <td>60.0</td>\n",
       "      <td>23.0</td>\n",
       "      <td>-2828.0</td>\n",
       "      <td>-940.0</td>\n",
       "      <td>-7.0</td>\n",
       "      <td>0.0</td>\n",
       "      <td>0.0</td>\n",
       "      <td>0.0</td>\n",
       "      <td>0.0</td>\n",
       "      <td>0.0</td>\n",
       "      <td>0.0</td>\n",
       "      <td>1950.0</td>\n",
       "    </tr>\n",
       "    <tr>\n",
       "      <th>2</th>\n",
       "      <td>1000</td>\n",
       "      <td>52</td>\n",
       "      <td>NaT</td>\n",
       "      <td>Краснодар</td>\n",
       "      <td>Рафаил</td>\n",
       "      <td>Верещагин</td>\n",
       "      <td>2018-05-25</td>\n",
       "      <td>ultra</td>\n",
       "      <td>1000</td>\n",
       "      <td>30720</td>\n",
       "      <td>3000</td>\n",
       "      <td>1950</td>\n",
       "      <td>150</td>\n",
       "      <td>1</td>\n",
       "      <td>1</td>\n",
       "      <td>30.0</td>\n",
       "      <td>2018-07-01</td>\n",
       "      <td>47.0</td>\n",
       "      <td>340.0</td>\n",
       "      <td>75.0</td>\n",
       "      <td>14.0</td>\n",
       "      <td>-2660.0</td>\n",
       "      <td>-925.0</td>\n",
       "      <td>-16.0</td>\n",
       "      <td>0.0</td>\n",
       "      <td>0.0</td>\n",
       "      <td>0.0</td>\n",
       "      <td>0.0</td>\n",
       "      <td>0.0</td>\n",
       "      <td>0.0</td>\n",
       "      <td>1950.0</td>\n",
       "    </tr>\n",
       "    <tr>\n",
       "      <th>3</th>\n",
       "      <td>1000</td>\n",
       "      <td>52</td>\n",
       "      <td>NaT</td>\n",
       "      <td>Краснодар</td>\n",
       "      <td>Рафаил</td>\n",
       "      <td>Верещагин</td>\n",
       "      <td>2018-05-25</td>\n",
       "      <td>ultra</td>\n",
       "      <td>1000</td>\n",
       "      <td>30720</td>\n",
       "      <td>3000</td>\n",
       "      <td>1950</td>\n",
       "      <td>150</td>\n",
       "      <td>1</td>\n",
       "      <td>1</td>\n",
       "      <td>30.0</td>\n",
       "      <td>2018-08-01</td>\n",
       "      <td>52.0</td>\n",
       "      <td>408.0</td>\n",
       "      <td>81.0</td>\n",
       "      <td>14.0</td>\n",
       "      <td>-2592.0</td>\n",
       "      <td>-919.0</td>\n",
       "      <td>-16.0</td>\n",
       "      <td>0.0</td>\n",
       "      <td>0.0</td>\n",
       "      <td>0.0</td>\n",
       "      <td>0.0</td>\n",
       "      <td>0.0</td>\n",
       "      <td>0.0</td>\n",
       "      <td>1950.0</td>\n",
       "    </tr>\n",
       "    <tr>\n",
       "      <th>4</th>\n",
       "      <td>1000</td>\n",
       "      <td>52</td>\n",
       "      <td>NaT</td>\n",
       "      <td>Краснодар</td>\n",
       "      <td>Рафаил</td>\n",
       "      <td>Верещагин</td>\n",
       "      <td>2018-05-25</td>\n",
       "      <td>ultra</td>\n",
       "      <td>1000</td>\n",
       "      <td>30720</td>\n",
       "      <td>3000</td>\n",
       "      <td>1950</td>\n",
       "      <td>150</td>\n",
       "      <td>1</td>\n",
       "      <td>1</td>\n",
       "      <td>30.0</td>\n",
       "      <td>2018-09-01</td>\n",
       "      <td>58.0</td>\n",
       "      <td>466.0</td>\n",
       "      <td>57.0</td>\n",
       "      <td>15.0</td>\n",
       "      <td>-2534.0</td>\n",
       "      <td>-943.0</td>\n",
       "      <td>-15.0</td>\n",
       "      <td>0.0</td>\n",
       "      <td>0.0</td>\n",
       "      <td>0.0</td>\n",
       "      <td>0.0</td>\n",
       "      <td>0.0</td>\n",
       "      <td>0.0</td>\n",
       "      <td>1950.0</td>\n",
       "    </tr>\n",
       "    <tr>\n",
       "      <th>...</th>\n",
       "      <td>...</td>\n",
       "      <td>...</td>\n",
       "      <td>...</td>\n",
       "      <td>...</td>\n",
       "      <td>...</td>\n",
       "      <td>...</td>\n",
       "      <td>...</td>\n",
       "      <td>...</td>\n",
       "      <td>...</td>\n",
       "      <td>...</td>\n",
       "      <td>...</td>\n",
       "      <td>...</td>\n",
       "      <td>...</td>\n",
       "      <td>...</td>\n",
       "      <td>...</td>\n",
       "      <td>...</td>\n",
       "      <td>...</td>\n",
       "      <td>...</td>\n",
       "      <td>...</td>\n",
       "      <td>...</td>\n",
       "      <td>...</td>\n",
       "      <td>...</td>\n",
       "      <td>...</td>\n",
       "      <td>...</td>\n",
       "      <td>...</td>\n",
       "      <td>...</td>\n",
       "      <td>...</td>\n",
       "      <td>...</td>\n",
       "      <td>...</td>\n",
       "      <td>...</td>\n",
       "      <td>...</td>\n",
       "    </tr>\n",
       "    <tr>\n",
       "      <th>3209</th>\n",
       "      <td>1498</td>\n",
       "      <td>68</td>\n",
       "      <td>2018-10-25</td>\n",
       "      <td>Владикавказ</td>\n",
       "      <td>Всеволод</td>\n",
       "      <td>Акимчин</td>\n",
       "      <td>2018-07-19</td>\n",
       "      <td>smart</td>\n",
       "      <td>50</td>\n",
       "      <td>15360</td>\n",
       "      <td>500</td>\n",
       "      <td>550</td>\n",
       "      <td>200</td>\n",
       "      <td>3</td>\n",
       "      <td>3</td>\n",
       "      <td>15.0</td>\n",
       "      <td>2018-10-01</td>\n",
       "      <td>41.0</td>\n",
       "      <td>247.0</td>\n",
       "      <td>42.0</td>\n",
       "      <td>21.0</td>\n",
       "      <td>-253.0</td>\n",
       "      <td>-8.0</td>\n",
       "      <td>6.0</td>\n",
       "      <td>0.0</td>\n",
       "      <td>0.0</td>\n",
       "      <td>6.0</td>\n",
       "      <td>0.0</td>\n",
       "      <td>0.0</td>\n",
       "      <td>1200.0</td>\n",
       "      <td>1750.0</td>\n",
       "    </tr>\n",
       "    <tr>\n",
       "      <th>3210</th>\n",
       "      <td>1499</td>\n",
       "      <td>35</td>\n",
       "      <td>NaT</td>\n",
       "      <td>Пермь</td>\n",
       "      <td>Гектор</td>\n",
       "      <td>Корнилов</td>\n",
       "      <td>2018-09-27</td>\n",
       "      <td>smart</td>\n",
       "      <td>50</td>\n",
       "      <td>15360</td>\n",
       "      <td>500</td>\n",
       "      <td>550</td>\n",
       "      <td>200</td>\n",
       "      <td>3</td>\n",
       "      <td>3</td>\n",
       "      <td>15.0</td>\n",
       "      <td>2018-09-01</td>\n",
       "      <td>9.0</td>\n",
       "      <td>70.0</td>\n",
       "      <td>11.0</td>\n",
       "      <td>2.0</td>\n",
       "      <td>-430.0</td>\n",
       "      <td>-39.0</td>\n",
       "      <td>-13.0</td>\n",
       "      <td>0.0</td>\n",
       "      <td>0.0</td>\n",
       "      <td>0.0</td>\n",
       "      <td>0.0</td>\n",
       "      <td>0.0</td>\n",
       "      <td>0.0</td>\n",
       "      <td>550.0</td>\n",
       "    </tr>\n",
       "    <tr>\n",
       "      <th>3211</th>\n",
       "      <td>1499</td>\n",
       "      <td>35</td>\n",
       "      <td>NaT</td>\n",
       "      <td>Пермь</td>\n",
       "      <td>Гектор</td>\n",
       "      <td>Корнилов</td>\n",
       "      <td>2018-09-27</td>\n",
       "      <td>smart</td>\n",
       "      <td>50</td>\n",
       "      <td>15360</td>\n",
       "      <td>500</td>\n",
       "      <td>550</td>\n",
       "      <td>200</td>\n",
       "      <td>3</td>\n",
       "      <td>3</td>\n",
       "      <td>15.0</td>\n",
       "      <td>2018-10-01</td>\n",
       "      <td>68.0</td>\n",
       "      <td>449.0</td>\n",
       "      <td>48.0</td>\n",
       "      <td>18.0</td>\n",
       "      <td>-51.0</td>\n",
       "      <td>-2.0</td>\n",
       "      <td>3.0</td>\n",
       "      <td>0.0</td>\n",
       "      <td>0.0</td>\n",
       "      <td>3.0</td>\n",
       "      <td>0.0</td>\n",
       "      <td>0.0</td>\n",
       "      <td>600.0</td>\n",
       "      <td>1150.0</td>\n",
       "    </tr>\n",
       "    <tr>\n",
       "      <th>3212</th>\n",
       "      <td>1499</td>\n",
       "      <td>35</td>\n",
       "      <td>NaT</td>\n",
       "      <td>Пермь</td>\n",
       "      <td>Гектор</td>\n",
       "      <td>Корнилов</td>\n",
       "      <td>2018-09-27</td>\n",
       "      <td>smart</td>\n",
       "      <td>50</td>\n",
       "      <td>15360</td>\n",
       "      <td>500</td>\n",
       "      <td>550</td>\n",
       "      <td>200</td>\n",
       "      <td>3</td>\n",
       "      <td>3</td>\n",
       "      <td>15.0</td>\n",
       "      <td>2018-11-01</td>\n",
       "      <td>74.0</td>\n",
       "      <td>612.0</td>\n",
       "      <td>59.0</td>\n",
       "      <td>18.0</td>\n",
       "      <td>112.0</td>\n",
       "      <td>9.0</td>\n",
       "      <td>3.0</td>\n",
       "      <td>112.0</td>\n",
       "      <td>9.0</td>\n",
       "      <td>3.0</td>\n",
       "      <td>336.0</td>\n",
       "      <td>27.0</td>\n",
       "      <td>600.0</td>\n",
       "      <td>1513.0</td>\n",
       "    </tr>\n",
       "    <tr>\n",
       "      <th>3213</th>\n",
       "      <td>1499</td>\n",
       "      <td>35</td>\n",
       "      <td>NaT</td>\n",
       "      <td>Пермь</td>\n",
       "      <td>Гектор</td>\n",
       "      <td>Корнилов</td>\n",
       "      <td>2018-09-27</td>\n",
       "      <td>smart</td>\n",
       "      <td>50</td>\n",
       "      <td>15360</td>\n",
       "      <td>500</td>\n",
       "      <td>550</td>\n",
       "      <td>200</td>\n",
       "      <td>3</td>\n",
       "      <td>3</td>\n",
       "      <td>15.0</td>\n",
       "      <td>2018-12-01</td>\n",
       "      <td>69.0</td>\n",
       "      <td>492.0</td>\n",
       "      <td>66.0</td>\n",
       "      <td>13.0</td>\n",
       "      <td>-8.0</td>\n",
       "      <td>16.0</td>\n",
       "      <td>-2.0</td>\n",
       "      <td>0.0</td>\n",
       "      <td>16.0</td>\n",
       "      <td>0.0</td>\n",
       "      <td>0.0</td>\n",
       "      <td>48.0</td>\n",
       "      <td>0.0</td>\n",
       "      <td>598.0</td>\n",
       "    </tr>\n",
       "  </tbody>\n",
       "</table>\n",
       "<p>3214 rows × 31 columns</p>\n",
       "</div>"
      ],
      "text/plain": [
       "      user_id  age churn_date         city first_name  last_name   reg_date  \\\n",
       "0        1000   52        NaT    Краснодар     Рафаил  Верещагин 2018-05-25   \n",
       "1        1000   52        NaT    Краснодар     Рафаил  Верещагин 2018-05-25   \n",
       "2        1000   52        NaT    Краснодар     Рафаил  Верещагин 2018-05-25   \n",
       "3        1000   52        NaT    Краснодар     Рафаил  Верещагин 2018-05-25   \n",
       "4        1000   52        NaT    Краснодар     Рафаил  Верещагин 2018-05-25   \n",
       "...       ...  ...        ...          ...        ...        ...        ...   \n",
       "3209     1498   68 2018-10-25  Владикавказ   Всеволод    Акимчин 2018-07-19   \n",
       "3210     1499   35        NaT        Пермь     Гектор   Корнилов 2018-09-27   \n",
       "3211     1499   35        NaT        Пермь     Гектор   Корнилов 2018-09-27   \n",
       "3212     1499   35        NaT        Пермь     Гектор   Корнилов 2018-09-27   \n",
       "3213     1499   35        NaT        Пермь     Гектор   Корнилов 2018-09-27   \n",
       "\n",
       "     tariff  messages_included  mb_per_month_included  minutes_included  \\\n",
       "0     ultra               1000                  30720              3000   \n",
       "1     ultra               1000                  30720              3000   \n",
       "2     ultra               1000                  30720              3000   \n",
       "3     ultra               1000                  30720              3000   \n",
       "4     ultra               1000                  30720              3000   \n",
       "...     ...                ...                    ...               ...   \n",
       "3209  smart                 50                  15360               500   \n",
       "3210  smart                 50                  15360               500   \n",
       "3211  smart                 50                  15360               500   \n",
       "3212  smart                 50                  15360               500   \n",
       "3213  smart                 50                  15360               500   \n",
       "\n",
       "      rub_monthly_fee  rub_per_gb  rub_per_message  rub_per_minute  \\\n",
       "0                1950         150                1               1   \n",
       "1                1950         150                1               1   \n",
       "2                1950         150                1               1   \n",
       "3                1950         150                1               1   \n",
       "4                1950         150                1               1   \n",
       "...               ...         ...              ...             ...   \n",
       "3209              550         200                3               3   \n",
       "3210              550         200                3               3   \n",
       "3211              550         200                3               3   \n",
       "3212              550         200                3               3   \n",
       "3213              550         200                3               3   \n",
       "\n",
       "      gb_per_month_included      month  calls_spent  minutes_spent  \\\n",
       "0                      30.0 2018-05-01         22.0          159.0   \n",
       "1                      30.0 2018-06-01         43.0          172.0   \n",
       "2                      30.0 2018-07-01         47.0          340.0   \n",
       "3                      30.0 2018-08-01         52.0          408.0   \n",
       "4                      30.0 2018-09-01         58.0          466.0   \n",
       "...                     ...        ...          ...            ...   \n",
       "3209                   15.0 2018-10-01         41.0          247.0   \n",
       "3210                   15.0 2018-09-01          9.0           70.0   \n",
       "3211                   15.0 2018-10-01         68.0          449.0   \n",
       "3212                   15.0 2018-11-01         74.0          612.0   \n",
       "3213                   15.0 2018-12-01         69.0          492.0   \n",
       "\n",
       "      messages_spent  gb_spent  minutes  messages    gb  minutes_over_limit  \\\n",
       "0               22.0       3.0  -2841.0    -978.0 -27.0                 0.0   \n",
       "1               60.0      23.0  -2828.0    -940.0  -7.0                 0.0   \n",
       "2               75.0      14.0  -2660.0    -925.0 -16.0                 0.0   \n",
       "3               81.0      14.0  -2592.0    -919.0 -16.0                 0.0   \n",
       "4               57.0      15.0  -2534.0    -943.0 -15.0                 0.0   \n",
       "...              ...       ...      ...       ...   ...                 ...   \n",
       "3209            42.0      21.0   -253.0      -8.0   6.0                 0.0   \n",
       "3210            11.0       2.0   -430.0     -39.0 -13.0                 0.0   \n",
       "3211            48.0      18.0    -51.0      -2.0   3.0                 0.0   \n",
       "3212            59.0      18.0    112.0       9.0   3.0               112.0   \n",
       "3213            66.0      13.0     -8.0      16.0  -2.0                 0.0   \n",
       "\n",
       "      messages_over_limit  gb_over_limit  minutes_payment  messages_payment  \\\n",
       "0                     0.0            0.0              0.0               0.0   \n",
       "1                     0.0            0.0              0.0               0.0   \n",
       "2                     0.0            0.0              0.0               0.0   \n",
       "3                     0.0            0.0              0.0               0.0   \n",
       "4                     0.0            0.0              0.0               0.0   \n",
       "...                   ...            ...              ...               ...   \n",
       "3209                  0.0            6.0              0.0               0.0   \n",
       "3210                  0.0            0.0              0.0               0.0   \n",
       "3211                  0.0            3.0              0.0               0.0   \n",
       "3212                  9.0            3.0            336.0              27.0   \n",
       "3213                 16.0            0.0              0.0              48.0   \n",
       "\n",
       "      gb_payment  revenue  \n",
       "0            0.0   1950.0  \n",
       "1            0.0   1950.0  \n",
       "2            0.0   1950.0  \n",
       "3            0.0   1950.0  \n",
       "4            0.0   1950.0  \n",
       "...          ...      ...  \n",
       "3209      1200.0   1750.0  \n",
       "3210         0.0    550.0  \n",
       "3211       600.0   1150.0  \n",
       "3212       600.0   1513.0  \n",
       "3213         0.0    598.0  \n",
       "\n",
       "[3214 rows x 31 columns]"
      ]
     },
     "execution_count": 37,
     "metadata": {},
     "output_type": "execute_result"
    }
   ],
   "source": [
    "df['revenue'] = df['rub_monthly_fee'] + df['minutes_payment'] + df['messages_payment'] + df['gb_payment']\n",
    "df"
   ]
  },
  {
   "cell_type": "markdown",
   "id": "cd9d7462",
   "metadata": {},
   "source": [
    "### Вывод"
   ]
  },
  {
   "cell_type": "markdown",
   "id": "ca22fc95",
   "metadata": {},
   "source": [
    "В процессе подготовки:\n",
    "- данные были приведены к нужным типам\n",
    "- был убран лишний столбец из таблицы internet\n",
    "\n",
    "По каждому пользователю были проведены следующие расчёты:\n",
    "- количество сделанных звонков и израсходованных минут разговора по месяцам;\n",
    "- количество отправленных сообщений по месяцам;\n",
    "- объем израсходованного интернет-трафика по месяцам;\n",
    "- помесячная выручка с каждого пользователя."
   ]
  },
  {
   "cell_type": "markdown",
   "id": "1625f982",
   "metadata": {},
   "source": [
    "## Анализ поведения клиентов"
   ]
  },
  {
   "cell_type": "markdown",
   "id": "90ee2bff",
   "metadata": {},
   "source": [
    "Разделим данные по двум тарифам:"
   ]
  },
  {
   "cell_type": "code",
   "execution_count": 38,
   "id": "3c00b622",
   "metadata": {},
   "outputs": [],
   "source": [
    "df_smart = df.query('tariff == \"smart\"')\n",
    "df_ultra = df.query('tariff == \"ultra\"')"
   ]
  },
  {
   "cell_type": "markdown",
   "id": "33e80464",
   "metadata": {},
   "source": [
    "### Среднее"
   ]
  },
  {
   "cell_type": "markdown",
   "id": "5089b714",
   "metadata": {},
   "source": [
    "Рассчитаем средние значения для каждого тарифа:"
   ]
  },
  {
   "cell_type": "code",
   "execution_count": 39,
   "id": "5b04a4ce",
   "metadata": {},
   "outputs": [
    {
     "name": "stdout",
     "output_type": "stream",
     "text": [
      "Пользователям тарифа \"Смарт\" в среднем в месяц требуется: 419 минут\n",
      "Пользователям тарифа \"Смарт\" в среднем в месяц требуется: 39 сообщений\n",
      "Пользователям тарифа \"Смарт\" в среднем в месяц требуется: 16 гигабайт\n"
     ]
    }
   ],
   "source": [
    "minutes_mean = df_smart['minutes_spent'].mean()\n",
    "messages_mean = df_smart['messages_spent'].mean()\n",
    "gb_mean = df_smart['gb_spent'].mean()\n",
    "\n",
    "print(f'Пользователям тарифа \"Смарт\" в среднем в месяц требуется: {round(minutes_mean)} минут')\n",
    "print(f'Пользователям тарифа \"Смарт\" в среднем в месяц требуется: {round(messages_mean)} сообщений')\n",
    "print(f'Пользователям тарифа \"Смарт\" в среднем в месяц требуется: {round(gb_mean)} гигабайт')"
   ]
  },
  {
   "cell_type": "code",
   "execution_count": 40,
   "id": "cd320488",
   "metadata": {
    "scrolled": true
   },
   "outputs": [
    {
     "name": "stdout",
     "output_type": "stream",
     "text": [
      "Пользователям тарифа \"Ультра\" в среднем в месяц требуется: 545 минут\n",
      "Пользователям тарифа \"Ультра\" в среднем в месяц требуется: 61 сообщение\n",
      "Пользователям тарифа \"Ультра\" в среднем в месяц требуется: 20 гигабайт\n"
     ]
    }
   ],
   "source": [
    "minutes_mean = df_ultra['minutes_spent'].mean()\n",
    "messages_mean = df_ultra['messages_spent'].mean()\n",
    "gb_mean = df_ultra['gb_spent'].mean()\n",
    "\n",
    "print(f'Пользователям тарифа \"Ультра\" в среднем в месяц требуется: {round(minutes_mean)} минут')\n",
    "print(f'Пользователям тарифа \"Ультра\" в среднем в месяц требуется: {round(messages_mean)} сообщение')\n",
    "print(f'Пользователям тарифа \"Ультра\" в среднем в месяц требуется: {round(gb_mean)} гигабайт')"
   ]
  },
  {
   "cell_type": "markdown",
   "id": "fd70a589",
   "metadata": {},
   "source": [
    "### Дисперсия"
   ]
  },
  {
   "cell_type": "markdown",
   "id": "17cfb85b",
   "metadata": {},
   "source": [
    "Рассчитаем дисперсию (помня, что мы имеем дело с выборкой, а не с генеральной совокупностью):"
   ]
  },
  {
   "cell_type": "code",
   "execution_count": 41,
   "id": "c6a69a7f",
   "metadata": {},
   "outputs": [
    {
     "name": "stdout",
     "output_type": "stream",
     "text": [
      "Тариф \"Смарт\", минуты - дисперсия равна: 35844\n",
      "Тариф \"Смарт\", сообщения - дисперсия равна: 718\n",
      "Тариф \"Смарт\", гигабайты - дисперсия равна: 33\n"
     ]
    }
   ],
   "source": [
    "variance_estimate_minutes = np.var(df_smart['minutes_spent'], ddof=1)\n",
    "variance_estimate_messages = np.var(df_smart['messages_spent'], ddof=1)\n",
    "variance_estimate_gb = np.var(df_smart['gb_spent'], ddof=1)\n",
    "\n",
    "print(f'Тариф \"Смарт\", минуты - дисперсия равна: {round(variance_estimate_minutes)}')\n",
    "print(f'Тариф \"Смарт\", сообщения - дисперсия равна: {round(variance_estimate_messages)}')\n",
    "print(f'Тариф \"Смарт\", гигабайты - дисперсия равна: {round(variance_estimate_gb)}')"
   ]
  },
  {
   "cell_type": "code",
   "execution_count": 42,
   "id": "73ab37be",
   "metadata": {},
   "outputs": [
    {
     "name": "stdout",
     "output_type": "stream",
     "text": [
      "Тариф \"Ультра\", минуты - дисперсия равна: 94203\n",
      "Тариф \"Ультра\", сообщения - дисперсия равна: 2110\n",
      "Тариф \"Ультра\", гигабайты - дисперсия равна: 94\n"
     ]
    }
   ],
   "source": [
    "variance_estimate_minutes = np.var(df_ultra['minutes_spent'], ddof=1)\n",
    "variance_estimate_messages = np.var(df_ultra['messages_spent'], ddof=1)\n",
    "variance_estimate_gb = np.var(df_ultra['gb_spent'], ddof=1)\n",
    "\n",
    "print(f'Тариф \"Ультра\", минуты - дисперсия равна: {round(variance_estimate_minutes)}')\n",
    "print(f'Тариф \"Ультра\", сообщения - дисперсия равна: {round(variance_estimate_messages)}')\n",
    "print(f'Тариф \"Ультра\", гигабайты - дисперсия равна: {round(variance_estimate_gb)}')"
   ]
  },
  {
   "cell_type": "markdown",
   "id": "5b697f24",
   "metadata": {},
   "source": [
    "### Стандартное отклонение"
   ]
  },
  {
   "cell_type": "code",
   "execution_count": 43,
   "id": "f8298f06",
   "metadata": {},
   "outputs": [
    {
     "name": "stdout",
     "output_type": "stream",
     "text": [
      "Тариф \"Смарт\", минуты - стандартное отклонение равно: 189\n",
      "Тариф \"Смарт\", сообщения - стандартное отклонение равно: 27\n",
      "Тариф \"Смарт\", гигабайты - стандартное отклонение равно: 6\n"
     ]
    }
   ],
   "source": [
    "standart_deviation_minutes = np.std(df_smart['minutes_spent'], ddof=1)\n",
    "standart_deviation_messages = np.std(df_smart['messages_spent'], ddof=1)\n",
    "standart_deviation_gb = np.std(df_smart['gb_spent'], ddof=1)\n",
    "\n",
    "print(f'Тариф \"Смарт\", минуты - стандартное отклонение равно: {round(standart_deviation_minutes)}')\n",
    "print(f'Тариф \"Смарт\", сообщения - стандартное отклонение равно: {round(standart_deviation_messages)}')\n",
    "print(f'Тариф \"Смарт\", гигабайты - стандартное отклонение равно: {round(standart_deviation_gb)}')"
   ]
  },
  {
   "cell_type": "code",
   "execution_count": 44,
   "id": "6294495e",
   "metadata": {
    "scrolled": true
   },
   "outputs": [
    {
     "name": "stdout",
     "output_type": "stream",
     "text": [
      "Тариф \"Ультра\", минуты - стандартное отклонение равно: 307\n",
      "Тариф \"Ультра\", сообщения - стандартное отклонение равно: 46\n",
      "Тариф \"Ультра\", гигабайты - стандартное отклонение равно: 10\n"
     ]
    }
   ],
   "source": [
    "standart_deviation_minutes = np.std(df_ultra['minutes_spent'], ddof=1)\n",
    "standart_deviation_messages = np.std(df_ultra['messages_spent'], ddof=1)\n",
    "standart_deviation_gb = np.std(df_ultra['gb_spent'], ddof=1)\n",
    "\n",
    "print(f'Тариф \"Ультра\", минуты - стандартное отклонение равно: {round(standart_deviation_minutes)}')\n",
    "print(f'Тариф \"Ультра\", сообщения - стандартное отклонение равно: {round(standart_deviation_messages)}')\n",
    "print(f'Тариф \"Ультра\", гигабайты - стандартное отклонение равно: {round(standart_deviation_gb)}')"
   ]
  },
  {
   "cell_type": "markdown",
   "id": "6af455da",
   "metadata": {},
   "source": [
    "### Сводная таблица"
   ]
  },
  {
   "cell_type": "markdown",
   "id": "905f6688",
   "metadata": {},
   "source": [
    "Можно все данные по двум тарифам собрать сразу в одну таблицу:"
   ]
  },
  {
   "cell_type": "code",
   "execution_count": 45,
   "id": "66042a4d",
   "metadata": {},
   "outputs": [
    {
     "data": {
      "text/html": [
       "<div>\n",
       "<style scoped>\n",
       "    .dataframe tbody tr th:only-of-type {\n",
       "        vertical-align: middle;\n",
       "    }\n",
       "\n",
       "    .dataframe tbody tr th {\n",
       "        vertical-align: top;\n",
       "    }\n",
       "\n",
       "    .dataframe thead tr th {\n",
       "        text-align: left;\n",
       "    }\n",
       "\n",
       "    .dataframe thead tr:last-of-type th {\n",
       "        text-align: right;\n",
       "    }\n",
       "</style>\n",
       "<table border=\"1\" class=\"dataframe\">\n",
       "  <thead>\n",
       "    <tr>\n",
       "      <th></th>\n",
       "      <th colspan=\"3\" halign=\"left\">mean</th>\n",
       "      <th colspan=\"3\" halign=\"left\">median</th>\n",
       "      <th colspan=\"3\" halign=\"left\">var</th>\n",
       "      <th colspan=\"3\" halign=\"left\">std</th>\n",
       "    </tr>\n",
       "    <tr>\n",
       "      <th></th>\n",
       "      <th>gb_spent</th>\n",
       "      <th>messages_spent</th>\n",
       "      <th>minutes_spent</th>\n",
       "      <th>gb_spent</th>\n",
       "      <th>messages_spent</th>\n",
       "      <th>minutes_spent</th>\n",
       "      <th>gb_spent</th>\n",
       "      <th>messages_spent</th>\n",
       "      <th>minutes_spent</th>\n",
       "      <th>gb_spent</th>\n",
       "      <th>messages_spent</th>\n",
       "      <th>minutes_spent</th>\n",
       "    </tr>\n",
       "    <tr>\n",
       "      <th>tariff</th>\n",
       "      <th></th>\n",
       "      <th></th>\n",
       "      <th></th>\n",
       "      <th></th>\n",
       "      <th></th>\n",
       "      <th></th>\n",
       "      <th></th>\n",
       "      <th></th>\n",
       "      <th></th>\n",
       "      <th></th>\n",
       "      <th></th>\n",
       "      <th></th>\n",
       "    </tr>\n",
       "  </thead>\n",
       "  <tbody>\n",
       "    <tr>\n",
       "      <th>smart</th>\n",
       "      <td>16.0</td>\n",
       "      <td>39.0</td>\n",
       "      <td>419.0</td>\n",
       "      <td>17.0</td>\n",
       "      <td>34.0</td>\n",
       "      <td>423.0</td>\n",
       "      <td>33.0</td>\n",
       "      <td>718.0</td>\n",
       "      <td>35844.0</td>\n",
       "      <td>6.0</td>\n",
       "      <td>27.0</td>\n",
       "      <td>189.0</td>\n",
       "    </tr>\n",
       "    <tr>\n",
       "      <th>ultra</th>\n",
       "      <td>20.0</td>\n",
       "      <td>61.0</td>\n",
       "      <td>545.0</td>\n",
       "      <td>19.0</td>\n",
       "      <td>51.0</td>\n",
       "      <td>528.0</td>\n",
       "      <td>94.0</td>\n",
       "      <td>2110.0</td>\n",
       "      <td>94203.0</td>\n",
       "      <td>10.0</td>\n",
       "      <td>46.0</td>\n",
       "      <td>307.0</td>\n",
       "    </tr>\n",
       "  </tbody>\n",
       "</table>\n",
       "</div>"
      ],
      "text/plain": [
       "           mean                                median                 \\\n",
       "       gb_spent messages_spent minutes_spent gb_spent messages_spent   \n",
       "tariff                                                                 \n",
       "smart      16.0           39.0         419.0     17.0           34.0   \n",
       "ultra      20.0           61.0         545.0     19.0           51.0   \n",
       "\n",
       "                          var                                   std  \\\n",
       "       minutes_spent gb_spent messages_spent minutes_spent gb_spent   \n",
       "tariff                                                                \n",
       "smart          423.0     33.0          718.0       35844.0      6.0   \n",
       "ultra          528.0     94.0         2110.0       94203.0     10.0   \n",
       "\n",
       "                                     \n",
       "       messages_spent minutes_spent  \n",
       "tariff                               \n",
       "smart            27.0         189.0  \n",
       "ultra            46.0         307.0  "
      ]
     },
     "execution_count": 45,
     "metadata": {},
     "output_type": "execute_result"
    }
   ],
   "source": [
    "tariff_table = np.round((df.pivot_table(index='tariff', values=['minutes_spent', 'messages_spent', 'gb_spent'], \n",
    "                               aggfunc=['mean', 'median', 'var', 'std'])))\n",
    "tariff_table"
   ]
  },
  {
   "cell_type": "markdown",
   "id": "2778035d",
   "metadata": {},
   "source": [
    "### Гистограммы"
   ]
  },
  {
   "cell_type": "markdown",
   "id": "2e37ba58",
   "metadata": {},
   "source": [
    "Можем визуализировать данные двумя способами: \n",
    "1. сравнение фактически используемых услуг в обоих тарифах (т.е. сравнение их между собой)\n",
    "2. сравнение фактически используемых услуг и услуг, включённых в тариф (т.е. сравнение внутри каждого тарифа)"
   ]
  },
  {
   "cell_type": "code",
   "execution_count": 64,
   "id": "4e2a4b28",
   "metadata": {},
   "outputs": [
    {
     "data": {
      "image/png": "[encoded data removed]",
      "text/plain": [
       "<Figure size 1440x1008 with 6 Axes>"
      ]
     },
     "metadata": {},
     "output_type": "display_data"
    }
   ],
   "source": [
    "plt.figure(figsize=(20, 15))\n",
    "sns.set(font_scale=1.5)\n",
    "plt.style.use('seaborn-whitegrid')\n",
    "plt.suptitle('Сравнение распределения значений используемых услуг \\n в тарифах \"Смарт\" и \"Ультра\"', fontweight='bold')\n",
    "\n",
    "\n",
    "ax1 = plt.subplot(3, 2, 1)\n",
    "sns.histplot(data=df, x='minutes_spent', kde=True, hue='tariff')\n",
    "plt.title('Количество использованных минут в обоих тарифах', fontweight='bold')\n",
    "plt.xlabel('количество минут')\n",
    "plt.ylabel('количество случаев')\n",
    "\n",
    "ax2 = plt.subplot(3, 2, 2)\n",
    "sns.boxplot(data=df, x='minutes_spent', y='tariff')\n",
    "plt.title('Количество использованных минут в обоих тарифах', fontweight='bold')\n",
    "plt.xlabel('количество минут')\n",
    "plt.ylabel('')\n",
    "\n",
    "ax3 = plt.subplot(3, 2, 3)\n",
    "sns.histplot(data=df, x='messages_spent', kde=True, hue='tariff')\n",
    "plt.title('Количество использованных сообщений в обоих тарифах', fontweight='bold')\n",
    "plt.xlabel('количество сообщений')\n",
    "plt.ylabel('количество случаев')\n",
    "\n",
    "ax4 = plt.subplot(3, 2, 4)\n",
    "sns.boxplot(data=df, x='messages_spent', y='tariff')\n",
    "plt.title('Количество использованных сообщений в обоих тарифах', fontweight='bold')\n",
    "plt.xlabel('количество сообщений')\n",
    "plt.ylabel('')\n",
    "\n",
    "ax5 = plt.subplot(3, 2, 5)\n",
    "sns.histplot(data=df, x='gb_spent', kde=True, hue='tariff')\n",
    "plt.title('Количество использованных гигабайт в обоих тарифах', fontweight='bold')\n",
    "plt.xlabel('количество гигабайт')\n",
    "plt.ylabel('количество случаев')\n",
    "\n",
    "ax6 = plt.subplot(3, 2, 6)\n",
    "sns.boxplot(data=df, x='gb_spent', y='tariff')\n",
    "plt.title('Количество использованных гигабайт в обоих тарифах', fontweight='bold')\n",
    "plt.xlabel('количество гигабайт')\n",
    "plt.ylabel('')\n",
    "\n",
    "plt.tight_layout()\n",
    "plt.show();"
   ]
  },
  {
   "cell_type": "code",
   "execution_count": 62,
   "id": "c76da7b8",
   "metadata": {
    "scrolled": false
   },
   "outputs": [
    {
     "data": {
      "image/png": "[encoded data removed]",
      "text/plain": [
       "<Figure size 1440x1080 with 6 Axes>"
      ]
     },
     "metadata": {},
     "output_type": "display_data"
    }
   ],
   "source": [
    "plt.figure(figsize=(20, 15))\n",
    "sns.set(font_scale=1.5)\n",
    "plt.style.use('seaborn-whitegrid')\n",
    "plt.suptitle('Сравнение распределения значений используемых услуг \\n в тарифах \"Смарт\" и \"Ультра\"', fontweight='bold')\n",
    "\n",
    "# первый график\n",
    "ax1 = plt.subplot(3, 2, 1)\n",
    "sns.histplot(data=df_smart, x='minutes_spent', kde=True)\n",
    "plt.axvline(x=df_smart['minutes_spent'].mean(), color='black', linestyle='--', label='среднее')\n",
    "plt.axvline(x=df_smart['minutes_included'].mean(), color='black', linestyle='-', label='включено в тариф')\n",
    "plt.legend()\n",
    "plt.title('\"Смарт\": минуты', fontweight='bold')\n",
    "plt.xlabel('количество минут')\n",
    "plt.ylabel('количество случаев')\n",
    "\n",
    "# второй график \n",
    "ax2 = plt.subplot(3, 2, 2, sharey=ax1)\n",
    "sns.histplot(data=df_ultra, x='minutes_spent', kde=True)\n",
    "plt.axvline(x=df_ultra['minutes_spent'].mean(), color='black', linestyle='--', label='среднее')\n",
    "plt.axvline(x=df_ultra['minutes_included'].mean(), color='black', linestyle='-', label='включено в тариф')\n",
    "plt.legend()\n",
    "plt.title('\"Ультра\": минуты', fontweight='bold')\n",
    "plt.xlabel('количество минут')\n",
    "plt.ylabel('')\n",
    "\n",
    "# третий график \n",
    "ax3 = plt.subplot(3, 2, 3)\n",
    "sns.histplot(data=df_smart, x='messages_spent', kde=True)\n",
    "plt.axvline(x=df_smart['messages_spent'].mean(), color='black', linestyle='--', label='среднее')\n",
    "plt.axvline(x=df_smart['messages_included'].mean(), color='black', linestyle='-', label='включено в тариф')\n",
    "plt.legend()\n",
    "plt.title('\"Смарт\": сообщения', fontweight='bold')\n",
    "plt.xlabel('количество сообщений')\n",
    "plt.ylabel('количество случаев')\n",
    "\n",
    "# четвёртый график \n",
    "ax4 = plt.subplot(3, 2, 4, sharey=ax3)\n",
    "sns.histplot(data=df_ultra, x='messages_spent', kde=True)\n",
    "plt.axvline(x=df_ultra['messages_spent'].mean(), color='black', linestyle='--', label='среднее')\n",
    "plt.axvline(x=df_ultra['messages_included'].mean(), color='black', linestyle='-', label='включено в тариф')\n",
    "plt.legend(loc='upper center')\n",
    "plt.title('\"Ультра\": сообщения', fontweight='bold')\n",
    "plt.xlabel('количество сообщений')\n",
    "plt.ylabel('')\n",
    "\n",
    "# пятый график \n",
    "ax5 = plt.subplot(3, 2, 5)\n",
    "sns.histplot(data=df_smart, x='gb_spent', kde=True)\n",
    "plt.axvline(x=df_smart['gb_spent'].mean(), color='black', linestyle='--', label='среднее')\n",
    "plt.axvline(x=df_smart['gb_per_month_included'].mean(), color='black', linestyle='-', label='включено в тариф')\n",
    "plt.legend()\n",
    "plt.title('\"Смарт\": гигабайты', fontweight='bold')\n",
    "plt.xlabel('количество гигабайт')\n",
    "plt.ylabel('количество случаев')\n",
    "\n",
    "# шестой график \n",
    "ax6 = plt.subplot(3, 2, 6, sharey=ax5)\n",
    "sns.histplot(data=df_ultra, x='gb_spent', kde=True)\n",
    "plt.axvline(x=df_ultra['gb_spent'].mean(), color='black', linestyle='--', label='среднее')\n",
    "plt.axvline(x=df_ultra['gb_per_month_included'].mean(), color='black', linestyle='-', label='включено в тариф')\n",
    "plt.legend()\n",
    "plt.title('\"Ультра\": гигабайты', fontweight='bold')\n",
    "plt.xlabel('количество гигабайт')\n",
    "plt.ylabel('')\n",
    "\n",
    "plt.tight_layout()\n",
    "plt.show();"
   ]
  },
  {
   "cell_type": "markdown",
   "id": "7df4f049",
   "metadata": {},
   "source": [
    "### Вывод"
   ]
  },
  {
   "cell_type": "markdown",
   "id": "4aaebc27",
   "metadata": {},
   "source": [
    "**Звонки:**\n",
    "- пользователи тарифа \"Смарт\" в среднем используют 419 минут в месяц, в то время как в тариф включено 500 минут. Многие пользователи используют дополнительные минуты разговора, сверх тарифа, вплоть до 1000 минут в месяц\n",
    "- пользователи тарифа \"Ультра\" разговаривают больше: в среднем они используют 545 минут разговоров в месяц, но это всё равно очень далеко от количества минут, включённых в тариф. Никто не использует 3000 минут, максимум - около 1500 минут в месяц\n",
    "\n",
    "**Сообщения:**\n",
    "- пользователи тарифа \"Смарт\" в среднем отправляют 39 сообщений в месяц, в то время как в тариф включено 50 сообщений. Многие пользователи отправляют больше сообщений, чем включено в тариф, вплоть до 140 в месяц\n",
    "- пользователи тарифа \"Ультра\" активнее пользуются и этой услугой: в среднем они отправляют 61 сообщение в месяц, но это значение опять находится очень далеко от количества сообщений, включённых в тариф. Никто не использует 1000 сообщений за месяц, максимум - чуть больше 200\n",
    "\n",
    "**Гигабайты:**\n",
    "- пользователи тарифа \"Смарт\" в среднем используют 16 Гб в месяц, хотя в этот тариф включено только 15Гб. Многие пользователи расходуют даже вдвое большее количество интернет-трафика, чем включено в их тариф\n",
    "- пользователи тарифа \"Ультра\" активнее пользуются и этой услугой: в среднем они используют 20 Гб в месяц. В тариф включено 30 Гб, но многие пользователи расходуют ещё больше трафика, вплоть до 42 Гб.\n"
   ]
  },
  {
   "cell_type": "markdown",
   "id": "79c9b611",
   "metadata": {},
   "source": [
    "## Проверка гипотез"
   ]
  },
  {
   "cell_type": "markdown",
   "id": "3677c057",
   "metadata": {},
   "source": [
    "**1. Сравним выручки от пользователей тарифов \"Ультра\" и \"Смарт\".** \n",
    "\n",
    "***Нулевая гипотеза:***\n",
    "- средняя выручка тарифа \"Смарт\" равна средней выручке тарифа \"Ультра\"\n",
    "\n",
    "***Альтернативная гипотеза:***\n",
    "- средние выручки двух тарифов не равны\n",
    "\n",
    "Получилась двусторонняя альтернативная гипотеза.\n",
    "\n",
    "**2. Сравним выручки пользователей из Москвы и из других регионов.** \n",
    "\n",
    "***Нулевая гипотеза:***\n",
    "- средняя выручка пользователей из Москвы равна средней выручке пользователей из других регионов\n",
    "\n",
    "***Альтерантивная гипотеза:***\n",
    "- средние выручки не равны\n"
   ]
  },
  {
   "cell_type": "markdown",
   "id": "e6a39cb4",
   "metadata": {},
   "source": [
    "### Сравнение средних выручек двух тарифов"
   ]
  },
  {
   "cell_type": "markdown",
   "id": "1aadce43",
   "metadata": {},
   "source": [
    "Посмотрим, какого размера выборки для двух тарифов:"
   ]
  },
  {
   "cell_type": "code",
   "execution_count": 48,
   "id": "a0e98ee6",
   "metadata": {},
   "outputs": [
    {
     "data": {
      "text/plain": [
       "2229"
      ]
     },
     "execution_count": 48,
     "metadata": {},
     "output_type": "execute_result"
    }
   ],
   "source": [
    "len(df_smart)"
   ]
  },
  {
   "cell_type": "code",
   "execution_count": 49,
   "id": "ca199d1b",
   "metadata": {},
   "outputs": [
    {
     "data": {
      "text/plain": [
       "985"
      ]
     },
     "execution_count": 49,
     "metadata": {},
     "output_type": "execute_result"
    }
   ],
   "source": [
    "len(df_ultra)"
   ]
  },
  {
   "cell_type": "markdown",
   "id": "d4df9042",
   "metadata": {},
   "source": [
    "Поскольку мы работаем с гипотезами о равенстве средних двух генеральных совокупностей, спользуем метод scipy.stats.ttest_ind, куда в качестве аргументов передадим массивы, содержащие выборки для двух тарифов. Поскольку у нас выборки разного размера, укажем параметр equal_var=False."
   ]
  },
  {
   "cell_type": "code",
   "execution_count": 50,
   "id": "9b32efce",
   "metadata": {
    "scrolled": true
   },
   "outputs": [
    {
     "name": "stdout",
     "output_type": "stream",
     "text": [
      "p-значение: 4.2606313931076085e-250\n",
      "Отвергаем нулевую гипотезу\n"
     ]
    }
   ],
   "source": [
    "alpha = 0.05\n",
    "\n",
    "results = st.ttest_ind(df_smart['revenue'], df_ultra['revenue'], equal_var=False)\n",
    "\n",
    "print('p-значение:', results.pvalue)\n",
    "\n",
    "if results.pvalue < alpha:\n",
    "    print('Отвергаем нулевую гипотезу')\n",
    "else:\n",
    "    print('Не получилось отвергнуть нулевую гипотезу')"
   ]
  },
  {
   "cell_type": "markdown",
   "id": "a19f8546",
   "metadata": {},
   "source": [
    "### Вывод"
   ]
  },
  {
   "cell_type": "markdown",
   "id": "a8cc7b01",
   "metadata": {},
   "source": [
    "- вероятность получить такой результат маленькая, нулевая гипотеза отвергнута: вероятнее всего средние выручки двух тарифов не равны"
   ]
  },
  {
   "cell_type": "markdown",
   "id": "2674018d",
   "metadata": {},
   "source": [
    "### Сравнение средних выручек пользователей из Москвы и из регионов"
   ]
  },
  {
   "cell_type": "markdown",
   "id": "22504e8e",
   "metadata": {},
   "source": [
    "Выделим отдельно выборку с пользователями из Москвы и из регионов:"
   ]
  },
  {
   "cell_type": "code",
   "execution_count": 51,
   "id": "895a608b",
   "metadata": {},
   "outputs": [],
   "source": [
    "df_moscow = df.query('city == \"Москва\"')\n",
    "df_regions = df.query('city != \"Москва\"')"
   ]
  },
  {
   "cell_type": "markdown",
   "id": "acfbe859",
   "metadata": {},
   "source": [
    "Посмотрим на размер этих выборок:"
   ]
  },
  {
   "cell_type": "code",
   "execution_count": 52,
   "id": "27a986e5",
   "metadata": {},
   "outputs": [
    {
     "data": {
      "text/plain": [
       "611"
      ]
     },
     "execution_count": 52,
     "metadata": {},
     "output_type": "execute_result"
    }
   ],
   "source": [
    "len(df_moscow)"
   ]
  },
  {
   "cell_type": "code",
   "execution_count": 53,
   "id": "44240bc0",
   "metadata": {},
   "outputs": [
    {
     "data": {
      "text/plain": [
       "2603"
      ]
     },
     "execution_count": 53,
     "metadata": {},
     "output_type": "execute_result"
    }
   ],
   "source": [
    "len(df_regions)"
   ]
  },
  {
   "cell_type": "code",
   "execution_count": 54,
   "id": "101fc3a4",
   "metadata": {
    "scrolled": true
   },
   "outputs": [
    {
     "name": "stdout",
     "output_type": "stream",
     "text": [
      "p-значение: 0.5257376663729298\n",
      "Не получилось отвергнуть нулевую гипотезу\n"
     ]
    }
   ],
   "source": [
    "alpha = 0.05\n",
    "\n",
    "results = st.ttest_ind(df_moscow['revenue'], df_regions['revenue'], equal_var=False)\n",
    "\n",
    "print('p-значение:', results.pvalue)\n",
    "\n",
    "if results.pvalue < alpha:\n",
    "    print('Отвергаем нулевую гипотезу')\n",
    "else:\n",
    "    print('Не получилось отвергнуть нулевую гипотезу')"
   ]
  },
  {
   "cell_type": "markdown",
   "id": "676405cb",
   "metadata": {},
   "source": [
    "### Вывод"
   ]
  },
  {
   "cell_type": "markdown",
   "id": "a272a522",
   "metadata": {},
   "source": [
    "- Значение p-value показывает: вероятность случайно получить такое или большее различие равно почти 53%. Это слишком большая вероятность, чтобы делать вывод о значимом различии между средними выручками пользователей из Москвы и из регионов."
   ]
  },
  {
   "cell_type": "markdown",
   "id": "7302d19f",
   "metadata": {},
   "source": [
    "### Дополнение: графики сравнения выручек"
   ]
  },
  {
   "cell_type": "markdown",
   "id": "9eec7226",
   "metadata": {},
   "source": [
    "Дополнительно визуализируем, как выглядит сравнение выручек на имеющихся выборках:"
   ]
  },
  {
   "cell_type": "code",
   "execution_count": 55,
   "id": "42830f99",
   "metadata": {
    "scrolled": false
   },
   "outputs": [
    {
     "data": {
      "image/png": "[encoded data removed]",
      "text/plain": [
       "<Figure size 1440x720 with 2 Axes>"
      ]
     },
     "metadata": {},
     "output_type": "display_data"
    }
   ],
   "source": [
    "plt.figure(figsize=(20, 10))\n",
    "sns.set(font_scale=1.5)\n",
    "plt.style.use('seaborn-whitegrid')\n",
    "plt.suptitle('Сравнение выручек \\n в тарифах \"Смарт\" и \"Ультра\"', fontweight='bold')\n",
    "\n",
    "ax1 = plt.subplot(2, 1, 1)\n",
    "sns.boxplot(x=df_smart['revenue'])\n",
    "plt.title('Выручка - тариф \"Смарт\"', fontweight='bold')\n",
    "plt.xlabel('выручка за месяц, руб.')\n",
    "\n",
    "ax2 = plt.subplot(2, 1, 2, sharex=ax1)\n",
    "sns.boxplot(x=df_ultra['revenue'])\n",
    "plt.title('Выручка - тариф \"Ультра\"', fontweight='bold')\n",
    "plt.xlabel('выручка за месяц, руб.')\n",
    "\n",
    "plt.tight_layout()\n",
    "plt.show();"
   ]
  },
  {
   "cell_type": "code",
   "execution_count": 56,
   "id": "0d450dd5",
   "metadata": {
    "scrolled": false
   },
   "outputs": [
    {
     "data": {
      "image/png": "[encoded data removed]",
      "text/plain": [
       "<Figure size 1440x720 with 2 Axes>"
      ]
     },
     "metadata": {},
     "output_type": "display_data"
    }
   ],
   "source": [
    "plt.figure(figsize=(20, 10))\n",
    "sns.set(font_scale=1.5)\n",
    "plt.style.use('seaborn-whitegrid')\n",
    "plt.suptitle('Сравнение выручек \\n от пользователей из Москвы и из регионов', fontweight='bold')\n",
    "\n",
    "ax1 = plt.subplot(2, 1, 1)\n",
    "sns.boxplot(x=df_moscow['revenue'])\n",
    "plt.title('Выручка - пользователи из Москвы', fontweight='bold')\n",
    "plt.xlabel('выручка за месяц, руб.')\n",
    "\n",
    "ax2 = plt.subplot(2, 1, 2, sharex=ax1)\n",
    "sns.boxplot(x=df_regions['revenue'])\n",
    "plt.title('Выручка - пользователи из регионов', fontweight='bold')\n",
    "plt.xlabel('выручка за месяц, руб.')\n",
    "\n",
    "plt.tight_layout()\n",
    "plt.show();"
   ]
  },
  {
   "cell_type": "markdown",
   "id": "98342e8f",
   "metadata": {},
   "source": [
    "### На какой тариф направить рекламный бюджет?"
   ]
  },
  {
   "cell_type": "markdown",
   "id": "14f689d7",
   "metadata": {},
   "source": [
    "По результатам t-теста на выборке мы знаем, что вероятнее всего средние выручки двух тарифов не равны.\n",
    "\n",
    "Благодаря графикам сравнения мы видим, что медианы выручек находятся в разных местах: \n",
    "- у тарифа \"Смарт\" медиана около 1000,\n",
    "- а у тарифа \"Ультра\" около 2000.\n",
    "\n",
    "Теперь посмотрим, где находятся средние значения выручек тарифов. График поможет принять решение и сделает вывод наглядным:"
   ]
  },
  {
   "cell_type": "code",
   "execution_count": 57,
   "id": "1633d81b",
   "metadata": {
    "scrolled": false
   },
   "outputs": [
    {
     "data": {
      "image/png": "[encoded data removed]",
      "text/plain": [
       "<Figure size 1440x864 with 3 Axes>"
      ]
     },
     "metadata": {},
     "output_type": "display_data"
    }
   ],
   "source": [
    "plt.figure(figsize=(20, 12))\n",
    "sns.set(font_scale=1.5)\n",
    "plt.style.use('seaborn-whitegrid')\n",
    "plt.suptitle('Сравнение выручек \\n в тарифах \"Смарт\" и \"Ультра\"', fontweight='bold')\n",
    "\n",
    "ax1 = plt.subplot(2, 2, 1)\n",
    "sns.histplot(data=df, x='revenue', kde=True, hue='tariff')\n",
    "plt.title('Распределение выручек в обоих тарифах', fontweight='bold')\n",
    "plt.axvline(x=df_smart['revenue'].mean(), color='peru', linestyle='--', label='средняя выручка smart')\n",
    "plt.axvline(x=df_ultra['revenue'].mean(), color='slateblue', linestyle='--', label='средняя выручка ultra')\n",
    "plt.xlabel('выручка за месяц, руб.')\n",
    "plt.ylabel('количество случаев')\n",
    "\n",
    "ax2 = plt.subplot(2, 2, 2)\n",
    "sns.boxplot(data=df, x='revenue', y='tariff')\n",
    "plt.title('Распределение выручек в обоих тарифах', fontweight='bold')\n",
    "plt.axvline(x=df_smart['revenue'].mean(), color='peru', linestyle='--', label='средняя выручка smart')\n",
    "plt.axvline(x=df_ultra['revenue'].mean(), color='slateblue', linestyle='--', label='средняя выручка ultra')\n",
    "plt.legend()\n",
    "plt.xlabel('выручка за месяц, руб.')\n",
    "plt.ylabel('')\n",
    "\n",
    "ax3 = plt.subplot(2, 2, 3)\n",
    "sns.barplot(data=df, x='tariff', y='revenue')\n",
    "plt.title('Средние выручки в обоих тарифах', fontweight='bold')\n",
    "plt.xlabel('')\n",
    "plt.ylabel('выручка за месяц, руб.')\n",
    "\n",
    "plt.tight_layout()\n",
    "plt.show();"
   ]
  },
  {
   "cell_type": "markdown",
   "id": "42bd9247",
   "metadata": {},
   "source": [
    "### Вывод"
   ]
  },
  {
   "cell_type": "markdown",
   "id": "557e833a",
   "metadata": {},
   "source": [
    "- **тариф \"Ультра\" в месяц приносит почти в 2 раза больше денег**\n",
    "\n",
    "Если учитывать только выручку, то рекламный бюджет стоит направить на этот тариф.\n",
    "\n",
    "Однако в этом анализе не учтены расходы компании на предоставление услуг. Да, тариф \"Ультра\" приносит больше денег, но ведь и по условиям тарифа предоставляет гораздо больший объём услуг (в 6 раз больше минут, в 20 раз больше сообщений, в 2 раза больше гигабайт). \n",
    "\n",
    "Но, даже не зная затрат компании, можно обратить внимание на фактический уровень потребления услуг. На предоставленной выборке мы видим, что пользователи тарифа \"Ультра\" в основном не используют полный объём включённых в тариф услуг. Пользователи \"Ультра\" потребляют больше, чем пользователи тарифа \"Смарт\", но не в разы:\n",
    "- 545 мин против 419 минут,\n",
    "- 61 сообщение против 39,\n",
    "- 20 Гб против 16.\n",
    "\n",
    "Всё это в совокупности подтверждает: **для компании тариф \"Ультра\" выгоднее, рекламный бюджет стоит направить на него**."
   ]
  },
  {
   "cell_type": "markdown",
   "id": "937ff2cf",
   "metadata": {},
   "source": [
    "## Общий вывод"
   ]
  },
  {
   "cell_type": "markdown",
   "id": "caab3e66",
   "metadata": {},
   "source": [
    "**В процессе подготовки:**\n",
    "- данные были приведены к нужным типам\n",
    "- был убран лишний столбец из таблицы internet\n",
    "\n",
    "По каждому пользователю были проведены следующие расчёты:\n",
    "- количество сделанных звонков и израсходованных минут разговора по месяцам;\n",
    "- количество отправленных сообщений по месяцам;\n",
    "- объем израсходованного интернет-трафика по месяцам;\n",
    "- помесячная выручка с каждого пользователя.\n",
    "\n",
    "В процессе исследования был проведён **анализ поведения пользователей** по всем предоставляемым услугам.\n",
    "\n",
    "**Звонки:**\n",
    "- пользователи тарифа \"Смарт\" в среднем используют 419 минут в месяц, в то время как в тариф включено 500 минут. Многие пользователи используют дополнительные минуты разговора, сверх тарифа, вплоть до 1000 минут в месяц\n",
    "- пользователи тарифа \"Ультра\" разговаривают больше: в среднем они используют 545 минут разговоров в месяц, но это всё равно очень далеко от количества минут, включённых в тариф. Никто не использует 3000 минут, максимум - около 1500 минут в месяц\n",
    "\n",
    "**Сообщения:**\n",
    "- пользователи тарифа \"Смарт\" в среднем отправляют 39 сообщений в месяц, в то время как в тариф включено 50 сообщений. Многие пользователи отправляют больше сообщений, чем включено в тариф, вплоть до 140 в месяц\n",
    "- пользователи тарифа \"Ультра\" активнее пользуются и этой услугой: в среднем они отправляют 61 сообщение в месяц, но это значение опять находится очень далеко от количества сообщений, включённых в тариф. Никто не использует 1000 сообщений за месяц, максимум - чуть больше 200\n",
    "\n",
    "**Гигабайты:**\n",
    "- пользователи тарифа \"Смарт\" в среднем используют 16 Гб в месяц, хотя в этот тариф включено только 15Гб. Многие пользователи расходуют даже вдвое большее количество интернет-трафика, чем включено в их тариф\n",
    "- пользователи тарифа \"Ультра\" активнее пользуются и этой услугой: в среднем они используют 20 Гб в месяц. В тариф включено 30 Гб, но многие пользователи расходуют ещё больше трафика, вплоть до 42 Гб.\n",
    "\n",
    "Были сформулированы и проверены следующие гипотезы:\n",
    "\n",
    "**1. Сравнение выручек от пользователей тарифов \"Ультра\" и \"Смарт\".** \n",
    "\n",
    "***Нулевая гипотеза:***\n",
    "- средняя выручка тарифа \"Смарт\" равна средней выручке тарифа \"Ультра\"\n",
    "\n",
    "***Альтернативная гипотеза:***\n",
    "- средние выручки двух тарифов не равны\n",
    "\n",
    "Получилась двусторонняя альтернативная гипотеза. **T-тест показал: нулевая гипотеза отвергнута. Вероятнее всего средние выручки двух тарифов в генеральных совокупностях не равны.**\n",
    "\n",
    "**2. Сравнение выручек пользователей из Москвы и из других регионов.** \n",
    "\n",
    "***Нулевая гипотеза:***\n",
    "- средняя выручка пользователей из Москвы равна средней выручке пользователей из других регионов\n",
    "\n",
    "***Альтерантивная гипотеза:***\n",
    "- средние выручки не равны\n",
    "\n",
    "Полученное в ходе t-теста значение p-value показало: **вероятность случайно получить такое или большее различие равно почти 53%. Это слишком большая вероятность, чтобы делать вывод о значимом различии между средними выручками пользователей из Москвы и из регионов.** \n",
    "\n",
    "**На какой тариф направить рекламный бюджет?**\n",
    "\n",
    "- ***тариф \"Ультра\" в месяц приносит почти в 2 раза больше денег***\n",
    "\n",
    "Если учитывать только выручку, то рекламный бюджет стоит направить на этот тариф.\n",
    "\n",
    "Однако в этом анализе не учтены расходы компании на предоставление услуг. Да, тариф \"Ультра\" приносит больше денег, но ведь и по условиям тарифа предоставляет гораздо больший объём услуг (в 6 раз больше минут, в 20 раз больше сообщений, в 2 раза больше гигабайт). \n",
    "\n",
    "Но, даже не зная затрат компании, можно обратить внимание на фактический уровень потребления услуг. На предоставленной выборке мы видим, что пользователи тарифа \"Ультра\" в основном не используют полный объём включённых в тариф услуг. Пользователи \"Ультра\" потребляют больше, чем пользователи тарифа \"Смарт\", но не в разы:\n",
    "- 545 мин против 419 минут,\n",
    "- 61 сообщение против 39,\n",
    "- 20 Гб против 16.\n",
    "\n",
    "Всё это в совокупности подтверждает: **для компании тариф \"Ультра\" выгоднее, рекламный бюджет стоит направить на него**.\n",
    "_____________________________________________________________________________________________________________________________\n",
    "Исследование выполнила: аналитик данных Малахова Наталья\n",
    "\n",
    "Мой телеграм-канал: [Дневник аналитика](https://t.me/diary_musician_analyst \"Дневник аналитика\")\n",
    "\n",
    "Портфолио: [GitHub](https://github.com/Malakhova-Natalya \"GitHub\")\n",
    "\n",
    "Спасибо за внимание!"
   ]
  }
 ],
 "metadata": {
  "ExecuteTimeLog": [
   {
    "duration": 1642,
    "start_time": "2022-12-21T23:08:46.047Z"
   },
   {
    "duration": 348,
    "start_time": "2022-12-21T23:08:47.691Z"
   },
   {
    "duration": 652,
    "start_time": "2022-12-21T23:08:48.041Z"
   },
   {
    "duration": 894,
    "start_time": "2022-12-21T23:08:48.695Z"
   },
   {
    "duration": 90,
    "start_time": "2022-12-21T23:08:49.591Z"
   },
   {
    "duration": 75,
    "start_time": "2022-12-21T23:08:49.684Z"
   },
   {
    "duration": 7,
    "start_time": "2022-12-21T23:08:49.761Z"
   },
   {
    "duration": 437,
    "start_time": "2022-12-21T23:08:49.770Z"
   },
   {
    "duration": 246,
    "start_time": "2022-12-21T23:08:50.212Z"
   },
   {
    "duration": 183,
    "start_time": "2022-12-21T23:08:50.461Z"
   },
   {
    "duration": 74,
    "start_time": "2022-12-21T23:08:50.646Z"
   },
   {
    "duration": 45,
    "start_time": "2022-12-21T23:08:50.726Z"
   },
   {
    "duration": 64,
    "start_time": "2022-12-21T23:08:50.773Z"
   },
   {
    "duration": 36,
    "start_time": "2022-12-21T23:08:50.839Z"
   },
   {
    "duration": 28,
    "start_time": "2022-12-21T23:08:50.877Z"
   },
   {
    "duration": 32,
    "start_time": "2022-12-21T23:08:50.907Z"
   },
   {
    "duration": 25,
    "start_time": "2022-12-21T23:08:50.941Z"
   },
   {
    "duration": 28,
    "start_time": "2022-12-21T23:08:50.968Z"
   },
   {
    "duration": 52,
    "start_time": "2022-12-21T23:08:50.998Z"
   },
   {
    "duration": 28,
    "start_time": "2022-12-21T23:08:51.053Z"
   },
   {
    "duration": 154,
    "start_time": "2022-12-21T23:08:51.084Z"
   },
   {
    "duration": 16,
    "start_time": "2022-12-21T23:08:51.239Z"
   },
   {
    "duration": 51,
    "start_time": "2022-12-21T23:08:51.257Z"
   },
   {
    "duration": 47,
    "start_time": "2022-12-21T23:08:51.312Z"
   },
   {
    "duration": 53,
    "start_time": "2022-12-21T23:08:51.361Z"
   },
   {
    "duration": 63,
    "start_time": "2022-12-21T23:08:51.416Z"
   },
   {
    "duration": 33,
    "start_time": "2022-12-21T23:08:51.481Z"
   },
   {
    "duration": 10,
    "start_time": "2022-12-21T23:08:51.523Z"
   },
   {
    "duration": 39,
    "start_time": "2022-12-21T23:08:51.541Z"
   },
   {
    "duration": 39,
    "start_time": "2022-12-21T23:08:51.582Z"
   },
   {
    "duration": 4,
    "start_time": "2022-12-21T23:08:51.625Z"
   },
   {
    "duration": 92,
    "start_time": "2022-12-21T23:08:51.631Z"
   },
   {
    "duration": 9,
    "start_time": "2022-12-21T23:08:51.725Z"
   },
   {
    "duration": 30,
    "start_time": "2022-12-21T23:08:51.736Z"
   },
   {
    "duration": 8,
    "start_time": "2022-12-21T23:08:51.768Z"
   },
   {
    "duration": 13,
    "start_time": "2022-12-21T23:08:51.778Z"
   },
   {
    "duration": 73,
    "start_time": "2022-12-21T23:08:51.793Z"
   },
   {
    "duration": 17,
    "start_time": "2022-12-21T23:08:51.869Z"
   },
   {
    "duration": 8,
    "start_time": "2022-12-21T23:08:51.888Z"
   },
   {
    "duration": 19,
    "start_time": "2022-12-21T23:08:51.898Z"
   },
   {
    "duration": 46,
    "start_time": "2022-12-21T23:08:51.920Z"
   },
   {
    "duration": 14,
    "start_time": "2022-12-21T23:08:51.968Z"
   },
   {
    "duration": 12,
    "start_time": "2022-12-21T23:08:51.985Z"
   },
   {
    "duration": 27,
    "start_time": "2022-12-21T23:08:51.999Z"
   },
   {
    "duration": 2709,
    "start_time": "2022-12-21T23:08:52.036Z"
   },
   {
    "duration": 4,
    "start_time": "2022-12-21T23:08:54.747Z"
   },
   {
    "duration": 12,
    "start_time": "2022-12-21T23:08:54.753Z"
   },
   {
    "duration": 21,
    "start_time": "2022-12-21T23:08:54.767Z"
   },
   {
    "duration": 20,
    "start_time": "2022-12-21T23:08:54.790Z"
   },
   {
    "duration": 19,
    "start_time": "2022-12-21T23:08:54.812Z"
   },
   {
    "duration": 31,
    "start_time": "2022-12-21T23:08:54.835Z"
   },
   {
    "duration": 15,
    "start_time": "2022-12-21T23:08:54.869Z"
   },
   {
    "duration": 615,
    "start_time": "2022-12-21T23:08:54.885Z"
   },
   {
    "duration": 552,
    "start_time": "2022-12-21T23:08:55.502Z"
   },
   {
    "duration": 23,
    "start_time": "2022-12-21T23:12:27.340Z"
   },
   {
    "duration": 18,
    "start_time": "2022-12-21T23:12:52.648Z"
   },
   {
    "duration": 65,
    "start_time": "2022-12-21T23:14:11.285Z"
   }
  ],
  "kernelspec": {
   "display_name": "Python 3 (ipykernel)",
   "language": "python",
   "name": "python3"
  },
  "language_info": {
   "codemirror_mode": {
    "name": "ipython",
    "version": 3
   },
   "file_extension": ".py",
   "mimetype": "text/x-python",
   "name": "python",
   "nbconvert_exporter": "python",
   "pygments_lexer": "ipython3",
   "version": "3.9.7"
  },
  "toc": {
   "base_numbering": 1,
   "nav_menu": {},
   "number_sections": true,
   "sideBar": true,
   "skip_h1_title": true,
   "title_cell": "Содержание",
   "title_sidebar": "Содержание",
   "toc_cell": true,
   "toc_position": {},
   "toc_section_display": true,
   "toc_window_display": true
  }
 },
 "nbformat": 4,
 "nbformat_minor": 5
}
