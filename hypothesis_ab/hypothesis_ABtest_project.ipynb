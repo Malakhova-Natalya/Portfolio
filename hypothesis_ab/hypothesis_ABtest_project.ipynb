{
 "cells": [
  {
   "cell_type": "markdown",
   "id": "622d9747",
   "metadata": {},
   "source": [
    "# Приоритизация гипотез и анализ А/В теста"
   ]
  },
  {
   "cell_type": "markdown",
   "id": "91687d51",
   "metadata": {
    "toc": true
   },
   "source": [
    "<h1>Содержание<span class=\"tocSkip\"></span></h1>\n",
    "<div class=\"toc\"><ul class=\"toc-item\"><li><span><a href=\"#Описание-проекта\" data-toc-modified-id=\"Описание-проекта-1\"><span class=\"toc-item-num\">1&nbsp;&nbsp;</span>Описание проекта</a></span></li><li><span><a href=\"#Открытие-данных\" data-toc-modified-id=\"Открытие-данных-2\"><span class=\"toc-item-num\">2&nbsp;&nbsp;</span>Открытие данных</a></span><ul class=\"toc-item\"><li><span><a href=\"#Вывод\" data-toc-modified-id=\"Вывод-2.1\"><span class=\"toc-item-num\">2.1&nbsp;&nbsp;</span>Вывод</a></span></li></ul></li><li><span><a href=\"#Предобработка-данных\" data-toc-modified-id=\"Предобработка-данных-3\"><span class=\"toc-item-num\">3&nbsp;&nbsp;</span>Предобработка данных</a></span><ul class=\"toc-item\"><li><span><a href=\"#Вывод\" data-toc-modified-id=\"Вывод-3.1\"><span class=\"toc-item-num\">3.1&nbsp;&nbsp;</span>Вывод</a></span></li></ul></li><li><span><a href=\"#Приоритизация-гипотез\" data-toc-modified-id=\"Приоритизация-гипотез-4\"><span class=\"toc-item-num\">4&nbsp;&nbsp;</span>Приоритизация гипотез</a></span><ul class=\"toc-item\"><li><span><a href=\"#фреймворк-ICE\" data-toc-modified-id=\"фреймворк-ICE-4.1\"><span class=\"toc-item-num\">4.1&nbsp;&nbsp;</span>фреймворк ICE</a></span></li><li><span><a href=\"#фреймворк-RICE\" data-toc-modified-id=\"фреймворк-RICE-4.2\"><span class=\"toc-item-num\">4.2&nbsp;&nbsp;</span>фреймворк RICE</a></span></li><li><span><a href=\"#Как-и-почему-изменилась-приоритизация-гипотез-при-применении-RICE-вместо-ICE\" data-toc-modified-id=\"Как-и-почему-изменилась-приоритизация-гипотез-при-применении-RICE-вместо-ICE-4.3\"><span class=\"toc-item-num\">4.3&nbsp;&nbsp;</span>Как и почему изменилась приоритизация гипотез при применении RICE вместо ICE</a></span></li><li><span><a href=\"#Вывод\" data-toc-modified-id=\"Вывод-4.4\"><span class=\"toc-item-num\">4.4&nbsp;&nbsp;</span>Вывод</a></span></li></ul></li><li><span><a href=\"#Анализ-А/В-теста\" data-toc-modified-id=\"Анализ-А/В-теста-5\"><span class=\"toc-item-num\">5&nbsp;&nbsp;</span>Анализ А/В-теста</a></span><ul class=\"toc-item\"><li><span><a href=\"#Подготовка-данных\" data-toc-modified-id=\"Подготовка-данных-5.1\"><span class=\"toc-item-num\">5.1&nbsp;&nbsp;</span>Подготовка данных</a></span></li><li><span><a href=\"#График-кумулятивной-выручки-по-группам.-Выводы-и-предположения.\" data-toc-modified-id=\"График-кумулятивной-выручки-по-группам.-Выводы-и-предположения.-5.2\"><span class=\"toc-item-num\">5.2&nbsp;&nbsp;</span>График кумулятивной выручки по группам. Выводы и предположения.</a></span></li><li><span><a href=\"#График-кумулятивного-среднего-чека-по-группам.-Выводы-и-предположения.\" data-toc-modified-id=\"График-кумулятивного-среднего-чека-по-группам.-Выводы-и-предположения.-5.3\"><span class=\"toc-item-num\">5.3&nbsp;&nbsp;</span>График кумулятивного среднего чека по группам. Выводы и предположения.</a></span></li><li><span><a href=\"#График-относительного-изменения-кумулятивного-среднего-чека-группы-B-к-группе-A.-Выводы-и-предположения.\" data-toc-modified-id=\"График-относительного-изменения-кумулятивного-среднего-чека-группы-B-к-группе-A.-Выводы-и-предположения.-5.4\"><span class=\"toc-item-num\">5.4&nbsp;&nbsp;</span>График относительного изменения кумулятивного среднего чека группы B к группе A. Выводы и предположения.</a></span></li><li><span><a href=\"#График-кумулятивного-среднего-количества-заказов-на-посетителя-по-группам.-Выводы-и-предположения.\" data-toc-modified-id=\"График-кумулятивного-среднего-количества-заказов-на-посетителя-по-группам.-Выводы-и-предположения.-5.5\"><span class=\"toc-item-num\">5.5&nbsp;&nbsp;</span>График кумулятивного среднего количества заказов на посетителя по группам. Выводы и предположения.</a></span></li><li><span><a href=\"#График-относительного-изменения-кумулятивного-среднего-количества-заказов-на-посетителя-группы-B-к-группе-A.-Выводы-и-предположения.\" data-toc-modified-id=\"График-относительного-изменения-кумулятивного-среднего-количества-заказов-на-посетителя-группы-B-к-группе-A.-Выводы-и-предположения.-5.6\"><span class=\"toc-item-num\">5.6&nbsp;&nbsp;</span>График относительного изменения кумулятивного среднего количества заказов на посетителя группы B к группе A. Выводы и предположения.</a></span></li><li><span><a href=\"#Точечный-график-количества-заказов-по-пользователям.-Выводы-и-предположения.\" data-toc-modified-id=\"Точечный-график-количества-заказов-по-пользователям.-Выводы-и-предположения.-5.7\"><span class=\"toc-item-num\">5.7&nbsp;&nbsp;</span>Точечный график количества заказов по пользователям. Выводы и предположения.</a></span></li><li><span><a href=\"#95-й-и-99-й-перцентили-количества-заказов-на-пользователя.-Установление-границы-для-определения-аномальных-пользователей.\" data-toc-modified-id=\"95-й-и-99-й-перцентили-количества-заказов-на-пользователя.-Установление-границы-для-определения-аномальных-пользователей.-5.8\"><span class=\"toc-item-num\">5.8&nbsp;&nbsp;</span>95-й и 99-й перцентили количества заказов на пользователя. Установление границы для определения аномальных пользователей.</a></span></li><li><span><a href=\"#Точечный-график-стоимостей-заказов.-Выводы-и-предположения.\" data-toc-modified-id=\"Точечный-график-стоимостей-заказов.-Выводы-и-предположения.-5.9\"><span class=\"toc-item-num\">5.9&nbsp;&nbsp;</span>Точечный график стоимостей заказов. Выводы и предположения.</a></span></li><li><span><a href=\"#95-й-и-99-й-перцентили-стоимости-заказов.-Выбор-границы-для-определения-аномальных-заказов.\" data-toc-modified-id=\"95-й-и-99-й-перцентили-стоимости-заказов.-Выбор-границы-для-определения-аномальных-заказов.-5.10\"><span class=\"toc-item-num\">5.10&nbsp;&nbsp;</span>95-й и 99-й перцентили стоимости заказов. Выбор границы для определения аномальных заказов.</a></span></li><li><span><a href=\"#Статистическая-значимость-различий-в-среднем-количестве-заказов-на-посетителя-между-группами-по-«сырым»-данным.-Выводы-и-предположения.\" data-toc-modified-id=\"Статистическая-значимость-различий-в-среднем-количестве-заказов-на-посетителя-между-группами-по-«сырым»-данным.-Выводы-и-предположения.-5.11\"><span class=\"toc-item-num\">5.11&nbsp;&nbsp;</span>Статистическая значимость различий в среднем количестве заказов на посетителя между группами по «сырым» данным. Выводы и предположения.</a></span></li><li><span><a href=\"#Статистическая-значимость-различий-в-среднем-чеке-заказа-между-группами-по-«сырым»-данным.-Выводы-и-предположения.\" data-toc-modified-id=\"Статистическая-значимость-различий-в-среднем-чеке-заказа-между-группами-по-«сырым»-данным.-Выводы-и-предположения.-5.12\"><span class=\"toc-item-num\">5.12&nbsp;&nbsp;</span>Статистическая значимость различий в среднем чеке заказа между группами по «сырым» данным. Выводы и предположения.</a></span></li><li><span><a href=\"#Статистическая-значимость-различий-в-среднем-количестве-заказов-на-посетителя-между-группами-по-«очищенным»-данным.-Выводы-и-предположения.\" data-toc-modified-id=\"Статистическая-значимость-различий-в-среднем-количестве-заказов-на-посетителя-между-группами-по-«очищенным»-данным.-Выводы-и-предположения.-5.13\"><span class=\"toc-item-num\">5.13&nbsp;&nbsp;</span>Статистическая значимость различий в среднем количестве заказов на посетителя между группами по «очищенным» данным. Выводы и предположения.</a></span></li><li><span><a href=\"#Статистическая-значимость-различий-в-среднем-чеке-заказа-между-группами-по-«очищенным»-данным.-Выводы-и-предположения.\" data-toc-modified-id=\"Статистическая-значимость-различий-в-среднем-чеке-заказа-между-группами-по-«очищенным»-данным.-Выводы-и-предположения.-5.14\"><span class=\"toc-item-num\">5.14&nbsp;&nbsp;</span>Статистическая значимость различий в среднем чеке заказа между группами по «очищенным» данным. Выводы и предположения.</a></span></li><li><span><a href=\"#Решение-по-результатам-теста\" data-toc-modified-id=\"Решение-по-результатам-теста-5.15\"><span class=\"toc-item-num\">5.15&nbsp;&nbsp;</span>Решение по результатам теста</a></span></li></ul></li><li><span><a href=\"#Выводы\" data-toc-modified-id=\"Выводы-6\"><span class=\"toc-item-num\">6&nbsp;&nbsp;</span>Выводы</a></span></li></ul></div>"
   ]
  },
  {
   "cell_type": "markdown",
   "id": "53e42f11",
   "metadata": {},
   "source": [
    "## Описание проекта"
   ]
  },
  {
   "cell_type": "markdown",
   "id": "dd036735",
   "metadata": {},
   "source": [
    "В данном проекте:\n",
    "1. произведена приоритизация гипотез по увеличению выручки крупного интернет-магазина \n",
    "2. проведён анализ А/В-теста\n",
    "\n",
    "**Основные задачи**:\n",
    "\n",
    "- выявить наиболее перспективные гипотезы по увеличению выручки при помощи фреймворков ICE и RICE\n",
    "- проанализировать результаты А/В-теста, принять решение и объяснить его\n",
    "\n",
    "**План работы**:\n",
    "\n",
    "1. Приоритизация гипотез:\n",
    "- при помощи фреймворка ICE\n",
    "- при помощи фреймворка RICE\n",
    "- сравнение и объяснение различий\n",
    "2. Анализ А/В-теста:\n",
    "- анализ метрик (выручка, средний чек, кол-во заказов)\n",
    "- расчёт перцентилей, определение аномалий\n",
    "- расчёт статистической значимости различий по \"сырым\" и \"очищенным\" данным\n",
    "- обоснование решения по результатам теста\n",
    "\n",
    "**Описание данных**:\n",
    "\n",
    "В исследовании используются данные о гипотезах, составленных отделом маркетинга компании, а также данные о заказах и посетителях, которые стали частью А/В-теста."
   ]
  },
  {
   "cell_type": "markdown",
   "id": "9bd848f5",
   "metadata": {},
   "source": [
    "## Открытие данных"
   ]
  },
  {
   "cell_type": "markdown",
   "id": "26bba0e6",
   "metadata": {},
   "source": [
    "Импортируем необходимые библиотеки:"
   ]
  },
  {
   "cell_type": "code",
   "execution_count": 1,
   "id": "640edbaf",
   "metadata": {},
   "outputs": [],
   "source": [
    "import pandas as pd\n",
    "import os\n",
    "import numpy as np\n",
    "import math as mth\n",
    "from scipy import stats as st\n",
    "import datetime as dt\n",
    "from matplotlib import pyplot as plt\n",
    "import seaborn as sns"
   ]
  },
  {
   "cell_type": "markdown",
   "id": "a80d0621",
   "metadata": {},
   "source": [
    "Открываем файлы:"
   ]
  },
  {
   "cell_type": "code",
   "execution_count": 2,
   "id": "25825027",
   "metadata": {},
   "outputs": [],
   "source": [
    "if os.path.exists('/datasets/hypothesis.csv'):\n",
    "    hypothesis = pd.read_csv('/datasets/hypothesis.csv')\n",
    "else:\n",
    "    hypothesis = pd.read_csv('/C:/datasets/hypothesis.csv')"
   ]
  },
  {
   "cell_type": "code",
   "execution_count": 3,
   "id": "4061acd2",
   "metadata": {},
   "outputs": [],
   "source": [
    "if os.path.exists('/datasets/orders.csv'):\n",
    "    orders = pd.read_csv('/datasets/orders.csv')\n",
    "else:\n",
    "    orders = pd.read_csv('/C:/datasets/orders.csv')"
   ]
  },
  {
   "cell_type": "code",
   "execution_count": 4,
   "id": "5c22c42d",
   "metadata": {},
   "outputs": [],
   "source": [
    "if os.path.exists('/datasets/visitors.csv'):\n",
    "    visitors = pd.read_csv('/datasets/visitors.csv')\n",
    "else:\n",
    "    visitors = pd.read_csv('/C:/datasets/visitors.csv')"
   ]
  },
  {
   "cell_type": "markdown",
   "id": "73cdda30",
   "metadata": {},
   "source": [
    "Для ознакомления и проверки данных будем использовать собственную функцию:"
   ]
  },
  {
   "cell_type": "code",
   "execution_count": 5,
   "id": "514238ae",
   "metadata": {},
   "outputs": [],
   "source": [
    "def my_check_function (dataset):\n",
    "    '''Функция для ознакомления и проверки даных'''\n",
    "    print('Как выглядят случайные 5 строк:')\n",
    "    display(dataset.sample(5, random_state=42))\n",
    "    print()\n",
    "    print('Общая информация о данных, наименования столбцов, типы данных:')\n",
    "    print(dataset.info())\n",
    "    print()\n",
    "    print('Есть ли пропуски, сколько их:')\n",
    "    print(dataset.isna().sum())\n",
    "    print('Доля пропущенных значений:')\n",
    "    print(dataset.isna().mean())\n",
    "    print()\n",
    "    print('Есть ли явные дубликаты, сколько их:')\n",
    "    print(dataset.duplicated().sum())\n",
    "    print('Доля явных дубликатов:')\n",
    "    print(dataset.duplicated().mean())\n",
    "    print()\n",
    "    print('Подробное описание данных:')\n",
    "    display(dataset.describe())"
   ]
  },
  {
   "cell_type": "code",
   "execution_count": 6,
   "id": "646cfd87",
   "metadata": {},
   "outputs": [
    {
     "name": "stdout",
     "output_type": "stream",
     "text": [
      "Как выглядят случайные 5 строк:\n"
     ]
    },
    {
     "data": {
      "text/html": [
       "<div>\n",
       "<style scoped>\n",
       "    .dataframe tbody tr th:only-of-type {\n",
       "        vertical-align: middle;\n",
       "    }\n",
       "\n",
       "    .dataframe tbody tr th {\n",
       "        vertical-align: top;\n",
       "    }\n",
       "\n",
       "    .dataframe thead th {\n",
       "        text-align: right;\n",
       "    }\n",
       "</style>\n",
       "<table border=\"1\" class=\"dataframe\">\n",
       "  <thead>\n",
       "    <tr style=\"text-align: right;\">\n",
       "      <th></th>\n",
       "      <th>Hypothesis</th>\n",
       "      <th>Reach</th>\n",
       "      <th>Impact</th>\n",
       "      <th>Confidence</th>\n",
       "      <th>Efforts</th>\n",
       "    </tr>\n",
       "  </thead>\n",
       "  <tbody>\n",
       "    <tr>\n",
       "      <th>7</th>\n",
       "      <td>Добавить форму подписки на все основные страни...</td>\n",
       "      <td>10</td>\n",
       "      <td>7</td>\n",
       "      <td>8</td>\n",
       "      <td>5</td>\n",
       "    </tr>\n",
       "    <tr>\n",
       "      <th>1</th>\n",
       "      <td>Запустить собственную службу доставки, что сок...</td>\n",
       "      <td>2</td>\n",
       "      <td>5</td>\n",
       "      <td>4</td>\n",
       "      <td>10</td>\n",
       "    </tr>\n",
       "    <tr>\n",
       "      <th>5</th>\n",
       "      <td>Добавить страницу отзывов клиентов о магазине,...</td>\n",
       "      <td>3</td>\n",
       "      <td>2</td>\n",
       "      <td>2</td>\n",
       "      <td>3</td>\n",
       "    </tr>\n",
       "    <tr>\n",
       "      <th>0</th>\n",
       "      <td>Добавить два новых канала привлечения трафика,...</td>\n",
       "      <td>3</td>\n",
       "      <td>10</td>\n",
       "      <td>8</td>\n",
       "      <td>6</td>\n",
       "    </tr>\n",
       "    <tr>\n",
       "      <th>8</th>\n",
       "      <td>Запустить акцию, дающую скидку на товар в день...</td>\n",
       "      <td>1</td>\n",
       "      <td>9</td>\n",
       "      <td>9</td>\n",
       "      <td>5</td>\n",
       "    </tr>\n",
       "  </tbody>\n",
       "</table>\n",
       "</div>"
      ],
      "text/plain": [
       "                                          Hypothesis  Reach  Impact  \\\n",
       "7  Добавить форму подписки на все основные страни...     10       7   \n",
       "1  Запустить собственную службу доставки, что сок...      2       5   \n",
       "5  Добавить страницу отзывов клиентов о магазине,...      3       2   \n",
       "0  Добавить два новых канала привлечения трафика,...      3      10   \n",
       "8  Запустить акцию, дающую скидку на товар в день...      1       9   \n",
       "\n",
       "   Confidence  Efforts  \n",
       "7           8        5  \n",
       "1           4       10  \n",
       "5           2        3  \n",
       "0           8        6  \n",
       "8           9        5  "
      ]
     },
     "metadata": {},
     "output_type": "display_data"
    },
    {
     "name": "stdout",
     "output_type": "stream",
     "text": [
      "\n",
      "Общая информация о данных, наименования столбцов, типы данных:\n",
      "<class 'pandas.core.frame.DataFrame'>\n",
      "RangeIndex: 9 entries, 0 to 8\n",
      "Data columns (total 5 columns):\n",
      " #   Column      Non-Null Count  Dtype \n",
      "---  ------      --------------  ----- \n",
      " 0   Hypothesis  9 non-null      object\n",
      " 1   Reach       9 non-null      int64 \n",
      " 2   Impact      9 non-null      int64 \n",
      " 3   Confidence  9 non-null      int64 \n",
      " 4   Efforts     9 non-null      int64 \n",
      "dtypes: int64(4), object(1)\n",
      "memory usage: 488.0+ bytes\n",
      "None\n",
      "\n",
      "Есть ли пропуски, сколько их:\n",
      "Hypothesis    0\n",
      "Reach         0\n",
      "Impact        0\n",
      "Confidence    0\n",
      "Efforts       0\n",
      "dtype: int64\n",
      "Доля пропущенных значений:\n",
      "Hypothesis    0.0\n",
      "Reach         0.0\n",
      "Impact        0.0\n",
      "Confidence    0.0\n",
      "Efforts       0.0\n",
      "dtype: float64\n",
      "\n",
      "Есть ли явные дубликаты, сколько их:\n",
      "0\n",
      "Доля явных дубликатов:\n",
      "0.0\n",
      "\n",
      "Подробное описание данных:\n"
     ]
    },
    {
     "data": {
      "text/html": [
       "<div>\n",
       "<style scoped>\n",
       "    .dataframe tbody tr th:only-of-type {\n",
       "        vertical-align: middle;\n",
       "    }\n",
       "\n",
       "    .dataframe tbody tr th {\n",
       "        vertical-align: top;\n",
       "    }\n",
       "\n",
       "    .dataframe thead th {\n",
       "        text-align: right;\n",
       "    }\n",
       "</style>\n",
       "<table border=\"1\" class=\"dataframe\">\n",
       "  <thead>\n",
       "    <tr style=\"text-align: right;\">\n",
       "      <th></th>\n",
       "      <th>Reach</th>\n",
       "      <th>Impact</th>\n",
       "      <th>Confidence</th>\n",
       "      <th>Efforts</th>\n",
       "    </tr>\n",
       "  </thead>\n",
       "  <tbody>\n",
       "    <tr>\n",
       "      <th>count</th>\n",
       "      <td>9.000000</td>\n",
       "      <td>9.000000</td>\n",
       "      <td>9.000000</td>\n",
       "      <td>9.000000</td>\n",
       "    </tr>\n",
       "    <tr>\n",
       "      <th>mean</th>\n",
       "      <td>4.777778</td>\n",
       "      <td>4.777778</td>\n",
       "      <td>5.555556</td>\n",
       "      <td>4.888889</td>\n",
       "    </tr>\n",
       "    <tr>\n",
       "      <th>std</th>\n",
       "      <td>3.153481</td>\n",
       "      <td>3.192874</td>\n",
       "      <td>3.045944</td>\n",
       "      <td>2.803767</td>\n",
       "    </tr>\n",
       "    <tr>\n",
       "      <th>min</th>\n",
       "      <td>1.000000</td>\n",
       "      <td>1.000000</td>\n",
       "      <td>1.000000</td>\n",
       "      <td>1.000000</td>\n",
       "    </tr>\n",
       "    <tr>\n",
       "      <th>25%</th>\n",
       "      <td>3.000000</td>\n",
       "      <td>3.000000</td>\n",
       "      <td>3.000000</td>\n",
       "      <td>3.000000</td>\n",
       "    </tr>\n",
       "    <tr>\n",
       "      <th>50%</th>\n",
       "      <td>3.000000</td>\n",
       "      <td>3.000000</td>\n",
       "      <td>7.000000</td>\n",
       "      <td>5.000000</td>\n",
       "    </tr>\n",
       "    <tr>\n",
       "      <th>75%</th>\n",
       "      <td>8.000000</td>\n",
       "      <td>7.000000</td>\n",
       "      <td>8.000000</td>\n",
       "      <td>6.000000</td>\n",
       "    </tr>\n",
       "    <tr>\n",
       "      <th>max</th>\n",
       "      <td>10.000000</td>\n",
       "      <td>10.000000</td>\n",
       "      <td>9.000000</td>\n",
       "      <td>10.000000</td>\n",
       "    </tr>\n",
       "  </tbody>\n",
       "</table>\n",
       "</div>"
      ],
      "text/plain": [
       "           Reach     Impact  Confidence    Efforts\n",
       "count   9.000000   9.000000    9.000000   9.000000\n",
       "mean    4.777778   4.777778    5.555556   4.888889\n",
       "std     3.153481   3.192874    3.045944   2.803767\n",
       "min     1.000000   1.000000    1.000000   1.000000\n",
       "25%     3.000000   3.000000    3.000000   3.000000\n",
       "50%     3.000000   3.000000    7.000000   5.000000\n",
       "75%     8.000000   7.000000    8.000000   6.000000\n",
       "max    10.000000  10.000000    9.000000  10.000000"
      ]
     },
     "metadata": {},
     "output_type": "display_data"
    }
   ],
   "source": [
    "my_check_function(hypothesis)"
   ]
  },
  {
   "cell_type": "code",
   "execution_count": 7,
   "id": "1f6663c7",
   "metadata": {},
   "outputs": [
    {
     "name": "stdout",
     "output_type": "stream",
     "text": [
      "Как выглядят случайные 5 строк:\n"
     ]
    },
    {
     "data": {
      "text/html": [
       "<div>\n",
       "<style scoped>\n",
       "    .dataframe tbody tr th:only-of-type {\n",
       "        vertical-align: middle;\n",
       "    }\n",
       "\n",
       "    .dataframe tbody tr th {\n",
       "        vertical-align: top;\n",
       "    }\n",
       "\n",
       "    .dataframe thead th {\n",
       "        text-align: right;\n",
       "    }\n",
       "</style>\n",
       "<table border=\"1\" class=\"dataframe\">\n",
       "  <thead>\n",
       "    <tr style=\"text-align: right;\">\n",
       "      <th></th>\n",
       "      <th>transactionId</th>\n",
       "      <th>visitorId</th>\n",
       "      <th>date</th>\n",
       "      <th>revenue</th>\n",
       "      <th>group</th>\n",
       "    </tr>\n",
       "  </thead>\n",
       "  <tbody>\n",
       "    <tr>\n",
       "      <th>921</th>\n",
       "      <td>3102219893</td>\n",
       "      <td>151496413</td>\n",
       "      <td>2019-08-21</td>\n",
       "      <td>350</td>\n",
       "      <td>A</td>\n",
       "    </tr>\n",
       "    <tr>\n",
       "      <th>321</th>\n",
       "      <td>1775445570</td>\n",
       "      <td>3118528100</td>\n",
       "      <td>2019-08-19</td>\n",
       "      <td>1090</td>\n",
       "      <td>A</td>\n",
       "    </tr>\n",
       "    <tr>\n",
       "      <th>101</th>\n",
       "      <td>3847160695</td>\n",
       "      <td>1830791924</td>\n",
       "      <td>2019-08-01</td>\n",
       "      <td>2350</td>\n",
       "      <td>A</td>\n",
       "    </tr>\n",
       "    <tr>\n",
       "      <th>920</th>\n",
       "      <td>3057892078</td>\n",
       "      <td>249864742</td>\n",
       "      <td>2019-08-21</td>\n",
       "      <td>5530</td>\n",
       "      <td>B</td>\n",
       "    </tr>\n",
       "    <tr>\n",
       "      <th>58</th>\n",
       "      <td>2145193898</td>\n",
       "      <td>1221478247</td>\n",
       "      <td>2019-08-16</td>\n",
       "      <td>1440</td>\n",
       "      <td>B</td>\n",
       "    </tr>\n",
       "  </tbody>\n",
       "</table>\n",
       "</div>"
      ],
      "text/plain": [
       "     transactionId   visitorId        date  revenue group\n",
       "921     3102219893   151496413  2019-08-21      350     A\n",
       "321     1775445570  3118528100  2019-08-19     1090     A\n",
       "101     3847160695  1830791924  2019-08-01     2350     A\n",
       "920     3057892078   249864742  2019-08-21     5530     B\n",
       "58      2145193898  1221478247  2019-08-16     1440     B"
      ]
     },
     "metadata": {},
     "output_type": "display_data"
    },
    {
     "name": "stdout",
     "output_type": "stream",
     "text": [
      "\n",
      "Общая информация о данных, наименования столбцов, типы данных:\n",
      "<class 'pandas.core.frame.DataFrame'>\n",
      "RangeIndex: 1197 entries, 0 to 1196\n",
      "Data columns (total 5 columns):\n",
      " #   Column         Non-Null Count  Dtype \n",
      "---  ------         --------------  ----- \n",
      " 0   transactionId  1197 non-null   int64 \n",
      " 1   visitorId      1197 non-null   int64 \n",
      " 2   date           1197 non-null   object\n",
      " 3   revenue        1197 non-null   int64 \n",
      " 4   group          1197 non-null   object\n",
      "dtypes: int64(3), object(2)\n",
      "memory usage: 46.9+ KB\n",
      "None\n",
      "\n",
      "Есть ли пропуски, сколько их:\n",
      "transactionId    0\n",
      "visitorId        0\n",
      "date             0\n",
      "revenue          0\n",
      "group            0\n",
      "dtype: int64\n",
      "Доля пропущенных значений:\n",
      "transactionId    0.0\n",
      "visitorId        0.0\n",
      "date             0.0\n",
      "revenue          0.0\n",
      "group            0.0\n",
      "dtype: float64\n",
      "\n",
      "Есть ли явные дубликаты, сколько их:\n",
      "0\n",
      "Доля явных дубликатов:\n",
      "0.0\n",
      "\n",
      "Подробное описание данных:\n"
     ]
    },
    {
     "data": {
      "text/html": [
       "<div>\n",
       "<style scoped>\n",
       "    .dataframe tbody tr th:only-of-type {\n",
       "        vertical-align: middle;\n",
       "    }\n",
       "\n",
       "    .dataframe tbody tr th {\n",
       "        vertical-align: top;\n",
       "    }\n",
       "\n",
       "    .dataframe thead th {\n",
       "        text-align: right;\n",
       "    }\n",
       "</style>\n",
       "<table border=\"1\" class=\"dataframe\">\n",
       "  <thead>\n",
       "    <tr style=\"text-align: right;\">\n",
       "      <th></th>\n",
       "      <th>transactionId</th>\n",
       "      <th>visitorId</th>\n",
       "      <th>revenue</th>\n",
       "    </tr>\n",
       "  </thead>\n",
       "  <tbody>\n",
       "    <tr>\n",
       "      <th>count</th>\n",
       "      <td>1.197000e+03</td>\n",
       "      <td>1.197000e+03</td>\n",
       "      <td>1.197000e+03</td>\n",
       "    </tr>\n",
       "    <tr>\n",
       "      <th>mean</th>\n",
       "      <td>2.155621e+09</td>\n",
       "      <td>2.165960e+09</td>\n",
       "      <td>8.348006e+03</td>\n",
       "    </tr>\n",
       "    <tr>\n",
       "      <th>std</th>\n",
       "      <td>1.229085e+09</td>\n",
       "      <td>1.236014e+09</td>\n",
       "      <td>3.919113e+04</td>\n",
       "    </tr>\n",
       "    <tr>\n",
       "      <th>min</th>\n",
       "      <td>1.062393e+06</td>\n",
       "      <td>5.114589e+06</td>\n",
       "      <td>5.000000e+01</td>\n",
       "    </tr>\n",
       "    <tr>\n",
       "      <th>25%</th>\n",
       "      <td>1.166776e+09</td>\n",
       "      <td>1.111826e+09</td>\n",
       "      <td>1.220000e+03</td>\n",
       "    </tr>\n",
       "    <tr>\n",
       "      <th>50%</th>\n",
       "      <td>2.145194e+09</td>\n",
       "      <td>2.217985e+09</td>\n",
       "      <td>2.978000e+03</td>\n",
       "    </tr>\n",
       "    <tr>\n",
       "      <th>75%</th>\n",
       "      <td>3.237740e+09</td>\n",
       "      <td>3.177606e+09</td>\n",
       "      <td>8.290000e+03</td>\n",
       "    </tr>\n",
       "    <tr>\n",
       "      <th>max</th>\n",
       "      <td>4.293856e+09</td>\n",
       "      <td>4.283872e+09</td>\n",
       "      <td>1.294500e+06</td>\n",
       "    </tr>\n",
       "  </tbody>\n",
       "</table>\n",
       "</div>"
      ],
      "text/plain": [
       "       transactionId     visitorId       revenue\n",
       "count   1.197000e+03  1.197000e+03  1.197000e+03\n",
       "mean    2.155621e+09  2.165960e+09  8.348006e+03\n",
       "std     1.229085e+09  1.236014e+09  3.919113e+04\n",
       "min     1.062393e+06  5.114589e+06  5.000000e+01\n",
       "25%     1.166776e+09  1.111826e+09  1.220000e+03\n",
       "50%     2.145194e+09  2.217985e+09  2.978000e+03\n",
       "75%     3.237740e+09  3.177606e+09  8.290000e+03\n",
       "max     4.293856e+09  4.283872e+09  1.294500e+06"
      ]
     },
     "metadata": {},
     "output_type": "display_data"
    }
   ],
   "source": [
    "my_check_function(orders)"
   ]
  },
  {
   "cell_type": "code",
   "execution_count": 8,
   "id": "3d9f7ffb",
   "metadata": {
    "scrolled": true
   },
   "outputs": [
    {
     "name": "stdout",
     "output_type": "stream",
     "text": [
      "Как выглядят случайные 5 строк:\n"
     ]
    },
    {
     "data": {
      "text/html": [
       "<div>\n",
       "<style scoped>\n",
       "    .dataframe tbody tr th:only-of-type {\n",
       "        vertical-align: middle;\n",
       "    }\n",
       "\n",
       "    .dataframe tbody tr th {\n",
       "        vertical-align: top;\n",
       "    }\n",
       "\n",
       "    .dataframe thead th {\n",
       "        text-align: right;\n",
       "    }\n",
       "</style>\n",
       "<table border=\"1\" class=\"dataframe\">\n",
       "  <thead>\n",
       "    <tr style=\"text-align: right;\">\n",
       "      <th></th>\n",
       "      <th>date</th>\n",
       "      <th>group</th>\n",
       "      <th>visitors</th>\n",
       "    </tr>\n",
       "  </thead>\n",
       "  <tbody>\n",
       "    <tr>\n",
       "      <th>50</th>\n",
       "      <td>2019-08-20</td>\n",
       "      <td>B</td>\n",
       "      <td>560</td>\n",
       "    </tr>\n",
       "    <tr>\n",
       "      <th>56</th>\n",
       "      <td>2019-08-26</td>\n",
       "      <td>B</td>\n",
       "      <td>676</td>\n",
       "    </tr>\n",
       "    <tr>\n",
       "      <th>0</th>\n",
       "      <td>2019-08-01</td>\n",
       "      <td>A</td>\n",
       "      <td>719</td>\n",
       "    </tr>\n",
       "    <tr>\n",
       "      <th>57</th>\n",
       "      <td>2019-08-27</td>\n",
       "      <td>B</td>\n",
       "      <td>720</td>\n",
       "    </tr>\n",
       "    <tr>\n",
       "      <th>5</th>\n",
       "      <td>2019-08-06</td>\n",
       "      <td>A</td>\n",
       "      <td>667</td>\n",
       "    </tr>\n",
       "  </tbody>\n",
       "</table>\n",
       "</div>"
      ],
      "text/plain": [
       "          date group  visitors\n",
       "50  2019-08-20     B       560\n",
       "56  2019-08-26     B       676\n",
       "0   2019-08-01     A       719\n",
       "57  2019-08-27     B       720\n",
       "5   2019-08-06     A       667"
      ]
     },
     "metadata": {},
     "output_type": "display_data"
    },
    {
     "name": "stdout",
     "output_type": "stream",
     "text": [
      "\n",
      "Общая информация о данных, наименования столбцов, типы данных:\n",
      "<class 'pandas.core.frame.DataFrame'>\n",
      "RangeIndex: 62 entries, 0 to 61\n",
      "Data columns (total 3 columns):\n",
      " #   Column    Non-Null Count  Dtype \n",
      "---  ------    --------------  ----- \n",
      " 0   date      62 non-null     object\n",
      " 1   group     62 non-null     object\n",
      " 2   visitors  62 non-null     int64 \n",
      "dtypes: int64(1), object(2)\n",
      "memory usage: 1.6+ KB\n",
      "None\n",
      "\n",
      "Есть ли пропуски, сколько их:\n",
      "date        0\n",
      "group       0\n",
      "visitors    0\n",
      "dtype: int64\n",
      "Доля пропущенных значений:\n",
      "date        0.0\n",
      "group       0.0\n",
      "visitors    0.0\n",
      "dtype: float64\n",
      "\n",
      "Есть ли явные дубликаты, сколько их:\n",
      "0\n",
      "Доля явных дубликатов:\n",
      "0.0\n",
      "\n",
      "Подробное описание данных:\n"
     ]
    },
    {
     "data": {
      "text/html": [
       "<div>\n",
       "<style scoped>\n",
       "    .dataframe tbody tr th:only-of-type {\n",
       "        vertical-align: middle;\n",
       "    }\n",
       "\n",
       "    .dataframe tbody tr th {\n",
       "        vertical-align: top;\n",
       "    }\n",
       "\n",
       "    .dataframe thead th {\n",
       "        text-align: right;\n",
       "    }\n",
       "</style>\n",
       "<table border=\"1\" class=\"dataframe\">\n",
       "  <thead>\n",
       "    <tr style=\"text-align: right;\">\n",
       "      <th></th>\n",
       "      <th>visitors</th>\n",
       "    </tr>\n",
       "  </thead>\n",
       "  <tbody>\n",
       "    <tr>\n",
       "      <th>count</th>\n",
       "      <td>62.000000</td>\n",
       "    </tr>\n",
       "    <tr>\n",
       "      <th>mean</th>\n",
       "      <td>607.290323</td>\n",
       "    </tr>\n",
       "    <tr>\n",
       "      <th>std</th>\n",
       "      <td>114.400560</td>\n",
       "    </tr>\n",
       "    <tr>\n",
       "      <th>min</th>\n",
       "      <td>361.000000</td>\n",
       "    </tr>\n",
       "    <tr>\n",
       "      <th>25%</th>\n",
       "      <td>534.000000</td>\n",
       "    </tr>\n",
       "    <tr>\n",
       "      <th>50%</th>\n",
       "      <td>624.500000</td>\n",
       "    </tr>\n",
       "    <tr>\n",
       "      <th>75%</th>\n",
       "      <td>710.500000</td>\n",
       "    </tr>\n",
       "    <tr>\n",
       "      <th>max</th>\n",
       "      <td>770.000000</td>\n",
       "    </tr>\n",
       "  </tbody>\n",
       "</table>\n",
       "</div>"
      ],
      "text/plain": [
       "         visitors\n",
       "count   62.000000\n",
       "mean   607.290323\n",
       "std    114.400560\n",
       "min    361.000000\n",
       "25%    534.000000\n",
       "50%    624.500000\n",
       "75%    710.500000\n",
       "max    770.000000"
      ]
     },
     "metadata": {},
     "output_type": "display_data"
    }
   ],
   "source": [
    "my_check_function(visitors)"
   ]
  },
  {
   "cell_type": "markdown",
   "id": "adbbc378",
   "metadata": {},
   "source": [
    "### Вывод"
   ]
  },
  {
   "cell_type": "markdown",
   "id": "06cdb22a",
   "metadata": {},
   "source": [
    "На первый взгляд проблем в данных нет, для дальнейшей работы необходимо только преобразовать формат данных, связанных со временем - это столбцы 'date' в таблицах orders и visitors."
   ]
  },
  {
   "cell_type": "markdown",
   "id": "2b16f911",
   "metadata": {},
   "source": [
    "## Предобработка данных"
   ]
  },
  {
   "cell_type": "code",
   "execution_count": 9,
   "id": "f22fe852",
   "metadata": {},
   "outputs": [],
   "source": [
    "orders['date'] = pd.to_datetime(orders['date'], format='%Y-%m-%d')"
   ]
  },
  {
   "cell_type": "code",
   "execution_count": 10,
   "id": "5f9a809f",
   "metadata": {},
   "outputs": [],
   "source": [
    "visitors['date'] = pd.to_datetime(visitors['date'], format='%Y-%m-%d')"
   ]
  },
  {
   "cell_type": "markdown",
   "id": "d269753b",
   "metadata": {},
   "source": [
    "Можно ещё проверить данные на скрытые дубликаты. Например, есть ли у нас дубликаты идентификаторов заказов:"
   ]
  },
  {
   "cell_type": "code",
   "execution_count": 11,
   "id": "bb8f8947",
   "metadata": {
    "scrolled": true
   },
   "outputs": [
    {
     "data": {
      "text/plain": [
       "0"
      ]
     },
     "execution_count": 11,
     "metadata": {},
     "output_type": "execute_result"
    }
   ],
   "source": [
    "orders['transactionId'].duplicated().sum()"
   ]
  },
  {
   "cell_type": "markdown",
   "id": "75299153",
   "metadata": {},
   "source": [
    "Итак, у нас нет дубликатов в идентификаторах заказов, но, возможно, есть скрытые дубликаты среди других столбцов. Например, было бы странно, если один и тот же покупатель в одну и ту же дату делал бы покупку на одну и ту же сумму:"
   ]
  },
  {
   "cell_type": "code",
   "execution_count": 12,
   "id": "05e8e6c0",
   "metadata": {
    "scrolled": false
   },
   "outputs": [
    {
     "data": {
      "text/html": [
       "<div>\n",
       "<style scoped>\n",
       "    .dataframe tbody tr th:only-of-type {\n",
       "        vertical-align: middle;\n",
       "    }\n",
       "\n",
       "    .dataframe tbody tr th {\n",
       "        vertical-align: top;\n",
       "    }\n",
       "\n",
       "    .dataframe thead th {\n",
       "        text-align: right;\n",
       "    }\n",
       "</style>\n",
       "<table border=\"1\" class=\"dataframe\">\n",
       "  <thead>\n",
       "    <tr style=\"text-align: right;\">\n",
       "      <th></th>\n",
       "      <th>transactionId</th>\n",
       "      <th>visitorId</th>\n",
       "      <th>date</th>\n",
       "      <th>revenue</th>\n",
       "      <th>group</th>\n",
       "    </tr>\n",
       "  </thead>\n",
       "  <tbody>\n",
       "    <tr>\n",
       "      <th>556</th>\n",
       "      <td>571224785</td>\n",
       "      <td>3941503500</td>\n",
       "      <td>2019-08-06</td>\n",
       "      <td>4990</td>\n",
       "      <td>B</td>\n",
       "    </tr>\n",
       "    <tr>\n",
       "      <th>558</th>\n",
       "      <td>3621273697</td>\n",
       "      <td>3941503500</td>\n",
       "      <td>2019-08-06</td>\n",
       "      <td>4990</td>\n",
       "      <td>B</td>\n",
       "    </tr>\n",
       "    <tr>\n",
       "      <th>662</th>\n",
       "      <td>1811671147</td>\n",
       "      <td>4266935830</td>\n",
       "      <td>2019-08-29</td>\n",
       "      <td>78990</td>\n",
       "      <td>A</td>\n",
       "    </tr>\n",
       "    <tr>\n",
       "      <th>682</th>\n",
       "      <td>1216533772</td>\n",
       "      <td>4266935830</td>\n",
       "      <td>2019-08-29</td>\n",
       "      <td>78990</td>\n",
       "      <td>B</td>\n",
       "    </tr>\n",
       "    <tr>\n",
       "      <th>970</th>\n",
       "      <td>3478707774</td>\n",
       "      <td>2587333274</td>\n",
       "      <td>2019-08-08</td>\n",
       "      <td>3600</td>\n",
       "      <td>A</td>\n",
       "    </tr>\n",
       "    <tr>\n",
       "      <th>972</th>\n",
       "      <td>2419539947</td>\n",
       "      <td>2587333274</td>\n",
       "      <td>2019-08-08</td>\n",
       "      <td>3600</td>\n",
       "      <td>B</td>\n",
       "    </tr>\n",
       "  </tbody>\n",
       "</table>\n",
       "</div>"
      ],
      "text/plain": [
       "     transactionId   visitorId       date  revenue group\n",
       "556      571224785  3941503500 2019-08-06     4990     B\n",
       "558     3621273697  3941503500 2019-08-06     4990     B\n",
       "662     1811671147  4266935830 2019-08-29    78990     A\n",
       "682     1216533772  4266935830 2019-08-29    78990     B\n",
       "970     3478707774  2587333274 2019-08-08     3600     A\n",
       "972     2419539947  2587333274 2019-08-08     3600     B"
      ]
     },
     "execution_count": 12,
     "metadata": {},
     "output_type": "execute_result"
    }
   ],
   "source": [
    "orders[orders.duplicated(subset=['visitorId', 'date','revenue'], keep=False)]"
   ]
  },
  {
   "cell_type": "markdown",
   "id": "dcae631f",
   "metadata": {},
   "source": [
    "Действительно, странные случаи есть, причём самое важное здесь для нас - что такие случаи дублируются в разные группы теста! Это явно ненормально и  дальнейшем это помешает объективному анализу результатов теста."
   ]
  },
  {
   "cell_type": "markdown",
   "id": "0600f4b2",
   "metadata": {},
   "source": [
    "Проверим корректность разбиения пользователей на группы. "
   ]
  },
  {
   "cell_type": "markdown",
   "id": "9f930d4b",
   "metadata": {},
   "source": [
    "Создадим датафрейм с парами значений 'visitorId' и 'group', удалим в нём явные дубликаты:"
   ]
  },
  {
   "cell_type": "code",
   "execution_count": 13,
   "id": "cffd9928",
   "metadata": {},
   "outputs": [
    {
     "data": {
      "text/html": [
       "<div>\n",
       "<style scoped>\n",
       "    .dataframe tbody tr th:only-of-type {\n",
       "        vertical-align: middle;\n",
       "    }\n",
       "\n",
       "    .dataframe tbody tr th {\n",
       "        vertical-align: top;\n",
       "    }\n",
       "\n",
       "    .dataframe thead th {\n",
       "        text-align: right;\n",
       "    }\n",
       "</style>\n",
       "<table border=\"1\" class=\"dataframe\">\n",
       "  <thead>\n",
       "    <tr style=\"text-align: right;\">\n",
       "      <th></th>\n",
       "      <th>visitorId</th>\n",
       "      <th>group</th>\n",
       "    </tr>\n",
       "  </thead>\n",
       "  <tbody>\n",
       "    <tr>\n",
       "      <th>56</th>\n",
       "      <td>5114589</td>\n",
       "      <td>B</td>\n",
       "    </tr>\n",
       "    <tr>\n",
       "      <th>573</th>\n",
       "      <td>6958315</td>\n",
       "      <td>B</td>\n",
       "    </tr>\n",
       "    <tr>\n",
       "      <th>703</th>\n",
       "      <td>8300375</td>\n",
       "      <td>A</td>\n",
       "    </tr>\n",
       "    <tr>\n",
       "      <th>71</th>\n",
       "      <td>8300375</td>\n",
       "      <td>B</td>\n",
       "    </tr>\n",
       "    <tr>\n",
       "      <th>233</th>\n",
       "      <td>11685486</td>\n",
       "      <td>A</td>\n",
       "    </tr>\n",
       "    <tr>\n",
       "      <th>...</th>\n",
       "      <td>...</td>\n",
       "      <td>...</td>\n",
       "    </tr>\n",
       "    <tr>\n",
       "      <th>682</th>\n",
       "      <td>4266935830</td>\n",
       "      <td>B</td>\n",
       "    </tr>\n",
       "    <tr>\n",
       "      <th>886</th>\n",
       "      <td>4278982564</td>\n",
       "      <td>A</td>\n",
       "    </tr>\n",
       "    <tr>\n",
       "      <th>576</th>\n",
       "      <td>4279090005</td>\n",
       "      <td>B</td>\n",
       "    </tr>\n",
       "    <tr>\n",
       "      <th>392</th>\n",
       "      <td>4281247801</td>\n",
       "      <td>B</td>\n",
       "    </tr>\n",
       "    <tr>\n",
       "      <th>974</th>\n",
       "      <td>4283872382</td>\n",
       "      <td>B</td>\n",
       "    </tr>\n",
       "  </tbody>\n",
       "</table>\n",
       "<p>1089 rows × 2 columns</p>\n",
       "</div>"
      ],
      "text/plain": [
       "      visitorId group\n",
       "56      5114589     B\n",
       "573     6958315     B\n",
       "703     8300375     A\n",
       "71      8300375     B\n",
       "233    11685486     A\n",
       "..          ...   ...\n",
       "682  4266935830     B\n",
       "886  4278982564     A\n",
       "576  4279090005     B\n",
       "392  4281247801     B\n",
       "974  4283872382     B\n",
       "\n",
       "[1089 rows x 2 columns]"
      ]
     },
     "execution_count": 13,
     "metadata": {},
     "output_type": "execute_result"
    }
   ],
   "source": [
    "visitorsGroups = orders[['visitorId', 'group']].drop_duplicates()\n",
    "visitorsGroups.sort_values(by=['visitorId','group'])"
   ]
  },
  {
   "cell_type": "markdown",
   "id": "acdab5e9",
   "metadata": {},
   "source": [
    "Мы уже знаем, что в данных есть пользователи, которые попали в обе группы сразу. Теперь посчитаем, сколько подобных случаев:"
   ]
  },
  {
   "cell_type": "code",
   "execution_count": 14,
   "id": "844f341d",
   "metadata": {},
   "outputs": [
    {
     "data": {
      "text/plain": [
       "58"
      ]
     },
     "execution_count": 14,
     "metadata": {},
     "output_type": "execute_result"
    }
   ],
   "source": [
    "visitorsGroups['visitorId'].duplicated().sum()"
   ]
  },
  {
   "cell_type": "markdown",
   "id": "557a7bd1",
   "metadata": {},
   "source": [
    "У нас 58 случаев, когда один и тот же пользователь попал и в группу А, и в группу В. Выделим этих пользователей:"
   ]
  },
  {
   "cell_type": "code",
   "execution_count": 15,
   "id": "c1c0bacd",
   "metadata": {},
   "outputs": [
    {
     "data": {
      "text/plain": [
       "58"
      ]
     },
     "execution_count": 15,
     "metadata": {},
     "output_type": "execute_result"
    }
   ],
   "source": [
    "visitorsDuplicated = (visitorsGroups[visitorsGroups['visitorId'].duplicated(keep=False)]\n",
    "                                                                .sort_values(by=['visitorId', 'group']))\n",
    "visitorsDuplicated = visitorsDuplicated['visitorId'].drop_duplicates()\n",
    "len(visitorsDuplicated)"
   ]
  },
  {
   "cell_type": "markdown",
   "id": "411e921a",
   "metadata": {},
   "source": [
    "Посмотрим, сколько у нас останется данных без этих пользователей:"
   ]
  },
  {
   "cell_type": "code",
   "execution_count": 16,
   "id": "836f4387",
   "metadata": {
    "scrolled": false
   },
   "outputs": [
    {
     "data": {
      "text/plain": [
       "1016"
      ]
     },
     "execution_count": 16,
     "metadata": {},
     "output_type": "execute_result"
    }
   ],
   "source": [
    "orders_new = orders[np.logical_not(orders['visitorId'].isin(visitorsDuplicated))]\n",
    "len(orders_new)"
   ]
  },
  {
   "cell_type": "markdown",
   "id": "ffec0b6d",
   "metadata": {},
   "source": [
    "Посчитаем, какой процент данных составляют данные с \"продублированными\" пользователями от общего объёма данных:"
   ]
  },
  {
   "cell_type": "code",
   "execution_count": 17,
   "id": "abeb12f3",
   "metadata": {},
   "outputs": [
    {
     "data": {
      "text/plain": [
       "15.121136173767752"
      ]
     },
     "execution_count": 17,
     "metadata": {},
     "output_type": "execute_result"
    }
   ],
   "source": [
    "(len(orders) - len(orders_new)) / len(orders) *100"
   ]
  },
  {
   "cell_type": "markdown",
   "id": "be276f93",
   "metadata": {},
   "source": [
    "Многовато, но ради корректного анализа результатов А/В-теста придётся их удалить. Перепишем переменные:"
   ]
  },
  {
   "cell_type": "code",
   "execution_count": 18,
   "id": "0fa09212",
   "metadata": {},
   "outputs": [],
   "source": [
    "orders_raw = orders\n",
    "orders = orders_new"
   ]
  },
  {
   "cell_type": "markdown",
   "id": "6129a8e6",
   "metadata": {},
   "source": [
    "### Вывод"
   ]
  },
  {
   "cell_type": "markdown",
   "id": "06b2a505",
   "metadata": {},
   "source": [
    "В результате предобработки данных:\n",
    "- был изменён формат данных, связанных со временем\n",
    "- были обнаружены скрытые дубликаты среди данных о пользователях: 58 пользователей попали и в группу А, и в группу В\n",
    "- данные в таблице orders о таких пользователях не будут браться в работу при статистических тестах и анализе А/В-теста"
   ]
  },
  {
   "cell_type": "markdown",
   "id": "686d7dc2",
   "metadata": {},
   "source": [
    "## Приоритизация гипотез"
   ]
  },
  {
   "cell_type": "markdown",
   "id": "9b8f4767",
   "metadata": {},
   "source": [
    "Сделаем настройку, чтобы посмотреть текст столбца целиком:"
   ]
  },
  {
   "cell_type": "code",
   "execution_count": 19,
   "id": "cab7ce78",
   "metadata": {},
   "outputs": [],
   "source": [
    "pd.set_option('display.max_colwidth', None)"
   ]
  },
  {
   "cell_type": "markdown",
   "id": "58d5a8e9",
   "metadata": {},
   "source": [
    "Посмотрим на гипотезы:"
   ]
  },
  {
   "cell_type": "code",
   "execution_count": 20,
   "id": "593dfe34",
   "metadata": {
    "scrolled": false
   },
   "outputs": [
    {
     "data": {
      "text/html": [
       "<div>\n",
       "<style scoped>\n",
       "    .dataframe tbody tr th:only-of-type {\n",
       "        vertical-align: middle;\n",
       "    }\n",
       "\n",
       "    .dataframe tbody tr th {\n",
       "        vertical-align: top;\n",
       "    }\n",
       "\n",
       "    .dataframe thead th {\n",
       "        text-align: right;\n",
       "    }\n",
       "</style>\n",
       "<table border=\"1\" class=\"dataframe\">\n",
       "  <thead>\n",
       "    <tr style=\"text-align: right;\">\n",
       "      <th></th>\n",
       "      <th>Hypothesis</th>\n",
       "      <th>Reach</th>\n",
       "      <th>Impact</th>\n",
       "      <th>Confidence</th>\n",
       "      <th>Efforts</th>\n",
       "    </tr>\n",
       "  </thead>\n",
       "  <tbody>\n",
       "    <tr>\n",
       "      <th>0</th>\n",
       "      <td>Добавить два новых канала привлечения трафика, что позволит привлекать на 30% больше пользователей</td>\n",
       "      <td>3</td>\n",
       "      <td>10</td>\n",
       "      <td>8</td>\n",
       "      <td>6</td>\n",
       "    </tr>\n",
       "    <tr>\n",
       "      <th>1</th>\n",
       "      <td>Запустить собственную службу доставки, что сократит срок доставки заказов</td>\n",
       "      <td>2</td>\n",
       "      <td>5</td>\n",
       "      <td>4</td>\n",
       "      <td>10</td>\n",
       "    </tr>\n",
       "    <tr>\n",
       "      <th>2</th>\n",
       "      <td>Добавить блоки рекомендаций товаров на сайт интернет магазина, чтобы повысить конверсию и средний чек заказа</td>\n",
       "      <td>8</td>\n",
       "      <td>3</td>\n",
       "      <td>7</td>\n",
       "      <td>3</td>\n",
       "    </tr>\n",
       "    <tr>\n",
       "      <th>3</th>\n",
       "      <td>Изменить структура категорий, что увеличит конверсию, т.к. пользователи быстрее найдут нужный товар</td>\n",
       "      <td>8</td>\n",
       "      <td>3</td>\n",
       "      <td>3</td>\n",
       "      <td>8</td>\n",
       "    </tr>\n",
       "    <tr>\n",
       "      <th>4</th>\n",
       "      <td>Изменить цвет фона главной страницы, чтобы увеличить вовлеченность пользователей</td>\n",
       "      <td>3</td>\n",
       "      <td>1</td>\n",
       "      <td>1</td>\n",
       "      <td>1</td>\n",
       "    </tr>\n",
       "    <tr>\n",
       "      <th>5</th>\n",
       "      <td>Добавить страницу отзывов клиентов о магазине, что позволит увеличить количество заказов</td>\n",
       "      <td>3</td>\n",
       "      <td>2</td>\n",
       "      <td>2</td>\n",
       "      <td>3</td>\n",
       "    </tr>\n",
       "    <tr>\n",
       "      <th>6</th>\n",
       "      <td>Показать на главной странице баннеры с актуальными акциями и распродажами, чтобы увеличить конверсию</td>\n",
       "      <td>5</td>\n",
       "      <td>3</td>\n",
       "      <td>8</td>\n",
       "      <td>3</td>\n",
       "    </tr>\n",
       "    <tr>\n",
       "      <th>7</th>\n",
       "      <td>Добавить форму подписки на все основные страницы, чтобы собрать базу клиентов для email-рассылок</td>\n",
       "      <td>10</td>\n",
       "      <td>7</td>\n",
       "      <td>8</td>\n",
       "      <td>5</td>\n",
       "    </tr>\n",
       "    <tr>\n",
       "      <th>8</th>\n",
       "      <td>Запустить акцию, дающую скидку на товар в день рождения</td>\n",
       "      <td>1</td>\n",
       "      <td>9</td>\n",
       "      <td>9</td>\n",
       "      <td>5</td>\n",
       "    </tr>\n",
       "  </tbody>\n",
       "</table>\n",
       "</div>"
      ],
      "text/plain": [
       "                                                                                                     Hypothesis  \\\n",
       "0            Добавить два новых канала привлечения трафика, что позволит привлекать на 30% больше пользователей   \n",
       "1                                     Запустить собственную службу доставки, что сократит срок доставки заказов   \n",
       "2  Добавить блоки рекомендаций товаров на сайт интернет магазина, чтобы повысить конверсию и средний чек заказа   \n",
       "3           Изменить структура категорий, что увеличит конверсию, т.к. пользователи быстрее найдут нужный товар   \n",
       "4                              Изменить цвет фона главной страницы, чтобы увеличить вовлеченность пользователей   \n",
       "5                      Добавить страницу отзывов клиентов о магазине, что позволит увеличить количество заказов   \n",
       "6          Показать на главной странице баннеры с актуальными акциями и распродажами, чтобы увеличить конверсию   \n",
       "7              Добавить форму подписки на все основные страницы, чтобы собрать базу клиентов для email-рассылок   \n",
       "8                                                       Запустить акцию, дающую скидку на товар в день рождения   \n",
       "\n",
       "   Reach  Impact  Confidence  Efforts  \n",
       "0      3      10           8        6  \n",
       "1      2       5           4       10  \n",
       "2      8       3           7        3  \n",
       "3      8       3           3        8  \n",
       "4      3       1           1        1  \n",
       "5      3       2           2        3  \n",
       "6      5       3           8        3  \n",
       "7     10       7           8        5  \n",
       "8      1       9           9        5  "
      ]
     },
     "execution_count": 20,
     "metadata": {},
     "output_type": "execute_result"
    }
   ],
   "source": [
    "hypothesis"
   ]
  },
  {
   "cell_type": "markdown",
   "id": "3fcb15f4",
   "metadata": {},
   "source": [
    "Как мы видим, для всех гипотез уже расставлены баллы по показателям, необходимым для применения фреймворков. Нам остаётся только сделать расчёты и отсортировать список по убыванию оценок, чтобы выявить приоритетные гипотезы."
   ]
  },
  {
   "cell_type": "markdown",
   "id": "0b3a4f6e",
   "metadata": {},
   "source": [
    "Для удобства добавим каждой гипотезе её порядковый номер:"
   ]
  },
  {
   "cell_type": "code",
   "execution_count": 21,
   "id": "80abc7db",
   "metadata": {
    "scrolled": true
   },
   "outputs": [],
   "source": [
    "hypothesis.insert(1, 'Hyp_number', list(range(1, 10)))"
   ]
  },
  {
   "cell_type": "code",
   "execution_count": 22,
   "id": "9ef85e98",
   "metadata": {},
   "outputs": [],
   "source": [
    "hypothesis['Hyp_number'] = hypothesis['Hyp_number'].apply(lambda x: f'number_{x}')"
   ]
  },
  {
   "cell_type": "code",
   "execution_count": 23,
   "id": "c144a916",
   "metadata": {
    "scrolled": true
   },
   "outputs": [
    {
     "data": {
      "text/html": [
       "<div>\n",
       "<style scoped>\n",
       "    .dataframe tbody tr th:only-of-type {\n",
       "        vertical-align: middle;\n",
       "    }\n",
       "\n",
       "    .dataframe tbody tr th {\n",
       "        vertical-align: top;\n",
       "    }\n",
       "\n",
       "    .dataframe thead th {\n",
       "        text-align: right;\n",
       "    }\n",
       "</style>\n",
       "<table border=\"1\" class=\"dataframe\">\n",
       "  <thead>\n",
       "    <tr style=\"text-align: right;\">\n",
       "      <th></th>\n",
       "      <th>Hypothesis</th>\n",
       "      <th>Hyp_number</th>\n",
       "      <th>Reach</th>\n",
       "      <th>Impact</th>\n",
       "      <th>Confidence</th>\n",
       "      <th>Efforts</th>\n",
       "    </tr>\n",
       "  </thead>\n",
       "  <tbody>\n",
       "    <tr>\n",
       "      <th>0</th>\n",
       "      <td>Добавить два новых канала привлечения трафика, что позволит привлекать на 30% больше пользователей</td>\n",
       "      <td>number_1</td>\n",
       "      <td>3</td>\n",
       "      <td>10</td>\n",
       "      <td>8</td>\n",
       "      <td>6</td>\n",
       "    </tr>\n",
       "    <tr>\n",
       "      <th>1</th>\n",
       "      <td>Запустить собственную службу доставки, что сократит срок доставки заказов</td>\n",
       "      <td>number_2</td>\n",
       "      <td>2</td>\n",
       "      <td>5</td>\n",
       "      <td>4</td>\n",
       "      <td>10</td>\n",
       "    </tr>\n",
       "    <tr>\n",
       "      <th>2</th>\n",
       "      <td>Добавить блоки рекомендаций товаров на сайт интернет магазина, чтобы повысить конверсию и средний чек заказа</td>\n",
       "      <td>number_3</td>\n",
       "      <td>8</td>\n",
       "      <td>3</td>\n",
       "      <td>7</td>\n",
       "      <td>3</td>\n",
       "    </tr>\n",
       "    <tr>\n",
       "      <th>3</th>\n",
       "      <td>Изменить структура категорий, что увеличит конверсию, т.к. пользователи быстрее найдут нужный товар</td>\n",
       "      <td>number_4</td>\n",
       "      <td>8</td>\n",
       "      <td>3</td>\n",
       "      <td>3</td>\n",
       "      <td>8</td>\n",
       "    </tr>\n",
       "    <tr>\n",
       "      <th>4</th>\n",
       "      <td>Изменить цвет фона главной страницы, чтобы увеличить вовлеченность пользователей</td>\n",
       "      <td>number_5</td>\n",
       "      <td>3</td>\n",
       "      <td>1</td>\n",
       "      <td>1</td>\n",
       "      <td>1</td>\n",
       "    </tr>\n",
       "    <tr>\n",
       "      <th>5</th>\n",
       "      <td>Добавить страницу отзывов клиентов о магазине, что позволит увеличить количество заказов</td>\n",
       "      <td>number_6</td>\n",
       "      <td>3</td>\n",
       "      <td>2</td>\n",
       "      <td>2</td>\n",
       "      <td>3</td>\n",
       "    </tr>\n",
       "    <tr>\n",
       "      <th>6</th>\n",
       "      <td>Показать на главной странице баннеры с актуальными акциями и распродажами, чтобы увеличить конверсию</td>\n",
       "      <td>number_7</td>\n",
       "      <td>5</td>\n",
       "      <td>3</td>\n",
       "      <td>8</td>\n",
       "      <td>3</td>\n",
       "    </tr>\n",
       "    <tr>\n",
       "      <th>7</th>\n",
       "      <td>Добавить форму подписки на все основные страницы, чтобы собрать базу клиентов для email-рассылок</td>\n",
       "      <td>number_8</td>\n",
       "      <td>10</td>\n",
       "      <td>7</td>\n",
       "      <td>8</td>\n",
       "      <td>5</td>\n",
       "    </tr>\n",
       "    <tr>\n",
       "      <th>8</th>\n",
       "      <td>Запустить акцию, дающую скидку на товар в день рождения</td>\n",
       "      <td>number_9</td>\n",
       "      <td>1</td>\n",
       "      <td>9</td>\n",
       "      <td>9</td>\n",
       "      <td>5</td>\n",
       "    </tr>\n",
       "  </tbody>\n",
       "</table>\n",
       "</div>"
      ],
      "text/plain": [
       "                                                                                                     Hypothesis  \\\n",
       "0            Добавить два новых канала привлечения трафика, что позволит привлекать на 30% больше пользователей   \n",
       "1                                     Запустить собственную службу доставки, что сократит срок доставки заказов   \n",
       "2  Добавить блоки рекомендаций товаров на сайт интернет магазина, чтобы повысить конверсию и средний чек заказа   \n",
       "3           Изменить структура категорий, что увеличит конверсию, т.к. пользователи быстрее найдут нужный товар   \n",
       "4                              Изменить цвет фона главной страницы, чтобы увеличить вовлеченность пользователей   \n",
       "5                      Добавить страницу отзывов клиентов о магазине, что позволит увеличить количество заказов   \n",
       "6          Показать на главной странице баннеры с актуальными акциями и распродажами, чтобы увеличить конверсию   \n",
       "7              Добавить форму подписки на все основные страницы, чтобы собрать базу клиентов для email-рассылок   \n",
       "8                                                       Запустить акцию, дающую скидку на товар в день рождения   \n",
       "\n",
       "  Hyp_number  Reach  Impact  Confidence  Efforts  \n",
       "0   number_1      3      10           8        6  \n",
       "1   number_2      2       5           4       10  \n",
       "2   number_3      8       3           7        3  \n",
       "3   number_4      8       3           3        8  \n",
       "4   number_5      3       1           1        1  \n",
       "5   number_6      3       2           2        3  \n",
       "6   number_7      5       3           8        3  \n",
       "7   number_8     10       7           8        5  \n",
       "8   number_9      1       9           9        5  "
      ]
     },
     "execution_count": 23,
     "metadata": {},
     "output_type": "execute_result"
    }
   ],
   "source": [
    "hypothesis"
   ]
  },
  {
   "cell_type": "markdown",
   "id": "4628904f",
   "metadata": {},
   "source": [
    "### фреймворк ICE "
   ]
  },
  {
   "attachments": {
    "ICE_score.png": {
     "image/png": "[encoded data removed]"
    }
   },
   "cell_type": "markdown",
   "id": "f7c0e21d",
   "metadata": {},
   "source": [
    "![ICE_score.png](attachment:ICE_score.png)"
   ]
  },
  {
   "cell_type": "code",
   "execution_count": 24,
   "id": "0fd1cdc8",
   "metadata": {},
   "outputs": [],
   "source": [
    "hypothesis['ICE'] = hypothesis['Impact'] * hypothesis['Confidence'] / hypothesis['Efforts']"
   ]
  },
  {
   "cell_type": "code",
   "execution_count": 25,
   "id": "f076c17f",
   "metadata": {},
   "outputs": [
    {
     "data": {
      "text/html": [
       "<div>\n",
       "<style scoped>\n",
       "    .dataframe tbody tr th:only-of-type {\n",
       "        vertical-align: middle;\n",
       "    }\n",
       "\n",
       "    .dataframe tbody tr th {\n",
       "        vertical-align: top;\n",
       "    }\n",
       "\n",
       "    .dataframe thead th {\n",
       "        text-align: right;\n",
       "    }\n",
       "</style>\n",
       "<table border=\"1\" class=\"dataframe\">\n",
       "  <thead>\n",
       "    <tr style=\"text-align: right;\">\n",
       "      <th></th>\n",
       "      <th>Hypothesis</th>\n",
       "      <th>Hyp_number</th>\n",
       "      <th>Reach</th>\n",
       "      <th>Impact</th>\n",
       "      <th>Confidence</th>\n",
       "      <th>Efforts</th>\n",
       "      <th>ICE</th>\n",
       "      <th>ICE_score</th>\n",
       "    </tr>\n",
       "  </thead>\n",
       "  <tbody>\n",
       "    <tr>\n",
       "      <th>8</th>\n",
       "      <td>Запустить акцию, дающую скидку на товар в день рождения</td>\n",
       "      <td>number_9</td>\n",
       "      <td>1</td>\n",
       "      <td>9</td>\n",
       "      <td>9</td>\n",
       "      <td>5</td>\n",
       "      <td>16.200000</td>\n",
       "      <td>1</td>\n",
       "    </tr>\n",
       "    <tr>\n",
       "      <th>0</th>\n",
       "      <td>Добавить два новых канала привлечения трафика, что позволит привлекать на 30% больше пользователей</td>\n",
       "      <td>number_1</td>\n",
       "      <td>3</td>\n",
       "      <td>10</td>\n",
       "      <td>8</td>\n",
       "      <td>6</td>\n",
       "      <td>13.333333</td>\n",
       "      <td>2</td>\n",
       "    </tr>\n",
       "    <tr>\n",
       "      <th>7</th>\n",
       "      <td>Добавить форму подписки на все основные страницы, чтобы собрать базу клиентов для email-рассылок</td>\n",
       "      <td>number_8</td>\n",
       "      <td>10</td>\n",
       "      <td>7</td>\n",
       "      <td>8</td>\n",
       "      <td>5</td>\n",
       "      <td>11.200000</td>\n",
       "      <td>3</td>\n",
       "    </tr>\n",
       "    <tr>\n",
       "      <th>6</th>\n",
       "      <td>Показать на главной странице баннеры с актуальными акциями и распродажами, чтобы увеличить конверсию</td>\n",
       "      <td>number_7</td>\n",
       "      <td>5</td>\n",
       "      <td>3</td>\n",
       "      <td>8</td>\n",
       "      <td>3</td>\n",
       "      <td>8.000000</td>\n",
       "      <td>4</td>\n",
       "    </tr>\n",
       "    <tr>\n",
       "      <th>2</th>\n",
       "      <td>Добавить блоки рекомендаций товаров на сайт интернет магазина, чтобы повысить конверсию и средний чек заказа</td>\n",
       "      <td>number_3</td>\n",
       "      <td>8</td>\n",
       "      <td>3</td>\n",
       "      <td>7</td>\n",
       "      <td>3</td>\n",
       "      <td>7.000000</td>\n",
       "      <td>5</td>\n",
       "    </tr>\n",
       "    <tr>\n",
       "      <th>1</th>\n",
       "      <td>Запустить собственную службу доставки, что сократит срок доставки заказов</td>\n",
       "      <td>number_2</td>\n",
       "      <td>2</td>\n",
       "      <td>5</td>\n",
       "      <td>4</td>\n",
       "      <td>10</td>\n",
       "      <td>2.000000</td>\n",
       "      <td>6</td>\n",
       "    </tr>\n",
       "    <tr>\n",
       "      <th>5</th>\n",
       "      <td>Добавить страницу отзывов клиентов о магазине, что позволит увеличить количество заказов</td>\n",
       "      <td>number_6</td>\n",
       "      <td>3</td>\n",
       "      <td>2</td>\n",
       "      <td>2</td>\n",
       "      <td>3</td>\n",
       "      <td>1.333333</td>\n",
       "      <td>7</td>\n",
       "    </tr>\n",
       "    <tr>\n",
       "      <th>3</th>\n",
       "      <td>Изменить структура категорий, что увеличит конверсию, т.к. пользователи быстрее найдут нужный товар</td>\n",
       "      <td>number_4</td>\n",
       "      <td>8</td>\n",
       "      <td>3</td>\n",
       "      <td>3</td>\n",
       "      <td>8</td>\n",
       "      <td>1.125000</td>\n",
       "      <td>8</td>\n",
       "    </tr>\n",
       "    <tr>\n",
       "      <th>4</th>\n",
       "      <td>Изменить цвет фона главной страницы, чтобы увеличить вовлеченность пользователей</td>\n",
       "      <td>number_5</td>\n",
       "      <td>3</td>\n",
       "      <td>1</td>\n",
       "      <td>1</td>\n",
       "      <td>1</td>\n",
       "      <td>1.000000</td>\n",
       "      <td>9</td>\n",
       "    </tr>\n",
       "  </tbody>\n",
       "</table>\n",
       "</div>"
      ],
      "text/plain": [
       "                                                                                                     Hypothesis  \\\n",
       "8                                                       Запустить акцию, дающую скидку на товар в день рождения   \n",
       "0            Добавить два новых канала привлечения трафика, что позволит привлекать на 30% больше пользователей   \n",
       "7              Добавить форму подписки на все основные страницы, чтобы собрать базу клиентов для email-рассылок   \n",
       "6          Показать на главной странице баннеры с актуальными акциями и распродажами, чтобы увеличить конверсию   \n",
       "2  Добавить блоки рекомендаций товаров на сайт интернет магазина, чтобы повысить конверсию и средний чек заказа   \n",
       "1                                     Запустить собственную службу доставки, что сократит срок доставки заказов   \n",
       "5                      Добавить страницу отзывов клиентов о магазине, что позволит увеличить количество заказов   \n",
       "3           Изменить структура категорий, что увеличит конверсию, т.к. пользователи быстрее найдут нужный товар   \n",
       "4                              Изменить цвет фона главной страницы, чтобы увеличить вовлеченность пользователей   \n",
       "\n",
       "  Hyp_number  Reach  Impact  Confidence  Efforts        ICE  ICE_score  \n",
       "8   number_9      1       9           9        5  16.200000          1  \n",
       "0   number_1      3      10           8        6  13.333333          2  \n",
       "7   number_8     10       7           8        5  11.200000          3  \n",
       "6   number_7      5       3           8        3   8.000000          4  \n",
       "2   number_3      8       3           7        3   7.000000          5  \n",
       "1   number_2      2       5           4       10   2.000000          6  \n",
       "5   number_6      3       2           2        3   1.333333          7  \n",
       "3   number_4      8       3           3        8   1.125000          8  \n",
       "4   number_5      3       1           1        1   1.000000          9  "
      ]
     },
     "execution_count": 25,
     "metadata": {},
     "output_type": "execute_result"
    }
   ],
   "source": [
    "hypothesis = hypothesis.sort_values(by='ICE', ascending=False)\n",
    "hypothesis['ICE_score'] = list(range(1, 10))\n",
    "hypothesis"
   ]
  },
  {
   "cell_type": "markdown",
   "id": "866f3063",
   "metadata": {},
   "source": [
    "**Вывод:**\n",
    "\n",
    "- наиболее высокие оценки получили ***гипотезы 9, 1, 8*** \n",
    "- средние оценки получили ***гипотезы 7, 3***"
   ]
  },
  {
   "cell_type": "markdown",
   "id": "c378cb5f",
   "metadata": {},
   "source": [
    "### фреймворк RICE"
   ]
  },
  {
   "attachments": {
    "RICE_score.png": {
     "image/png": "[encoded data removed]"
    }
   },
   "cell_type": "markdown",
   "id": "8c425799",
   "metadata": {},
   "source": [
    "![RICE_score.png](attachment:RICE_score.png)"
   ]
  },
  {
   "cell_type": "code",
   "execution_count": 26,
   "id": "693122bb",
   "metadata": {},
   "outputs": [],
   "source": [
    "hypothesis['RICE'] = (hypothesis['Reach'] * hypothesis['Impact'] * hypothesis['Confidence']) / hypothesis['Efforts']"
   ]
  },
  {
   "cell_type": "code",
   "execution_count": 27,
   "id": "30fce442",
   "metadata": {},
   "outputs": [
    {
     "data": {
      "text/html": [
       "<div>\n",
       "<style scoped>\n",
       "    .dataframe tbody tr th:only-of-type {\n",
       "        vertical-align: middle;\n",
       "    }\n",
       "\n",
       "    .dataframe tbody tr th {\n",
       "        vertical-align: top;\n",
       "    }\n",
       "\n",
       "    .dataframe thead th {\n",
       "        text-align: right;\n",
       "    }\n",
       "</style>\n",
       "<table border=\"1\" class=\"dataframe\">\n",
       "  <thead>\n",
       "    <tr style=\"text-align: right;\">\n",
       "      <th></th>\n",
       "      <th>Hypothesis</th>\n",
       "      <th>Hyp_number</th>\n",
       "      <th>Reach</th>\n",
       "      <th>Impact</th>\n",
       "      <th>Confidence</th>\n",
       "      <th>Efforts</th>\n",
       "      <th>ICE</th>\n",
       "      <th>ICE_score</th>\n",
       "      <th>RICE</th>\n",
       "      <th>RICE_score</th>\n",
       "    </tr>\n",
       "  </thead>\n",
       "  <tbody>\n",
       "    <tr>\n",
       "      <th>7</th>\n",
       "      <td>Добавить форму подписки на все основные страницы, чтобы собрать базу клиентов для email-рассылок</td>\n",
       "      <td>number_8</td>\n",
       "      <td>10</td>\n",
       "      <td>7</td>\n",
       "      <td>8</td>\n",
       "      <td>5</td>\n",
       "      <td>11.200000</td>\n",
       "      <td>3</td>\n",
       "      <td>112.0</td>\n",
       "      <td>1</td>\n",
       "    </tr>\n",
       "    <tr>\n",
       "      <th>2</th>\n",
       "      <td>Добавить блоки рекомендаций товаров на сайт интернет магазина, чтобы повысить конверсию и средний чек заказа</td>\n",
       "      <td>number_3</td>\n",
       "      <td>8</td>\n",
       "      <td>3</td>\n",
       "      <td>7</td>\n",
       "      <td>3</td>\n",
       "      <td>7.000000</td>\n",
       "      <td>5</td>\n",
       "      <td>56.0</td>\n",
       "      <td>2</td>\n",
       "    </tr>\n",
       "    <tr>\n",
       "      <th>0</th>\n",
       "      <td>Добавить два новых канала привлечения трафика, что позволит привлекать на 30% больше пользователей</td>\n",
       "      <td>number_1</td>\n",
       "      <td>3</td>\n",
       "      <td>10</td>\n",
       "      <td>8</td>\n",
       "      <td>6</td>\n",
       "      <td>13.333333</td>\n",
       "      <td>2</td>\n",
       "      <td>40.0</td>\n",
       "      <td>3</td>\n",
       "    </tr>\n",
       "    <tr>\n",
       "      <th>6</th>\n",
       "      <td>Показать на главной странице баннеры с актуальными акциями и распродажами, чтобы увеличить конверсию</td>\n",
       "      <td>number_7</td>\n",
       "      <td>5</td>\n",
       "      <td>3</td>\n",
       "      <td>8</td>\n",
       "      <td>3</td>\n",
       "      <td>8.000000</td>\n",
       "      <td>4</td>\n",
       "      <td>40.0</td>\n",
       "      <td>4</td>\n",
       "    </tr>\n",
       "    <tr>\n",
       "      <th>8</th>\n",
       "      <td>Запустить акцию, дающую скидку на товар в день рождения</td>\n",
       "      <td>number_9</td>\n",
       "      <td>1</td>\n",
       "      <td>9</td>\n",
       "      <td>9</td>\n",
       "      <td>5</td>\n",
       "      <td>16.200000</td>\n",
       "      <td>1</td>\n",
       "      <td>16.2</td>\n",
       "      <td>5</td>\n",
       "    </tr>\n",
       "    <tr>\n",
       "      <th>3</th>\n",
       "      <td>Изменить структура категорий, что увеличит конверсию, т.к. пользователи быстрее найдут нужный товар</td>\n",
       "      <td>number_4</td>\n",
       "      <td>8</td>\n",
       "      <td>3</td>\n",
       "      <td>3</td>\n",
       "      <td>8</td>\n",
       "      <td>1.125000</td>\n",
       "      <td>8</td>\n",
       "      <td>9.0</td>\n",
       "      <td>6</td>\n",
       "    </tr>\n",
       "    <tr>\n",
       "      <th>1</th>\n",
       "      <td>Запустить собственную службу доставки, что сократит срок доставки заказов</td>\n",
       "      <td>number_2</td>\n",
       "      <td>2</td>\n",
       "      <td>5</td>\n",
       "      <td>4</td>\n",
       "      <td>10</td>\n",
       "      <td>2.000000</td>\n",
       "      <td>6</td>\n",
       "      <td>4.0</td>\n",
       "      <td>7</td>\n",
       "    </tr>\n",
       "    <tr>\n",
       "      <th>5</th>\n",
       "      <td>Добавить страницу отзывов клиентов о магазине, что позволит увеличить количество заказов</td>\n",
       "      <td>number_6</td>\n",
       "      <td>3</td>\n",
       "      <td>2</td>\n",
       "      <td>2</td>\n",
       "      <td>3</td>\n",
       "      <td>1.333333</td>\n",
       "      <td>7</td>\n",
       "      <td>4.0</td>\n",
       "      <td>8</td>\n",
       "    </tr>\n",
       "    <tr>\n",
       "      <th>4</th>\n",
       "      <td>Изменить цвет фона главной страницы, чтобы увеличить вовлеченность пользователей</td>\n",
       "      <td>number_5</td>\n",
       "      <td>3</td>\n",
       "      <td>1</td>\n",
       "      <td>1</td>\n",
       "      <td>1</td>\n",
       "      <td>1.000000</td>\n",
       "      <td>9</td>\n",
       "      <td>3.0</td>\n",
       "      <td>9</td>\n",
       "    </tr>\n",
       "  </tbody>\n",
       "</table>\n",
       "</div>"
      ],
      "text/plain": [
       "                                                                                                     Hypothesis  \\\n",
       "7              Добавить форму подписки на все основные страницы, чтобы собрать базу клиентов для email-рассылок   \n",
       "2  Добавить блоки рекомендаций товаров на сайт интернет магазина, чтобы повысить конверсию и средний чек заказа   \n",
       "0            Добавить два новых канала привлечения трафика, что позволит привлекать на 30% больше пользователей   \n",
       "6          Показать на главной странице баннеры с актуальными акциями и распродажами, чтобы увеличить конверсию   \n",
       "8                                                       Запустить акцию, дающую скидку на товар в день рождения   \n",
       "3           Изменить структура категорий, что увеличит конверсию, т.к. пользователи быстрее найдут нужный товар   \n",
       "1                                     Запустить собственную службу доставки, что сократит срок доставки заказов   \n",
       "5                      Добавить страницу отзывов клиентов о магазине, что позволит увеличить количество заказов   \n",
       "4                              Изменить цвет фона главной страницы, чтобы увеличить вовлеченность пользователей   \n",
       "\n",
       "  Hyp_number  Reach  Impact  Confidence  Efforts        ICE  ICE_score   RICE  \\\n",
       "7   number_8     10       7           8        5  11.200000          3  112.0   \n",
       "2   number_3      8       3           7        3   7.000000          5   56.0   \n",
       "0   number_1      3      10           8        6  13.333333          2   40.0   \n",
       "6   number_7      5       3           8        3   8.000000          4   40.0   \n",
       "8   number_9      1       9           9        5  16.200000          1   16.2   \n",
       "3   number_4      8       3           3        8   1.125000          8    9.0   \n",
       "1   number_2      2       5           4       10   2.000000          6    4.0   \n",
       "5   number_6      3       2           2        3   1.333333          7    4.0   \n",
       "4   number_5      3       1           1        1   1.000000          9    3.0   \n",
       "\n",
       "   RICE_score  \n",
       "7           1  \n",
       "2           2  \n",
       "0           3  \n",
       "6           4  \n",
       "8           5  \n",
       "3           6  \n",
       "1           7  \n",
       "5           8  \n",
       "4           9  "
      ]
     },
     "execution_count": 27,
     "metadata": {},
     "output_type": "execute_result"
    }
   ],
   "source": [
    "hypothesis = hypothesis.sort_values(by='RICE', ascending=False)\n",
    "hypothesis['RICE_score'] = list(range(1, 10))\n",
    "hypothesis"
   ]
  },
  {
   "cell_type": "markdown",
   "id": "d64c50cb",
   "metadata": {},
   "source": [
    "**Вывод:**\n",
    "\n",
    "- наиболее высокие оценки получила ***гипотеза 8*** \n",
    "- средние оценки получили ***гипотезы 3, 1, 7, 9*** "
   ]
  },
  {
   "cell_type": "markdown",
   "id": "cefa0e90",
   "metadata": {},
   "source": [
    "### Как и почему изменилась приоритизация гипотез при применении RICE вместо ICE"
   ]
  },
  {
   "cell_type": "markdown",
   "id": "72d1ba15",
   "metadata": {},
   "source": [
    "Как мы видим, приоритизация меняется в зависимости от фреймворка:"
   ]
  },
  {
   "cell_type": "code",
   "execution_count": 28,
   "id": "db8f30c9",
   "metadata": {
    "scrolled": false
   },
   "outputs": [
    {
     "data": {
      "image/png": "[encoded data removed]",
      "text/plain": [
       "<Figure size 1080x432 with 2 Axes>"
      ]
     },
     "metadata": {
      "needs_background": "light"
     },
     "output_type": "display_data"
    }
   ],
   "source": [
    "plt.figure(figsize=(15, 6))\n",
    "sns.set(font_scale=1.5)\n",
    "plt.style.use('seaborn-white')\n",
    "plt.suptitle('Приоритизация гипотез меняется в зависимости от фреймворка', fontweight='bold')\n",
    "\n",
    "hypothesis = hypothesis.sort_values(by='ICE', ascending=False)\n",
    "\n",
    "ax1 = plt.subplot(1, 2, 1)\n",
    "sns.barplot(data=hypothesis, x='ICE', y='Hyp_number', color='lightsteelblue')\n",
    "plt.title('ICE', fontweight='bold')\n",
    "plt.xlabel('')\n",
    "plt.ylabel('')\n",
    "\n",
    "ax2 = plt.subplot(1, 2, 2)\n",
    "sns.barplot(data=hypothesis, x='RICE', y='Hyp_number', color='lightsteelblue')\n",
    "plt.title('RICE', fontweight='bold')\n",
    "plt.xlabel('')\n",
    "plt.ylabel('')\n",
    "\n",
    "plt.tight_layout()\n",
    "plt.show();"
   ]
  },
  {
   "cell_type": "markdown",
   "id": "a109bea1",
   "metadata": {},
   "source": [
    "- значения первых пяти гипотез с лучшими баллами в ICE изменились во фреймворке RICE, например, 9-я гипотеза стала иметь небольшое значение, а 8-я шипотеза вышла на первое место с явным отрывом\n",
    "\n",
    "\n",
    "- но есть и общий момент: гипотезы с наименьшими баллами в ICE (номера 2, 6, 4, 5) имеют такое же низкое положение в условном рейтинге RICE"
   ]
  },
  {
   "cell_type": "markdown",
   "id": "37116309",
   "metadata": {},
   "source": [
    "Что же влияет на расстановку? Взглянем на формулы:"
   ]
  },
  {
   "attachments": {
    "2023-01-16_21-49-30.png": {
     "image/png": "[encoded data removed]"
    }
   },
   "cell_type": "markdown",
   "id": "319ed256",
   "metadata": {},
   "source": [
    "![2023-01-16_21-49-30.png](attachment:2023-01-16_21-49-30.png)"
   ]
  },
  {
   "cell_type": "code",
   "execution_count": 29,
   "id": "80d37dd8",
   "metadata": {
    "scrolled": false
   },
   "outputs": [
    {
     "data": {
      "image/png": "[encoded data removed]",
      "text/plain": [
       "<Figure size 1080x432 with 3 Axes>"
      ]
     },
     "metadata": {},
     "output_type": "display_data"
    }
   ],
   "source": [
    "plt.figure(figsize=(15, 6))\n",
    "sns.set(font_scale=1.5)\n",
    "plt.style.use('seaborn-white')\n",
    "plt.suptitle('При переходе в RICE приоритизация меняется из-за добавления параметра Reach', fontweight='bold')\n",
    "\n",
    "ax1 = plt.subplot(1, 3, 1)\n",
    "sns.barplot(data=hypothesis, x='ICE', y='Hyp_number', color='lightsteelblue')\n",
    "plt.title('ICE', fontweight='bold')\n",
    "plt.xlabel('')\n",
    "plt.ylabel('')\n",
    "\n",
    "ax2 = plt.subplot(1, 3, 2)\n",
    "sns.barplot(data=hypothesis, x='Reach', y='Hyp_number', color='seagreen')\n",
    "plt.title('Reach', fontweight='bold')\n",
    "plt.xlabel('')\n",
    "plt.ylabel('')\n",
    "\n",
    "ax3 = plt.subplot(1, 3, 3)\n",
    "sns.barplot(data=hypothesis, x='RICE', y='Hyp_number', color='lightsteelblue')\n",
    "plt.title('RICE', fontweight='bold')\n",
    "plt.xlabel('')\n",
    "plt.ylabel('')\n",
    "\n",
    "plt.tight_layout()\n",
    "plt.show();"
   ]
  },
  {
   "cell_type": "markdown",
   "id": "85d49e97",
   "metadata": {},
   "source": [
    "### Вывод"
   ]
  },
  {
   "cell_type": "markdown",
   "id": "77d74918",
   "metadata": {},
   "source": [
    "- при применении фреймворка RICE вместо ICE меняется приоритизация гипотез. Это происходит из-за добавления параметра Reach, то есть охвата пользователей.\n",
    "\n",
    "\n",
    "- при этом гипотезы, которые в ICE набрали много баллов, при переходе в RICE меняются между собой местами, но остаются на лидирующих позициях. А гипотезы, имеющие низкие баллы в ICE, даже при сильном параметре Reach, не смогли выбраться в топ во фреймворке RICE."
   ]
  },
  {
   "cell_type": "markdown",
   "id": "6018d88b",
   "metadata": {},
   "source": [
    "## Анализ А/В-теста"
   ]
  },
  {
   "cell_type": "markdown",
   "id": "677bbb46",
   "metadata": {},
   "source": [
    "### Подготовка данных"
   ]
  },
  {
   "cell_type": "markdown",
   "id": "c35ccab2",
   "metadata": {},
   "source": [
    "Чтобы проанализировать результаты А/В-теста, нам нужно сначала поработать с данными.\n",
    "Создадим датафрейм с уникальными парами значений 'date' и 'group' из таблицы orders:"
   ]
  },
  {
   "cell_type": "code",
   "execution_count": 30,
   "id": "03e3cebc",
   "metadata": {},
   "outputs": [
    {
     "data": {
      "text/html": [
       "<div>\n",
       "<style scoped>\n",
       "    .dataframe tbody tr th:only-of-type {\n",
       "        vertical-align: middle;\n",
       "    }\n",
       "\n",
       "    .dataframe tbody tr th {\n",
       "        vertical-align: top;\n",
       "    }\n",
       "\n",
       "    .dataframe thead th {\n",
       "        text-align: right;\n",
       "    }\n",
       "</style>\n",
       "<table border=\"1\" class=\"dataframe\">\n",
       "  <thead>\n",
       "    <tr style=\"text-align: right;\">\n",
       "      <th></th>\n",
       "      <th>date</th>\n",
       "      <th>group</th>\n",
       "    </tr>\n",
       "  </thead>\n",
       "  <tbody>\n",
       "    <tr>\n",
       "      <th>0</th>\n",
       "      <td>2019-08-15</td>\n",
       "      <td>B</td>\n",
       "    </tr>\n",
       "    <tr>\n",
       "      <th>7</th>\n",
       "      <td>2019-08-15</td>\n",
       "      <td>A</td>\n",
       "    </tr>\n",
       "    <tr>\n",
       "      <th>45</th>\n",
       "      <td>2019-08-16</td>\n",
       "      <td>A</td>\n",
       "    </tr>\n",
       "    <tr>\n",
       "      <th>47</th>\n",
       "      <td>2019-08-16</td>\n",
       "      <td>B</td>\n",
       "    </tr>\n",
       "    <tr>\n",
       "      <th>55</th>\n",
       "      <td>2019-08-01</td>\n",
       "      <td>A</td>\n",
       "    </tr>\n",
       "    <tr>\n",
       "      <th>...</th>\n",
       "      <td>...</td>\n",
       "      <td>...</td>\n",
       "    </tr>\n",
       "    <tr>\n",
       "      <th>1068</th>\n",
       "      <td>2019-08-12</td>\n",
       "      <td>A</td>\n",
       "    </tr>\n",
       "    <tr>\n",
       "      <th>1114</th>\n",
       "      <td>2019-08-13</td>\n",
       "      <td>B</td>\n",
       "    </tr>\n",
       "    <tr>\n",
       "      <th>1116</th>\n",
       "      <td>2019-08-13</td>\n",
       "      <td>A</td>\n",
       "    </tr>\n",
       "    <tr>\n",
       "      <th>1149</th>\n",
       "      <td>2019-08-14</td>\n",
       "      <td>B</td>\n",
       "    </tr>\n",
       "    <tr>\n",
       "      <th>1150</th>\n",
       "      <td>2019-08-14</td>\n",
       "      <td>A</td>\n",
       "    </tr>\n",
       "  </tbody>\n",
       "</table>\n",
       "<p>62 rows × 2 columns</p>\n",
       "</div>"
      ],
      "text/plain": [
       "           date group\n",
       "0    2019-08-15     B\n",
       "7    2019-08-15     A\n",
       "45   2019-08-16     A\n",
       "47   2019-08-16     B\n",
       "55   2019-08-01     A\n",
       "...         ...   ...\n",
       "1068 2019-08-12     A\n",
       "1114 2019-08-13     B\n",
       "1116 2019-08-13     A\n",
       "1149 2019-08-14     B\n",
       "1150 2019-08-14     A\n",
       "\n",
       "[62 rows x 2 columns]"
      ]
     },
     "execution_count": 30,
     "metadata": {},
     "output_type": "execute_result"
    }
   ],
   "source": [
    "datesGroups = orders[['date', 'group']].drop_duplicates()\n",
    "datesGroups"
   ]
  },
  {
   "cell_type": "markdown",
   "id": "6887cae6",
   "metadata": {},
   "source": [
    "Обработаем данные о заказах. Создадим переменную, где будут следующие данные:\n",
    "- дата\n",
    "- группа А/В-теста\n",
    "- число уникальных заказов в группе теста по указанную дату включительно\n",
    "- число уникальных пользователей, совершивших хотя бы 1 заказ в группе теста по указанную дату включительно\n",
    "- суммарная выручка заказов в группе теста по указанную дату включительно"
   ]
  },
  {
   "cell_type": "code",
   "execution_count": 31,
   "id": "6878d2a3",
   "metadata": {},
   "outputs": [
    {
     "data": {
      "text/html": [
       "<div>\n",
       "<style scoped>\n",
       "    .dataframe tbody tr th:only-of-type {\n",
       "        vertical-align: middle;\n",
       "    }\n",
       "\n",
       "    .dataframe tbody tr th {\n",
       "        vertical-align: top;\n",
       "    }\n",
       "\n",
       "    .dataframe thead th {\n",
       "        text-align: right;\n",
       "    }\n",
       "</style>\n",
       "<table border=\"1\" class=\"dataframe\">\n",
       "  <thead>\n",
       "    <tr style=\"text-align: right;\">\n",
       "      <th></th>\n",
       "      <th>date</th>\n",
       "      <th>group</th>\n",
       "      <th>transactionId</th>\n",
       "      <th>visitorId</th>\n",
       "      <th>revenue</th>\n",
       "    </tr>\n",
       "  </thead>\n",
       "  <tbody>\n",
       "    <tr>\n",
       "      <th>55</th>\n",
       "      <td>2019-08-01</td>\n",
       "      <td>A</td>\n",
       "      <td>23</td>\n",
       "      <td>19</td>\n",
       "      <td>142779</td>\n",
       "    </tr>\n",
       "    <tr>\n",
       "      <th>66</th>\n",
       "      <td>2019-08-01</td>\n",
       "      <td>B</td>\n",
       "      <td>17</td>\n",
       "      <td>17</td>\n",
       "      <td>59758</td>\n",
       "    </tr>\n",
       "    <tr>\n",
       "      <th>175</th>\n",
       "      <td>2019-08-02</td>\n",
       "      <td>A</td>\n",
       "      <td>42</td>\n",
       "      <td>36</td>\n",
       "      <td>234381</td>\n",
       "    </tr>\n",
       "    <tr>\n",
       "      <th>173</th>\n",
       "      <td>2019-08-02</td>\n",
       "      <td>B</td>\n",
       "      <td>40</td>\n",
       "      <td>39</td>\n",
       "      <td>221801</td>\n",
       "    </tr>\n",
       "    <tr>\n",
       "      <th>291</th>\n",
       "      <td>2019-08-03</td>\n",
       "      <td>A</td>\n",
       "      <td>66</td>\n",
       "      <td>60</td>\n",
       "      <td>346854</td>\n",
       "    </tr>\n",
       "    <tr>\n",
       "      <th>...</th>\n",
       "      <td>...</td>\n",
       "      <td>...</td>\n",
       "      <td>...</td>\n",
       "      <td>...</td>\n",
       "      <td>...</td>\n",
       "    </tr>\n",
       "    <tr>\n",
       "      <th>533</th>\n",
       "      <td>2019-08-29</td>\n",
       "      <td>B</td>\n",
       "      <td>510</td>\n",
       "      <td>490</td>\n",
       "      <td>4746610</td>\n",
       "    </tr>\n",
       "    <tr>\n",
       "      <th>757</th>\n",
       "      <td>2019-08-30</td>\n",
       "      <td>A</td>\n",
       "      <td>460</td>\n",
       "      <td>437</td>\n",
       "      <td>3311413</td>\n",
       "    </tr>\n",
       "    <tr>\n",
       "      <th>690</th>\n",
       "      <td>2019-08-30</td>\n",
       "      <td>B</td>\n",
       "      <td>531</td>\n",
       "      <td>511</td>\n",
       "      <td>4955833</td>\n",
       "    </tr>\n",
       "    <tr>\n",
       "      <th>958</th>\n",
       "      <td>2019-08-31</td>\n",
       "      <td>A</td>\n",
       "      <td>468</td>\n",
       "      <td>445</td>\n",
       "      <td>3364656</td>\n",
       "    </tr>\n",
       "    <tr>\n",
       "      <th>930</th>\n",
       "      <td>2019-08-31</td>\n",
       "      <td>B</td>\n",
       "      <td>548</td>\n",
       "      <td>528</td>\n",
       "      <td>5068972</td>\n",
       "    </tr>\n",
       "  </tbody>\n",
       "</table>\n",
       "<p>62 rows × 5 columns</p>\n",
       "</div>"
      ],
      "text/plain": [
       "          date group  transactionId  visitorId  revenue\n",
       "55  2019-08-01     A             23         19   142779\n",
       "66  2019-08-01     B             17         17    59758\n",
       "175 2019-08-02     A             42         36   234381\n",
       "173 2019-08-02     B             40         39   221801\n",
       "291 2019-08-03     A             66         60   346854\n",
       "..         ...   ...            ...        ...      ...\n",
       "533 2019-08-29     B            510        490  4746610\n",
       "757 2019-08-30     A            460        437  3311413\n",
       "690 2019-08-30     B            531        511  4955833\n",
       "958 2019-08-31     A            468        445  3364656\n",
       "930 2019-08-31     B            548        528  5068972\n",
       "\n",
       "[62 rows x 5 columns]"
      ]
     },
     "execution_count": 31,
     "metadata": {},
     "output_type": "execute_result"
    }
   ],
   "source": [
    "ordersAggregated = (datesGroups\n",
    "    .apply(lambda x: orders[np.logical_and(orders['date']<=x['date'], orders['group']==x['group'])]\n",
    "    .agg({'date':'max', 'group':'max', 'transactionId':pd.Series.nunique, \n",
    "          'visitorId':pd.Series.nunique, 'revenue':'sum'}), axis=1)\n",
    "    .sort_values(by=['date', 'group']))\n",
    "ordersAggregated"
   ]
  },
  {
   "cell_type": "markdown",
   "id": "1cb7ceef",
   "metadata": {},
   "source": [
    "обработаем данные о посетителях. Создадим переменную со следующими данными:\n",
    "- дата\n",
    "- группа А/В-теста\n",
    "- количество уникальных посетителей в группе теста по указанную дату включительно"
   ]
  },
  {
   "cell_type": "code",
   "execution_count": 32,
   "id": "4d25d468",
   "metadata": {},
   "outputs": [
    {
     "data": {
      "text/html": [
       "<div>\n",
       "<style scoped>\n",
       "    .dataframe tbody tr th:only-of-type {\n",
       "        vertical-align: middle;\n",
       "    }\n",
       "\n",
       "    .dataframe tbody tr th {\n",
       "        vertical-align: top;\n",
       "    }\n",
       "\n",
       "    .dataframe thead th {\n",
       "        text-align: right;\n",
       "    }\n",
       "</style>\n",
       "<table border=\"1\" class=\"dataframe\">\n",
       "  <thead>\n",
       "    <tr style=\"text-align: right;\">\n",
       "      <th></th>\n",
       "      <th>date</th>\n",
       "      <th>group</th>\n",
       "      <th>visitors</th>\n",
       "    </tr>\n",
       "  </thead>\n",
       "  <tbody>\n",
       "    <tr>\n",
       "      <th>55</th>\n",
       "      <td>2019-08-01</td>\n",
       "      <td>A</td>\n",
       "      <td>719</td>\n",
       "    </tr>\n",
       "    <tr>\n",
       "      <th>66</th>\n",
       "      <td>2019-08-01</td>\n",
       "      <td>B</td>\n",
       "      <td>713</td>\n",
       "    </tr>\n",
       "    <tr>\n",
       "      <th>175</th>\n",
       "      <td>2019-08-02</td>\n",
       "      <td>A</td>\n",
       "      <td>1338</td>\n",
       "    </tr>\n",
       "    <tr>\n",
       "      <th>173</th>\n",
       "      <td>2019-08-02</td>\n",
       "      <td>B</td>\n",
       "      <td>1294</td>\n",
       "    </tr>\n",
       "    <tr>\n",
       "      <th>291</th>\n",
       "      <td>2019-08-03</td>\n",
       "      <td>A</td>\n",
       "      <td>1845</td>\n",
       "    </tr>\n",
       "    <tr>\n",
       "      <th>...</th>\n",
       "      <td>...</td>\n",
       "      <td>...</td>\n",
       "      <td>...</td>\n",
       "    </tr>\n",
       "    <tr>\n",
       "      <th>533</th>\n",
       "      <td>2019-08-29</td>\n",
       "      <td>B</td>\n",
       "      <td>17708</td>\n",
       "    </tr>\n",
       "    <tr>\n",
       "      <th>757</th>\n",
       "      <td>2019-08-30</td>\n",
       "      <td>A</td>\n",
       "      <td>18037</td>\n",
       "    </tr>\n",
       "    <tr>\n",
       "      <th>690</th>\n",
       "      <td>2019-08-30</td>\n",
       "      <td>B</td>\n",
       "      <td>18198</td>\n",
       "    </tr>\n",
       "    <tr>\n",
       "      <th>958</th>\n",
       "      <td>2019-08-31</td>\n",
       "      <td>A</td>\n",
       "      <td>18736</td>\n",
       "    </tr>\n",
       "    <tr>\n",
       "      <th>930</th>\n",
       "      <td>2019-08-31</td>\n",
       "      <td>B</td>\n",
       "      <td>18916</td>\n",
       "    </tr>\n",
       "  </tbody>\n",
       "</table>\n",
       "<p>62 rows × 3 columns</p>\n",
       "</div>"
      ],
      "text/plain": [
       "          date group  visitors\n",
       "55  2019-08-01     A       719\n",
       "66  2019-08-01     B       713\n",
       "175 2019-08-02     A      1338\n",
       "173 2019-08-02     B      1294\n",
       "291 2019-08-03     A      1845\n",
       "..         ...   ...       ...\n",
       "533 2019-08-29     B     17708\n",
       "757 2019-08-30     A     18037\n",
       "690 2019-08-30     B     18198\n",
       "958 2019-08-31     A     18736\n",
       "930 2019-08-31     B     18916\n",
       "\n",
       "[62 rows x 3 columns]"
      ]
     },
     "execution_count": 32,
     "metadata": {},
     "output_type": "execute_result"
    }
   ],
   "source": [
    "visitorsAggregated = (datesGroups\n",
    "    .apply(lambda x: visitors[np.logical_and(visitors['date']<=x['date'], visitors['group']==x['group'])]\n",
    "    .agg({'date':'max', 'group':'max', 'visitors':'sum'}), axis=1)\n",
    "    .sort_values(by=['date','group']))\n",
    "visitorsAggregated"
   ]
  },
  {
   "cell_type": "markdown",
   "id": "e8bec1da",
   "metadata": {},
   "source": [
    "Объединим обработанные данные в одну переменную:"
   ]
  },
  {
   "cell_type": "code",
   "execution_count": 33,
   "id": "0cb4e335",
   "metadata": {},
   "outputs": [
    {
     "data": {
      "text/html": [
       "<div>\n",
       "<style scoped>\n",
       "    .dataframe tbody tr th:only-of-type {\n",
       "        vertical-align: middle;\n",
       "    }\n",
       "\n",
       "    .dataframe tbody tr th {\n",
       "        vertical-align: top;\n",
       "    }\n",
       "\n",
       "    .dataframe thead th {\n",
       "        text-align: right;\n",
       "    }\n",
       "</style>\n",
       "<table border=\"1\" class=\"dataframe\">\n",
       "  <thead>\n",
       "    <tr style=\"text-align: right;\">\n",
       "      <th></th>\n",
       "      <th>date</th>\n",
       "      <th>group</th>\n",
       "      <th>orders</th>\n",
       "      <th>buyers</th>\n",
       "      <th>revenue</th>\n",
       "      <th>visitors</th>\n",
       "    </tr>\n",
       "  </thead>\n",
       "  <tbody>\n",
       "    <tr>\n",
       "      <th>0</th>\n",
       "      <td>2019-08-01</td>\n",
       "      <td>A</td>\n",
       "      <td>23</td>\n",
       "      <td>19</td>\n",
       "      <td>142779</td>\n",
       "      <td>719</td>\n",
       "    </tr>\n",
       "    <tr>\n",
       "      <th>1</th>\n",
       "      <td>2019-08-01</td>\n",
       "      <td>B</td>\n",
       "      <td>17</td>\n",
       "      <td>17</td>\n",
       "      <td>59758</td>\n",
       "      <td>713</td>\n",
       "    </tr>\n",
       "    <tr>\n",
       "      <th>2</th>\n",
       "      <td>2019-08-02</td>\n",
       "      <td>A</td>\n",
       "      <td>42</td>\n",
       "      <td>36</td>\n",
       "      <td>234381</td>\n",
       "      <td>1338</td>\n",
       "    </tr>\n",
       "    <tr>\n",
       "      <th>3</th>\n",
       "      <td>2019-08-02</td>\n",
       "      <td>B</td>\n",
       "      <td>40</td>\n",
       "      <td>39</td>\n",
       "      <td>221801</td>\n",
       "      <td>1294</td>\n",
       "    </tr>\n",
       "    <tr>\n",
       "      <th>4</th>\n",
       "      <td>2019-08-03</td>\n",
       "      <td>A</td>\n",
       "      <td>66</td>\n",
       "      <td>60</td>\n",
       "      <td>346854</td>\n",
       "      <td>1845</td>\n",
       "    </tr>\n",
       "    <tr>\n",
       "      <th>...</th>\n",
       "      <td>...</td>\n",
       "      <td>...</td>\n",
       "      <td>...</td>\n",
       "      <td>...</td>\n",
       "      <td>...</td>\n",
       "      <td>...</td>\n",
       "    </tr>\n",
       "    <tr>\n",
       "      <th>57</th>\n",
       "      <td>2019-08-29</td>\n",
       "      <td>B</td>\n",
       "      <td>510</td>\n",
       "      <td>490</td>\n",
       "      <td>4746610</td>\n",
       "      <td>17708</td>\n",
       "    </tr>\n",
       "    <tr>\n",
       "      <th>58</th>\n",
       "      <td>2019-08-30</td>\n",
       "      <td>A</td>\n",
       "      <td>460</td>\n",
       "      <td>437</td>\n",
       "      <td>3311413</td>\n",
       "      <td>18037</td>\n",
       "    </tr>\n",
       "    <tr>\n",
       "      <th>59</th>\n",
       "      <td>2019-08-30</td>\n",
       "      <td>B</td>\n",
       "      <td>531</td>\n",
       "      <td>511</td>\n",
       "      <td>4955833</td>\n",
       "      <td>18198</td>\n",
       "    </tr>\n",
       "    <tr>\n",
       "      <th>60</th>\n",
       "      <td>2019-08-31</td>\n",
       "      <td>A</td>\n",
       "      <td>468</td>\n",
       "      <td>445</td>\n",
       "      <td>3364656</td>\n",
       "      <td>18736</td>\n",
       "    </tr>\n",
       "    <tr>\n",
       "      <th>61</th>\n",
       "      <td>2019-08-31</td>\n",
       "      <td>B</td>\n",
       "      <td>548</td>\n",
       "      <td>528</td>\n",
       "      <td>5068972</td>\n",
       "      <td>18916</td>\n",
       "    </tr>\n",
       "  </tbody>\n",
       "</table>\n",
       "<p>62 rows × 6 columns</p>\n",
       "</div>"
      ],
      "text/plain": [
       "         date group  orders  buyers  revenue  visitors\n",
       "0  2019-08-01     A      23      19   142779       719\n",
       "1  2019-08-01     B      17      17    59758       713\n",
       "2  2019-08-02     A      42      36   234381      1338\n",
       "3  2019-08-02     B      40      39   221801      1294\n",
       "4  2019-08-03     A      66      60   346854      1845\n",
       "..        ...   ...     ...     ...      ...       ...\n",
       "57 2019-08-29     B     510     490  4746610     17708\n",
       "58 2019-08-30     A     460     437  3311413     18037\n",
       "59 2019-08-30     B     531     511  4955833     18198\n",
       "60 2019-08-31     A     468     445  3364656     18736\n",
       "61 2019-08-31     B     548     528  5068972     18916\n",
       "\n",
       "[62 rows x 6 columns]"
      ]
     },
     "execution_count": 33,
     "metadata": {},
     "output_type": "execute_result"
    }
   ],
   "source": [
    "cumulativeData = ordersAggregated.merge(visitorsAggregated, left_on=['date','group'], right_on=['date','group'])\n",
    "cumulativeData.columns = ['date','group','orders','buyers','revenue','visitors']\n",
    "cumulativeData"
   ]
  },
  {
   "cell_type": "markdown",
   "id": "e7af33e1",
   "metadata": {},
   "source": [
    "Выделим отдельно данные по группам теста:"
   ]
  },
  {
   "cell_type": "code",
   "execution_count": 34,
   "id": "64d2a42b",
   "metadata": {},
   "outputs": [],
   "source": [
    "cumulativeRevenueA = cumulativeData[cumulativeData['group']=='A'][['date','revenue','orders']]\n",
    "cumulativeRevenueB = cumulativeData[cumulativeData['group']=='B'][['date','revenue','orders']]"
   ]
  },
  {
   "cell_type": "markdown",
   "id": "d4b56162",
   "metadata": {},
   "source": [
    "### График кумулятивной выручки по группам. Выводы и предположения."
   ]
  },
  {
   "cell_type": "code",
   "execution_count": 35,
   "id": "2ba5572f",
   "metadata": {
    "scrolled": false
   },
   "outputs": [
    {
     "data": {
      "image/png": "[encoded data removed]",
      "text/plain": [
       "<Figure size 1080x432 with 1 Axes>"
      ]
     },
     "metadata": {},
     "output_type": "display_data"
    }
   ],
   "source": [
    "plt.figure(figsize=(15, 6))\n",
    "sns.set(font_scale=1.5)\n",
    "plt.style.use('seaborn-white')\n",
    "\n",
    "plt.plot(cumulativeRevenueA['date'], cumulativeRevenueA['revenue'], label='A', color='lightsteelblue')\n",
    "plt.plot(cumulativeRevenueB['date'], cumulativeRevenueB['revenue'], label='B', color='seagreen')\n",
    "plt.legend()\n",
    "plt.title('График кумулятивной выручки по группам')\n",
    "\n",
    "plt.show();"
   ]
  },
  {
   "cell_type": "markdown",
   "id": "518ef135",
   "metadata": {},
   "source": [
    "- выручка более-менее равномерно увеличивается в течение всего теста\n",
    "\n",
    "\n",
    "- в группе В есть резкий рост в одном месте. Это может быть вызвано всплеском количества заказов, либо появлении очень дорогих заказов"
   ]
  },
  {
   "cell_type": "markdown",
   "id": "ea222295",
   "metadata": {},
   "source": [
    "### График кумулятивного среднего чека по группам. Выводы и предположения."
   ]
  },
  {
   "cell_type": "code",
   "execution_count": 36,
   "id": "9e1478ad",
   "metadata": {},
   "outputs": [
    {
     "data": {
      "image/png": "[encoded data removed]",
      "text/plain": [
       "<Figure size 1080x432 with 1 Axes>"
      ]
     },
     "metadata": {},
     "output_type": "display_data"
    }
   ],
   "source": [
    "plt.figure(figsize=(15, 6))\n",
    "sns.set(font_scale=1.5)\n",
    "plt.style.use('seaborn-white')\n",
    "\n",
    "plt.plot(cumulativeRevenueA['date'], cumulativeRevenueA['revenue']/cumulativeRevenueA['orders'], label='A', \n",
    "         color='lightsteelblue')\n",
    "plt.plot(cumulativeRevenueB['date'], cumulativeRevenueB['revenue']/cumulativeRevenueB['orders'], label='B', \n",
    "         color='seagreen')\n",
    "plt.legend()\n",
    "plt.title('График кумулятивных средних чеков по группам')\n",
    "\n",
    "plt.show();"
   ]
  },
  {
   "cell_type": "markdown",
   "id": "3aad1904",
   "metadata": {},
   "source": [
    "- для группы А кумулятивный средний чек в первой половине теста вырос и затем зафиксировался на уровне около 7000\n",
    "\n",
    "\n",
    "- для группы В кумулятивный средний чек резко вырос во второй половине теста до 10000 и постепенно снизился до 9000\n",
    "\n",
    "\n",
    "- такой резкий всплеск в группе В говорит о влиянии дорогих заказов"
   ]
  },
  {
   "cell_type": "markdown",
   "id": "b3429266",
   "metadata": {},
   "source": [
    "### График относительного изменения кумулятивного среднего чека группы B к группе A. Выводы и предположения."
   ]
  },
  {
   "cell_type": "code",
   "execution_count": 37,
   "id": "2e2be0d9",
   "metadata": {},
   "outputs": [],
   "source": [
    "mergedCumulativeRevenue = cumulativeRevenueA.merge(cumulativeRevenueB, left_on='date', right_on='date', \n",
    "                                                   how='left',suffixes=['A','B'])"
   ]
  },
  {
   "cell_type": "code",
   "execution_count": 38,
   "id": "d8a909c4",
   "metadata": {},
   "outputs": [
    {
     "data": {
      "image/png": "[encoded data removed]",
      "text/plain": [
       "<Figure size 1080x432 with 1 Axes>"
      ]
     },
     "metadata": {},
     "output_type": "display_data"
    }
   ],
   "source": [
    "plt.figure(figsize=(15, 6))\n",
    "sns.set(font_scale=1.5)\n",
    "plt.style.use('seaborn-white')\n",
    "\n",
    "plt.plot(mergedCumulativeRevenue['date'], \n",
    "         (mergedCumulativeRevenue['revenueB']/mergedCumulativeRevenue['ordersB'])/\n",
    "         (mergedCumulativeRevenue['revenueA']/mergedCumulativeRevenue['ordersA'])-1, color='seagreen')\n",
    "\n",
    "plt.axhline(y=0, color='black', linestyle='--') \n",
    "plt.title('График относительного изменения кумулятивного среднего чека группы B к группе A')\n",
    "\n",
    "plt.show();"
   ]
  },
  {
   "cell_type": "markdown",
   "id": "7f49a299",
   "metadata": {},
   "source": [
    "- различия между группами сильно скачут, похоже, мы видим влияние \"выбросов\" - необычно крупных/дорогих заказов\n",
    "\n",
    "\n",
    "- группа В почти всё время выше нуля, и даже постепенное снижение - не катастрофа: в целом группа В показывает хорошие результаты"
   ]
  },
  {
   "cell_type": "markdown",
   "id": "e0c91600",
   "metadata": {},
   "source": [
    "### График кумулятивного среднего количества заказов на посетителя по группам. Выводы и предположения."
   ]
  },
  {
   "cell_type": "code",
   "execution_count": 39,
   "id": "41a54c9e",
   "metadata": {},
   "outputs": [],
   "source": [
    "cumulativeData['conversion'] = cumulativeData['orders']/cumulativeData['visitors']"
   ]
  },
  {
   "cell_type": "code",
   "execution_count": 40,
   "id": "45118546",
   "metadata": {},
   "outputs": [],
   "source": [
    "cumulativeDataA = cumulativeData[cumulativeData['group']=='A']\n",
    "cumulativeDataB = cumulativeData[cumulativeData['group']=='B']"
   ]
  },
  {
   "cell_type": "code",
   "execution_count": 41,
   "id": "20027e0d",
   "metadata": {},
   "outputs": [
    {
     "data": {
      "image/png": "[encoded data removed]",
      "text/plain": [
       "<Figure size 1080x432 with 1 Axes>"
      ]
     },
     "metadata": {},
     "output_type": "display_data"
    }
   ],
   "source": [
    "plt.figure(figsize=(15, 6))\n",
    "sns.set(font_scale=1.5)\n",
    "plt.style.use('seaborn-white')\n",
    "\n",
    "plt.plot(cumulativeDataA['date'], cumulativeDataA['conversion'], label='A', \n",
    "         color='lightsteelblue')\n",
    "plt.plot(cumulativeDataB['date'], cumulativeDataB['conversion'], label='B', \n",
    "         color='seagreen')\n",
    "plt.legend()\n",
    "plt.title('График кумулятивного среднего количества заказов на посетителя по группам')\n",
    "\n",
    "plt.show();"
   ]
  },
  {
   "cell_type": "markdown",
   "id": "62237273",
   "metadata": {},
   "source": [
    "- у обеих групп сильные изменения в начале теста: у группы А падение, у группы В взлёт. Затем обе группы стабилизировались каждая на своём уровне, причём группа В уверенно лидирует"
   ]
  },
  {
   "cell_type": "markdown",
   "id": "267363f4",
   "metadata": {},
   "source": [
    "### График относительного изменения кумулятивного среднего количества заказов на посетителя группы B к группе A. Выводы и предположения."
   ]
  },
  {
   "cell_type": "code",
   "execution_count": 42,
   "id": "b4933c46",
   "metadata": {},
   "outputs": [],
   "source": [
    "mergedCumulativeConversions = cumulativeDataA[['date','conversion']].merge(\n",
    "    cumulativeDataB[['date','conversion']], left_on='date', right_on='date', how='left',suffixes=['A','B'])"
   ]
  },
  {
   "cell_type": "code",
   "execution_count": 43,
   "id": "d5b98681",
   "metadata": {},
   "outputs": [
    {
     "data": {
      "image/png": "[encoded data removed]",
      "text/plain": [
       "<Figure size 1080x432 with 1 Axes>"
      ]
     },
     "metadata": {},
     "output_type": "display_data"
    }
   ],
   "source": [
    "plt.figure(figsize=(15, 6))\n",
    "sns.set(font_scale=1.5)\n",
    "plt.style.use('seaborn-white')\n",
    "\n",
    "plt.plot(mergedCumulativeConversions['date'], \n",
    "         mergedCumulativeConversions['conversionB']/mergedCumulativeConversions['conversionA']-1, \n",
    "         label='Относительный прирост конверсии группы В относительно группы А', color='seagreen')\n",
    "plt.legend()\n",
    "         \n",
    "plt.axhline(y=0, color='black', linestyle='--') \n",
    "plt.axhline(y=0.16, color='grey', linestyle='--') \n",
    "plt.title('График относительного изменения кумулятивного среднего количества заказов на посетителя группы B к группе A')\n",
    "\n",
    "plt.show();"
   ]
  },
  {
   "cell_type": "markdown",
   "id": "854a3945",
   "metadata": {},
   "source": [
    "- в начале теста группа В проигрывала группе А. Но затем, во время второго скачка роста, группа В значительно оторвалась от группы А. Затем конверсия снижалась, но ненамного. В целом группа В уверенно показывает результаты лучше группы А."
   ]
  },
  {
   "cell_type": "markdown",
   "id": "25c301f3",
   "metadata": {},
   "source": [
    "### Точечный график количества заказов по пользователям. Выводы и предположения."
   ]
  },
  {
   "cell_type": "code",
   "execution_count": 44,
   "id": "5f3cec7c",
   "metadata": {},
   "outputs": [
    {
     "data": {
      "text/html": [
       "<div>\n",
       "<style scoped>\n",
       "    .dataframe tbody tr th:only-of-type {\n",
       "        vertical-align: middle;\n",
       "    }\n",
       "\n",
       "    .dataframe tbody tr th {\n",
       "        vertical-align: top;\n",
       "    }\n",
       "\n",
       "    .dataframe thead th {\n",
       "        text-align: right;\n",
       "    }\n",
       "</style>\n",
       "<table border=\"1\" class=\"dataframe\">\n",
       "  <thead>\n",
       "    <tr style=\"text-align: right;\">\n",
       "      <th></th>\n",
       "      <th>userId</th>\n",
       "      <th>orders</th>\n",
       "    </tr>\n",
       "  </thead>\n",
       "  <tbody>\n",
       "    <tr>\n",
       "      <th>0</th>\n",
       "      <td>5114589</td>\n",
       "      <td>1</td>\n",
       "    </tr>\n",
       "    <tr>\n",
       "      <th>1</th>\n",
       "      <td>6958315</td>\n",
       "      <td>1</td>\n",
       "    </tr>\n",
       "    <tr>\n",
       "      <th>2</th>\n",
       "      <td>11685486</td>\n",
       "      <td>1</td>\n",
       "    </tr>\n",
       "    <tr>\n",
       "      <th>3</th>\n",
       "      <td>39475350</td>\n",
       "      <td>1</td>\n",
       "    </tr>\n",
       "    <tr>\n",
       "      <th>4</th>\n",
       "      <td>47206413</td>\n",
       "      <td>1</td>\n",
       "    </tr>\n",
       "    <tr>\n",
       "      <th>...</th>\n",
       "      <td>...</td>\n",
       "      <td>...</td>\n",
       "    </tr>\n",
       "    <tr>\n",
       "      <th>968</th>\n",
       "      <td>4259830713</td>\n",
       "      <td>1</td>\n",
       "    </tr>\n",
       "    <tr>\n",
       "      <th>969</th>\n",
       "      <td>4278982564</td>\n",
       "      <td>1</td>\n",
       "    </tr>\n",
       "    <tr>\n",
       "      <th>970</th>\n",
       "      <td>4279090005</td>\n",
       "      <td>1</td>\n",
       "    </tr>\n",
       "    <tr>\n",
       "      <th>971</th>\n",
       "      <td>4281247801</td>\n",
       "      <td>1</td>\n",
       "    </tr>\n",
       "    <tr>\n",
       "      <th>972</th>\n",
       "      <td>4283872382</td>\n",
       "      <td>1</td>\n",
       "    </tr>\n",
       "  </tbody>\n",
       "</table>\n",
       "<p>973 rows × 2 columns</p>\n",
       "</div>"
      ],
      "text/plain": [
       "         userId  orders\n",
       "0       5114589       1\n",
       "1       6958315       1\n",
       "2      11685486       1\n",
       "3      39475350       1\n",
       "4      47206413       1\n",
       "..          ...     ...\n",
       "968  4259830713       1\n",
       "969  4278982564       1\n",
       "970  4279090005       1\n",
       "971  4281247801       1\n",
       "972  4283872382       1\n",
       "\n",
       "[973 rows x 2 columns]"
      ]
     },
     "execution_count": 44,
     "metadata": {},
     "output_type": "execute_result"
    }
   ],
   "source": [
    "ordersByUsers = (orders.groupby('visitorId', as_index=False)\n",
    "                        .agg({'transactionId':'nunique'}))\n",
    "ordersByUsers.columns = ['userId','orders']\n",
    "ordersByUsers"
   ]
  },
  {
   "cell_type": "code",
   "execution_count": 45,
   "id": "84ee86c0",
   "metadata": {},
   "outputs": [
    {
     "data": {
      "image/png": "[encoded data removed]",
      "text/plain": [
       "<Figure size 1080x432 with 2 Axes>"
      ]
     },
     "metadata": {},
     "output_type": "display_data"
    }
   ],
   "source": [
    "plt.figure(figsize=(15, 6))\n",
    "sns.set(font_scale=1.5)\n",
    "plt.style.use('seaborn-white')\n",
    "plt.suptitle('Графики количества заказов по пользователям', fontweight='bold')\n",
    "\n",
    "ax1 = plt.subplot(1, 2, 1)\n",
    "plt.hist(ordersByUsers['orders'], color='seagreen')\n",
    "plt.title('гистограмма')\n",
    "plt.xlabel('')\n",
    "plt.ylabel('')\n",
    "\n",
    "ax2 = plt.subplot(1, 2, 2)\n",
    "x_values = pd.Series(range(0, len(ordersByUsers)))\n",
    "plt.scatter(x_values, ordersByUsers['orders'], color='seagreen')\n",
    "plt.title('диаграмма рассеяния')\n",
    "plt.xlabel('')\n",
    "plt.ylabel('')\n",
    "\n",
    "plt.tight_layout()\n",
    "plt.show();"
   ]
  },
  {
   "cell_type": "markdown",
   "id": "dc6ad31a",
   "metadata": {},
   "source": [
    "- большинство пользователей совершает один заказ, но при этом достаточно много людей делает заказ дважды. Большее количество заказов встречается редко."
   ]
  },
  {
   "cell_type": "markdown",
   "id": "9e01b129",
   "metadata": {},
   "source": [
    "###  95-й и 99-й перцентили количества заказов на пользователя. Установление границы для определения аномальных пользователей."
   ]
  },
  {
   "cell_type": "code",
   "execution_count": 46,
   "id": "2a8410d6",
   "metadata": {},
   "outputs": [
    {
     "data": {
      "text/plain": [
       "array([1., 2.])"
      ]
     },
     "execution_count": 46,
     "metadata": {},
     "output_type": "execute_result"
    }
   ],
   "source": [
    "np.percentile(ordersByUsers['orders'], [95, 99])"
   ]
  },
  {
   "cell_type": "markdown",
   "id": "c0033095",
   "metadata": {},
   "source": [
    "Принято отсеивать от 1 до 5% наблюдений с крайними значениями. В нашем случае это больше 1 и больше 2-х заказов на пользователя. Возьмём за границу нормы 99-й перцентиль."
   ]
  },
  {
   "cell_type": "markdown",
   "id": "47cca06b",
   "metadata": {},
   "source": [
    "### Точечный график стоимостей заказов. Выводы и предположения."
   ]
  },
  {
   "cell_type": "code",
   "execution_count": 47,
   "id": "34babf91",
   "metadata": {},
   "outputs": [
    {
     "data": {
      "image/png": "[encoded data removed]",
      "text/plain": [
       "<Figure size 1080x432 with 2 Axes>"
      ]
     },
     "metadata": {},
     "output_type": "display_data"
    }
   ],
   "source": [
    "plt.figure(figsize=(15, 6))\n",
    "sns.set(font_scale=1.5)\n",
    "plt.style.use('seaborn-white')\n",
    "plt.suptitle('Графики стоимостей заказов', fontweight='bold')\n",
    "\n",
    "ax1 = plt.subplot(1, 2, 1)\n",
    "plt.hist(orders['revenue'], color='seagreen')\n",
    "plt.title('гистограмма')\n",
    "plt.xlabel('')\n",
    "plt.ylabel('')\n",
    "\n",
    "ax2 = plt.subplot(1, 2, 2)\n",
    "x_values = pd.Series(range(0, len(orders['revenue'])))\n",
    "plt.scatter(x_values, orders['revenue'], color='seagreen')\n",
    "plt.title('диаграмма рассеяния')\n",
    "plt.xlabel('')\n",
    "plt.ylabel('')\n",
    "\n",
    "plt.tight_layout()\n",
    "plt.show();"
   ]
  },
  {
   "cell_type": "markdown",
   "id": "e541a47a",
   "metadata": {},
   "source": [
    "- вот мы и увидели аномалии: у нас в данных есть заказ на сумму более 1 млн 200 тыс и ещё один заказ со стоимостью около 200 тысяч. Они явно выделяются на общем фоне - остальные заказы в основном приносят доход до 100 тыс"
   ]
  },
  {
   "cell_type": "markdown",
   "id": "e858bdfd",
   "metadata": {},
   "source": [
    "### 95-й и 99-й перцентили стоимости заказов. Выбор границы для определения аномальных заказов."
   ]
  },
  {
   "cell_type": "code",
   "execution_count": 48,
   "id": "b141c1c9",
   "metadata": {},
   "outputs": [
    {
     "data": {
      "text/plain": [
       "array([26785., 53904.])"
      ]
     },
     "execution_count": 48,
     "metadata": {},
     "output_type": "execute_result"
    }
   ],
   "source": [
    "np.percentile(orders['revenue'], [95, 99])"
   ]
  },
  {
   "cell_type": "markdown",
   "id": "e2b24a7f",
   "metadata": {},
   "source": [
    "5% заказов имеют стоимость свыше 26 тысяч и 1% заказов имеет стоимость более 53 тысяч. Возьмём за границу \"нормы\" 99-й перцентиль."
   ]
  },
  {
   "cell_type": "markdown",
   "id": "f141a7d9",
   "metadata": {},
   "source": [
    "### Статистическая значимость различий в среднем количестве заказов на посетителя между группами по «сырым» данным. Выводы и предположения."
   ]
  },
  {
   "cell_type": "markdown",
   "id": "0002bbe2",
   "metadata": {},
   "source": [
    "Подготовим данные:"
   ]
  },
  {
   "cell_type": "code",
   "execution_count": 49,
   "id": "f0a2107c",
   "metadata": {},
   "outputs": [
    {
     "data": {
      "text/html": [
       "<div>\n",
       "<style scoped>\n",
       "    .dataframe tbody tr th:only-of-type {\n",
       "        vertical-align: middle;\n",
       "    }\n",
       "\n",
       "    .dataframe tbody tr th {\n",
       "        vertical-align: top;\n",
       "    }\n",
       "\n",
       "    .dataframe thead th {\n",
       "        text-align: right;\n",
       "    }\n",
       "</style>\n",
       "<table border=\"1\" class=\"dataframe\">\n",
       "  <thead>\n",
       "    <tr style=\"text-align: right;\">\n",
       "      <th></th>\n",
       "      <th>date</th>\n",
       "      <th>ordersPerDateA</th>\n",
       "      <th>revenuePerDateA</th>\n",
       "      <th>ordersPerDateB</th>\n",
       "      <th>revenuePerDateB</th>\n",
       "      <th>ordersCummulativeA</th>\n",
       "      <th>revenueCummulativeA</th>\n",
       "      <th>ordersCummulativeB</th>\n",
       "      <th>revenueCummulativeB</th>\n",
       "      <th>visitorsPerDateA</th>\n",
       "      <th>visitorsPerDateB</th>\n",
       "      <th>visitorsCummulativeA</th>\n",
       "      <th>visitorsCummulativeB</th>\n",
       "    </tr>\n",
       "  </thead>\n",
       "  <tbody>\n",
       "    <tr>\n",
       "      <th>0</th>\n",
       "      <td>2019-08-01</td>\n",
       "      <td>23</td>\n",
       "      <td>142779</td>\n",
       "      <td>17</td>\n",
       "      <td>59758</td>\n",
       "      <td>23</td>\n",
       "      <td>142779</td>\n",
       "      <td>17</td>\n",
       "      <td>59758</td>\n",
       "      <td>719</td>\n",
       "      <td>713</td>\n",
       "      <td>719</td>\n",
       "      <td>713</td>\n",
       "    </tr>\n",
       "    <tr>\n",
       "      <th>1</th>\n",
       "      <td>2019-08-02</td>\n",
       "      <td>19</td>\n",
       "      <td>91602</td>\n",
       "      <td>23</td>\n",
       "      <td>162043</td>\n",
       "      <td>42</td>\n",
       "      <td>234381</td>\n",
       "      <td>40</td>\n",
       "      <td>221801</td>\n",
       "      <td>619</td>\n",
       "      <td>581</td>\n",
       "      <td>1338</td>\n",
       "      <td>1294</td>\n",
       "    </tr>\n",
       "    <tr>\n",
       "      <th>2</th>\n",
       "      <td>2019-08-03</td>\n",
       "      <td>24</td>\n",
       "      <td>112473</td>\n",
       "      <td>14</td>\n",
       "      <td>67049</td>\n",
       "      <td>66</td>\n",
       "      <td>346854</td>\n",
       "      <td>54</td>\n",
       "      <td>288850</td>\n",
       "      <td>507</td>\n",
       "      <td>509</td>\n",
       "      <td>1845</td>\n",
       "      <td>1803</td>\n",
       "    </tr>\n",
       "    <tr>\n",
       "      <th>3</th>\n",
       "      <td>2019-08-04</td>\n",
       "      <td>11</td>\n",
       "      <td>41176</td>\n",
       "      <td>14</td>\n",
       "      <td>96890</td>\n",
       "      <td>77</td>\n",
       "      <td>388030</td>\n",
       "      <td>68</td>\n",
       "      <td>385740</td>\n",
       "      <td>717</td>\n",
       "      <td>770</td>\n",
       "      <td>2562</td>\n",
       "      <td>2573</td>\n",
       "    </tr>\n",
       "    <tr>\n",
       "      <th>4</th>\n",
       "      <td>2019-08-05</td>\n",
       "      <td>22</td>\n",
       "      <td>86383</td>\n",
       "      <td>21</td>\n",
       "      <td>89908</td>\n",
       "      <td>99</td>\n",
       "      <td>474413</td>\n",
       "      <td>89</td>\n",
       "      <td>475648</td>\n",
       "      <td>756</td>\n",
       "      <td>707</td>\n",
       "      <td>3318</td>\n",
       "      <td>3280</td>\n",
       "    </tr>\n",
       "  </tbody>\n",
       "</table>\n",
       "</div>"
      ],
      "text/plain": [
       "        date  ordersPerDateA  revenuePerDateA  ordersPerDateB  \\\n",
       "0 2019-08-01              23           142779              17   \n",
       "1 2019-08-02              19            91602              23   \n",
       "2 2019-08-03              24           112473              14   \n",
       "3 2019-08-04              11            41176              14   \n",
       "4 2019-08-05              22            86383              21   \n",
       "\n",
       "   revenuePerDateB  ordersCummulativeA  revenueCummulativeA  \\\n",
       "0            59758                  23               142779   \n",
       "1           162043                  42               234381   \n",
       "2            67049                  66               346854   \n",
       "3            96890                  77               388030   \n",
       "4            89908                  99               474413   \n",
       "\n",
       "   ordersCummulativeB  revenueCummulativeB  visitorsPerDateA  \\\n",
       "0                  17                59758               719   \n",
       "1                  40               221801               619   \n",
       "2                  54               288850               507   \n",
       "3                  68               385740               717   \n",
       "4                  89               475648               756   \n",
       "\n",
       "   visitorsPerDateB  visitorsCummulativeA  visitorsCummulativeB  \n",
       "0               713                   719                   713  \n",
       "1               581                  1338                  1294  \n",
       "2               509                  1845                  1803  \n",
       "3               770                  2562                  2573  \n",
       "4               707                  3318                  3280  "
      ]
     },
     "execution_count": 49,
     "metadata": {},
     "output_type": "execute_result"
    }
   ],
   "source": [
    "visitorsADaily = visitors[visitors['group'] == 'A'][['date', 'visitors']]\n",
    "visitorsADaily.columns = ['date', 'visitorsPerDateA']\n",
    "\n",
    "visitorsACummulative = visitorsADaily.apply(\n",
    "    lambda x: visitorsADaily[visitorsADaily['date'] <= x['date']].agg(\n",
    "        {'date': 'max', 'visitorsPerDateA': 'sum'}\n",
    "    ),\n",
    "    axis=1,\n",
    ")\n",
    "visitorsACummulative.columns = ['date', 'visitorsCummulativeA']\n",
    "\n",
    "visitorsBDaily = visitors[visitors['group'] == 'B'][['date', 'visitors']]\n",
    "visitorsBDaily.columns = ['date', 'visitorsPerDateB']\n",
    "\n",
    "visitorsBCummulative = visitorsBDaily.apply(\n",
    "    lambda x: visitorsBDaily[visitorsBDaily['date'] <= x['date']].agg(\n",
    "        {'date': 'max', 'visitorsPerDateB': 'sum'}\n",
    "    ),\n",
    "    axis=1,\n",
    ")\n",
    "visitorsBCummulative.columns = ['date', 'visitorsCummulativeB']\n",
    "\n",
    "ordersADaily = (\n",
    "    orders[orders['group'] == 'A'][['date', 'transactionId', 'visitorId', 'revenue']]\n",
    "    .groupby('date', as_index=False)\n",
    "    .agg({'transactionId': pd.Series.nunique, 'revenue': 'sum'})\n",
    ")\n",
    "ordersADaily.columns = ['date', 'ordersPerDateA', 'revenuePerDateA']\n",
    "\n",
    "ordersACummulative = ordersADaily.apply(\n",
    "    lambda x: ordersADaily[ordersADaily['date'] <= x['date']].agg(\n",
    "        {'date': 'max', 'ordersPerDateA': 'sum', 'revenuePerDateA': 'sum'}\n",
    "    ),\n",
    "    axis=1,\n",
    ").sort_values(by=['date'])\n",
    "ordersACummulative.columns = [\n",
    "    'date',\n",
    "    'ordersCummulativeA',\n",
    "    'revenueCummulativeA',\n",
    "]\n",
    "\n",
    "ordersBDaily = (\n",
    "    orders[orders['group'] == 'B'][['date', 'transactionId', 'visitorId', 'revenue']]\n",
    "    .groupby('date', as_index=False)\n",
    "    .agg({'transactionId': pd.Series.nunique, 'revenue': 'sum'})\n",
    ")\n",
    "ordersBDaily.columns = ['date', 'ordersPerDateB', 'revenuePerDateB']\n",
    "\n",
    "ordersBCummulative = ordersBDaily.apply(\n",
    "    lambda x: ordersBDaily[ordersBDaily['date'] <= x['date']].agg(\n",
    "        {'date': 'max', 'ordersPerDateB': 'sum', 'revenuePerDateB': 'sum'}\n",
    "    ),\n",
    "    axis=1,\n",
    ").sort_values(by=['date'])\n",
    "ordersBCummulative.columns = [\n",
    "    'date',\n",
    "    'ordersCummulativeB',\n",
    "    'revenueCummulativeB',\n",
    "]\n",
    "\n",
    "data = (\n",
    "    ordersADaily.merge(\n",
    "        ordersBDaily, left_on='date', right_on='date', how='left'\n",
    "    )\n",
    "    .merge(ordersACummulative, left_on='date', right_on='date', how='left')\n",
    "    .merge(ordersBCummulative, left_on='date', right_on='date', how='left')\n",
    "    .merge(visitorsADaily, left_on='date', right_on='date', how='left')\n",
    "    .merge(visitorsBDaily, left_on='date', right_on='date', how='left')\n",
    "    .merge(visitorsACummulative, left_on='date', right_on='date', how='left')\n",
    "    .merge(visitorsBCummulative, left_on='date', right_on='date', how='left')\n",
    ")\n",
    "\n",
    "data.head(5)"
   ]
  },
  {
   "cell_type": "markdown",
   "id": "2f3c4eed",
   "metadata": {},
   "source": [
    "Создадим переменные для обеих групп теста, где для пользователей, которые что-либо купили, укажем число совершённых заказов:"
   ]
  },
  {
   "cell_type": "code",
   "execution_count": 50,
   "id": "81e71388",
   "metadata": {},
   "outputs": [
    {
     "data": {
      "text/html": [
       "<div>\n",
       "<style scoped>\n",
       "    .dataframe tbody tr th:only-of-type {\n",
       "        vertical-align: middle;\n",
       "    }\n",
       "\n",
       "    .dataframe tbody tr th {\n",
       "        vertical-align: top;\n",
       "    }\n",
       "\n",
       "    .dataframe thead th {\n",
       "        text-align: right;\n",
       "    }\n",
       "</style>\n",
       "<table border=\"1\" class=\"dataframe\">\n",
       "  <thead>\n",
       "    <tr style=\"text-align: right;\">\n",
       "      <th></th>\n",
       "      <th>userId</th>\n",
       "      <th>orders</th>\n",
       "    </tr>\n",
       "  </thead>\n",
       "  <tbody>\n",
       "    <tr>\n",
       "      <th>0</th>\n",
       "      <td>11685486</td>\n",
       "      <td>1</td>\n",
       "    </tr>\n",
       "    <tr>\n",
       "      <th>1</th>\n",
       "      <td>54447517</td>\n",
       "      <td>1</td>\n",
       "    </tr>\n",
       "    <tr>\n",
       "      <th>2</th>\n",
       "      <td>66685450</td>\n",
       "      <td>1</td>\n",
       "    </tr>\n",
       "    <tr>\n",
       "      <th>3</th>\n",
       "      <td>78758296</td>\n",
       "      <td>1</td>\n",
       "    </tr>\n",
       "    <tr>\n",
       "      <th>4</th>\n",
       "      <td>85103373</td>\n",
       "      <td>1</td>\n",
       "    </tr>\n",
       "    <tr>\n",
       "      <th>...</th>\n",
       "      <td>...</td>\n",
       "      <td>...</td>\n",
       "    </tr>\n",
       "    <tr>\n",
       "      <th>440</th>\n",
       "      <td>4227830084</td>\n",
       "      <td>1</td>\n",
       "    </tr>\n",
       "    <tr>\n",
       "      <th>441</th>\n",
       "      <td>4237561104</td>\n",
       "      <td>1</td>\n",
       "    </tr>\n",
       "    <tr>\n",
       "      <th>442</th>\n",
       "      <td>4243832526</td>\n",
       "      <td>1</td>\n",
       "    </tr>\n",
       "    <tr>\n",
       "      <th>443</th>\n",
       "      <td>4259830713</td>\n",
       "      <td>1</td>\n",
       "    </tr>\n",
       "    <tr>\n",
       "      <th>444</th>\n",
       "      <td>4278982564</td>\n",
       "      <td>1</td>\n",
       "    </tr>\n",
       "  </tbody>\n",
       "</table>\n",
       "<p>445 rows × 2 columns</p>\n",
       "</div>"
      ],
      "text/plain": [
       "         userId  orders\n",
       "0      11685486       1\n",
       "1      54447517       1\n",
       "2      66685450       1\n",
       "3      78758296       1\n",
       "4      85103373       1\n",
       "..          ...     ...\n",
       "440  4227830084       1\n",
       "441  4237561104       1\n",
       "442  4243832526       1\n",
       "443  4259830713       1\n",
       "444  4278982564       1\n",
       "\n",
       "[445 rows x 2 columns]"
      ]
     },
     "execution_count": 50,
     "metadata": {},
     "output_type": "execute_result"
    }
   ],
   "source": [
    "ordersByUsersA = (orders[orders['group']=='A']\n",
    "                    .groupby('visitorId', as_index=False)\n",
    "                    .agg({'transactionId':pd.Series.nunique}))\n",
    "ordersByUsersA.columns=['userId','orders']\n",
    "\n",
    "ordersByUsersB = (orders[orders['group']=='B']\n",
    "                    .groupby('visitorId', as_index=False)\n",
    "                    .agg({'transactionId':pd.Series.nunique}))\n",
    "ordersByUsersB.columns=['userId','orders']\n",
    "\n",
    "ordersByUsersA"
   ]
  },
  {
   "cell_type": "markdown",
   "id": "5176264f",
   "metadata": {},
   "source": [
    "Подготовим выборки к проверке критерием Манна-Уитни:"
   ]
  },
  {
   "cell_type": "code",
   "execution_count": 51,
   "id": "fe17a634",
   "metadata": {},
   "outputs": [
    {
     "data": {
      "text/plain": [
       "0        1\n",
       "1        1\n",
       "2        1\n",
       "3        1\n",
       "4        1\n",
       "        ..\n",
       "18286    0\n",
       "18287    0\n",
       "18288    0\n",
       "18289    0\n",
       "18290    0\n",
       "Name: orders, Length: 18736, dtype: int64"
      ]
     },
     "execution_count": 51,
     "metadata": {},
     "output_type": "execute_result"
    }
   ],
   "source": [
    "sampleA = pd.concat([ordersByUsersA['orders'], \n",
    "                     pd.Series(0, index=np.arange(data['visitorsPerDateA'].sum() - len(ordersByUsersA['orders'])), \n",
    "                               name='orders')], axis=0)\n",
    "\n",
    "sampleB = pd.concat([ordersByUsersB['orders'], \n",
    "                     pd.Series(0, index=np.arange(data['visitorsPerDateB'].sum() - len(ordersByUsersB['orders'])), \n",
    "                               name='orders')], axis=0)\n",
    "\n",
    "sampleA"
   ]
  },
  {
   "cell_type": "markdown",
   "id": "70f78367",
   "metadata": {},
   "source": [
    "Гипотезы:\n",
    "- H0 - различий в среднем количестве заказов между группами А и В нет\n",
    "- H1 - различия в среднем количестве заказов между группами А и В есть\n",
    "\n",
    "Для выявления статистической значимости применим критерий Манна-Уитни и округлим p-value до 3-х знаков после запятой:"
   ]
  },
  {
   "cell_type": "code",
   "execution_count": 52,
   "id": "f714016e",
   "metadata": {},
   "outputs": [
    {
     "name": "stdout",
     "output_type": "stream",
     "text": [
      "p-значение: 0.011\n",
      "Отвергаем нулевую гипотезу: между группами есть статистически значимое различие\n"
     ]
    }
   ],
   "source": [
    "alpha = 0.05 #критический уровень статистической значимости\n",
    "\n",
    "p_value = st.mannwhitneyu(sampleA, sampleB)[1]\n",
    "print(f'p-значение: {\"{0:.3f}\".format(p_value)}')\n",
    "\n",
    "if p_value < alpha:\n",
    "    print('Отвергаем нулевую гипотезу: между группами есть статистически значимое различие')\n",
    "else:\n",
    "    print('Не получилось отвергнуть нулевую гипотезу: между группами нет статистически значимого различия')"
   ]
  },
  {
   "cell_type": "markdown",
   "id": "ffd00215",
   "metadata": {},
   "source": [
    "Надём дополнительно относительный прирост среднего числа заказов группы В:"
   ]
  },
  {
   "cell_type": "code",
   "execution_count": 53,
   "id": "2a32035a",
   "metadata": {},
   "outputs": [
    {
     "name": "stdout",
     "output_type": "stream",
     "text": [
      "0.160\n"
     ]
    }
   ],
   "source": [
    "print(\"{0:.3f}\".format(sampleB.mean() / sampleA.mean() - 1))"
   ]
  },
  {
   "cell_type": "markdown",
   "id": "429fb2b0",
   "metadata": {},
   "source": [
    "Относительный прирост среднего группы В составляет  16%. Этот прирост небольшой, но статистически значимый."
   ]
  },
  {
   "cell_type": "markdown",
   "id": "c8f2498d",
   "metadata": {},
   "source": [
    "### Статистическая значимость различий в среднем чеке заказа между группами по «сырым» данным. Выводы и предположения."
   ]
  },
  {
   "cell_type": "markdown",
   "id": "b4d23b51",
   "metadata": {},
   "source": [
    "Гипотезы:\n",
    "\n",
    "- H0 - различий в среднем чеке между группами А и В нет\n",
    "- H1 - различия в среднем чеке между группами А и В есть"
   ]
  },
  {
   "cell_type": "code",
   "execution_count": 54,
   "id": "7ca02510",
   "metadata": {},
   "outputs": [
    {
     "name": "stdout",
     "output_type": "stream",
     "text": [
      "p-значение: 0.829\n",
      "Не получилось отвергнуть нулевую гипотезу: между группами нет статистически значимого различия\n"
     ]
    }
   ],
   "source": [
    "alpha = 0.05 #критический уровень статистической значимости\n",
    "\n",
    "p_value = st.mannwhitneyu(orders[orders[\"group\"]==\"A\"][\"revenue\"],orders[orders[\"group\"]==\"B\"][\"revenue\"])[1]\n",
    "print(f'p-значение: {\"{0:.3f}\".format(p_value)}')\n",
    "\n",
    "if p_value < alpha:\n",
    "    print('Отвергаем нулевую гипотезу: между группами есть статистически значимое различие')\n",
    "else:\n",
    "    print('Не получилось отвергнуть нулевую гипотезу: между группами нет статистически значимого различия')"
   ]
  },
  {
   "cell_type": "markdown",
   "id": "1dc037f3",
   "metadata": {},
   "source": [
    "Посмотрим на отноистельный прирост группы В:"
   ]
  },
  {
   "cell_type": "code",
   "execution_count": 55,
   "id": "319f329d",
   "metadata": {},
   "outputs": [
    {
     "name": "stdout",
     "output_type": "stream",
     "text": [
      "0.287\n"
     ]
    }
   ],
   "source": [
    "print(\"{0:.3f}\".format(orders[orders['group']=='B']['revenue'].mean() /\n",
    "                                      orders[orders['group']=='A']['revenue'].mean() - 1))"
   ]
  },
  {
   "cell_type": "markdown",
   "id": "d1457792",
   "metadata": {},
   "source": [
    "Мы наблюдаем относительный прирост группы В - это почти 29%. Однако, согласно результату теста, он не является статистически значимым."
   ]
  },
  {
   "cell_type": "markdown",
   "id": "8d0844d1",
   "metadata": {},
   "source": [
    "### Статистическая значимость различий в среднем количестве заказов на посетителя между группами по «очищенным» данным. Выводы и предположения."
   ]
  },
  {
   "cell_type": "markdown",
   "id": "ec9fe75b",
   "metadata": {},
   "source": [
    "Ранее мы определили для себя условную границу нормы: и в случае с количеством заказов, и в случае с чеками это 99-й перцентиль."
   ]
  },
  {
   "cell_type": "code",
   "execution_count": 56,
   "id": "88c03abb",
   "metadata": {},
   "outputs": [],
   "source": [
    "orders_lim = np.percentile(ordersByUsersA['orders'], 99)\n",
    "usersWithManyOrders = pd.concat(\n",
    "    [\n",
    "        ordersByUsersA[ordersByUsersA['orders'] > orders_lim]['userId'],\n",
    "        ordersByUsersB[ordersByUsersB['orders'] > orders_lim]['userId'],\n",
    "    ],\n",
    "    axis=0,\n",
    ")\n",
    "\n",
    "revenue_lim = np.percentile(orders['revenue'], 99)\n",
    "usersWithExpensiveOrders = orders[orders['revenue'] > revenue_lim]['visitorId']\n",
    "\n",
    "abnormalUsers = (\n",
    "    pd.concat([usersWithManyOrders, usersWithExpensiveOrders], axis=0)\n",
    "    .drop_duplicates()\n",
    "    .sort_values()\n",
    ")"
   ]
  },
  {
   "cell_type": "markdown",
   "id": "edee7beb",
   "metadata": {},
   "source": [
    "Посмотрим, сколько пользователей мы отсеяли:"
   ]
  },
  {
   "cell_type": "code",
   "execution_count": 57,
   "id": "1af92856",
   "metadata": {},
   "outputs": [
    {
     "name": "stdout",
     "output_type": "stream",
     "text": [
      "16\n"
     ]
    }
   ],
   "source": [
    "print(abnormalUsers.shape[0])"
   ]
  },
  {
   "cell_type": "markdown",
   "id": "e3172976",
   "metadata": {},
   "source": [
    "Подготавливаем выборки:"
   ]
  },
  {
   "cell_type": "code",
   "execution_count": 58,
   "id": "54a24cdc",
   "metadata": {},
   "outputs": [],
   "source": [
    "sampleAFiltered = pd.concat([ordersByUsersA[np.logical_not(ordersByUsersA['userId'].isin(abnormalUsers))]['orders'],\n",
    "        pd.Series(0, index=np.arange(data['visitorsPerDateA'].sum() - len(ordersByUsersA['orders'])), name='orders')],\n",
    "        axis=0)\n",
    "\n",
    "sampleBFiltered = pd.concat([ordersByUsersB[np.logical_not(ordersByUsersB['userId'].isin(abnormalUsers))]['orders'],\n",
    "        pd.Series(0, index=np.arange(data['visitorsPerDateB'].sum() - len(ordersByUsersB['orders'])),name='orders')],\n",
    "        axis=0)"
   ]
  },
  {
   "cell_type": "markdown",
   "id": "294628ea",
   "metadata": {},
   "source": [
    "Применим статистический критерий Манна-Уитни к полученным выборкам:"
   ]
  },
  {
   "cell_type": "code",
   "execution_count": 59,
   "id": "d87e8d0c",
   "metadata": {},
   "outputs": [
    {
     "name": "stdout",
     "output_type": "stream",
     "text": [
      "p-значение: 0.007\n",
      "Отвергаем нулевую гипотезу: между группами есть статистически значимое различие\n"
     ]
    }
   ],
   "source": [
    "alpha = 0.05 #критический уровень статистической значимости\n",
    "\n",
    "p_value = st.mannwhitneyu(sampleAFiltered, sampleBFiltered)[1]\n",
    "print(f'p-значение: {\"{0:.3f}\".format(p_value)}')\n",
    "\n",
    "if p_value < alpha:\n",
    "    print('Отвергаем нулевую гипотезу: между группами есть статистически значимое различие')\n",
    "else:\n",
    "    print('Не получилось отвергнуть нулевую гипотезу: между группами нет статистически значимого различия')"
   ]
  },
  {
   "cell_type": "markdown",
   "id": "5dfc9fa9",
   "metadata": {},
   "source": [
    "В \"сырых\" данных p-value составлял 0.011, теперь в \"очищенном\" варианте p-value равняется 0.007, выводы от этого не изменились, нулевая гипотеза снова отвергнута."
   ]
  },
  {
   "cell_type": "markdown",
   "id": "857cab95",
   "metadata": {},
   "source": [
    "Посмотрим на относительный прирост среднего группы В в \"очищенном\" варианте:"
   ]
  },
  {
   "cell_type": "code",
   "execution_count": 60,
   "id": "3d9b5f6b",
   "metadata": {},
   "outputs": [
    {
     "name": "stdout",
     "output_type": "stream",
     "text": [
      "0.189\n"
     ]
    }
   ],
   "source": [
    "print('{0:.3f}'.format(sampleBFiltered.mean()/sampleAFiltered.mean()-1))"
   ]
  },
  {
   "cell_type": "markdown",
   "id": "6304f351",
   "metadata": {},
   "source": [
    "Относительный прирост в \"сырых\" данных составлял 16%, в \"очищенных\" данных даже больше: 18.9%. В данном случае относительный прирост согласуется с результатами статистического теста."
   ]
  },
  {
   "cell_type": "markdown",
   "id": "0fcb0e7a",
   "metadata": {},
   "source": [
    "### Статистическая значимость различий в среднем чеке заказа между группами по «очищенным» данным. Выводы и предположения."
   ]
  },
  {
   "cell_type": "code",
   "execution_count": 61,
   "id": "b7116f47",
   "metadata": {},
   "outputs": [
    {
     "name": "stdout",
     "output_type": "stream",
     "text": [
      "p-значение: 0.788\n",
      "Не получилось отвергнуть нулевую гипотезу: между группами нет статистически значимого различия\n"
     ]
    }
   ],
   "source": [
    "alpha = 0.05 #критический уровень статистической значимости\n",
    "\n",
    "p_value = st.mannwhitneyu(orders[np.logical_and(orders[\"group\"] == \"A\",\n",
    "                                                np.logical_not(orders[\"visitorId\"].isin(abnormalUsers)))][\"revenue\"],\n",
    "                          orders[np.logical_and(orders[\"group\"] == \"B\",\n",
    "                                                np.logical_not(orders[\"visitorId\"].isin(abnormalUsers)))][\"revenue\"])[1]\n",
    "print(f'p-значение: {\"{0:.3f}\".format(p_value)}')\n",
    "\n",
    "if p_value < alpha:\n",
    "    print('Отвергаем нулевую гипотезу: между группами есть статистически значимое различие')\n",
    "else:\n",
    "    print('Не получилось отвергнуть нулевую гипотезу: между группами нет статистически значимого различия')"
   ]
  },
  {
   "cell_type": "markdown",
   "id": "533b82dd",
   "metadata": {},
   "source": [
    "В \"сырых\" данных p-значение было 0.829, теперь оно другое, но выводы прежние - между группами нет статистически значимого различия."
   ]
  },
  {
   "cell_type": "markdown",
   "id": "15c075b5",
   "metadata": {},
   "source": [
    "Относительный прирост среднего группы В:"
   ]
  },
  {
   "cell_type": "code",
   "execution_count": 62,
   "id": "a660b548",
   "metadata": {},
   "outputs": [
    {
     "name": "stdout",
     "output_type": "stream",
     "text": [
      "-0.032\n"
     ]
    }
   ],
   "source": [
    "print(\"{0:.3f}\".format(orders[np.logical_and(orders['group'] == 'B',\n",
    "                np.logical_not(orders['visitorId'].isin(abnormalUsers)))]['revenue'].mean() / \n",
    "                orders[np.logical_and(orders['group'] == 'A',\n",
    "                np.logical_not(orders['visitorId'].isin(abnormalUsers)))]['revenue'].mean() - 1))"
   ]
  },
  {
   "cell_type": "markdown",
   "id": "fc6ab8a3",
   "metadata": {},
   "source": [
    "Относительный прирост в \"сырых\" данных был 0.287, а теперь он даже отрицательный -0.032. Здесь мы уже видим значительное отличие между \"сырыми\" и \"отфильтрованными\" данными. Это следствие влияния аномалий. По результатам теста, любой прирост или проигрыш не является статистически значимым."
   ]
  },
  {
   "cell_type": "markdown",
   "id": "2f8860a2",
   "metadata": {},
   "source": [
    "###  Решение по результатам теста"
   ]
  },
  {
   "cell_type": "markdown",
   "id": "dcbe4b28",
   "metadata": {},
   "source": [
    "\n",
    "\n"
   ]
  },
  {
   "cell_type": "markdown",
   "id": "cc6e31b2",
   "metadata": {},
   "source": [
    "Для принятия и обоснования решения пройдёмся ещё раз по полученным результатам по шагам:\n",
    "\n",
    "1. Среднее количество заказов: статистически значимое отличие между группами есть и по сырым, и по очищенным данным. Группа В показывает относительный прирост 16% по сырым и 18.9% по очищенным данным\n",
    "\n",
    "2. Средний чек: статистически значимого отличия между группами нет ни по сырым, ни очищенным данным.\n",
    "\n",
    "3. График различия среднего количества заказов между группами (раздел 5.6) сообщает, что результаты группы B лучше группы A\n",
    "\n",
    "4. График различия среднего чека (раздел 5.4) колеблется, эти колебания помогли обнаружить аномалии. Однозначный вывод по этому графику сделать нельзя, но в целом результаты группы B лучше результатов группы А (в основном выше нуля)\n",
    "\n",
    "На основе этих фактов можно принять решение:\n",
    "\n",
    "Следует остановить тест, зафиксировать победу группы В. Средние чеки не изменились, но в группе В есть статистически значимое отличие в количестве заказов. Увеличение количества заказов повлияет и на выручку. Значит, мы можем признать тест успешным. "
   ]
  },
  {
   "cell_type": "markdown",
   "id": "dcb711e3",
   "metadata": {},
   "source": [
    "## Выводы"
   ]
  },
  {
   "cell_type": "markdown",
   "id": "d3806e43",
   "metadata": {},
   "source": [
    "**Приоритизация гипотез**\n",
    "\n",
    "Список наиболее приоритетных гипотез, составленный при помощи фреймворков:\n",
    "\n",
    "**ICE**:\n",
    "1. Запустить акцию, дающую скидку на товар в день рождения\n",
    "2. Добавить два новых канала привлечения трафика, что позволит привлекать на 30% больше пользователей\n",
    "3. Добавить форму подписки на все основные страницы, чтобы собрать базу клиентов для email-рассылок\t\n",
    "\n",
    "**RICE**:\n",
    "1. Добавить форму подписки на все основные страницы, чтобы собрать базу клиентов для email-рассылок\t\n",
    "2. Добавить блоки рекомендаций товаров на сайт интернет магазина, чтобы повысить конверсию и средний чек заказа\t\n",
    "3. Добавить два новых канала привлечения трафика, что позволит привлекать на 30% больше пользователей\t\n",
    "\n",
    "**Почему происходят изменения в приоритизации**:\n",
    "\n",
    "- при применении фреймворка RICE вместо ICE меняется приоритизация гипотез. Это происходит из-за добавления параметра Reach, то есть охвата пользователей.\n",
    "\n",
    "- при этом гипотезы, которые в ICE набрали много баллов, при переходе в RICE меняются между собой местами, но остаются на лидирующих позициях. А гипотезы, имеющие низкие баллы в ICE, даже при сильном параметре Reach, не смогли выбраться в топ во фреймворке RICE.\n",
    "-----------------------------------------------------------------------------------------------------------------------------\n",
    "**A/B-тест**\n",
    "\n",
    "На этапе предобработки были выявлены 58 пользователей, которые попали в обе группы теста. Было принято решение не включать данные об их покупках в анализ результатов теста.\n",
    "\n",
    "- **Среднее количество заказов**: статистически значимое отличие между группами есть и по сырым, и по очищенным данным. Группа В показывает относительный прирост 16% по сырым и 18.9% по очищенным данным\n",
    "\n",
    "- **Средний чек**: статистически значимого отличия между группами нет ни по сырым, ни очищенным данным.\n",
    "\n",
    "- **График различия среднего количества заказов** между группами (раздел 5.6) сообщает, что результаты группы B лучше группы A\n",
    "\n",
    "- **График различия среднего чека** (раздел 5.4) колеблется, эти колебания помогли обнаружить аномалии. Однозначный вывод по этому графику сделать нельзя, но в целом результаты группы B лучше результатов группы А (в основном выше нуля)\n",
    "\n",
    "На основе этих фактов можно принять решение: **следует остановить тест, зафиксировать победу группы В**. Средние чеки не изменились, но в группе В есть статистически значимое отличие в количестве заказов. Увеличение количества заказов повлияет и на выручку. Значит, мы можем признать тест успешным.\n",
    "\n",
    "_____________________________________________________________________________________________________________________________\n",
    "Исследование выполнила: аналитик данных Малахова Наталья\n",
    "\n",
    "Мой телеграм-канал: [Дневник аналитика](https://t.me/diary_musician_analyst \"Дневник аналитика\")\n",
    "\n",
    "Портфолио: [GitHub](https://github.com/Malakhova-Natalya \"GitHub\")\n",
    "\n",
    "Спасибо за внимание!"
   ]
  }
 ],
 "metadata": {
  "ExecuteTimeLog": [
   {
    "duration": 1137,
    "start_time": "2023-01-18T13:06:31.814Z"
   },
   {
    "duration": 56,
    "start_time": "2023-01-18T13:06:32.952Z"
   },
   {
    "duration": 68,
    "start_time": "2023-01-18T13:06:33.010Z"
   },
   {
    "duration": 57,
    "start_time": "2023-01-18T13:06:33.080Z"
   },
   {
    "duration": 6,
    "start_time": "2023-01-18T13:06:33.139Z"
   },
   {
    "duration": 73,
    "start_time": "2023-01-18T13:06:33.146Z"
   },
   {
    "duration": 44,
    "start_time": "2023-01-18T13:06:33.220Z"
   },
   {
    "duration": 25,
    "start_time": "2023-01-18T13:06:33.266Z"
   },
   {
    "duration": 4,
    "start_time": "2023-01-18T13:06:33.292Z"
   },
   {
    "duration": 11,
    "start_time": "2023-01-18T13:06:33.298Z"
   },
   {
    "duration": 28,
    "start_time": "2023-01-18T13:06:33.311Z"
   },
   {
    "duration": 18,
    "start_time": "2023-01-18T13:06:33.342Z"
   },
   {
    "duration": 18,
    "start_time": "2023-01-18T13:06:33.361Z"
   },
   {
    "duration": 10,
    "start_time": "2023-01-18T13:06:33.380Z"
   },
   {
    "duration": 26,
    "start_time": "2023-01-18T13:06:33.392Z"
   },
   {
    "duration": 29,
    "start_time": "2023-01-18T13:06:33.419Z"
   },
   {
    "duration": 14,
    "start_time": "2023-01-18T13:06:33.450Z"
   },
   {
    "duration": 13,
    "start_time": "2023-01-18T13:06:33.465Z"
   },
   {
    "duration": 27,
    "start_time": "2023-01-18T13:06:33.480Z"
   },
   {
    "duration": 546,
    "start_time": "2023-01-18T13:06:33.508Z"
   },
   {
    "duration": 630,
    "start_time": "2023-01-18T13:06:34.056Z"
   },
   {
    "duration": 14,
    "start_time": "2023-01-18T13:06:34.689Z"
   },
   {
    "duration": 236,
    "start_time": "2023-01-18T13:06:34.705Z"
   },
   {
    "duration": 135,
    "start_time": "2023-01-18T13:06:34.943Z"
   },
   {
    "duration": 15,
    "start_time": "2023-01-18T13:06:35.080Z"
   },
   {
    "duration": 22,
    "start_time": "2023-01-18T13:06:35.096Z"
   },
   {
    "duration": 363,
    "start_time": "2023-01-18T13:06:35.120Z"
   },
   {
    "duration": 271,
    "start_time": "2023-01-18T13:06:35.486Z"
   },
   {
    "duration": 7,
    "start_time": "2023-01-18T13:06:35.759Z"
   },
   {
    "duration": 375,
    "start_time": "2023-01-18T13:06:35.768Z"
   },
   {
    "duration": 4,
    "start_time": "2023-01-18T13:06:36.145Z"
   },
   {
    "duration": 18,
    "start_time": "2023-01-18T13:06:36.150Z"
   },
   {
    "duration": 331,
    "start_time": "2023-01-18T13:06:36.170Z"
   },
   {
    "duration": 7,
    "start_time": "2023-01-18T13:06:36.503Z"
   },
   {
    "duration": 457,
    "start_time": "2023-01-18T13:06:36.511Z"
   },
   {
    "duration": 13,
    "start_time": "2023-01-18T13:06:36.969Z"
   },
   {
    "duration": 456,
    "start_time": "2023-01-18T13:06:36.984Z"
   },
   {
    "duration": 6,
    "start_time": "2023-01-18T13:06:37.442Z"
   },
   {
    "duration": 520,
    "start_time": "2023-01-18T13:06:37.449Z"
   },
   {
    "duration": 5,
    "start_time": "2023-01-18T13:06:37.971Z"
   },
   {
    "duration": 235,
    "start_time": "2023-01-18T13:06:37.978Z"
   },
   {
    "duration": 149,
    "start_time": "2023-01-18T13:06:38.215Z"
   },
   {
    "duration": 8,
    "start_time": "2023-01-18T13:06:38.366Z"
   },
   {
    "duration": 19,
    "start_time": "2023-01-18T13:06:38.375Z"
   },
   {
    "duration": 9,
    "start_time": "2023-01-18T13:06:38.396Z"
   },
   {
    "duration": 27,
    "start_time": "2023-01-18T13:06:38.407Z"
   },
   {
    "duration": 14,
    "start_time": "2023-01-18T13:06:38.441Z"
   },
   {
    "duration": 26,
    "start_time": "2023-01-18T13:06:38.456Z"
   },
   {
    "duration": 17,
    "start_time": "2023-01-18T13:06:38.484Z"
   },
   {
    "duration": 14,
    "start_time": "2023-01-18T13:06:38.502Z"
   },
   {
    "duration": 21,
    "start_time": "2023-01-18T13:06:38.517Z"
   },
   {
    "duration": 19,
    "start_time": "2023-01-18T13:06:38.539Z"
   },
   {
    "duration": 14,
    "start_time": "2023-01-18T13:06:38.559Z"
   },
   {
    "duration": 36,
    "start_time": "2023-01-18T13:06:38.575Z"
   },
   {
    "duration": 6,
    "start_time": "2023-01-18T13:06:38.612Z"
   },
   {
    "duration": 26,
    "start_time": "2023-01-18T13:06:38.620Z"
   },
   {
    "duration": 15,
    "start_time": "2023-01-18T13:06:38.647Z"
   },
   {
    "duration": 1147,
    "start_time": "2023-01-19T11:29:04.895Z"
   },
   {
    "duration": 81,
    "start_time": "2023-01-19T11:29:06.044Z"
   },
   {
    "duration": 89,
    "start_time": "2023-01-19T11:29:06.127Z"
   },
   {
    "duration": 61,
    "start_time": "2023-01-19T11:29:06.218Z"
   },
   {
    "duration": 5,
    "start_time": "2023-01-19T11:29:06.281Z"
   },
   {
    "duration": 58,
    "start_time": "2023-01-19T11:29:06.287Z"
   },
   {
    "duration": 37,
    "start_time": "2023-01-19T11:29:06.347Z"
   },
   {
    "duration": 55,
    "start_time": "2023-01-19T11:29:06.386Z"
   },
   {
    "duration": 5,
    "start_time": "2023-01-19T11:29:06.443Z"
   },
   {
    "duration": 6,
    "start_time": "2023-01-19T11:29:06.450Z"
   },
   {
    "duration": 16,
    "start_time": "2023-01-19T11:29:06.457Z"
   },
   {
    "duration": 20,
    "start_time": "2023-01-19T11:29:06.475Z"
   },
   {
    "duration": 12,
    "start_time": "2023-01-19T11:29:06.497Z"
   },
   {
    "duration": 6,
    "start_time": "2023-01-19T11:29:06.511Z"
   },
   {
    "duration": 24,
    "start_time": "2023-01-19T11:29:06.519Z"
   },
   {
    "duration": 7,
    "start_time": "2023-01-19T11:29:06.544Z"
   },
   {
    "duration": 15,
    "start_time": "2023-01-19T11:29:06.552Z"
   },
   {
    "duration": 13,
    "start_time": "2023-01-19T11:29:06.568Z"
   },
   {
    "duration": 12,
    "start_time": "2023-01-19T11:29:06.582Z"
   },
   {
    "duration": 13,
    "start_time": "2023-01-19T11:29:06.595Z"
   },
   {
    "duration": 14,
    "start_time": "2023-01-19T11:29:06.609Z"
   },
   {
    "duration": 6,
    "start_time": "2023-01-19T11:29:06.625Z"
   },
   {
    "duration": 13,
    "start_time": "2023-01-19T11:29:06.632Z"
   },
   {
    "duration": 10,
    "start_time": "2023-01-19T11:29:06.646Z"
   },
   {
    "duration": 12,
    "start_time": "2023-01-19T11:29:06.658Z"
   },
   {
    "duration": 7,
    "start_time": "2023-01-19T11:29:06.671Z"
   },
   {
    "duration": 19,
    "start_time": "2023-01-19T11:29:06.679Z"
   },
   {
    "duration": 554,
    "start_time": "2023-01-19T11:29:06.702Z"
   },
   {
    "duration": 681,
    "start_time": "2023-01-19T11:29:07.257Z"
   },
   {
    "duration": 12,
    "start_time": "2023-01-19T11:29:07.940Z"
   },
   {
    "duration": 402,
    "start_time": "2023-01-19T11:29:07.953Z"
   },
   {
    "duration": 284,
    "start_time": "2023-01-19T11:29:08.356Z"
   },
   {
    "duration": 18,
    "start_time": "2023-01-19T11:29:08.641Z"
   },
   {
    "duration": 19,
    "start_time": "2023-01-19T11:29:08.661Z"
   },
   {
    "duration": 493,
    "start_time": "2023-01-19T11:29:08.682Z"
   },
   {
    "duration": 290,
    "start_time": "2023-01-19T11:29:09.177Z"
   },
   {
    "duration": 6,
    "start_time": "2023-01-19T11:29:09.469Z"
   },
   {
    "duration": 388,
    "start_time": "2023-01-19T11:29:09.476Z"
   },
   {
    "duration": 5,
    "start_time": "2023-01-19T11:29:09.866Z"
   },
   {
    "duration": 26,
    "start_time": "2023-01-19T11:29:09.872Z"
   },
   {
    "duration": 279,
    "start_time": "2023-01-19T11:29:09.899Z"
   },
   {
    "duration": 8,
    "start_time": "2023-01-19T11:29:10.180Z"
   },
   {
    "duration": 467,
    "start_time": "2023-01-19T11:29:10.189Z"
   },
   {
    "duration": 12,
    "start_time": "2023-01-19T11:29:10.658Z"
   },
   {
    "duration": 490,
    "start_time": "2023-01-19T11:29:10.671Z"
   },
   {
    "duration": 5,
    "start_time": "2023-01-19T11:29:11.162Z"
   },
   {
    "duration": 478,
    "start_time": "2023-01-19T11:29:11.168Z"
   },
   {
    "duration": 5,
    "start_time": "2023-01-19T11:29:11.647Z"
   },
   {
    "duration": 239,
    "start_time": "2023-01-19T11:29:11.654Z"
   },
   {
    "duration": 143,
    "start_time": "2023-01-19T11:29:11.895Z"
   },
   {
    "duration": 8,
    "start_time": "2023-01-19T11:29:12.040Z"
   },
   {
    "duration": 22,
    "start_time": "2023-01-19T11:29:12.050Z"
   },
   {
    "duration": 4,
    "start_time": "2023-01-19T11:29:12.074Z"
   },
   {
    "duration": 20,
    "start_time": "2023-01-19T11:29:12.080Z"
   },
   {
    "duration": 17,
    "start_time": "2023-01-19T11:29:12.101Z"
   },
   {
    "duration": 20,
    "start_time": "2023-01-19T11:29:12.120Z"
   },
   {
    "duration": 9,
    "start_time": "2023-01-19T11:29:12.141Z"
   },
   {
    "duration": 11,
    "start_time": "2023-01-19T11:29:12.152Z"
   },
   {
    "duration": 37,
    "start_time": "2023-01-19T11:29:12.165Z"
   },
   {
    "duration": 4,
    "start_time": "2023-01-19T11:29:12.204Z"
   },
   {
    "duration": 13,
    "start_time": "2023-01-19T11:29:12.209Z"
   },
   {
    "duration": 7,
    "start_time": "2023-01-19T11:29:12.223Z"
   },
   {
    "duration": 13,
    "start_time": "2023-01-19T11:33:52.835Z"
   },
   {
    "duration": 55,
    "start_time": "2023-01-19T11:34:45.307Z"
   },
   {
    "duration": 116,
    "start_time": "2023-01-19T11:34:50.159Z"
   },
   {
    "duration": 3,
    "start_time": "2023-01-19T11:34:57.914Z"
   },
   {
    "duration": 26,
    "start_time": "2023-01-19T11:34:58.565Z"
   },
   {
    "duration": 37,
    "start_time": "2023-01-19T11:34:58.739Z"
   },
   {
    "duration": 16,
    "start_time": "2023-01-19T11:34:58.936Z"
   },
   {
    "duration": 5,
    "start_time": "2023-01-19T11:34:59.335Z"
   },
   {
    "duration": 37,
    "start_time": "2023-01-19T11:34:59.860Z"
   },
   {
    "duration": 11,
    "start_time": "2023-01-19T11:37:31.462Z"
   },
   {
    "duration": 3,
    "start_time": "2023-01-19T11:37:44.732Z"
   },
   {
    "duration": 28,
    "start_time": "2023-01-19T11:37:45.165Z"
   },
   {
    "duration": 46,
    "start_time": "2023-01-19T11:37:45.336Z"
   },
   {
    "duration": 16,
    "start_time": "2023-01-19T11:37:45.495Z"
   },
   {
    "duration": 4,
    "start_time": "2023-01-19T11:37:45.809Z"
   },
   {
    "duration": 35,
    "start_time": "2023-01-19T11:37:45.975Z"
   },
   {
    "duration": 38,
    "start_time": "2023-01-19T11:37:46.165Z"
   },
   {
    "duration": 32,
    "start_time": "2023-01-19T11:37:46.538Z"
   },
   {
    "duration": 18,
    "start_time": "2023-01-19T11:37:56.041Z"
   },
   {
    "duration": 17,
    "start_time": "2023-01-19T11:38:06.214Z"
   },
   {
    "duration": 20,
    "start_time": "2023-01-19T11:38:29.944Z"
   },
   {
    "duration": 6,
    "start_time": "2023-01-19T11:38:43.247Z"
   },
   {
    "duration": 7,
    "start_time": "2023-01-19T11:38:54.558Z"
   }
  ],
  "kernelspec": {
   "display_name": "Python 3 (ipykernel)",
   "language": "python",
   "name": "python3"
  },
  "language_info": {
   "codemirror_mode": {
    "name": "ipython",
    "version": 3
   },
   "file_extension": ".py",
   "mimetype": "text/x-python",
   "name": "python",
   "nbconvert_exporter": "python",
   "pygments_lexer": "ipython3",
   "version": "3.9.7"
  },
  "toc": {
   "base_numbering": 1,
   "nav_menu": {},
   "number_sections": true,
   "sideBar": true,
   "skip_h1_title": true,
   "title_cell": "Содержание",
   "title_sidebar": "Содержание",
   "toc_cell": true,
   "toc_position": {},
   "toc_section_display": true,
   "toc_window_display": false
  }
 },
 "nbformat": 4,
 "nbformat_minor": 5
}
