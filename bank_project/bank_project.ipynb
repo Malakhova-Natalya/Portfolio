{
 "cells": [
  {
   "cell_type": "markdown",
   "id": "573ada5e",
   "metadata": {},
   "source": [
    "# Исследование надёжности заёмщиков банка"
   ]
  },
  {
   "cell_type": "markdown",
   "id": "42dadf64",
   "metadata": {
    "toc": true
   },
   "source": [
    "<h1>Содержание<span class=\"tocSkip\"></span></h1>\n",
    "<div class=\"toc\"><ul class=\"toc-item\"><li><span><a href=\"#Описание-проекта\" data-toc-modified-id=\"Описание-проекта-1\"><span class=\"toc-item-num\">1&nbsp;&nbsp;</span>Описание проекта</a></span></li><li><span><a href=\"#Открытие-и-изучение-данных\" data-toc-modified-id=\"Открытие-и-изучение-данных-2\"><span class=\"toc-item-num\">2&nbsp;&nbsp;</span>Открытие и изучение данных</a></span><ul class=\"toc-item\"><li><span><a href=\"#Вывод\" data-toc-modified-id=\"Вывод-2.1\"><span class=\"toc-item-num\">2.1&nbsp;&nbsp;</span>Вывод</a></span></li></ul></li><li><span><a href=\"#Предобработка-данных\" data-toc-modified-id=\"Предобработка-данных-3\"><span class=\"toc-item-num\">3&nbsp;&nbsp;</span>Предобработка данных</a></span><ul class=\"toc-item\"><li><span><a href=\"#Заполнение-пропусков\" data-toc-modified-id=\"Заполнение-пропусков-3.1\"><span class=\"toc-item-num\">3.1&nbsp;&nbsp;</span>Заполнение пропусков</a></span></li><li><span><a href=\"#Проверка-данных-на-аномалии-и-исправления\" data-toc-modified-id=\"Проверка-данных-на-аномалии-и-исправления-3.2\"><span class=\"toc-item-num\">3.2&nbsp;&nbsp;</span>Проверка данных на аномалии и исправления</a></span></li><li><span><a href=\"#Изменение-типов-данных\" data-toc-modified-id=\"Изменение-типов-данных-3.3\"><span class=\"toc-item-num\">3.3&nbsp;&nbsp;</span>Изменение типов данных</a></span></li><li><span><a href=\"#Удаление-дубликатов\" data-toc-modified-id=\"Удаление-дубликатов-3.4\"><span class=\"toc-item-num\">3.4&nbsp;&nbsp;</span>Удаление дубликатов</a></span></li><li><span><a href=\"#Формирование-дополнительных-датафреймов-словарей,-декомпозиция-исходного-датафрейма\" data-toc-modified-id=\"Формирование-дополнительных-датафреймов-словарей,-декомпозиция-исходного-датафрейма-3.5\"><span class=\"toc-item-num\">3.5&nbsp;&nbsp;</span>Формирование дополнительных датафреймов словарей, декомпозиция исходного датафрейма</a></span></li><li><span><a href=\"#Категоризация-дохода\" data-toc-modified-id=\"Категоризация-дохода-3.6\"><span class=\"toc-item-num\">3.6&nbsp;&nbsp;</span>Категоризация дохода</a></span></li><li><span><a href=\"#Категоризация-целей-кредита\" data-toc-modified-id=\"Категоризация-целей-кредита-3.7\"><span class=\"toc-item-num\">3.7&nbsp;&nbsp;</span>Категоризация целей кредита</a></span></li><li><span><a href=\"#Вывод\" data-toc-modified-id=\"Вывод-3.8\"><span class=\"toc-item-num\">3.8&nbsp;&nbsp;</span>Вывод</a></span></li></ul></li><li><span><a href=\"#Ответы-на-вопросы-заказчика\" data-toc-modified-id=\"Ответы-на-вопросы-заказчика-4\"><span class=\"toc-item-num\">4&nbsp;&nbsp;</span>Ответы на вопросы заказчика</a></span><ul class=\"toc-item\"><li><span><a href=\"#Есть-ли-зависимость-между-количеством-детей-и-возвратом-кредита-в-срок?\" data-toc-modified-id=\"Есть-ли-зависимость-между-количеством-детей-и-возвратом-кредита-в-срок?-4.1\"><span class=\"toc-item-num\">4.1&nbsp;&nbsp;</span>Есть ли зависимость между количеством детей и возвратом кредита в срок?</a></span></li><li><span><a href=\"#Вывод\" data-toc-modified-id=\"Вывод-4.2\"><span class=\"toc-item-num\">4.2&nbsp;&nbsp;</span>Вывод</a></span></li><li><span><a href=\"#Есть-ли-зависимость-между-семейным-положением-и-возвратом-кредита-в-срок?\" data-toc-modified-id=\"Есть-ли-зависимость-между-семейным-положением-и-возвратом-кредита-в-срок?-4.3\"><span class=\"toc-item-num\">4.3&nbsp;&nbsp;</span>Есть ли зависимость между семейным положением и возвратом кредита в срок?</a></span></li><li><span><a href=\"#Вывод\" data-toc-modified-id=\"Вывод-4.4\"><span class=\"toc-item-num\">4.4&nbsp;&nbsp;</span>Вывод</a></span></li><li><span><a href=\"#Есть-ли-зависимость-между-уровнем-дохода-и-возвратом-кредита-в-срок?\" data-toc-modified-id=\"Есть-ли-зависимость-между-уровнем-дохода-и-возвратом-кредита-в-срок?-4.5\"><span class=\"toc-item-num\">4.5&nbsp;&nbsp;</span>Есть ли зависимость между уровнем дохода и возвратом кредита в срок?</a></span></li><li><span><a href=\"#Вывод:\" data-toc-modified-id=\"Вывод:-4.6\"><span class=\"toc-item-num\">4.6&nbsp;&nbsp;</span>Вывод:</a></span></li><li><span><a href=\"#Как-разные-цели-кредита-влияют-на-его-возврат-в-срок?\" data-toc-modified-id=\"Как-разные-цели-кредита-влияют-на-его-возврат-в-срок?-4.7\"><span class=\"toc-item-num\">4.7&nbsp;&nbsp;</span>Как разные цели кредита влияют на его возврат в срок?</a></span></li><li><span><a href=\"#Вывод\" data-toc-modified-id=\"Вывод-4.8\"><span class=\"toc-item-num\">4.8&nbsp;&nbsp;</span>Вывод</a></span></li></ul></li><li><span><a href=\"#Общий-вывод\" data-toc-modified-id=\"Общий-вывод-5\"><span class=\"toc-item-num\">5&nbsp;&nbsp;</span>Общий вывод</a></span></li></ul></div>"
   ]
  },
  {
   "cell_type": "markdown",
   "id": "b9db60aa",
   "metadata": {},
   "source": [
    "## Описание проекта"
   ]
  },
  {
   "cell_type": "markdown",
   "id": "080049d9",
   "metadata": {},
   "source": [
    "В данном проекте изучается надёжность клиентов-заёмщиков банка.   \n",
    "\n",
    "**Заказчик исследования** - кредитный отдел банка.\n",
    "\n",
    "**Основные задачи**:\n",
    "\n",
    " - Подготовить данные для построения модели кредитного скоринга - системы, которая оценивает способность потенциального заёмщика вернуть кредит банку.\n",
    "\n",
    "- Выяснить, какие факторы и как влияют на потенциальную платёжеспособность клиентов, какие категории клиентов наиболее вероятно погасят кредит в срок, а какие категории клиентов вероятнее могут иметь просрочки по платежам. Заказчику важны ответы на следующие вопросы:\n",
    "     - есть ли зависимость между количеством детей и возвратом кредита в срок?\n",
    "     - есть ли зависимость между семейным положением и возвратом кредита в срок?\n",
    "     - есть ли зависимость между уровнем дохода и возвратом кредита в срок?\n",
    "     - как разные цели кредита влияют на его возврат в срок?\n",
    "\n",
    "**План работы**:\n",
    "- открытие и знакомство с данными\n",
    "- предобработка данных\n",
    "- подготовка данных для передачи их специалисту data science для построения модели кредитного скоринга\n",
    "- анализ данных - ответы на вопросы заказчика\n",
    "- общий вывод\n",
    "\n",
    "\n",
    "**Описание данных**:\n",
    "\n",
    "Данные предоставлены банком, это статистика платёжеспособности клиентов.\n",
    "\n"
   ]
  },
  {
   "cell_type": "markdown",
   "id": "9ce604e3",
   "metadata": {},
   "source": [
    "## Открытие и изучение данных"
   ]
  },
  {
   "cell_type": "code",
   "execution_count": 1,
   "id": "1182d19a",
   "metadata": {},
   "outputs": [],
   "source": [
    "import pandas as pd"
   ]
  },
  {
   "cell_type": "code",
   "execution_count": 2,
   "id": "b3565e9e",
   "metadata": {},
   "outputs": [],
   "source": [
    "data = pd.read_csv('/datasets/bank_data.csv')"
   ]
  },
  {
   "cell_type": "markdown",
   "id": "d43d4771",
   "metadata": {},
   "source": [
    "Посмотрим, как выглядит таблица с данными и общая информация о датасете."
   ]
  },
  {
   "cell_type": "code",
   "execution_count": 3,
   "id": "091ca739",
   "metadata": {},
   "outputs": [
    {
     "data": {
      "text/html": [
       "<div>\n",
       "<style scoped>\n",
       "    .dataframe tbody tr th:only-of-type {\n",
       "        vertical-align: middle;\n",
       "    }\n",
       "\n",
       "    .dataframe tbody tr th {\n",
       "        vertical-align: top;\n",
       "    }\n",
       "\n",
       "    .dataframe thead th {\n",
       "        text-align: right;\n",
       "    }\n",
       "</style>\n",
       "<table border=\"1\" class=\"dataframe\">\n",
       "  <thead>\n",
       "    <tr style=\"text-align: right;\">\n",
       "      <th></th>\n",
       "      <th>children</th>\n",
       "      <th>days_employed</th>\n",
       "      <th>dob_years</th>\n",
       "      <th>education</th>\n",
       "      <th>education_id</th>\n",
       "      <th>family_status</th>\n",
       "      <th>family_status_id</th>\n",
       "      <th>gender</th>\n",
       "      <th>income_type</th>\n",
       "      <th>debt</th>\n",
       "      <th>total_income</th>\n",
       "      <th>purpose</th>\n",
       "    </tr>\n",
       "  </thead>\n",
       "  <tbody>\n",
       "    <tr>\n",
       "      <th>0</th>\n",
       "      <td>1</td>\n",
       "      <td>-8437.673028</td>\n",
       "      <td>42</td>\n",
       "      <td>высшее</td>\n",
       "      <td>0</td>\n",
       "      <td>женат / замужем</td>\n",
       "      <td>0</td>\n",
       "      <td>F</td>\n",
       "      <td>сотрудник</td>\n",
       "      <td>0</td>\n",
       "      <td>253875.639453</td>\n",
       "      <td>покупка жилья</td>\n",
       "    </tr>\n",
       "    <tr>\n",
       "      <th>1</th>\n",
       "      <td>1</td>\n",
       "      <td>-4024.803754</td>\n",
       "      <td>36</td>\n",
       "      <td>среднее</td>\n",
       "      <td>1</td>\n",
       "      <td>женат / замужем</td>\n",
       "      <td>0</td>\n",
       "      <td>F</td>\n",
       "      <td>сотрудник</td>\n",
       "      <td>0</td>\n",
       "      <td>112080.014102</td>\n",
       "      <td>приобретение автомобиля</td>\n",
       "    </tr>\n",
       "    <tr>\n",
       "      <th>2</th>\n",
       "      <td>0</td>\n",
       "      <td>-5623.422610</td>\n",
       "      <td>33</td>\n",
       "      <td>Среднее</td>\n",
       "      <td>1</td>\n",
       "      <td>женат / замужем</td>\n",
       "      <td>0</td>\n",
       "      <td>M</td>\n",
       "      <td>сотрудник</td>\n",
       "      <td>0</td>\n",
       "      <td>145885.952297</td>\n",
       "      <td>покупка жилья</td>\n",
       "    </tr>\n",
       "    <tr>\n",
       "      <th>3</th>\n",
       "      <td>3</td>\n",
       "      <td>-4124.747207</td>\n",
       "      <td>32</td>\n",
       "      <td>среднее</td>\n",
       "      <td>1</td>\n",
       "      <td>женат / замужем</td>\n",
       "      <td>0</td>\n",
       "      <td>M</td>\n",
       "      <td>сотрудник</td>\n",
       "      <td>0</td>\n",
       "      <td>267628.550329</td>\n",
       "      <td>дополнительное образование</td>\n",
       "    </tr>\n",
       "    <tr>\n",
       "      <th>4</th>\n",
       "      <td>0</td>\n",
       "      <td>340266.072047</td>\n",
       "      <td>53</td>\n",
       "      <td>среднее</td>\n",
       "      <td>1</td>\n",
       "      <td>гражданский брак</td>\n",
       "      <td>1</td>\n",
       "      <td>F</td>\n",
       "      <td>пенсионер</td>\n",
       "      <td>0</td>\n",
       "      <td>158616.077870</td>\n",
       "      <td>сыграть свадьбу</td>\n",
       "    </tr>\n",
       "  </tbody>\n",
       "</table>\n",
       "</div>"
      ],
      "text/plain": [
       "   children  days_employed  dob_years education  education_id  \\\n",
       "0         1   -8437.673028         42    высшее             0   \n",
       "1         1   -4024.803754         36   среднее             1   \n",
       "2         0   -5623.422610         33   Среднее             1   \n",
       "3         3   -4124.747207         32   среднее             1   \n",
       "4         0  340266.072047         53   среднее             1   \n",
       "\n",
       "      family_status  family_status_id gender income_type  debt   total_income  \\\n",
       "0   женат / замужем                 0      F   сотрудник     0  253875.639453   \n",
       "1   женат / замужем                 0      F   сотрудник     0  112080.014102   \n",
       "2   женат / замужем                 0      M   сотрудник     0  145885.952297   \n",
       "3   женат / замужем                 0      M   сотрудник     0  267628.550329   \n",
       "4  гражданский брак                 1      F   пенсионер     0  158616.077870   \n",
       "\n",
       "                      purpose  \n",
       "0               покупка жилья  \n",
       "1     приобретение автомобиля  \n",
       "2               покупка жилья  \n",
       "3  дополнительное образование  \n",
       "4             сыграть свадьбу  "
      ]
     },
     "metadata": {},
     "output_type": "display_data"
    }
   ],
   "source": [
    "display(data.head()) "
   ]
  },
  {
   "cell_type": "code",
   "execution_count": 4,
   "id": "cf9c86d7",
   "metadata": {
    "scrolled": true
   },
   "outputs": [
    {
     "name": "stdout",
     "output_type": "stream",
     "text": [
      "<class 'pandas.core.frame.DataFrame'>\n",
      "RangeIndex: 21525 entries, 0 to 21524\n",
      "Data columns (total 12 columns):\n",
      " #   Column            Non-Null Count  Dtype  \n",
      "---  ------            --------------  -----  \n",
      " 0   children          21525 non-null  int64  \n",
      " 1   days_employed     19351 non-null  float64\n",
      " 2   dob_years         21525 non-null  int64  \n",
      " 3   education         21525 non-null  object \n",
      " 4   education_id      21525 non-null  int64  \n",
      " 5   family_status     21525 non-null  object \n",
      " 6   family_status_id  21525 non-null  int64  \n",
      " 7   gender            21525 non-null  object \n",
      " 8   income_type       21525 non-null  object \n",
      " 9   debt              21525 non-null  int64  \n",
      " 10  total_income      19351 non-null  float64\n",
      " 11  purpose           21525 non-null  object \n",
      "dtypes: float64(2), int64(5), object(5)\n",
      "memory usage: 2.0+ MB\n"
     ]
    }
   ],
   "source": [
    "data.info() "
   ]
  },
  {
   "cell_type": "markdown",
   "id": "a9e4e8a8",
   "metadata": {},
   "source": [
    "На всякий случай продублируем \"сырые\" данные, чтобы в дальнейшем, после предобработки, можно было сравнить два датасета."
   ]
  },
  {
   "cell_type": "code",
   "execution_count": 5,
   "id": "92f5a6e6",
   "metadata": {},
   "outputs": [],
   "source": [
    "data_raw = pd.read_csv('/datasets/bank_data.csv')"
   ]
  },
  {
   "cell_type": "markdown",
   "id": "be9314ff",
   "metadata": {},
   "source": [
    "### Вывод"
   ]
  },
  {
   "cell_type": "markdown",
   "id": "2d03f8df",
   "metadata": {},
   "source": [
    "В данных 21525 строк, 12 столбцов.\n",
    "\n",
    "На первый взгляд, здесь есть следующие недочёты:\n",
    "\n",
    "* судя по информации о данных, **есть пропуски** в разделах: \n",
    "    - 'days_employed' - общий трудовой стаж в днях,\n",
    "    - 'total_income' - ежемесячный доход.\n",
    "* есть **аномальные значения** в разделе \n",
    "    - 'days_employed' - общий трудовой стаж в днях записан отрицательным числом\n",
    "* есть данные, которые нужно **привести к одному регистру** - в графе\n",
    "    - 'education' - образование"
   ]
  },
  {
   "cell_type": "markdown",
   "id": "d6e72dd0",
   "metadata": {},
   "source": [
    "## Предобработка данных"
   ]
  },
  {
   "cell_type": "markdown",
   "id": "1ffc1383",
   "metadata": {},
   "source": [
    "Предобработка включает в себя следующие разделы:\n",
    "- заполнение пропусков\n",
    "- проверка данных на аномалии и исправления\n",
    "- изменение типов данных\n",
    "- удаление дубликатов\n",
    "- формирование дополнительных датафреймов словарей, декомпозиция исходного датафрейма\n",
    "- категоризация дохода\n",
    "- категоризация целей кредита\n",
    "- вывод\n"
   ]
  },
  {
   "cell_type": "markdown",
   "id": "1d24db48",
   "metadata": {},
   "source": [
    "### Заполнение пропусков"
   ]
  },
  {
   "cell_type": "code",
   "execution_count": 6,
   "id": "758629c3",
   "metadata": {
    "scrolled": true
   },
   "outputs": [
    {
     "data": {
      "text/html": [
       "<div>\n",
       "<style scoped>\n",
       "    .dataframe tbody tr th:only-of-type {\n",
       "        vertical-align: middle;\n",
       "    }\n",
       "\n",
       "    .dataframe tbody tr th {\n",
       "        vertical-align: top;\n",
       "    }\n",
       "\n",
       "    .dataframe thead th {\n",
       "        text-align: right;\n",
       "    }\n",
       "</style>\n",
       "<table border=\"1\" class=\"dataframe\">\n",
       "  <thead>\n",
       "    <tr style=\"text-align: right;\">\n",
       "      <th></th>\n",
       "      <th>children</th>\n",
       "      <th>days_employed</th>\n",
       "      <th>dob_years</th>\n",
       "      <th>education</th>\n",
       "      <th>education_id</th>\n",
       "      <th>family_status</th>\n",
       "      <th>family_status_id</th>\n",
       "      <th>gender</th>\n",
       "      <th>income_type</th>\n",
       "      <th>debt</th>\n",
       "      <th>total_income</th>\n",
       "      <th>purpose</th>\n",
       "    </tr>\n",
       "  </thead>\n",
       "  <tbody>\n",
       "    <tr>\n",
       "      <th>12</th>\n",
       "      <td>0</td>\n",
       "      <td>NaN</td>\n",
       "      <td>65</td>\n",
       "      <td>среднее</td>\n",
       "      <td>1</td>\n",
       "      <td>гражданский брак</td>\n",
       "      <td>1</td>\n",
       "      <td>M</td>\n",
       "      <td>пенсионер</td>\n",
       "      <td>0</td>\n",
       "      <td>NaN</td>\n",
       "      <td>сыграть свадьбу</td>\n",
       "    </tr>\n",
       "    <tr>\n",
       "      <th>26</th>\n",
       "      <td>0</td>\n",
       "      <td>NaN</td>\n",
       "      <td>41</td>\n",
       "      <td>среднее</td>\n",
       "      <td>1</td>\n",
       "      <td>женат / замужем</td>\n",
       "      <td>0</td>\n",
       "      <td>M</td>\n",
       "      <td>госслужащий</td>\n",
       "      <td>0</td>\n",
       "      <td>NaN</td>\n",
       "      <td>образование</td>\n",
       "    </tr>\n",
       "    <tr>\n",
       "      <th>29</th>\n",
       "      <td>0</td>\n",
       "      <td>NaN</td>\n",
       "      <td>63</td>\n",
       "      <td>среднее</td>\n",
       "      <td>1</td>\n",
       "      <td>Не женат / не замужем</td>\n",
       "      <td>4</td>\n",
       "      <td>F</td>\n",
       "      <td>пенсионер</td>\n",
       "      <td>0</td>\n",
       "      <td>NaN</td>\n",
       "      <td>строительство жилой недвижимости</td>\n",
       "    </tr>\n",
       "    <tr>\n",
       "      <th>41</th>\n",
       "      <td>0</td>\n",
       "      <td>NaN</td>\n",
       "      <td>50</td>\n",
       "      <td>среднее</td>\n",
       "      <td>1</td>\n",
       "      <td>женат / замужем</td>\n",
       "      <td>0</td>\n",
       "      <td>F</td>\n",
       "      <td>госслужащий</td>\n",
       "      <td>0</td>\n",
       "      <td>NaN</td>\n",
       "      <td>сделка с подержанным автомобилем</td>\n",
       "    </tr>\n",
       "    <tr>\n",
       "      <th>55</th>\n",
       "      <td>0</td>\n",
       "      <td>NaN</td>\n",
       "      <td>54</td>\n",
       "      <td>среднее</td>\n",
       "      <td>1</td>\n",
       "      <td>гражданский брак</td>\n",
       "      <td>1</td>\n",
       "      <td>F</td>\n",
       "      <td>пенсионер</td>\n",
       "      <td>1</td>\n",
       "      <td>NaN</td>\n",
       "      <td>сыграть свадьбу</td>\n",
       "    </tr>\n",
       "  </tbody>\n",
       "</table>\n",
       "</div>"
      ],
      "text/plain": [
       "    children  days_employed  dob_years education  education_id  \\\n",
       "12         0            NaN         65   среднее             1   \n",
       "26         0            NaN         41   среднее             1   \n",
       "29         0            NaN         63   среднее             1   \n",
       "41         0            NaN         50   среднее             1   \n",
       "55         0            NaN         54   среднее             1   \n",
       "\n",
       "            family_status  family_status_id gender  income_type  debt  \\\n",
       "12       гражданский брак                 1      M    пенсионер     0   \n",
       "26        женат / замужем                 0      M  госслужащий     0   \n",
       "29  Не женат / не замужем                 4      F    пенсионер     0   \n",
       "41        женат / замужем                 0      F  госслужащий     0   \n",
       "55       гражданский брак                 1      F    пенсионер     1   \n",
       "\n",
       "    total_income                           purpose  \n",
       "12           NaN                   сыграть свадьбу  \n",
       "26           NaN                       образование  \n",
       "29           NaN  строительство жилой недвижимости  \n",
       "41           NaN  сделка с подержанным автомобилем  \n",
       "55           NaN                   сыграть свадьбу  "
      ]
     },
     "metadata": {},
     "output_type": "display_data"
    }
   ],
   "source": [
    "display(data[data['total_income'].isna()].head()) "
   ]
  },
  {
   "cell_type": "markdown",
   "id": "5a380e1d",
   "metadata": {},
   "source": [
    "Пропуски представлены в виде **NaN**."
   ]
  },
  {
   "cell_type": "code",
   "execution_count": 7,
   "id": "c5967497",
   "metadata": {},
   "outputs": [
    {
     "name": "stdout",
     "output_type": "stream",
     "text": [
      "Доля пропущенных значений составляет: 10%\n"
     ]
    }
   ],
   "source": [
    "percentage_of_missing_values = data['total_income'].isna().mean()\n",
    "print(f'Доля пропущенных значений составляет: {percentage_of_missing_values:.0%}')"
   ]
  },
  {
   "cell_type": "markdown",
   "id": "f0f7af86",
   "metadata": {},
   "source": [
    "В данных об **общем трудовом стаже в днях** есть пропуски. Возможно, это связано со сложностью уточнения таких данных самим клиентом:\n",
    "- менялось законодательство, в разные годы трудовой стаж считался по-разному, в частности для людей старшего поколения декретный отпуск мог входить или не входить в общий стаж, \n",
    "- не все документы, подтверждающие стаж, могут быть оформлены правильно или быть в наличии у клиента,\n",
    "- клиент мог часто менять работу, чередовать официально оформленную занятость в организации и работу частным образом (не оформленную и не задокументированную)\n",
    "\n",
    "Также пропуски есть и в данных об **ежемесячном доходе**. Это может быть связано со следующими факторами:\n",
    "- нежелание клиента афишировать свой доход (из опасений о личной безопасности и безопасности таких данных, если доход высокий),\n",
    "- сложностями расчёта такого дохода, если клиент менял работу/какое-то время был безработным/попал в сложную жизненную ситуацию,\n",
    "- имеются сложности с расчётом среднего дохода и официальным подтверждением его (например, клиент предпочитает работу частным образом, доход сильно меняется от месяца к месяцу, нет в наличии документов, которые могли бы подтвердить доход за последние месяцы)\n",
    "- у клиента есть официально не оформленные источники дохода и поэтому он стремится не указывать реальное положение своих финансовых дел\n",
    "\n",
    "**Вывод**: \n",
    "- возможно, мы имеем дело с сознательным пропуском клиентом заполнения этих разделов данных о себе\n",
    "- возможно имеет место технический сбой (настораживает абсолютно идентичное количество пропусков в обоих столбцах)"
   ]
  },
  {
   "cell_type": "code",
   "execution_count": 8,
   "id": "487550ad",
   "metadata": {},
   "outputs": [],
   "source": [
    "data['total_income'] = data['total_income'].fillna(data.groupby(['income_type'])['total_income'].transform('median'))"
   ]
  },
  {
   "cell_type": "code",
   "execution_count": 9,
   "id": "4ca00390",
   "metadata": {},
   "outputs": [
    {
     "data": {
      "text/plain": [
       "0"
      ]
     },
     "execution_count": 9,
     "metadata": {},
     "output_type": "execute_result"
    }
   ],
   "source": [
    "data['total_income'].isna().sum()"
   ]
  },
  {
   "cell_type": "markdown",
   "id": "6c34a0f8",
   "metadata": {},
   "source": [
    "Теперь все **пропуски** в столбце **с данными о ежемесячном доходе заполнены** медианным значением **в зависимости от типа занятости клиента** (и можно убедиться в этом, снова посчитав пропуски в этом столбце - их 0).\n",
    "\n",
    "**Медианное значение** в этом случае даёт более объективную информацию (по сравнению со средним арифметическим). Это особенно актуально в странах, где есть большой разрыв в доходах населения, и могут быть выдающиеся от средней нормы значения, которые и уведут общую картину в необъективную сторону. Поэтому с этой количественной переменной при заполнении пропусков лучше использовать именно метод median().\n",
    "\n",
    "Также есть пропуски в столбце с данными о трудовом стаже, но этот столбец имеет смысл рассмотреть отдельно в следующем шаге, т.к. в нём замечены аномалии, и прежде чем заполнять эти пропуски, надо выяснить природу аномалий и общее содержимое столбца."
   ]
  },
  {
   "cell_type": "markdown",
   "id": "e6236e6e",
   "metadata": {},
   "source": [
    "### Проверка данных на аномалии и исправления"
   ]
  },
  {
   "cell_type": "code",
   "execution_count": 10,
   "id": "3a17c078",
   "metadata": {},
   "outputs": [
    {
     "data": {
      "text/html": [
       "<div>\n",
       "<style scoped>\n",
       "    .dataframe tbody tr th:only-of-type {\n",
       "        vertical-align: middle;\n",
       "    }\n",
       "\n",
       "    .dataframe tbody tr th {\n",
       "        vertical-align: top;\n",
       "    }\n",
       "\n",
       "    .dataframe thead th {\n",
       "        text-align: right;\n",
       "    }\n",
       "</style>\n",
       "<table border=\"1\" class=\"dataframe\">\n",
       "  <thead>\n",
       "    <tr style=\"text-align: right;\">\n",
       "      <th></th>\n",
       "      <th>children</th>\n",
       "      <th>days_employed</th>\n",
       "      <th>dob_years</th>\n",
       "      <th>education</th>\n",
       "      <th>education_id</th>\n",
       "      <th>family_status</th>\n",
       "      <th>family_status_id</th>\n",
       "      <th>gender</th>\n",
       "      <th>income_type</th>\n",
       "      <th>debt</th>\n",
       "      <th>total_income</th>\n",
       "      <th>purpose</th>\n",
       "    </tr>\n",
       "  </thead>\n",
       "  <tbody>\n",
       "    <tr>\n",
       "      <th>423</th>\n",
       "      <td>0</td>\n",
       "      <td>-191.167760</td>\n",
       "      <td>56</td>\n",
       "      <td>среднее</td>\n",
       "      <td>1</td>\n",
       "      <td>женат / замужем</td>\n",
       "      <td>0</td>\n",
       "      <td>M</td>\n",
       "      <td>сотрудник</td>\n",
       "      <td>0</td>\n",
       "      <td>138653.748793</td>\n",
       "      <td>автомобили</td>\n",
       "    </tr>\n",
       "    <tr>\n",
       "      <th>3522</th>\n",
       "      <td>0</td>\n",
       "      <td>-2319.817259</td>\n",
       "      <td>58</td>\n",
       "      <td>среднее</td>\n",
       "      <td>1</td>\n",
       "      <td>Не женат / не замужем</td>\n",
       "      <td>4</td>\n",
       "      <td>F</td>\n",
       "      <td>сотрудник</td>\n",
       "      <td>0</td>\n",
       "      <td>123152.627177</td>\n",
       "      <td>покупка жилья</td>\n",
       "    </tr>\n",
       "    <tr>\n",
       "      <th>8760</th>\n",
       "      <td>1</td>\n",
       "      <td>-2990.578297</td>\n",
       "      <td>34</td>\n",
       "      <td>высшее</td>\n",
       "      <td>0</td>\n",
       "      <td>гражданский брак</td>\n",
       "      <td>1</td>\n",
       "      <td>M</td>\n",
       "      <td>компаньон</td>\n",
       "      <td>0</td>\n",
       "      <td>232380.737167</td>\n",
       "      <td>свадьба</td>\n",
       "    </tr>\n",
       "    <tr>\n",
       "      <th>20695</th>\n",
       "      <td>0</td>\n",
       "      <td>-926.209452</td>\n",
       "      <td>28</td>\n",
       "      <td>среднее</td>\n",
       "      <td>1</td>\n",
       "      <td>Не женат / не замужем</td>\n",
       "      <td>4</td>\n",
       "      <td>F</td>\n",
       "      <td>сотрудник</td>\n",
       "      <td>0</td>\n",
       "      <td>210617.086601</td>\n",
       "      <td>получение высшего образования</td>\n",
       "    </tr>\n",
       "    <tr>\n",
       "      <th>4351</th>\n",
       "      <td>0</td>\n",
       "      <td>-2524.302106</td>\n",
       "      <td>42</td>\n",
       "      <td>СРЕДНЕЕ</td>\n",
       "      <td>1</td>\n",
       "      <td>женат / замужем</td>\n",
       "      <td>0</td>\n",
       "      <td>F</td>\n",
       "      <td>сотрудник</td>\n",
       "      <td>0</td>\n",
       "      <td>78487.540219</td>\n",
       "      <td>сделка с автомобилем</td>\n",
       "    </tr>\n",
       "  </tbody>\n",
       "</table>\n",
       "</div>"
      ],
      "text/plain": [
       "       children  days_employed  dob_years education  education_id  \\\n",
       "423           0    -191.167760         56   среднее             1   \n",
       "3522          0   -2319.817259         58   среднее             1   \n",
       "8760          1   -2990.578297         34    высшее             0   \n",
       "20695         0    -926.209452         28   среднее             1   \n",
       "4351          0   -2524.302106         42   СРЕДНЕЕ             1   \n",
       "\n",
       "               family_status  family_status_id gender income_type  debt  \\\n",
       "423          женат / замужем                 0      M   сотрудник     0   \n",
       "3522   Не женат / не замужем                 4      F   сотрудник     0   \n",
       "8760        гражданский брак                 1      M   компаньон     0   \n",
       "20695  Не женат / не замужем                 4      F   сотрудник     0   \n",
       "4351         женат / замужем                 0      F   сотрудник     0   \n",
       "\n",
       "        total_income                        purpose  \n",
       "423    138653.748793                     автомобили  \n",
       "3522   123152.627177                  покупка жилья  \n",
       "8760   232380.737167                        свадьба  \n",
       "20695  210617.086601  получение высшего образования  \n",
       "4351    78487.540219           сделка с автомобилем  "
      ]
     },
     "metadata": {},
     "output_type": "display_data"
    }
   ],
   "source": [
    "display(data.sample(5, random_state=42))"
   ]
  },
  {
   "cell_type": "markdown",
   "id": "b78649d2",
   "metadata": {},
   "source": [
    "Ещё раз взглянув на таблицу, займёмся следующей явной проблемой: в столбце 'days_employed' есть **аномальные значения: общий трудовой стаж в днях часто записан в виде отрицательного числа**. "
   ]
  },
  {
   "cell_type": "code",
   "execution_count": 11,
   "id": "405afabe",
   "metadata": {
    "scrolled": false
   },
   "outputs": [
    {
     "name": "stdout",
     "output_type": "stream",
     "text": [
      "Количество аномальных отрицательных значений: 15906\n"
     ]
    }
   ],
   "source": [
    "days_employed_minus = data['days_employed'] < 0\n",
    "print(f'Количество аномальных отрицательных значений: {days_employed_minus.sum()}')"
   ]
  },
  {
   "cell_type": "code",
   "execution_count": 12,
   "id": "6c90fdcb",
   "metadata": {
    "scrolled": true
   },
   "outputs": [
    {
     "data": {
      "text/html": [
       "<div>\n",
       "<style scoped>\n",
       "    .dataframe tbody tr th:only-of-type {\n",
       "        vertical-align: middle;\n",
       "    }\n",
       "\n",
       "    .dataframe tbody tr th {\n",
       "        vertical-align: top;\n",
       "    }\n",
       "\n",
       "    .dataframe thead th {\n",
       "        text-align: right;\n",
       "    }\n",
       "</style>\n",
       "<table border=\"1\" class=\"dataframe\">\n",
       "  <thead>\n",
       "    <tr style=\"text-align: right;\">\n",
       "      <th></th>\n",
       "      <th>children</th>\n",
       "      <th>days_employed</th>\n",
       "      <th>dob_years</th>\n",
       "      <th>education</th>\n",
       "      <th>education_id</th>\n",
       "      <th>family_status</th>\n",
       "      <th>family_status_id</th>\n",
       "      <th>gender</th>\n",
       "      <th>income_type</th>\n",
       "      <th>debt</th>\n",
       "      <th>total_income</th>\n",
       "      <th>purpose</th>\n",
       "    </tr>\n",
       "  </thead>\n",
       "  <tbody>\n",
       "    <tr>\n",
       "      <th>7794</th>\n",
       "      <td>0</td>\n",
       "      <td>401663.850046</td>\n",
       "      <td>61</td>\n",
       "      <td>среднее</td>\n",
       "      <td>1</td>\n",
       "      <td>гражданский брак</td>\n",
       "      <td>1</td>\n",
       "      <td>F</td>\n",
       "      <td>пенсионер</td>\n",
       "      <td>0</td>\n",
       "      <td>48286.441362</td>\n",
       "      <td>свадьба</td>\n",
       "    </tr>\n",
       "    <tr>\n",
       "      <th>2156</th>\n",
       "      <td>0</td>\n",
       "      <td>401674.466633</td>\n",
       "      <td>60</td>\n",
       "      <td>среднее</td>\n",
       "      <td>1</td>\n",
       "      <td>женат / замужем</td>\n",
       "      <td>0</td>\n",
       "      <td>M</td>\n",
       "      <td>пенсионер</td>\n",
       "      <td>0</td>\n",
       "      <td>325395.724541</td>\n",
       "      <td>автомобили</td>\n",
       "    </tr>\n",
       "    <tr>\n",
       "      <th>7664</th>\n",
       "      <td>1</td>\n",
       "      <td>401675.093434</td>\n",
       "      <td>61</td>\n",
       "      <td>среднее</td>\n",
       "      <td>1</td>\n",
       "      <td>женат / замужем</td>\n",
       "      <td>0</td>\n",
       "      <td>F</td>\n",
       "      <td>пенсионер</td>\n",
       "      <td>0</td>\n",
       "      <td>126214.519212</td>\n",
       "      <td>операции с жильем</td>\n",
       "    </tr>\n",
       "    <tr>\n",
       "      <th>10006</th>\n",
       "      <td>0</td>\n",
       "      <td>401715.811749</td>\n",
       "      <td>69</td>\n",
       "      <td>высшее</td>\n",
       "      <td>0</td>\n",
       "      <td>Не женат / не замужем</td>\n",
       "      <td>4</td>\n",
       "      <td>F</td>\n",
       "      <td>пенсионер</td>\n",
       "      <td>0</td>\n",
       "      <td>57390.256908</td>\n",
       "      <td>получение образования</td>\n",
       "    </tr>\n",
       "    <tr>\n",
       "      <th>6954</th>\n",
       "      <td>0</td>\n",
       "      <td>401755.400475</td>\n",
       "      <td>56</td>\n",
       "      <td>среднее</td>\n",
       "      <td>1</td>\n",
       "      <td>вдовец / вдова</td>\n",
       "      <td>2</td>\n",
       "      <td>F</td>\n",
       "      <td>пенсионер</td>\n",
       "      <td>0</td>\n",
       "      <td>176278.441171</td>\n",
       "      <td>ремонт жилью</td>\n",
       "    </tr>\n",
       "  </tbody>\n",
       "</table>\n",
       "</div>"
      ],
      "text/plain": [
       "       children  days_employed  dob_years education  education_id  \\\n",
       "7794          0  401663.850046         61   среднее             1   \n",
       "2156          0  401674.466633         60   среднее             1   \n",
       "7664          1  401675.093434         61   среднее             1   \n",
       "10006         0  401715.811749         69    высшее             0   \n",
       "6954          0  401755.400475         56   среднее             1   \n",
       "\n",
       "               family_status  family_status_id gender income_type  debt  \\\n",
       "7794        гражданский брак                 1      F   пенсионер     0   \n",
       "2156         женат / замужем                 0      M   пенсионер     0   \n",
       "7664         женат / замужем                 0      F   пенсионер     0   \n",
       "10006  Не женат / не замужем                 4      F   пенсионер     0   \n",
       "6954          вдовец / вдова                 2      F   пенсионер     0   \n",
       "\n",
       "        total_income                purpose  \n",
       "7794    48286.441362                свадьба  \n",
       "2156   325395.724541             автомобили  \n",
       "7664   126214.519212      операции с жильем  \n",
       "10006   57390.256908  получение образования  \n",
       "6954   176278.441171           ремонт жилью  "
      ]
     },
     "metadata": {},
     "output_type": "display_data"
    }
   ],
   "source": [
    "days_employed_plus = data['days_employed'] > 0\n",
    "display(data.loc[days_employed_plus].sort_values(by='days_employed').tail()) #смотрим на конец отсортированной таблицы"
   ]
  },
  {
   "cell_type": "markdown",
   "id": "33dedf46",
   "metadata": {},
   "source": [
    "Кроме отрицательных значений, есть и другие аномалии - неправдоподобно высокие показатели. Например, чтобы в стаже было \n",
    "401755 дней, нужно было бы работать без выходных 1128 лет подряд.\n",
    "\n",
    "Посмотрим, сколько таких аномально высоких значений. Для расчётов возьмём среднее количество рабочих дней в году (247)\n",
    "и максимально возможное реалистичное количество лет стажа (80).\n"
   ]
  },
  {
   "cell_type": "code",
   "execution_count": 13,
   "id": "86528e88",
   "metadata": {},
   "outputs": [
    {
     "name": "stdout",
     "output_type": "stream",
     "text": [
      "Количество аномальных положительных значений: 3445\n"
     ]
    }
   ],
   "source": [
    "days_employed_plus_anomal = data['days_employed'] > 247*80\n",
    "print(f'Количество аномальных положительных значений: {days_employed_plus_anomal.sum()}')"
   ]
  },
  {
   "cell_type": "code",
   "execution_count": 14,
   "id": "3c11750f",
   "metadata": {
    "scrolled": true
   },
   "outputs": [
    {
     "name": "stdout",
     "output_type": "stream",
     "text": [
      "Общее количество аномальных значений: 19351\n"
     ]
    }
   ],
   "source": [
    "print(f'Общее количество аномальных значений: {days_employed_minus.sum() + days_employed_plus_anomal.sum()}')"
   ]
  },
  {
   "cell_type": "markdown",
   "id": "cc580fbf",
   "metadata": {},
   "source": [
    "Получается, **все данные** в колонке про общий трудовой стаж в днях - **аномальны и не пригодны для анализа**:\n",
    "\n",
    "- бОльшую часть составляют **аномальные отрицательные значения**,\n",
    "- также есть и **неправдоподобно высокие значения**,\n",
    "- и, кроме того, есть **пропуски** (как и в столбце про ежемесячный доход, 10% от общего числа значений).\n",
    "\n",
    "Судя по всему, есть **проблема в сборе данных**. В чём она может быть с точки зрения клиента:\n",
    "\n",
    "- при заполнении со стороны банка указан не очень удобный или **неграмотный шаблон** для подсчёта стажа по дням, **или** возможно, **шаблона** и вовсе **нет**, и пользователям не на что опереться, отсюда возникает массовая путаница: \n",
    "   * клиенты могут делать расчёт правильно, но в конце по невнимательности указывают минус перед числом, видя в шаблоне дефис (в результате получается отрицательное число),\n",
    "   * клиенты вычитают из даты начала трудовой деятельности дату конца и в результате в расчёте получается отрицательное число,\n",
    "   \n",
    "   * клиенты делают расчёт стажа в часах, а не в днях, и отсюда возникают нереалистично высокие цифры,\n",
    "   * клиенты неправильно переводят время стажа из лет и месяцев в дни (умножают и на количество дней в году, и на количество рабочих дней в году)\n",
    "   * клиенты на каком-то шаге вместо складывания различных отрезков стажа между собой умножают их.\n",
    "\n",
    "\n",
    "Для целей нашего исследования данные про стаж не являются принципиально важными, \n",
    "поэтому на данном этапе мы просто заполним пропуски.\n",
    "Если появится задача/гипотеза, напрямую связанная с трудовым стажем, то следует **обратиться к разработчикам** и наладить **сбор корректных данных** от клиентов."
   ]
  },
  {
   "cell_type": "code",
   "execution_count": 15,
   "id": "22b3fdbe",
   "metadata": {},
   "outputs": [
    {
     "data": {
      "text/plain": [
       "0"
      ]
     },
     "execution_count": 15,
     "metadata": {},
     "output_type": "execute_result"
    }
   ],
   "source": [
    "days_employed_median = data['days_employed'].median()\n",
    "data['days_employed'] = data['days_employed'].fillna(days_employed_median)\n",
    "\n",
    "data['days_employed'].isna().sum()"
   ]
  },
  {
   "cell_type": "markdown",
   "id": "7624ab11",
   "metadata": {},
   "source": [
    "Пропуски заполнены медианным значением.\n",
    "Код работает - теперь сумма пропусков в этом столбце равна 0."
   ]
  },
  {
   "cell_type": "markdown",
   "id": "20232f0a",
   "metadata": {},
   "source": [
    "Теперь посмотрим, есть ли ещё аномалии в данных. Пройдёмся по всем столбцам по порядку."
   ]
  },
  {
   "cell_type": "code",
   "execution_count": 16,
   "id": "07de133c",
   "metadata": {
    "scrolled": true
   },
   "outputs": [
    {
     "data": {
      "text/plain": [
       " 0     14149\n",
       " 1      4818\n",
       " 2      2055\n",
       " 3       330\n",
       " 20       76\n",
       "-1        47\n",
       " 4        41\n",
       " 5         9\n",
       "Name: children, dtype: int64"
      ]
     },
     "execution_count": 16,
     "metadata": {},
     "output_type": "execute_result"
    }
   ],
   "source": [
    "data['children'].value_counts()"
   ]
  },
  {
   "cell_type": "markdown",
   "id": "1585e9ac",
   "metadata": {},
   "source": [
    "Очевидно, и сюда закрались **аномалии**:\n",
    "- **20 детей** - это слишком большой отрыв от реальности, когда мы видим, что количество детей очень плавно снижается при движении от 0 к 5 (а значений 6, 7 и т.д. попросту нет). Скорее всего, значение 2.0 потеряло точку (технический сбой) или дело в опечатке; в любом случае логичнее всего предположить, что имеется ввиду значение 2.\n",
    "- **-1 ребёнок** - скорее всего, это тоже опечатка от значения 1, просто в данные попал дефис (либо ребёнок погиб, и это записали таким образом; или так обозначено отсутствие детей. В качестве рабочей выбираю первую версию)."
   ]
  },
  {
   "cell_type": "code",
   "execution_count": 17,
   "id": "63a8690c",
   "metadata": {},
   "outputs": [
    {
     "data": {
      "text/plain": [
       "0    14149\n",
       "1     4865\n",
       "2     2131\n",
       "3      330\n",
       "4       41\n",
       "5        9\n",
       "Name: children, dtype: int64"
      ]
     },
     "execution_count": 17,
     "metadata": {},
     "output_type": "execute_result"
    }
   ],
   "source": [
    "data['children'] = data['children'].replace(20, 2) #заменяем опечатки\n",
    "data['children'] = data['children'].replace(-1, 1) #заменяем опечатки\n",
    "data['children'].value_counts() #проверяем, всё ли теперь в порядке"
   ]
  },
  {
   "cell_type": "markdown",
   "id": "c122be47",
   "metadata": {},
   "source": [
    "Теперь данные столбце 'children' будут пригодны для анализа. Следующий столбец -'days_employed' - уже анализировали.\n",
    "Переходим к 'dob years' - возраст клиента в годах."
   ]
  },
  {
   "cell_type": "code",
   "execution_count": 18,
   "id": "d78a63bc",
   "metadata": {},
   "outputs": [
    {
     "data": {
      "text/plain": [
       "35    617\n",
       "40    609\n",
       "41    607\n",
       "34    603\n",
       "38    598\n",
       "42    597\n",
       "33    581\n",
       "39    573\n",
       "31    560\n",
       "36    555\n",
       "44    547\n",
       "29    545\n",
       "30    540\n",
       "48    538\n",
       "37    537\n",
       "50    514\n",
       "43    513\n",
       "32    510\n",
       "49    508\n",
       "28    503\n",
       "45    497\n",
       "27    493\n",
       "56    487\n",
       "52    484\n",
       "47    480\n",
       "54    479\n",
       "46    475\n",
       "58    461\n",
       "57    460\n",
       "53    459\n",
       "51    448\n",
       "59    444\n",
       "55    443\n",
       "26    408\n",
       "60    377\n",
       "25    357\n",
       "61    355\n",
       "62    352\n",
       "63    269\n",
       "64    265\n",
       "24    264\n",
       "23    254\n",
       "65    194\n",
       "22    183\n",
       "66    183\n",
       "67    167\n",
       "21    111\n",
       "0     101\n",
       "68     99\n",
       "69     85\n",
       "70     65\n",
       "71     58\n",
       "20     51\n",
       "72     33\n",
       "19     14\n",
       "73      8\n",
       "74      6\n",
       "75      1\n",
       "Name: dob_years, dtype: int64"
      ]
     },
     "execution_count": 18,
     "metadata": {},
     "output_type": "execute_result"
    }
   ],
   "source": [
    "data['dob_years'].value_counts()"
   ]
  },
  {
   "cell_type": "markdown",
   "id": "5866dce7",
   "metadata": {},
   "source": [
    "Здесь виден один артефакт - 101 клиент с возрастом 0. Посмотрим на такие строки поближе."
   ]
  },
  {
   "cell_type": "code",
   "execution_count": 19,
   "id": "9bbaa1e7",
   "metadata": {
    "scrolled": true
   },
   "outputs": [
    {
     "data": {
      "text/html": [
       "<div>\n",
       "<style scoped>\n",
       "    .dataframe tbody tr th:only-of-type {\n",
       "        vertical-align: middle;\n",
       "    }\n",
       "\n",
       "    .dataframe tbody tr th {\n",
       "        vertical-align: top;\n",
       "    }\n",
       "\n",
       "    .dataframe thead th {\n",
       "        text-align: right;\n",
       "    }\n",
       "</style>\n",
       "<table border=\"1\" class=\"dataframe\">\n",
       "  <thead>\n",
       "    <tr style=\"text-align: right;\">\n",
       "      <th></th>\n",
       "      <th>children</th>\n",
       "      <th>days_employed</th>\n",
       "      <th>dob_years</th>\n",
       "      <th>education</th>\n",
       "      <th>education_id</th>\n",
       "      <th>family_status</th>\n",
       "      <th>family_status_id</th>\n",
       "      <th>gender</th>\n",
       "      <th>income_type</th>\n",
       "      <th>debt</th>\n",
       "      <th>total_income</th>\n",
       "      <th>purpose</th>\n",
       "    </tr>\n",
       "  </thead>\n",
       "  <tbody>\n",
       "    <tr>\n",
       "      <th>16861</th>\n",
       "      <td>0</td>\n",
       "      <td>395893.813367</td>\n",
       "      <td>0</td>\n",
       "      <td>среднее</td>\n",
       "      <td>1</td>\n",
       "      <td>в разводе</td>\n",
       "      <td>3</td>\n",
       "      <td>F</td>\n",
       "      <td>пенсионер</td>\n",
       "      <td>0</td>\n",
       "      <td>218284.757642</td>\n",
       "      <td>покупка жилья</td>\n",
       "    </tr>\n",
       "    <tr>\n",
       "      <th>11481</th>\n",
       "      <td>2</td>\n",
       "      <td>-1611.360609</td>\n",
       "      <td>0</td>\n",
       "      <td>среднее</td>\n",
       "      <td>1</td>\n",
       "      <td>женат / замужем</td>\n",
       "      <td>0</td>\n",
       "      <td>M</td>\n",
       "      <td>сотрудник</td>\n",
       "      <td>0</td>\n",
       "      <td>236698.919494</td>\n",
       "      <td>строительство жилой недвижимости</td>\n",
       "    </tr>\n",
       "    <tr>\n",
       "      <th>13232</th>\n",
       "      <td>0</td>\n",
       "      <td>-229.560933</td>\n",
       "      <td>0</td>\n",
       "      <td>высшее</td>\n",
       "      <td>0</td>\n",
       "      <td>женат / замужем</td>\n",
       "      <td>0</td>\n",
       "      <td>M</td>\n",
       "      <td>сотрудник</td>\n",
       "      <td>0</td>\n",
       "      <td>131782.794583</td>\n",
       "      <td>заняться образованием</td>\n",
       "    </tr>\n",
       "    <tr>\n",
       "      <th>13413</th>\n",
       "      <td>0</td>\n",
       "      <td>-947.275258</td>\n",
       "      <td>0</td>\n",
       "      <td>ВЫСШЕЕ</td>\n",
       "      <td>0</td>\n",
       "      <td>женат / замужем</td>\n",
       "      <td>0</td>\n",
       "      <td>M</td>\n",
       "      <td>компаньон</td>\n",
       "      <td>0</td>\n",
       "      <td>182747.326874</td>\n",
       "      <td>на покупку своего автомобиля</td>\n",
       "    </tr>\n",
       "    <tr>\n",
       "      <th>10163</th>\n",
       "      <td>0</td>\n",
       "      <td>-4847.111204</td>\n",
       "      <td>0</td>\n",
       "      <td>Среднее</td>\n",
       "      <td>1</td>\n",
       "      <td>гражданский брак</td>\n",
       "      <td>1</td>\n",
       "      <td>F</td>\n",
       "      <td>госслужащий</td>\n",
       "      <td>0</td>\n",
       "      <td>97169.690307</td>\n",
       "      <td>свадьба</td>\n",
       "    </tr>\n",
       "  </tbody>\n",
       "</table>\n",
       "</div>"
      ],
      "text/plain": [
       "       children  days_employed  dob_years education  education_id  \\\n",
       "16861         0  395893.813367          0   среднее             1   \n",
       "11481         2   -1611.360609          0   среднее             1   \n",
       "13232         0    -229.560933          0    высшее             0   \n",
       "13413         0    -947.275258          0    ВЫСШЕЕ             0   \n",
       "10163         0   -4847.111204          0   Среднее             1   \n",
       "\n",
       "          family_status  family_status_id gender  income_type  debt  \\\n",
       "16861         в разводе                 3      F    пенсионер     0   \n",
       "11481   женат / замужем                 0      M    сотрудник     0   \n",
       "13232   женат / замужем                 0      M    сотрудник     0   \n",
       "13413   женат / замужем                 0      M    компаньон     0   \n",
       "10163  гражданский брак                 1      F  госслужащий     0   \n",
       "\n",
       "        total_income                           purpose  \n",
       "16861  218284.757642                     покупка жилья  \n",
       "11481  236698.919494  строительство жилой недвижимости  \n",
       "13232  131782.794583             заняться образованием  \n",
       "13413  182747.326874      на покупку своего автомобиля  \n",
       "10163   97169.690307                           свадьба  "
      ]
     },
     "execution_count": 19,
     "metadata": {},
     "output_type": "execute_result"
    }
   ],
   "source": [
    "data.loc[data['dob_years'] == 0].sample(5, random_state=42)"
   ]
  },
  {
   "cell_type": "markdown",
   "id": "648b2640",
   "metadata": {},
   "source": [
    "Судя по прочим данным, 0 - это не реальный возраст клиентов (младенец не может иметь высшего образования или быть в разводе), \n",
    "а по сути пропуск таких данных. Заменим этот артефакт на среднее арифметическое по этому столбцу (здесь нет выдающихся значений, метод mean() должен показать объективный результат)."
   ]
  },
  {
   "cell_type": "code",
   "execution_count": 20,
   "id": "7b2a335a",
   "metadata": {},
   "outputs": [],
   "source": [
    "dob_years_mean = data[data['dob_years'] > 0]['dob_years'].mean() #считаем среднее арифм. по столбцу без учёта артефактов"
   ]
  },
  {
   "cell_type": "code",
   "execution_count": 21,
   "id": "3590ee6e",
   "metadata": {},
   "outputs": [],
   "source": [
    "data.loc[data['dob_years'] == 0, 'dob_years'] = dob_years_mean #заменяем 0 на среднее арифметическое"
   ]
  },
  {
   "cell_type": "markdown",
   "id": "2a50a905",
   "metadata": {},
   "source": [
    "Проверим на наличие аномалий оставшиеся столбцы."
   ]
  },
  {
   "cell_type": "code",
   "execution_count": 22,
   "id": "235633b5",
   "metadata": {
    "scrolled": true
   },
   "outputs": [
    {
     "data": {
      "text/plain": [
       "среднее                13750\n",
       "высшее                  4718\n",
       "СРЕДНЕЕ                  772\n",
       "Среднее                  711\n",
       "неоконченное высшее      668\n",
       "ВЫСШЕЕ                   274\n",
       "Высшее                   268\n",
       "начальное                250\n",
       "Неоконченное высшее       47\n",
       "НЕОКОНЧЕННОЕ ВЫСШЕЕ       29\n",
       "НАЧАЛЬНОЕ                 17\n",
       "Начальное                 15\n",
       "ученая степень             4\n",
       "Ученая степень             1\n",
       "УЧЕНАЯ СТЕПЕНЬ             1\n",
       "Name: education, dtype: int64"
      ]
     },
     "execution_count": 22,
     "metadata": {},
     "output_type": "execute_result"
    }
   ],
   "source": [
    "data['education'].value_counts()"
   ]
  },
  {
   "cell_type": "markdown",
   "id": "65941cf1",
   "metadata": {},
   "source": [
    "Здесь нужно будет привести запись значений к одному регистру (работа для следующего раздела), аномалий по количеству значений не наблюдается (например, было бы странно, если все были с учёными степенями или наоборот, только с начальным образованием)."
   ]
  },
  {
   "cell_type": "code",
   "execution_count": 23,
   "id": "6e6040ce",
   "metadata": {
    "scrolled": true
   },
   "outputs": [
    {
     "data": {
      "text/plain": [
       "женат / замужем          12380\n",
       "гражданский брак          4177\n",
       "Не женат / не замужем     2813\n",
       "в разводе                 1195\n",
       "вдовец / вдова             960\n",
       "Name: family_status, dtype: int64"
      ]
     },
     "execution_count": 23,
     "metadata": {},
     "output_type": "execute_result"
    }
   ],
   "source": [
    "data['family_status'].value_counts()"
   ]
  },
  {
   "cell_type": "markdown",
   "id": "7198e562",
   "metadata": {},
   "source": [
    "Тоже всё правдоподобно, проблем не видно."
   ]
  },
  {
   "cell_type": "code",
   "execution_count": 24,
   "id": "744fe627",
   "metadata": {
    "scrolled": true
   },
   "outputs": [
    {
     "data": {
      "text/plain": [
       "F      14236\n",
       "M       7288\n",
       "XNA        1\n",
       "Name: gender, dtype: int64"
      ]
     },
     "execution_count": 24,
     "metadata": {},
     "output_type": "execute_result"
    }
   ],
   "source": [
    "data['gender'].value_counts()"
   ]
  },
  {
   "cell_type": "code",
   "execution_count": 25,
   "id": "b285e4a5",
   "metadata": {
    "scrolled": true
   },
   "outputs": [
    {
     "data": {
      "text/html": [
       "<div>\n",
       "<style scoped>\n",
       "    .dataframe tbody tr th:only-of-type {\n",
       "        vertical-align: middle;\n",
       "    }\n",
       "\n",
       "    .dataframe tbody tr th {\n",
       "        vertical-align: top;\n",
       "    }\n",
       "\n",
       "    .dataframe thead th {\n",
       "        text-align: right;\n",
       "    }\n",
       "</style>\n",
       "<table border=\"1\" class=\"dataframe\">\n",
       "  <thead>\n",
       "    <tr style=\"text-align: right;\">\n",
       "      <th></th>\n",
       "      <th>children</th>\n",
       "      <th>days_employed</th>\n",
       "      <th>dob_years</th>\n",
       "      <th>education</th>\n",
       "      <th>education_id</th>\n",
       "      <th>family_status</th>\n",
       "      <th>family_status_id</th>\n",
       "      <th>gender</th>\n",
       "      <th>income_type</th>\n",
       "      <th>debt</th>\n",
       "      <th>total_income</th>\n",
       "      <th>purpose</th>\n",
       "    </tr>\n",
       "  </thead>\n",
       "  <tbody>\n",
       "    <tr>\n",
       "      <th>10701</th>\n",
       "      <td>0</td>\n",
       "      <td>-2358.600502</td>\n",
       "      <td>24.0</td>\n",
       "      <td>неоконченное высшее</td>\n",
       "      <td>2</td>\n",
       "      <td>гражданский брак</td>\n",
       "      <td>1</td>\n",
       "      <td>XNA</td>\n",
       "      <td>компаньон</td>\n",
       "      <td>0</td>\n",
       "      <td>203905.157261</td>\n",
       "      <td>покупка недвижимости</td>\n",
       "    </tr>\n",
       "  </tbody>\n",
       "</table>\n",
       "</div>"
      ],
      "text/plain": [
       "       children  days_employed  dob_years            education  education_id  \\\n",
       "10701         0   -2358.600502       24.0  неоконченное высшее             2   \n",
       "\n",
       "          family_status  family_status_id gender income_type  debt  \\\n",
       "10701  гражданский брак                 1    XNA   компаньон     0   \n",
       "\n",
       "        total_income               purpose  \n",
       "10701  203905.157261  покупка недвижимости  "
      ]
     },
     "metadata": {},
     "output_type": "display_data"
    }
   ],
   "source": [
    "display(data[data['gender'] == 'XNA'])"
   ]
  },
  {
   "cell_type": "markdown",
   "id": "523fc372",
   "metadata": {},
   "source": [
    "В столбце 'gender' есть один артефакт. Происхождение его неизвестно. \n",
    "Какие версии мне пришли на ум:\n",
    "- опечатка, клиент писал на русской раскладке алфавита (муж или жен) - не соответствует действительности (XNA - это ЧТФ),\n",
    "- это наименование нового гендера (поискала в интернете, не нашла таких вариантов). В поиске это скорее связано с Microsoft XNA (Набор инструментов с управляемой средой времени выполнения, созданный Microsoft, облегчающий разработку и управление компьютерными играми) \n",
    "\n",
    "Обе версии, очевидно, не подходят. Аномалия может быть вызвана как человеческим фактором, так и техническим сбоем.\n",
    "На цели исследования этот артефакт никак не повлияет (поэтому просто заменим его на более понятный 'unknown')."
   ]
  },
  {
   "cell_type": "code",
   "execution_count": 26,
   "id": "ace98d1d",
   "metadata": {},
   "outputs": [],
   "source": [
    "data.loc[data['gender'] == 'XNA', 'gender'] = 'unknown'"
   ]
  },
  {
   "cell_type": "code",
   "execution_count": 27,
   "id": "56909da5",
   "metadata": {},
   "outputs": [
    {
     "data": {
      "text/plain": [
       "F          14236\n",
       "M           7288\n",
       "unknown        1\n",
       "Name: gender, dtype: int64"
      ]
     },
     "execution_count": 27,
     "metadata": {},
     "output_type": "execute_result"
    }
   ],
   "source": [
    "data['gender'].value_counts()"
   ]
  },
  {
   "cell_type": "code",
   "execution_count": 28,
   "id": "279a3fbf",
   "metadata": {},
   "outputs": [
    {
     "data": {
      "text/plain": [
       "сотрудник          11119\n",
       "компаньон           5085\n",
       "пенсионер           3856\n",
       "госслужащий         1459\n",
       "безработный            2\n",
       "предприниматель        2\n",
       "студент                1\n",
       "в декрете              1\n",
       "Name: income_type, dtype: int64"
      ]
     },
     "execution_count": 28,
     "metadata": {},
     "output_type": "execute_result"
    }
   ],
   "source": [
    "data['income_type'].value_counts()"
   ]
  },
  {
   "cell_type": "code",
   "execution_count": 29,
   "id": "729e0556",
   "metadata": {},
   "outputs": [
    {
     "data": {
      "text/plain": [
       "0    19784\n",
       "1     1741\n",
       "Name: debt, dtype: int64"
      ]
     },
     "execution_count": 29,
     "metadata": {},
     "output_type": "execute_result"
    }
   ],
   "source": [
    "data['debt'].value_counts()"
   ]
  },
  {
   "cell_type": "code",
   "execution_count": 30,
   "id": "04a80b77",
   "metadata": {
    "scrolled": true
   },
   "outputs": [
    {
     "data": {
      "text/plain": [
       "свадьба                                   797\n",
       "на проведение свадьбы                     777\n",
       "сыграть свадьбу                           774\n",
       "операции с недвижимостью                  676\n",
       "покупка коммерческой недвижимости         664\n",
       "покупка жилья для сдачи                   653\n",
       "операции с жильем                         653\n",
       "операции с коммерческой недвижимостью     651\n",
       "покупка жилья                             647\n",
       "жилье                                     647\n",
       "покупка жилья для семьи                   641\n",
       "строительство собственной недвижимости    635\n",
       "недвижимость                              634\n",
       "операции со своей недвижимостью           630\n",
       "строительство жилой недвижимости          626\n",
       "покупка недвижимости                      624\n",
       "строительство недвижимости                620\n",
       "покупка своего жилья                      620\n",
       "ремонт жилью                              612\n",
       "покупка жилой недвижимости                607\n",
       "на покупку своего автомобиля              505\n",
       "заняться высшим образованием              496\n",
       "автомобиль                                495\n",
       "сделка с подержанным автомобилем          489\n",
       "свой автомобиль                           480\n",
       "на покупку подержанного автомобиля        479\n",
       "автомобили                                478\n",
       "на покупку автомобиля                     472\n",
       "дополнительное образование                462\n",
       "приобретение автомобиля                   462\n",
       "сделка с автомобилем                      455\n",
       "высшее образование                        453\n",
       "образование                               447\n",
       "получение дополнительного образования     447\n",
       "получение образования                     443\n",
       "профильное образование                    436\n",
       "получение высшего образования             426\n",
       "заняться образованием                     412\n",
       "Name: purpose, dtype: int64"
      ]
     },
     "execution_count": 30,
     "metadata": {},
     "output_type": "execute_result"
    }
   ],
   "source": [
    "data['purpose'].value_counts()"
   ]
  },
  {
   "cell_type": "markdown",
   "id": "43f4e8f7",
   "metadata": {},
   "source": [
    "В оставшихся столбцах аномалий больше не найдено, но в столбце 'puprose'(цель получения кредита) есть много неявных дубликатов."
   ]
  },
  {
   "cell_type": "markdown",
   "id": "1ff0e665",
   "metadata": {},
   "source": [
    "### Изменение типов данных"
   ]
  },
  {
   "cell_type": "markdown",
   "id": "c0b16633",
   "metadata": {},
   "source": [
    "В столбце 'total_income' данные представлены дробным числом (тип данных float64), заменим его для удобства чтения таких сведений на обычные целые числа."
   ]
  },
  {
   "cell_type": "code",
   "execution_count": 31,
   "id": "61417afd",
   "metadata": {},
   "outputs": [],
   "source": [
    "data['total_income'] = data['total_income'].astype('int')"
   ]
  },
  {
   "cell_type": "markdown",
   "id": "ad094db8",
   "metadata": {},
   "source": [
    "### Удаление дубликатов"
   ]
  },
  {
   "cell_type": "markdown",
   "id": "fdcd06b2",
   "metadata": {},
   "source": [
    "Итак, подошла пора заняться дубликатами. Они имеются в двух столбцах: 'education' и 'purpose'.\n",
    "Вспомним, как выглядят дубликаты в графе об образовании."
   ]
  },
  {
   "cell_type": "code",
   "execution_count": 32,
   "id": "88e64cde",
   "metadata": {
    "scrolled": true
   },
   "outputs": [
    {
     "data": {
      "text/plain": [
       "среднее                13750\n",
       "высшее                  4718\n",
       "СРЕДНЕЕ                  772\n",
       "Среднее                  711\n",
       "неоконченное высшее      668\n",
       "ВЫСШЕЕ                   274\n",
       "Высшее                   268\n",
       "начальное                250\n",
       "Неоконченное высшее       47\n",
       "НЕОКОНЧЕННОЕ ВЫСШЕЕ       29\n",
       "НАЧАЛЬНОЕ                 17\n",
       "Начальное                 15\n",
       "ученая степень             4\n",
       "Ученая степень             1\n",
       "УЧЕНАЯ СТЕПЕНЬ             1\n",
       "Name: education, dtype: int64"
      ]
     },
     "execution_count": 32,
     "metadata": {},
     "output_type": "execute_result"
    }
   ],
   "source": [
    "data['education'].value_counts()"
   ]
  },
  {
   "cell_type": "markdown",
   "id": "d3866267",
   "metadata": {},
   "source": [
    "Приводим все строки к нижнему регистру и сохраняем такой формат записи в таблице. Затем проверяем, всё ли в порядке."
   ]
  },
  {
   "cell_type": "code",
   "execution_count": 33,
   "id": "09a502b3",
   "metadata": {
    "scrolled": false
   },
   "outputs": [
    {
     "data": {
      "text/plain": [
       "среднее                15233\n",
       "высшее                  5260\n",
       "неоконченное высшее      744\n",
       "начальное                282\n",
       "ученая степень             6\n",
       "Name: education, dtype: int64"
      ]
     },
     "execution_count": 33,
     "metadata": {},
     "output_type": "execute_result"
    }
   ],
   "source": [
    "data['education'] = data['education'].str.lower() \n",
    "data['education'].value_counts() "
   ]
  },
  {
   "cell_type": "markdown",
   "id": "115cc200",
   "metadata": {},
   "source": [
    "Проверяем, есть ли ещё дубликаты, не в отдельном столбце, а во всей таблице, и сколько их."
   ]
  },
  {
   "cell_type": "code",
   "execution_count": 34,
   "id": "99166864",
   "metadata": {},
   "outputs": [
    {
     "data": {
      "text/plain": [
       "71"
      ]
     },
     "execution_count": 34,
     "metadata": {},
     "output_type": "execute_result"
    }
   ],
   "source": [
    "data.duplicated().sum() "
   ]
  },
  {
   "cell_type": "markdown",
   "id": "fb72d55b",
   "metadata": {},
   "source": [
    "Убираем строки-дубликаты с заменой индексов, затем проверяем, всё ли сработало."
   ]
  },
  {
   "cell_type": "code",
   "execution_count": 35,
   "id": "28e864dd",
   "metadata": {},
   "outputs": [],
   "source": [
    "data = data.drop_duplicates().reset_index(drop=True) "
   ]
  },
  {
   "cell_type": "code",
   "execution_count": 36,
   "id": "84a7049c",
   "metadata": {},
   "outputs": [
    {
     "data": {
      "text/plain": [
       "0"
      ]
     },
     "execution_count": 36,
     "metadata": {},
     "output_type": "execute_result"
    }
   ],
   "source": [
    "data.duplicated().sum() "
   ]
  },
  {
   "cell_type": "markdown",
   "id": "2991eafb",
   "metadata": {},
   "source": [
    "Я избавилась от дубликатов в столбце с данными об образовании с помощью приведения всех строк к одному регистру (метод .str.lower()), так как природа возникновения дубликатов была очевидна после вывода на экран value_counts(). \n",
    "\n",
    "Скорее всего, у клиентов не было единого шаблона, наглядного образца, как следует заполнять эту графу, и поэтому кто-то писал с Заглавной буквы, кто-то - с маленькой, а кто-то ВОТ ТАК. Если бы до или во время заполнения графы подсвечивался бы образец написания (как бывает на некоторых сайтах, например, формат записи телефона или электр.почты), то, возможно, такой проблемы удалось бы избежать. С этой идеей можно обратиться к разработчикам.\n",
    "\n",
    "Также в таблице оказалась 71 строка с явными дубликатами (это дубликаты показал метод duplicated(), их сумму посчитал метод sum()), я удалила лишнее с помощью метода drop_duplicates() и произвела замену индексов с помощью reset_index(drop=True).\n",
    "\n",
    "Также есть неявные дубликаты в столбце 'purpose', но логика проекта предполагает работу с ними на одгом из последующих шагов."
   ]
  },
  {
   "cell_type": "markdown",
   "id": "452fa16c",
   "metadata": {},
   "source": [
    "### Формирование дополнительных датафреймов словарей, декомпозиция исходного датафрейма"
   ]
  },
  {
   "cell_type": "markdown",
   "id": "a063456a",
   "metadata": {},
   "source": [
    "Создаём словарь для данных об образовании, удаляем в нём дубликаты и проверяем, всё ли в порядке."
   ]
  },
  {
   "cell_type": "code",
   "execution_count": 37,
   "id": "a071b1c8",
   "metadata": {
    "scrolled": false
   },
   "outputs": [
    {
     "data": {
      "text/html": [
       "<div>\n",
       "<style scoped>\n",
       "    .dataframe tbody tr th:only-of-type {\n",
       "        vertical-align: middle;\n",
       "    }\n",
       "\n",
       "    .dataframe tbody tr th {\n",
       "        vertical-align: top;\n",
       "    }\n",
       "\n",
       "    .dataframe thead th {\n",
       "        text-align: right;\n",
       "    }\n",
       "</style>\n",
       "<table border=\"1\" class=\"dataframe\">\n",
       "  <thead>\n",
       "    <tr style=\"text-align: right;\">\n",
       "      <th></th>\n",
       "      <th>education_id</th>\n",
       "      <th>education</th>\n",
       "    </tr>\n",
       "  </thead>\n",
       "  <tbody>\n",
       "    <tr>\n",
       "      <th>0</th>\n",
       "      <td>0</td>\n",
       "      <td>высшее</td>\n",
       "    </tr>\n",
       "    <tr>\n",
       "      <th>1</th>\n",
       "      <td>1</td>\n",
       "      <td>среднее</td>\n",
       "    </tr>\n",
       "    <tr>\n",
       "      <th>2</th>\n",
       "      <td>2</td>\n",
       "      <td>неоконченное высшее</td>\n",
       "    </tr>\n",
       "    <tr>\n",
       "      <th>3</th>\n",
       "      <td>3</td>\n",
       "      <td>начальное</td>\n",
       "    </tr>\n",
       "    <tr>\n",
       "      <th>4</th>\n",
       "      <td>4</td>\n",
       "      <td>ученая степень</td>\n",
       "    </tr>\n",
       "  </tbody>\n",
       "</table>\n",
       "</div>"
      ],
      "text/plain": [
       "   education_id            education\n",
       "0             0               высшее\n",
       "1             1              среднее\n",
       "2             2  неоконченное высшее\n",
       "3             3            начальное\n",
       "4             4       ученая степень"
      ]
     },
     "execution_count": 37,
     "metadata": {},
     "output_type": "execute_result"
    }
   ],
   "source": [
    "education_dict = data[['education_id', 'education']] \n",
    "education_dict = education_dict.drop_duplicates().reset_index(drop=True)\n",
    "education_dict "
   ]
  },
  {
   "cell_type": "markdown",
   "id": "741149c9",
   "metadata": {},
   "source": [
    "Делаем то же самое для данных о семейном положении."
   ]
  },
  {
   "cell_type": "code",
   "execution_count": 38,
   "id": "006c4016",
   "metadata": {},
   "outputs": [
    {
     "data": {
      "text/html": [
       "<div>\n",
       "<style scoped>\n",
       "    .dataframe tbody tr th:only-of-type {\n",
       "        vertical-align: middle;\n",
       "    }\n",
       "\n",
       "    .dataframe tbody tr th {\n",
       "        vertical-align: top;\n",
       "    }\n",
       "\n",
       "    .dataframe thead th {\n",
       "        text-align: right;\n",
       "    }\n",
       "</style>\n",
       "<table border=\"1\" class=\"dataframe\">\n",
       "  <thead>\n",
       "    <tr style=\"text-align: right;\">\n",
       "      <th></th>\n",
       "      <th>family_status_id</th>\n",
       "      <th>family_status</th>\n",
       "    </tr>\n",
       "  </thead>\n",
       "  <tbody>\n",
       "    <tr>\n",
       "      <th>0</th>\n",
       "      <td>0</td>\n",
       "      <td>женат / замужем</td>\n",
       "    </tr>\n",
       "    <tr>\n",
       "      <th>1</th>\n",
       "      <td>1</td>\n",
       "      <td>гражданский брак</td>\n",
       "    </tr>\n",
       "    <tr>\n",
       "      <th>2</th>\n",
       "      <td>2</td>\n",
       "      <td>вдовец / вдова</td>\n",
       "    </tr>\n",
       "    <tr>\n",
       "      <th>3</th>\n",
       "      <td>3</td>\n",
       "      <td>в разводе</td>\n",
       "    </tr>\n",
       "    <tr>\n",
       "      <th>4</th>\n",
       "      <td>4</td>\n",
       "      <td>Не женат / не замужем</td>\n",
       "    </tr>\n",
       "  </tbody>\n",
       "</table>\n",
       "</div>"
      ],
      "text/plain": [
       "   family_status_id          family_status\n",
       "0                 0        женат / замужем\n",
       "1                 1       гражданский брак\n",
       "2                 2         вдовец / вдова\n",
       "3                 3              в разводе\n",
       "4                 4  Не женат / не замужем"
      ]
     },
     "execution_count": 38,
     "metadata": {},
     "output_type": "execute_result"
    }
   ],
   "source": [
    "family_status_dict = data[['family_status_id', 'family_status']] \n",
    "family_status_dict = family_status_dict.drop_duplicates().reset_index(drop=True)\n",
    "family_status_dict"
   ]
  },
  {
   "cell_type": "code",
   "execution_count": 39,
   "id": "33cc5b27",
   "metadata": {},
   "outputs": [],
   "source": [
    "data = data[['children','days_employed','dob_years','education_id','family_status_id','gender',\n",
    "             'income_type','debt','total_income','purpose']]"
   ]
  },
  {
   "cell_type": "code",
   "execution_count": 40,
   "id": "9c65eb64",
   "metadata": {
    "scrolled": true
   },
   "outputs": [
    {
     "data": {
      "text/html": [
       "<div>\n",
       "<style scoped>\n",
       "    .dataframe tbody tr th:only-of-type {\n",
       "        vertical-align: middle;\n",
       "    }\n",
       "\n",
       "    .dataframe tbody tr th {\n",
       "        vertical-align: top;\n",
       "    }\n",
       "\n",
       "    .dataframe thead th {\n",
       "        text-align: right;\n",
       "    }\n",
       "</style>\n",
       "<table border=\"1\" class=\"dataframe\">\n",
       "  <thead>\n",
       "    <tr style=\"text-align: right;\">\n",
       "      <th></th>\n",
       "      <th>children</th>\n",
       "      <th>days_employed</th>\n",
       "      <th>dob_years</th>\n",
       "      <th>education_id</th>\n",
       "      <th>family_status_id</th>\n",
       "      <th>gender</th>\n",
       "      <th>income_type</th>\n",
       "      <th>debt</th>\n",
       "      <th>total_income</th>\n",
       "      <th>purpose</th>\n",
       "    </tr>\n",
       "  </thead>\n",
       "  <tbody>\n",
       "    <tr>\n",
       "      <th>0</th>\n",
       "      <td>1</td>\n",
       "      <td>-8437.673028</td>\n",
       "      <td>42.0</td>\n",
       "      <td>0</td>\n",
       "      <td>0</td>\n",
       "      <td>F</td>\n",
       "      <td>сотрудник</td>\n",
       "      <td>0</td>\n",
       "      <td>253875</td>\n",
       "      <td>покупка жилья</td>\n",
       "    </tr>\n",
       "    <tr>\n",
       "      <th>1</th>\n",
       "      <td>1</td>\n",
       "      <td>-4024.803754</td>\n",
       "      <td>36.0</td>\n",
       "      <td>1</td>\n",
       "      <td>0</td>\n",
       "      <td>F</td>\n",
       "      <td>сотрудник</td>\n",
       "      <td>0</td>\n",
       "      <td>112080</td>\n",
       "      <td>приобретение автомобиля</td>\n",
       "    </tr>\n",
       "    <tr>\n",
       "      <th>2</th>\n",
       "      <td>0</td>\n",
       "      <td>-5623.422610</td>\n",
       "      <td>33.0</td>\n",
       "      <td>1</td>\n",
       "      <td>0</td>\n",
       "      <td>M</td>\n",
       "      <td>сотрудник</td>\n",
       "      <td>0</td>\n",
       "      <td>145885</td>\n",
       "      <td>покупка жилья</td>\n",
       "    </tr>\n",
       "    <tr>\n",
       "      <th>3</th>\n",
       "      <td>3</td>\n",
       "      <td>-4124.747207</td>\n",
       "      <td>32.0</td>\n",
       "      <td>1</td>\n",
       "      <td>0</td>\n",
       "      <td>M</td>\n",
       "      <td>сотрудник</td>\n",
       "      <td>0</td>\n",
       "      <td>267628</td>\n",
       "      <td>дополнительное образование</td>\n",
       "    </tr>\n",
       "    <tr>\n",
       "      <th>4</th>\n",
       "      <td>0</td>\n",
       "      <td>340266.072047</td>\n",
       "      <td>53.0</td>\n",
       "      <td>1</td>\n",
       "      <td>1</td>\n",
       "      <td>F</td>\n",
       "      <td>пенсионер</td>\n",
       "      <td>0</td>\n",
       "      <td>158616</td>\n",
       "      <td>сыграть свадьбу</td>\n",
       "    </tr>\n",
       "  </tbody>\n",
       "</table>\n",
       "</div>"
      ],
      "text/plain": [
       "   children  days_employed  dob_years  education_id  family_status_id gender  \\\n",
       "0         1   -8437.673028       42.0             0                 0      F   \n",
       "1         1   -4024.803754       36.0             1                 0      F   \n",
       "2         0   -5623.422610       33.0             1                 0      M   \n",
       "3         3   -4124.747207       32.0             1                 0      M   \n",
       "4         0  340266.072047       53.0             1                 1      F   \n",
       "\n",
       "  income_type  debt  total_income                     purpose  \n",
       "0   сотрудник     0        253875               покупка жилья  \n",
       "1   сотрудник     0        112080     приобретение автомобиля  \n",
       "2   сотрудник     0        145885               покупка жилья  \n",
       "3   сотрудник     0        267628  дополнительное образование  \n",
       "4   пенсионер     0        158616             сыграть свадьбу  "
      ]
     },
     "execution_count": 40,
     "metadata": {},
     "output_type": "execute_result"
    }
   ],
   "source": [
    "data.head() "
   ]
  },
  {
   "cell_type": "markdown",
   "id": "73e3dd8b",
   "metadata": {},
   "source": [
    "Теперь таблица стала компактнее. Этот датафрейм будет удобно использовать в дальнейшем."
   ]
  },
  {
   "cell_type": "markdown",
   "id": "b7d573ae",
   "metadata": {},
   "source": [
    "### Категоризация дохода"
   ]
  },
  {
   "cell_type": "markdown",
   "id": "c1e76f61",
   "metadata": {},
   "source": [
    "Напишем функцию, которая создаст категоризацию дохода"
   ]
  },
  {
   "cell_type": "code",
   "execution_count": 41,
   "id": "f525216e",
   "metadata": {},
   "outputs": [],
   "source": [
    "def total_income_category (total_income):\n",
    "    \"\"\"\n",
    "    Возвращает категорию дохода по значению ежемесячного дохода total_income,\n",
    "    используя следующие правила:\n",
    "    - 'E', если доход  <= 30 тыс.руб.;\n",
    "    - 'D', если доход от 30001 до 50 тыс. руб.;\n",
    "    - 'C', если доход от 50001 до 200 тыс.руб.;\n",
    "    - 'B', если доход от 200001 до 1 млн.руб.;\n",
    "    - 'A', если доход более 1 млн.руб.\n",
    "    \"\"\"\n",
    "    if total_income <= 30000:\n",
    "        return 'E'\n",
    "    if total_income <= 50000:\n",
    "        return 'D'\n",
    "    if total_income <= 200000:\n",
    "        return 'C'\n",
    "    if total_income <= 1000000:\n",
    "        return 'B'\n",
    "    return 'A'"
   ]
  },
  {
   "cell_type": "markdown",
   "id": "625e235b",
   "metadata": {},
   "source": [
    "Проверяем работу функции для разных чисел:"
   ]
  },
  {
   "cell_type": "code",
   "execution_count": 42,
   "id": "200cf95b",
   "metadata": {},
   "outputs": [
    {
     "data": {
      "text/plain": [
       "'E'"
      ]
     },
     "execution_count": 42,
     "metadata": {},
     "output_type": "execute_result"
    }
   ],
   "source": [
    "total_income_category(25000) "
   ]
  },
  {
   "cell_type": "code",
   "execution_count": 43,
   "id": "abf97e21",
   "metadata": {},
   "outputs": [
    {
     "data": {
      "text/plain": [
       "'B'"
      ]
     },
     "execution_count": 43,
     "metadata": {},
     "output_type": "execute_result"
    }
   ],
   "source": [
    "total_income_category(235000) "
   ]
  },
  {
   "cell_type": "markdown",
   "id": "d76409bc",
   "metadata": {},
   "source": [
    "Функция работает корректно."
   ]
  },
  {
   "cell_type": "markdown",
   "id": "7827a6b9",
   "metadata": {},
   "source": [
    "Добавляем столбец с категориями доходов и проверяем, как выглядит результат."
   ]
  },
  {
   "cell_type": "code",
   "execution_count": 44,
   "id": "22ccbe11",
   "metadata": {},
   "outputs": [
    {
     "data": {
      "text/html": [
       "<div>\n",
       "<style scoped>\n",
       "    .dataframe tbody tr th:only-of-type {\n",
       "        vertical-align: middle;\n",
       "    }\n",
       "\n",
       "    .dataframe tbody tr th {\n",
       "        vertical-align: top;\n",
       "    }\n",
       "\n",
       "    .dataframe thead th {\n",
       "        text-align: right;\n",
       "    }\n",
       "</style>\n",
       "<table border=\"1\" class=\"dataframe\">\n",
       "  <thead>\n",
       "    <tr style=\"text-align: right;\">\n",
       "      <th></th>\n",
       "      <th>children</th>\n",
       "      <th>days_employed</th>\n",
       "      <th>dob_years</th>\n",
       "      <th>education_id</th>\n",
       "      <th>family_status_id</th>\n",
       "      <th>gender</th>\n",
       "      <th>income_type</th>\n",
       "      <th>debt</th>\n",
       "      <th>total_income</th>\n",
       "      <th>purpose</th>\n",
       "      <th>total_income_category</th>\n",
       "    </tr>\n",
       "  </thead>\n",
       "  <tbody>\n",
       "    <tr>\n",
       "      <th>0</th>\n",
       "      <td>1</td>\n",
       "      <td>-8437.673028</td>\n",
       "      <td>42.0</td>\n",
       "      <td>0</td>\n",
       "      <td>0</td>\n",
       "      <td>F</td>\n",
       "      <td>сотрудник</td>\n",
       "      <td>0</td>\n",
       "      <td>253875</td>\n",
       "      <td>покупка жилья</td>\n",
       "      <td>B</td>\n",
       "    </tr>\n",
       "    <tr>\n",
       "      <th>1</th>\n",
       "      <td>1</td>\n",
       "      <td>-4024.803754</td>\n",
       "      <td>36.0</td>\n",
       "      <td>1</td>\n",
       "      <td>0</td>\n",
       "      <td>F</td>\n",
       "      <td>сотрудник</td>\n",
       "      <td>0</td>\n",
       "      <td>112080</td>\n",
       "      <td>приобретение автомобиля</td>\n",
       "      <td>C</td>\n",
       "    </tr>\n",
       "    <tr>\n",
       "      <th>2</th>\n",
       "      <td>0</td>\n",
       "      <td>-5623.422610</td>\n",
       "      <td>33.0</td>\n",
       "      <td>1</td>\n",
       "      <td>0</td>\n",
       "      <td>M</td>\n",
       "      <td>сотрудник</td>\n",
       "      <td>0</td>\n",
       "      <td>145885</td>\n",
       "      <td>покупка жилья</td>\n",
       "      <td>C</td>\n",
       "    </tr>\n",
       "    <tr>\n",
       "      <th>3</th>\n",
       "      <td>3</td>\n",
       "      <td>-4124.747207</td>\n",
       "      <td>32.0</td>\n",
       "      <td>1</td>\n",
       "      <td>0</td>\n",
       "      <td>M</td>\n",
       "      <td>сотрудник</td>\n",
       "      <td>0</td>\n",
       "      <td>267628</td>\n",
       "      <td>дополнительное образование</td>\n",
       "      <td>B</td>\n",
       "    </tr>\n",
       "    <tr>\n",
       "      <th>4</th>\n",
       "      <td>0</td>\n",
       "      <td>340266.072047</td>\n",
       "      <td>53.0</td>\n",
       "      <td>1</td>\n",
       "      <td>1</td>\n",
       "      <td>F</td>\n",
       "      <td>пенсионер</td>\n",
       "      <td>0</td>\n",
       "      <td>158616</td>\n",
       "      <td>сыграть свадьбу</td>\n",
       "      <td>C</td>\n",
       "    </tr>\n",
       "  </tbody>\n",
       "</table>\n",
       "</div>"
      ],
      "text/plain": [
       "   children  days_employed  dob_years  education_id  family_status_id gender  \\\n",
       "0         1   -8437.673028       42.0             0                 0      F   \n",
       "1         1   -4024.803754       36.0             1                 0      F   \n",
       "2         0   -5623.422610       33.0             1                 0      M   \n",
       "3         3   -4124.747207       32.0             1                 0      M   \n",
       "4         0  340266.072047       53.0             1                 1      F   \n",
       "\n",
       "  income_type  debt  total_income                     purpose  \\\n",
       "0   сотрудник     0        253875               покупка жилья   \n",
       "1   сотрудник     0        112080     приобретение автомобиля   \n",
       "2   сотрудник     0        145885               покупка жилья   \n",
       "3   сотрудник     0        267628  дополнительное образование   \n",
       "4   пенсионер     0        158616             сыграть свадьбу   \n",
       "\n",
       "  total_income_category  \n",
       "0                     B  \n",
       "1                     C  \n",
       "2                     C  \n",
       "3                     B  \n",
       "4                     C  "
      ]
     },
     "metadata": {},
     "output_type": "display_data"
    }
   ],
   "source": [
    "data['total_income_category'] = data['total_income'].apply(total_income_category) \n",
    "display(data.head()) "
   ]
  },
  {
   "cell_type": "code",
   "execution_count": 45,
   "id": "a52d525b",
   "metadata": {},
   "outputs": [],
   "source": [
    "data = data[['children','days_employed','dob_years','education_id','family_status_id','gender',\n",
    "             'income_type','debt','total_income','total_income_category','purpose']]"
   ]
  },
  {
   "cell_type": "markdown",
   "id": "2d9d9372",
   "metadata": {},
   "source": [
    "Переставляем новый столбец поближе к \"родственному\" столбцу с данными о доходах. Для него можно тоже сделать словарь."
   ]
  },
  {
   "cell_type": "code",
   "execution_count": 46,
   "id": "217438c8",
   "metadata": {
    "scrolled": false
   },
   "outputs": [
    {
     "data": {
      "text/html": [
       "<div>\n",
       "<style scoped>\n",
       "    .dataframe tbody tr th:only-of-type {\n",
       "        vertical-align: middle;\n",
       "    }\n",
       "\n",
       "    .dataframe tbody tr th {\n",
       "        vertical-align: top;\n",
       "    }\n",
       "\n",
       "    .dataframe thead th {\n",
       "        text-align: right;\n",
       "    }\n",
       "</style>\n",
       "<table border=\"1\" class=\"dataframe\">\n",
       "  <thead>\n",
       "    <tr style=\"text-align: right;\">\n",
       "      <th></th>\n",
       "      <th>children</th>\n",
       "      <th>days_employed</th>\n",
       "      <th>dob_years</th>\n",
       "      <th>education_id</th>\n",
       "      <th>family_status_id</th>\n",
       "      <th>gender</th>\n",
       "      <th>income_type</th>\n",
       "      <th>debt</th>\n",
       "      <th>total_income</th>\n",
       "      <th>total_income_category</th>\n",
       "      <th>purpose</th>\n",
       "    </tr>\n",
       "  </thead>\n",
       "  <tbody>\n",
       "    <tr>\n",
       "      <th>0</th>\n",
       "      <td>1</td>\n",
       "      <td>-8437.673028</td>\n",
       "      <td>42.0</td>\n",
       "      <td>0</td>\n",
       "      <td>0</td>\n",
       "      <td>F</td>\n",
       "      <td>сотрудник</td>\n",
       "      <td>0</td>\n",
       "      <td>253875</td>\n",
       "      <td>B</td>\n",
       "      <td>покупка жилья</td>\n",
       "    </tr>\n",
       "    <tr>\n",
       "      <th>1</th>\n",
       "      <td>1</td>\n",
       "      <td>-4024.803754</td>\n",
       "      <td>36.0</td>\n",
       "      <td>1</td>\n",
       "      <td>0</td>\n",
       "      <td>F</td>\n",
       "      <td>сотрудник</td>\n",
       "      <td>0</td>\n",
       "      <td>112080</td>\n",
       "      <td>C</td>\n",
       "      <td>приобретение автомобиля</td>\n",
       "    </tr>\n",
       "    <tr>\n",
       "      <th>2</th>\n",
       "      <td>0</td>\n",
       "      <td>-5623.422610</td>\n",
       "      <td>33.0</td>\n",
       "      <td>1</td>\n",
       "      <td>0</td>\n",
       "      <td>M</td>\n",
       "      <td>сотрудник</td>\n",
       "      <td>0</td>\n",
       "      <td>145885</td>\n",
       "      <td>C</td>\n",
       "      <td>покупка жилья</td>\n",
       "    </tr>\n",
       "    <tr>\n",
       "      <th>3</th>\n",
       "      <td>3</td>\n",
       "      <td>-4124.747207</td>\n",
       "      <td>32.0</td>\n",
       "      <td>1</td>\n",
       "      <td>0</td>\n",
       "      <td>M</td>\n",
       "      <td>сотрудник</td>\n",
       "      <td>0</td>\n",
       "      <td>267628</td>\n",
       "      <td>B</td>\n",
       "      <td>дополнительное образование</td>\n",
       "    </tr>\n",
       "    <tr>\n",
       "      <th>4</th>\n",
       "      <td>0</td>\n",
       "      <td>340266.072047</td>\n",
       "      <td>53.0</td>\n",
       "      <td>1</td>\n",
       "      <td>1</td>\n",
       "      <td>F</td>\n",
       "      <td>пенсионер</td>\n",
       "      <td>0</td>\n",
       "      <td>158616</td>\n",
       "      <td>C</td>\n",
       "      <td>сыграть свадьбу</td>\n",
       "    </tr>\n",
       "  </tbody>\n",
       "</table>\n",
       "</div>"
      ],
      "text/plain": [
       "   children  days_employed  dob_years  education_id  family_status_id gender  \\\n",
       "0         1   -8437.673028       42.0             0                 0      F   \n",
       "1         1   -4024.803754       36.0             1                 0      F   \n",
       "2         0   -5623.422610       33.0             1                 0      M   \n",
       "3         3   -4124.747207       32.0             1                 0      M   \n",
       "4         0  340266.072047       53.0             1                 1      F   \n",
       "\n",
       "  income_type  debt  total_income total_income_category  \\\n",
       "0   сотрудник     0        253875                     B   \n",
       "1   сотрудник     0        112080                     C   \n",
       "2   сотрудник     0        145885                     C   \n",
       "3   сотрудник     0        267628                     B   \n",
       "4   пенсионер     0        158616                     C   \n",
       "\n",
       "                      purpose  \n",
       "0               покупка жилья  \n",
       "1     приобретение автомобиля  \n",
       "2               покупка жилья  \n",
       "3  дополнительное образование  \n",
       "4             сыграть свадьбу  "
      ]
     },
     "metadata": {},
     "output_type": "display_data"
    }
   ],
   "source": [
    "display(data.head()) "
   ]
  },
  {
   "cell_type": "markdown",
   "id": "6964aa91",
   "metadata": {},
   "source": [
    "Создаём словарь для данных о доходе, удаляем в нём дубликаты, проверяем результат работы."
   ]
  },
  {
   "cell_type": "code",
   "execution_count": 47,
   "id": "5599dc9d",
   "metadata": {},
   "outputs": [],
   "source": [
    "total_income_dict = data[['total_income_category', 'total_income']]\n",
    "total_income_dict = total_income_dict.drop_duplicates().reset_index(drop=True) "
   ]
  },
  {
   "cell_type": "code",
   "execution_count": 48,
   "id": "b03f1fb6",
   "metadata": {},
   "outputs": [],
   "source": [
    "data = data[['children','days_employed','dob_years','education_id','family_status_id','gender',\n",
    "             'income_type','debt','total_income_category','purpose']]"
   ]
  },
  {
   "cell_type": "code",
   "execution_count": 49,
   "id": "f1cf060d",
   "metadata": {},
   "outputs": [
    {
     "data": {
      "text/html": [
       "<div>\n",
       "<style scoped>\n",
       "    .dataframe tbody tr th:only-of-type {\n",
       "        vertical-align: middle;\n",
       "    }\n",
       "\n",
       "    .dataframe tbody tr th {\n",
       "        vertical-align: top;\n",
       "    }\n",
       "\n",
       "    .dataframe thead th {\n",
       "        text-align: right;\n",
       "    }\n",
       "</style>\n",
       "<table border=\"1\" class=\"dataframe\">\n",
       "  <thead>\n",
       "    <tr style=\"text-align: right;\">\n",
       "      <th></th>\n",
       "      <th>children</th>\n",
       "      <th>days_employed</th>\n",
       "      <th>dob_years</th>\n",
       "      <th>education_id</th>\n",
       "      <th>family_status_id</th>\n",
       "      <th>gender</th>\n",
       "      <th>income_type</th>\n",
       "      <th>debt</th>\n",
       "      <th>total_income_category</th>\n",
       "      <th>purpose</th>\n",
       "    </tr>\n",
       "  </thead>\n",
       "  <tbody>\n",
       "    <tr>\n",
       "      <th>0</th>\n",
       "      <td>1</td>\n",
       "      <td>-8437.673028</td>\n",
       "      <td>42.0</td>\n",
       "      <td>0</td>\n",
       "      <td>0</td>\n",
       "      <td>F</td>\n",
       "      <td>сотрудник</td>\n",
       "      <td>0</td>\n",
       "      <td>B</td>\n",
       "      <td>покупка жилья</td>\n",
       "    </tr>\n",
       "    <tr>\n",
       "      <th>1</th>\n",
       "      <td>1</td>\n",
       "      <td>-4024.803754</td>\n",
       "      <td>36.0</td>\n",
       "      <td>1</td>\n",
       "      <td>0</td>\n",
       "      <td>F</td>\n",
       "      <td>сотрудник</td>\n",
       "      <td>0</td>\n",
       "      <td>C</td>\n",
       "      <td>приобретение автомобиля</td>\n",
       "    </tr>\n",
       "    <tr>\n",
       "      <th>2</th>\n",
       "      <td>0</td>\n",
       "      <td>-5623.422610</td>\n",
       "      <td>33.0</td>\n",
       "      <td>1</td>\n",
       "      <td>0</td>\n",
       "      <td>M</td>\n",
       "      <td>сотрудник</td>\n",
       "      <td>0</td>\n",
       "      <td>C</td>\n",
       "      <td>покупка жилья</td>\n",
       "    </tr>\n",
       "    <tr>\n",
       "      <th>3</th>\n",
       "      <td>3</td>\n",
       "      <td>-4124.747207</td>\n",
       "      <td>32.0</td>\n",
       "      <td>1</td>\n",
       "      <td>0</td>\n",
       "      <td>M</td>\n",
       "      <td>сотрудник</td>\n",
       "      <td>0</td>\n",
       "      <td>B</td>\n",
       "      <td>дополнительное образование</td>\n",
       "    </tr>\n",
       "    <tr>\n",
       "      <th>4</th>\n",
       "      <td>0</td>\n",
       "      <td>340266.072047</td>\n",
       "      <td>53.0</td>\n",
       "      <td>1</td>\n",
       "      <td>1</td>\n",
       "      <td>F</td>\n",
       "      <td>пенсионер</td>\n",
       "      <td>0</td>\n",
       "      <td>C</td>\n",
       "      <td>сыграть свадьбу</td>\n",
       "    </tr>\n",
       "  </tbody>\n",
       "</table>\n",
       "</div>"
      ],
      "text/plain": [
       "   children  days_employed  dob_years  education_id  family_status_id gender  \\\n",
       "0         1   -8437.673028       42.0             0                 0      F   \n",
       "1         1   -4024.803754       36.0             1                 0      F   \n",
       "2         0   -5623.422610       33.0             1                 0      M   \n",
       "3         3   -4124.747207       32.0             1                 0      M   \n",
       "4         0  340266.072047       53.0             1                 1      F   \n",
       "\n",
       "  income_type  debt total_income_category                     purpose  \n",
       "0   сотрудник     0                     B               покупка жилья  \n",
       "1   сотрудник     0                     C     приобретение автомобиля  \n",
       "2   сотрудник     0                     C               покупка жилья  \n",
       "3   сотрудник     0                     B  дополнительное образование  \n",
       "4   пенсионер     0                     C             сыграть свадьбу  "
      ]
     },
     "metadata": {},
     "output_type": "display_data"
    }
   ],
   "source": [
    "display(data.head())"
   ]
  },
  {
   "cell_type": "markdown",
   "id": "4e630376",
   "metadata": {},
   "source": [
    "### Категоризация целей кредита"
   ]
  },
  {
   "cell_type": "markdown",
   "id": "eb968882",
   "metadata": {},
   "source": [
    "Создаём функцию, которая выделит категории целей кредитования"
   ]
  },
  {
   "cell_type": "code",
   "execution_count": 50,
   "id": "cf2f1d29",
   "metadata": {},
   "outputs": [],
   "source": [
    "def purpose_category (purpose): \n",
    "    \"\"\"\n",
    "    Возвращает категорию цели получения кредита по значению purpose,\n",
    "    используя следующие правила:\n",
    "    - 'операции с автомобилем', если в описании цели получения кредита указан автомобиль;\n",
    "    - 'операции с недвижимостью', если в описании цели получения кредита указаны жильё и недвижимость;\n",
    "    - 'проведение свадьбы', если в описании цели получения кредита - свадьба;\n",
    "    - 'получение образования', если в описании цели получения кредита - образование.\n",
    "    \"\"\"\n",
    "    if 'автомобил' in purpose:\n",
    "        return 'операции с автомобилем'\n",
    "    if 'недвижимост' in purpose:\n",
    "        return 'операции с недвижимостью'\n",
    "    if 'жиль' in purpose:\n",
    "        return 'операции с недвижимостью'\n",
    "    if 'свадьб' in purpose:\n",
    "        return 'проведение свадьбы'\n",
    "    if 'образовани' in purpose:\n",
    "        return 'получение образования'\n",
    "    "
   ]
  },
  {
   "cell_type": "markdown",
   "id": "7887c60c",
   "metadata": {},
   "source": [
    "Проверяем работу функции на примерах:"
   ]
  },
  {
   "cell_type": "code",
   "execution_count": 51,
   "id": "60b70f5e",
   "metadata": {},
   "outputs": [
    {
     "data": {
      "text/plain": [
       "'операции с автомобилем'"
      ]
     },
     "execution_count": 51,
     "metadata": {},
     "output_type": "execute_result"
    }
   ],
   "source": [
    "purpose_category('на покупку автомобиля') "
   ]
  },
  {
   "cell_type": "code",
   "execution_count": 52,
   "id": "9b63366f",
   "metadata": {
    "scrolled": true
   },
   "outputs": [
    {
     "data": {
      "text/plain": [
       "'операции с недвижимостью'"
      ]
     },
     "execution_count": 52,
     "metadata": {},
     "output_type": "execute_result"
    }
   ],
   "source": [
    "purpose_category('покупка жилья') "
   ]
  },
  {
   "cell_type": "markdown",
   "id": "595c9424",
   "metadata": {},
   "source": [
    "Функция работает корректно."
   ]
  },
  {
   "cell_type": "markdown",
   "id": "158c84d6",
   "metadata": {},
   "source": [
    "Добавляем новый столбец с помощью применения новой функции:"
   ]
  },
  {
   "cell_type": "code",
   "execution_count": 53,
   "id": "06e4df3c",
   "metadata": {},
   "outputs": [],
   "source": [
    "data['purpose_category'] = data['purpose'].apply(purpose_category) "
   ]
  },
  {
   "cell_type": "markdown",
   "id": "17a6497e",
   "metadata": {},
   "source": [
    "Создаём словарь для данных о цели кредита и удаляем в нём дубликаты:"
   ]
  },
  {
   "cell_type": "code",
   "execution_count": 54,
   "id": "acdd137b",
   "metadata": {},
   "outputs": [],
   "source": [
    "purpose_dict = data[['purpose_category', 'purpose']] \n",
    "purpose_dict = purpose_dict.drop_duplicates().reset_index(drop=True) "
   ]
  },
  {
   "cell_type": "code",
   "execution_count": 55,
   "id": "00edd879",
   "metadata": {},
   "outputs": [],
   "source": [
    "data = data[['children','days_employed','dob_years','education_id','family_status_id','gender',\n",
    "             'income_type','debt','total_income_category','purpose_category']]"
   ]
  },
  {
   "cell_type": "markdown",
   "id": "88331439",
   "metadata": {},
   "source": [
    "Проверяем, как теперь выглядит таблица"
   ]
  },
  {
   "cell_type": "code",
   "execution_count": 56,
   "id": "5a7fb29e",
   "metadata": {
    "scrolled": false
   },
   "outputs": [
    {
     "data": {
      "text/html": [
       "<div>\n",
       "<style scoped>\n",
       "    .dataframe tbody tr th:only-of-type {\n",
       "        vertical-align: middle;\n",
       "    }\n",
       "\n",
       "    .dataframe tbody tr th {\n",
       "        vertical-align: top;\n",
       "    }\n",
       "\n",
       "    .dataframe thead th {\n",
       "        text-align: right;\n",
       "    }\n",
       "</style>\n",
       "<table border=\"1\" class=\"dataframe\">\n",
       "  <thead>\n",
       "    <tr style=\"text-align: right;\">\n",
       "      <th></th>\n",
       "      <th>children</th>\n",
       "      <th>days_employed</th>\n",
       "      <th>dob_years</th>\n",
       "      <th>education_id</th>\n",
       "      <th>family_status_id</th>\n",
       "      <th>gender</th>\n",
       "      <th>income_type</th>\n",
       "      <th>debt</th>\n",
       "      <th>total_income_category</th>\n",
       "      <th>purpose_category</th>\n",
       "    </tr>\n",
       "  </thead>\n",
       "  <tbody>\n",
       "    <tr>\n",
       "      <th>0</th>\n",
       "      <td>1</td>\n",
       "      <td>-8437.673028</td>\n",
       "      <td>42.0</td>\n",
       "      <td>0</td>\n",
       "      <td>0</td>\n",
       "      <td>F</td>\n",
       "      <td>сотрудник</td>\n",
       "      <td>0</td>\n",
       "      <td>B</td>\n",
       "      <td>операции с недвижимостью</td>\n",
       "    </tr>\n",
       "    <tr>\n",
       "      <th>1</th>\n",
       "      <td>1</td>\n",
       "      <td>-4024.803754</td>\n",
       "      <td>36.0</td>\n",
       "      <td>1</td>\n",
       "      <td>0</td>\n",
       "      <td>F</td>\n",
       "      <td>сотрудник</td>\n",
       "      <td>0</td>\n",
       "      <td>C</td>\n",
       "      <td>операции с автомобилем</td>\n",
       "    </tr>\n",
       "    <tr>\n",
       "      <th>2</th>\n",
       "      <td>0</td>\n",
       "      <td>-5623.422610</td>\n",
       "      <td>33.0</td>\n",
       "      <td>1</td>\n",
       "      <td>0</td>\n",
       "      <td>M</td>\n",
       "      <td>сотрудник</td>\n",
       "      <td>0</td>\n",
       "      <td>C</td>\n",
       "      <td>операции с недвижимостью</td>\n",
       "    </tr>\n",
       "    <tr>\n",
       "      <th>3</th>\n",
       "      <td>3</td>\n",
       "      <td>-4124.747207</td>\n",
       "      <td>32.0</td>\n",
       "      <td>1</td>\n",
       "      <td>0</td>\n",
       "      <td>M</td>\n",
       "      <td>сотрудник</td>\n",
       "      <td>0</td>\n",
       "      <td>B</td>\n",
       "      <td>получение образования</td>\n",
       "    </tr>\n",
       "    <tr>\n",
       "      <th>4</th>\n",
       "      <td>0</td>\n",
       "      <td>340266.072047</td>\n",
       "      <td>53.0</td>\n",
       "      <td>1</td>\n",
       "      <td>1</td>\n",
       "      <td>F</td>\n",
       "      <td>пенсионер</td>\n",
       "      <td>0</td>\n",
       "      <td>C</td>\n",
       "      <td>проведение свадьбы</td>\n",
       "    </tr>\n",
       "  </tbody>\n",
       "</table>\n",
       "</div>"
      ],
      "text/plain": [
       "   children  days_employed  dob_years  education_id  family_status_id gender  \\\n",
       "0         1   -8437.673028       42.0             0                 0      F   \n",
       "1         1   -4024.803754       36.0             1                 0      F   \n",
       "2         0   -5623.422610       33.0             1                 0      M   \n",
       "3         3   -4124.747207       32.0             1                 0      M   \n",
       "4         0  340266.072047       53.0             1                 1      F   \n",
       "\n",
       "  income_type  debt total_income_category          purpose_category  \n",
       "0   сотрудник     0                     B  операции с недвижимостью  \n",
       "1   сотрудник     0                     C    операции с автомобилем  \n",
       "2   сотрудник     0                     C  операции с недвижимостью  \n",
       "3   сотрудник     0                     B     получение образования  \n",
       "4   пенсионер     0                     C        проведение свадьбы  "
      ]
     },
     "metadata": {},
     "output_type": "display_data"
    }
   ],
   "source": [
    "display(data.head()) "
   ]
  },
  {
   "cell_type": "markdown",
   "id": "822df151",
   "metadata": {},
   "source": [
    "### Вывод"
   ]
  },
  {
   "cell_type": "code",
   "execution_count": 57,
   "id": "0a8f66bc",
   "metadata": {},
   "outputs": [
    {
     "data": {
      "text/plain": [
       "71"
      ]
     },
     "execution_count": 57,
     "metadata": {},
     "output_type": "execute_result"
    }
   ],
   "source": [
    "len(data_raw) - len(data)"
   ]
  },
  {
   "cell_type": "code",
   "execution_count": 58,
   "id": "c2bdae23",
   "metadata": {},
   "outputs": [
    {
     "data": {
      "text/plain": [
       "0.32984901277584205"
      ]
     },
     "execution_count": 58,
     "metadata": {},
     "output_type": "execute_result"
    }
   ],
   "source": [
    "(len(data_raw) - len(data)) / len(data_raw) *100"
   ]
  },
  {
   "cell_type": "markdown",
   "id": "97361952",
   "metadata": {},
   "source": [
    "По результатам предобработки данных удалена 71 строка, это 0.33% от начального объёма данных.\n",
    "\n",
    "Весь намеченный объём работ по предобработке данных выполнен. Датасет подготовлен для построения модели кредитного скоринга."
   ]
  },
  {
   "cell_type": "markdown",
   "id": "d7901e14",
   "metadata": {},
   "source": [
    "## Ответы на вопросы заказчика"
   ]
  },
  {
   "cell_type": "markdown",
   "id": "0c27a59f",
   "metadata": {},
   "source": [
    "### Есть ли зависимость между количеством детей и возвратом кредита в срок?"
   ]
  },
  {
   "cell_type": "code",
   "execution_count": 59,
   "id": "f17e49bf",
   "metadata": {},
   "outputs": [
    {
     "data": {
      "text/html": [
       "<div>\n",
       "<style scoped>\n",
       "    .dataframe tbody tr th:only-of-type {\n",
       "        vertical-align: middle;\n",
       "    }\n",
       "\n",
       "    .dataframe tbody tr th {\n",
       "        vertical-align: top;\n",
       "    }\n",
       "\n",
       "    .dataframe thead th {\n",
       "        text-align: right;\n",
       "    }\n",
       "</style>\n",
       "<table border=\"1\" class=\"dataframe\">\n",
       "  <thead>\n",
       "    <tr style=\"text-align: right;\">\n",
       "      <th></th>\n",
       "      <th>количество заёмщиков</th>\n",
       "      <th>количество должников</th>\n",
       "      <th>доля должников</th>\n",
       "    </tr>\n",
       "    <tr>\n",
       "      <th>children</th>\n",
       "      <th></th>\n",
       "      <th></th>\n",
       "      <th></th>\n",
       "    </tr>\n",
       "  </thead>\n",
       "  <tbody>\n",
       "    <tr>\n",
       "      <th>4</th>\n",
       "      <td>41</td>\n",
       "      <td>4</td>\n",
       "      <td>9.76%</td>\n",
       "    </tr>\n",
       "    <tr>\n",
       "      <th>2</th>\n",
       "      <td>2128</td>\n",
       "      <td>202</td>\n",
       "      <td>9.49%</td>\n",
       "    </tr>\n",
       "    <tr>\n",
       "      <th>1</th>\n",
       "      <td>4855</td>\n",
       "      <td>445</td>\n",
       "      <td>9.17%</td>\n",
       "    </tr>\n",
       "    <tr>\n",
       "      <th>3</th>\n",
       "      <td>330</td>\n",
       "      <td>27</td>\n",
       "      <td>8.18%</td>\n",
       "    </tr>\n",
       "    <tr>\n",
       "      <th>0</th>\n",
       "      <td>14091</td>\n",
       "      <td>1063</td>\n",
       "      <td>7.54%</td>\n",
       "    </tr>\n",
       "    <tr>\n",
       "      <th>5</th>\n",
       "      <td>9</td>\n",
       "      <td>0</td>\n",
       "      <td>0.00%</td>\n",
       "    </tr>\n",
       "  </tbody>\n",
       "</table>\n",
       "</div>"
      ],
      "text/plain": [
       "          количество заёмщиков  количество должников доля должников\n",
       "children                                                           \n",
       "4                           41                     4          9.76%\n",
       "2                         2128                   202          9.49%\n",
       "1                         4855                   445          9.17%\n",
       "3                          330                    27          8.18%\n",
       "0                        14091                  1063          7.54%\n",
       "5                            9                     0          0.00%"
      ]
     },
     "metadata": {},
     "output_type": "display_data"
    }
   ],
   "source": [
    "data_children_pivot = data.pivot_table(index=['children'], values='debt', aggfunc=['count', 'sum', 'mean'])\n",
    "data_children_pivot.columns = ['количество заёмщиков', 'количество должников', 'доля должников']\n",
    "\n",
    "def percentage(i):\n",
    "    return f\"{i:.2%}\"\n",
    "\n",
    "data_children_pivot['доля должников'] = data_children_pivot['доля должников'].apply(percentage)\n",
    "\n",
    "display(data_children_pivot.sort_values(by='доля должников', ascending=False))"
   ]
  },
  {
   "cell_type": "markdown",
   "id": "5f113c42",
   "metadata": {},
   "source": [
    "### Вывод"
   ]
  },
  {
   "cell_type": "markdown",
   "id": "f8cd5f70",
   "metadata": {},
   "source": [
    "Предоставленные данные говорят о том, что:\n",
    "- доля должников без детей (7.54%) в целом чуть ниже, чем доля должников с детьми (от 8.19 до 9.76%) \n",
    "- 1 ребёнок у клиента или 2 детей - на возврат кредита в срок это не повлияет (доля должников у этих групп похожая - 9.17 и 9.49% соответственно)\n",
    "- многодетных клиентов (с 3, 4, 5 детьми) на порядки меньше, и здесь более заметны колебания (доли должников 8.18%, 9.76%, 0% соответственно), хотя в среднем эти данные продолжают тенденцию более многочисленных групп клиентов с 1 и 2 детьми.\n",
    "\n",
    "**Таким образом**, мы видим, что **клиенты с детьми чаще становятся должниками по сравнению с бездетными заёмщиками**. "
   ]
  },
  {
   "cell_type": "markdown",
   "id": "e2c3c0ed",
   "metadata": {},
   "source": [
    "### Есть ли зависимость между семейным положением и возвратом кредита в срок? "
   ]
  },
  {
   "cell_type": "code",
   "execution_count": 60,
   "id": "ce181cc6",
   "metadata": {},
   "outputs": [
    {
     "data": {
      "text/html": [
       "<div>\n",
       "<style scoped>\n",
       "    .dataframe tbody tr th:only-of-type {\n",
       "        vertical-align: middle;\n",
       "    }\n",
       "\n",
       "    .dataframe tbody tr th {\n",
       "        vertical-align: top;\n",
       "    }\n",
       "\n",
       "    .dataframe thead th {\n",
       "        text-align: right;\n",
       "    }\n",
       "</style>\n",
       "<table border=\"1\" class=\"dataframe\">\n",
       "  <thead>\n",
       "    <tr style=\"text-align: right;\">\n",
       "      <th></th>\n",
       "      <th>количество заёмщиков</th>\n",
       "      <th>количество должников</th>\n",
       "      <th>доля должников</th>\n",
       "    </tr>\n",
       "    <tr>\n",
       "      <th>family_status</th>\n",
       "      <th></th>\n",
       "      <th></th>\n",
       "      <th></th>\n",
       "    </tr>\n",
       "  </thead>\n",
       "  <tbody>\n",
       "    <tr>\n",
       "      <th>Не женат / не замужем</th>\n",
       "      <td>2810</td>\n",
       "      <td>274</td>\n",
       "      <td>9.75%</td>\n",
       "    </tr>\n",
       "    <tr>\n",
       "      <th>гражданский брак</th>\n",
       "      <td>4151</td>\n",
       "      <td>388</td>\n",
       "      <td>9.35%</td>\n",
       "    </tr>\n",
       "    <tr>\n",
       "      <th>женат / замужем</th>\n",
       "      <td>12339</td>\n",
       "      <td>931</td>\n",
       "      <td>7.55%</td>\n",
       "    </tr>\n",
       "    <tr>\n",
       "      <th>в разводе</th>\n",
       "      <td>1195</td>\n",
       "      <td>85</td>\n",
       "      <td>7.11%</td>\n",
       "    </tr>\n",
       "    <tr>\n",
       "      <th>вдовец / вдова</th>\n",
       "      <td>959</td>\n",
       "      <td>63</td>\n",
       "      <td>6.57%</td>\n",
       "    </tr>\n",
       "  </tbody>\n",
       "</table>\n",
       "</div>"
      ],
      "text/plain": [
       "                       количество заёмщиков  количество должников  \\\n",
       "family_status                                                       \n",
       "Не женат / не замужем                  2810                   274   \n",
       "гражданский брак                       4151                   388   \n",
       "женат / замужем                       12339                   931   \n",
       "в разводе                              1195                    85   \n",
       "вдовец / вдова                          959                    63   \n",
       "\n",
       "                      доля должников  \n",
       "family_status                         \n",
       "Не женат / не замужем          9.75%  \n",
       "гражданский брак               9.35%  \n",
       "женат / замужем                7.55%  \n",
       "в разводе                      7.11%  \n",
       "вдовец / вдова                 6.57%  "
      ]
     },
     "metadata": {},
     "output_type": "display_data"
    }
   ],
   "source": [
    "data_family = data.merge(family_status_dict, on='family_status_id', how='left')\n",
    "data_family_pivot = data_family.pivot_table(index=['family_status'], values='debt', aggfunc=['count', 'sum', 'mean'])\n",
    "data_family_pivot.columns = ['количество заёмщиков', 'количество должников', 'доля должников']\n",
    "data_family_pivot['доля должников'] = data_family_pivot['доля должников'].apply(percentage)\n",
    "\n",
    "display(data_family_pivot.sort_values(by='доля должников', ascending=False))"
   ]
  },
  {
   "cell_type": "markdown",
   "id": "7220eb3c",
   "metadata": {},
   "source": [
    "### Вывод"
   ]
  },
  {
   "cell_type": "markdown",
   "id": "16e94405",
   "metadata": {},
   "source": [
    "\n",
    "- Чаще всего должники встречаются среди клиентов, **не состоящих в браке** (статус \"не женат/не замужем\"), их доля составляет **9.75%**,\n",
    "- Чуть меньше доля должников, состоящих **в гражданском браке**, это **9.35%**,\n",
    "- Реже встречаются должники в категории клиентов, состоящих **в браке**, это **7.55%**,\n",
    "- И реже всего встречаются должники среди клиентов **в разводе** и категорий **вдовец/вдова**, в этих группах по **7.11** и **6.57%** соответственно.\n",
    "\n",
    "**Доля должников больше среди тех категорий пользователей, кто не связывал себя узами брака** и официально не регистрировал отношения, возможно, это в какой-то степени связано с личными качествами (ответственность).\n",
    "\n",
    "**Возможно, здесь косвенно прослеживается взаимосвязь с возрастом клиентов** (ведь не состоят в браке или находятся в гражданском браке, как правило, люди молодые; а имеют за плечами развод или являются вдоцами/вдовами люди, имеющие более весомый жизненный опыт, и, соответственно, возраст). А возраст клиентов, в свою очередь, может быть связан с профессиональной квалификацией и более выгодным трудоустройством, более высоким доходом, а возможно и просто с более прагматичным, рациональным, взвешенным отношением к жизни. "
   ]
  },
  {
   "cell_type": "markdown",
   "id": "83117629",
   "metadata": {},
   "source": [
    "### Есть ли зависимость между уровнем дохода и возвратом кредита в срок?"
   ]
  },
  {
   "cell_type": "code",
   "execution_count": 61,
   "id": "3f044b5d",
   "metadata": {},
   "outputs": [
    {
     "data": {
      "text/html": [
       "<div>\n",
       "<style scoped>\n",
       "    .dataframe tbody tr th:only-of-type {\n",
       "        vertical-align: middle;\n",
       "    }\n",
       "\n",
       "    .dataframe tbody tr th {\n",
       "        vertical-align: top;\n",
       "    }\n",
       "\n",
       "    .dataframe thead th {\n",
       "        text-align: right;\n",
       "    }\n",
       "</style>\n",
       "<table border=\"1\" class=\"dataframe\">\n",
       "  <thead>\n",
       "    <tr style=\"text-align: right;\">\n",
       "      <th></th>\n",
       "      <th>количество заёмщиков</th>\n",
       "      <th>количество должников</th>\n",
       "      <th>доля должников</th>\n",
       "    </tr>\n",
       "    <tr>\n",
       "      <th>total_income_category</th>\n",
       "      <th></th>\n",
       "      <th></th>\n",
       "      <th></th>\n",
       "    </tr>\n",
       "  </thead>\n",
       "  <tbody>\n",
       "    <tr>\n",
       "      <th>E</th>\n",
       "      <td>22</td>\n",
       "      <td>2</td>\n",
       "      <td>9.09%</td>\n",
       "    </tr>\n",
       "    <tr>\n",
       "      <th>C</th>\n",
       "      <td>16015</td>\n",
       "      <td>1360</td>\n",
       "      <td>8.49%</td>\n",
       "    </tr>\n",
       "    <tr>\n",
       "      <th>A</th>\n",
       "      <td>25</td>\n",
       "      <td>2</td>\n",
       "      <td>8.00%</td>\n",
       "    </tr>\n",
       "    <tr>\n",
       "      <th>B</th>\n",
       "      <td>5042</td>\n",
       "      <td>356</td>\n",
       "      <td>7.06%</td>\n",
       "    </tr>\n",
       "    <tr>\n",
       "      <th>D</th>\n",
       "      <td>350</td>\n",
       "      <td>21</td>\n",
       "      <td>6.00%</td>\n",
       "    </tr>\n",
       "  </tbody>\n",
       "</table>\n",
       "</div>"
      ],
      "text/plain": [
       "                       количество заёмщиков  количество должников  \\\n",
       "total_income_category                                               \n",
       "E                                        22                     2   \n",
       "C                                     16015                  1360   \n",
       "A                                        25                     2   \n",
       "B                                      5042                   356   \n",
       "D                                       350                    21   \n",
       "\n",
       "                      доля должников  \n",
       "total_income_category                 \n",
       "E                              9.09%  \n",
       "C                              8.49%  \n",
       "A                              8.00%  \n",
       "B                              7.06%  \n",
       "D                              6.00%  "
      ]
     },
     "metadata": {},
     "output_type": "display_data"
    }
   ],
   "source": [
    "data_total_income_pivot = data.pivot_table(index=['total_income_category'], values='debt', aggfunc=['count', 'sum', 'mean'])\n",
    "data_total_income_pivot.columns = ['количество заёмщиков', 'количество должников', 'доля должников']\n",
    "data_total_income_pivot['доля должников'] = data_total_income_pivot['доля должников'].apply(percentage)\n",
    "\n",
    "display(data_total_income_pivot.sort_values(by='доля должников', ascending=False))"
   ]
  },
  {
   "cell_type": "markdown",
   "id": "bf5598f6",
   "metadata": {},
   "source": [
    "### Вывод:"
   ]
  },
  {
   "cell_type": "markdown",
   "id": "22e6c14d",
   "metadata": {},
   "source": [
    "Данные показывают, что:\n",
    "\n",
    "- наибольшая доля должников среди заёмщиков с категорией доходов **'E' (до 30 тыс.руб.)**, но здесь надо учитывать количество таких клиентов - их очень мало, это может влиять на результат\n",
    "- высокий процент должников среди клиентов с категорией доходов **'C' (50-200 тыс.руб.)**, и это самая многочисленная категория\n",
    "- клиенты с доходов **свыше 1 млн.руб. (категория доходов 'A')** тоже очень немногочисленны, но доля должников здесь ниже, чем у клиентов с категорией доходов 'E'(до 30 тыс.руб.) - это 8.00% против 9.09%\n",
    "- доля должников среди заёмщиков с доходами категории **'B' (200 тыс.руб.-1 млн.руб.)** составляет 7.06%, и это вторая категория по численности\n",
    "- наименьшая доля должников среди клиентов с категорией дохода **'D' (30-50 тыс.руб.)** - 6.00%, и эта группа не многочисленна\n",
    "\n",
    "\n",
    "Таким образом, данные говорят, что **тенденция неравномерна**. С большой долей вероятности должником может стать как клиент, имеющий **самый низкий доход ('E' - 9.09%)**, но не сильно от него может отличаться и клиент с **самым высоким уровнем дохода ('A' - 8.00%)**. Также высоки шансы встретить должников в **самой многочисленной группе ('C'- 8.49%)**.\n",
    "\n",
    "**Если же принять во внимание неравномерное распределение количества клиентов по группам** (ведь где-то мы видим всего пару десятков человек, а где-то несколько тысяч), и сравнить только две самые многочисленные категории ('C' и 'B'), то мы **увидим общую тенденцию: с увеличением дохода доля должников уменьшается (8.49% и 7.06%)**."
   ]
  },
  {
   "cell_type": "markdown",
   "id": "772a26c7",
   "metadata": {},
   "source": [
    "### Как разные цели кредита влияют на его возврат в срок?"
   ]
  },
  {
   "cell_type": "code",
   "execution_count": 62,
   "id": "ea69883e",
   "metadata": {},
   "outputs": [
    {
     "data": {
      "text/html": [
       "<div>\n",
       "<style scoped>\n",
       "    .dataframe tbody tr th:only-of-type {\n",
       "        vertical-align: middle;\n",
       "    }\n",
       "\n",
       "    .dataframe tbody tr th {\n",
       "        vertical-align: top;\n",
       "    }\n",
       "\n",
       "    .dataframe thead th {\n",
       "        text-align: right;\n",
       "    }\n",
       "</style>\n",
       "<table border=\"1\" class=\"dataframe\">\n",
       "  <thead>\n",
       "    <tr style=\"text-align: right;\">\n",
       "      <th></th>\n",
       "      <th>количество заёмщиков</th>\n",
       "      <th>количество должников</th>\n",
       "      <th>доля должников</th>\n",
       "    </tr>\n",
       "    <tr>\n",
       "      <th>purpose_category</th>\n",
       "      <th></th>\n",
       "      <th></th>\n",
       "      <th></th>\n",
       "    </tr>\n",
       "  </thead>\n",
       "  <tbody>\n",
       "    <tr>\n",
       "      <th>операции с автомобилем</th>\n",
       "      <td>4306</td>\n",
       "      <td>403</td>\n",
       "      <td>9.36%</td>\n",
       "    </tr>\n",
       "    <tr>\n",
       "      <th>получение образования</th>\n",
       "      <td>4013</td>\n",
       "      <td>370</td>\n",
       "      <td>9.22%</td>\n",
       "    </tr>\n",
       "    <tr>\n",
       "      <th>проведение свадьбы</th>\n",
       "      <td>2324</td>\n",
       "      <td>186</td>\n",
       "      <td>8.00%</td>\n",
       "    </tr>\n",
       "    <tr>\n",
       "      <th>операции с недвижимостью</th>\n",
       "      <td>10811</td>\n",
       "      <td>782</td>\n",
       "      <td>7.23%</td>\n",
       "    </tr>\n",
       "  </tbody>\n",
       "</table>\n",
       "</div>"
      ],
      "text/plain": [
       "                          количество заёмщиков  количество должников  \\\n",
       "purpose_category                                                       \n",
       "операции с автомобилем                    4306                   403   \n",
       "получение образования                     4013                   370   \n",
       "проведение свадьбы                        2324                   186   \n",
       "операции с недвижимостью                 10811                   782   \n",
       "\n",
       "                         доля должников  \n",
       "purpose_category                         \n",
       "операции с автомобилем            9.36%  \n",
       "получение образования             9.22%  \n",
       "проведение свадьбы                8.00%  \n",
       "операции с недвижимостью          7.23%  "
      ]
     },
     "metadata": {},
     "output_type": "display_data"
    }
   ],
   "source": [
    "data_purpose_pivot = data.pivot_table(index=['purpose_category'], values='debt', aggfunc=['count', 'sum', 'mean'])\n",
    "data_purpose_pivot.columns = ['количество заёмщиков', 'количество должников', 'доля должников']\n",
    "data_purpose_pivot['доля должников'] = data_purpose_pivot['доля должников'].apply(percentage)\n",
    "\n",
    "display(data_purpose_pivot.sort_values(by='доля должников', ascending=False))"
   ]
  },
  {
   "cell_type": "markdown",
   "id": "8742c8d1",
   "metadata": {},
   "source": [
    "### Вывод"
   ]
  },
  {
   "cell_type": "markdown",
   "id": "42c3eca0",
   "metadata": {},
   "source": [
    "Данные говорят:\n",
    "\n",
    "- самая маленькая доля должников среди клиентов, чья цель - **операции с недвижимостью** - это **7.23%**\n",
    "- на следующей ступени доля должников среди клиентов с целью **проведения свадьбы** - это **8.00%**\n",
    "- и схожие доли должников среди клиентов, чьи цели связаны с  **получением образования** и **операциями с автомобилями** - **9.22%** и **9.36%** соответсвенно.\n",
    "\n",
    "В этих категориях нет слишком кардинального разброса в количестве клиентов (везде счёт идёт на тысячи заёмщиков). Значит, эти показатели не являются \"случайными\".\n",
    "\n",
    "**Могу предположить, что наиболее масштабные и долговременные цели (операции с недвижимостью) и цели, связанные с личной ответственностью (официальная регистрация брака и проведение свадьбы) побуждают заёмщиков быть более ответственными** и в своевременном погашении платежей по кредиту. "
   ]
  },
  {
   "cell_type": "markdown",
   "id": "8bdb50ae",
   "metadata": {},
   "source": [
    "## Общий вывод"
   ]
  },
  {
   "cell_type": "markdown",
   "id": "4001d476",
   "metadata": {},
   "source": [
    "По результатам предобработки данных удалена 71 строка, это 0.33% от начального объёма данных.\n",
    "Весь намеченный объём работ по предобработке данных выполнен. Датасет подготовлен для построения модели кредитного скоринга.\n",
    "\n",
    "\n",
    "Что касается вопросов заказчика: предоставленные данные говорят о том, что **количество детей, семейное положение, ежемесячный доход и цель кредита не слишком сильно влияют на погашение кредита в срок**. Данные по всем этим категориям **отличаются незначительно**, разброс идёт на несколько процентов (от 6.00 до 9.76%), **но некоторые закономерности**, тем не менее, **можно выявить**.\n",
    "\n",
    "\n",
    "- **доля должников среди клиентов с детьми чуть выше** (от 8.19 до 9.76%), чем доля должников среди клиентов без детей (7.54%), а само количество детей на эту закономерность влияет незначительно и неравномерно: количество многодетных клиентов небольшое (и поэтому чёткую тенденцию на малой выборке выявить сложно);\n",
    "\n",
    "\n",
    "- **чаще встречаются должники среди клиентов, не состоящих в браке и состоящих в гражданском браке**. Похоже, имеет место фактор личной ответственности (решение официально связать себя узами брака) или, возможно, косвенно влияют другие факторы (например, возраст, образование и доход);\n",
    "\n",
    "\n",
    "- заёмщики неравномерно распределены по группам категорий доходов (в некоторых группах всего пара десятков клиентов, а в некоторых - это тысячи людей), поэтому **в целом взаимосвязь дохода и возвратом кредита в срок выглядит неравномерной** (сказывается малая выборка в нескольких категориях). Например, чаще всего должником становится клиент с категорией дохода 'E'(до 30 тыс.руб.) - 9.09%, но достаточно высокий процент должников и среди клиентов с самым высоким уровнем дохода - категория 'A'(свыше 1 млн.руб.) - 8.00%. При этом важно понимать, что всего клиентов с категорией доходов 'E' - 22, а с категорией 'A' - 25 человек. Если же посмотреть на самые многочисленные категории ('C' и 'B', где представлены тысячи клиентов), то мы **увидим общую тенденцию: с увеличением дохода доля должников уменьшается** (8.49% и 7.06%). Значит, **для банка менее благонадёжными выглядят заёмщики с небольшим уровнем дохода**.\n",
    "\n",
    "\n",
    "- чаще не возвращают кредит в срок те клиенты, что оформляли его **для операций с автомобилями** и **получения образования**. Можно предположить, что наиболее масштабные и долговременные цели (операции с недвижимостью) и цели, связанные с личной ответственностью (официальная регистрация брака и проведение свадьбы) побуждают заёмщиков быть более ответственными.\n",
    "\n",
    "Спасибо за внимание!\n"
   ]
  }
 ],
 "metadata": {
  "ExecuteTimeLog": [
   {
    "duration": 488,
    "start_time": "2022-05-14T11:05:22.529Z"
   },
   {
    "duration": 94,
    "start_time": "2022-05-14T11:06:51.268Z"
   },
   {
    "duration": 78,
    "start_time": "2022-05-14T11:08:47.162Z"
   },
   {
    "duration": 80,
    "start_time": "2022-05-14T11:09:04.720Z"
   },
   {
    "duration": 8,
    "start_time": "2022-05-14T11:37:19.839Z"
   },
   {
    "duration": 456,
    "start_time": "2022-05-14T13:28:11.692Z"
   },
   {
    "duration": 6,
    "start_time": "2022-05-14T13:28:19.111Z"
   },
   {
    "duration": 4,
    "start_time": "2022-05-14T13:30:05.229Z"
   },
   {
    "duration": 5,
    "start_time": "2022-05-14T13:31:44.111Z"
   },
   {
    "duration": 11,
    "start_time": "2022-05-14T13:34:33.208Z"
   },
   {
    "duration": 6,
    "start_time": "2022-05-14T13:35:22.244Z"
   },
   {
    "duration": 10,
    "start_time": "2022-05-14T13:38:56.731Z"
   },
   {
    "duration": 10,
    "start_time": "2022-05-14T13:39:12.567Z"
   },
   {
    "duration": 6,
    "start_time": "2022-05-14T13:45:04.755Z"
   },
   {
    "duration": 9,
    "start_time": "2022-05-14T13:45:54.247Z"
   },
   {
    "duration": 14,
    "start_time": "2022-05-14T13:53:03.826Z"
   },
   {
    "duration": 14,
    "start_time": "2022-05-14T13:54:55.434Z"
   },
   {
    "duration": 6,
    "start_time": "2022-05-14T14:07:03.547Z"
   },
   {
    "duration": 6,
    "start_time": "2022-05-14T14:07:20.159Z"
   },
   {
    "duration": 7,
    "start_time": "2022-05-14T14:08:48.964Z"
   },
   {
    "duration": 5,
    "start_time": "2022-05-14T14:09:55.066Z"
   },
   {
    "duration": 72,
    "start_time": "2022-05-14T14:10:14.435Z"
   },
   {
    "duration": 6,
    "start_time": "2022-05-14T14:10:42.931Z"
   },
   {
    "duration": 5,
    "start_time": "2022-05-14T14:13:50.053Z"
   },
   {
    "duration": 141,
    "start_time": "2022-05-15T06:46:45.974Z"
   },
   {
    "duration": 596,
    "start_time": "2022-05-15T06:46:50.916Z"
   },
   {
    "duration": 19,
    "start_time": "2022-05-15T06:46:56.984Z"
   },
   {
    "duration": 11,
    "start_time": "2022-05-15T06:47:00.492Z"
   },
   {
    "duration": 14,
    "start_time": "2022-05-15T06:47:19.767Z"
   },
   {
    "duration": 6,
    "start_time": "2022-05-15T06:55:11.512Z"
   },
   {
    "duration": 44,
    "start_time": "2022-05-15T06:58:16.403Z"
   },
   {
    "duration": 9,
    "start_time": "2022-05-15T06:59:05.943Z"
   },
   {
    "duration": 9,
    "start_time": "2022-05-15T06:59:51.868Z"
   },
   {
    "duration": 6,
    "start_time": "2022-05-15T07:04:23.326Z"
   },
   {
    "duration": 7,
    "start_time": "2022-05-15T07:04:36.172Z"
   },
   {
    "duration": 6,
    "start_time": "2022-05-15T07:05:03.248Z"
   },
   {
    "duration": 689,
    "start_time": "2022-05-15T07:38:23.006Z"
   },
   {
    "duration": 24,
    "start_time": "2022-05-15T07:38:23.697Z"
   },
   {
    "duration": 7,
    "start_time": "2022-05-15T07:38:23.723Z"
   },
   {
    "duration": 96,
    "start_time": "2022-05-15T07:39:27.906Z"
   },
   {
    "duration": 20,
    "start_time": "2022-05-15T07:39:40.229Z"
   },
   {
    "duration": 8,
    "start_time": "2022-05-15T07:39:44.135Z"
   },
   {
    "duration": 39,
    "start_time": "2022-05-15T07:46:41.770Z"
   },
   {
    "duration": 28,
    "start_time": "2022-05-15T07:48:05.136Z"
   },
   {
    "duration": 34,
    "start_time": "2022-05-15T07:48:43.026Z"
   },
   {
    "duration": 47,
    "start_time": "2022-05-15T07:49:06.443Z"
   },
   {
    "duration": 559,
    "start_time": "2022-05-15T10:23:22.552Z"
   },
   {
    "duration": 17,
    "start_time": "2022-05-15T10:23:23.118Z"
   },
   {
    "duration": 14,
    "start_time": "2022-05-15T10:23:23.138Z"
   },
   {
    "duration": 6,
    "start_time": "2022-05-15T10:23:23.155Z"
   },
   {
    "duration": 6,
    "start_time": "2022-05-15T10:24:53.493Z"
   },
   {
    "duration": 7,
    "start_time": "2022-05-15T10:27:09.026Z"
   },
   {
    "duration": 542,
    "start_time": "2022-05-15T10:43:52.077Z"
   },
   {
    "duration": 15,
    "start_time": "2022-05-15T10:43:52.631Z"
   },
   {
    "duration": 21,
    "start_time": "2022-05-15T10:43:52.650Z"
   },
   {
    "duration": 12,
    "start_time": "2022-05-15T10:43:52.672Z"
   },
   {
    "duration": 15,
    "start_time": "2022-05-15T10:43:52.686Z"
   },
   {
    "duration": 5,
    "start_time": "2022-05-15T10:45:48.148Z"
   },
   {
    "duration": 5,
    "start_time": "2022-05-15T10:45:59.430Z"
   },
   {
    "duration": 663,
    "start_time": "2022-05-15T10:52:25.884Z"
   },
   {
    "duration": 20,
    "start_time": "2022-05-15T10:52:26.549Z"
   },
   {
    "duration": 31,
    "start_time": "2022-05-15T10:52:26.571Z"
   },
   {
    "duration": 10,
    "start_time": "2022-05-15T10:52:26.609Z"
   },
   {
    "duration": 39,
    "start_time": "2022-05-15T10:52:26.621Z"
   },
   {
    "duration": 7,
    "start_time": "2022-05-15T10:52:26.663Z"
   },
   {
    "duration": 11,
    "start_time": "2022-05-15T10:53:12.511Z"
   },
   {
    "duration": 27,
    "start_time": "2022-05-15T10:53:27.853Z"
   },
   {
    "duration": 7,
    "start_time": "2022-05-15T10:54:03.625Z"
   },
   {
    "duration": 7,
    "start_time": "2022-05-15T10:54:17.150Z"
   },
   {
    "duration": 18,
    "start_time": "2022-05-15T10:56:10.151Z"
   },
   {
    "duration": 33,
    "start_time": "2022-05-15T10:56:35.598Z"
   },
   {
    "duration": 46,
    "start_time": "2022-05-15T14:02:08.105Z"
   },
   {
    "duration": 464,
    "start_time": "2022-05-15T14:02:18.491Z"
   },
   {
    "duration": 20,
    "start_time": "2022-05-15T14:02:18.957Z"
   },
   {
    "duration": 9,
    "start_time": "2022-05-15T14:02:18.979Z"
   },
   {
    "duration": 11,
    "start_time": "2022-05-15T14:02:18.990Z"
   },
   {
    "duration": 14,
    "start_time": "2022-05-15T14:02:19.004Z"
   },
   {
    "duration": 6,
    "start_time": "2022-05-15T14:02:19.019Z"
   },
   {
    "duration": 6,
    "start_time": "2022-05-15T14:02:50.925Z"
   },
   {
    "duration": 6,
    "start_time": "2022-05-15T14:03:17.082Z"
   },
   {
    "duration": 66,
    "start_time": "2022-05-15T14:03:37.531Z"
   },
   {
    "duration": 6,
    "start_time": "2022-05-15T14:05:25.708Z"
   },
   {
    "duration": 19,
    "start_time": "2022-05-15T14:06:08.998Z"
   },
   {
    "duration": 27,
    "start_time": "2022-05-15T14:07:20.352Z"
   },
   {
    "duration": 34,
    "start_time": "2022-05-15T14:09:12.620Z"
   },
   {
    "duration": 13,
    "start_time": "2022-05-15T14:10:39.923Z"
   },
   {
    "duration": 20,
    "start_time": "2022-05-15T14:10:52.870Z"
   },
   {
    "duration": 24,
    "start_time": "2022-05-15T14:12:44.576Z"
   },
   {
    "duration": 21,
    "start_time": "2022-05-15T14:15:40.815Z"
   },
   {
    "duration": 25,
    "start_time": "2022-05-15T14:15:50.214Z"
   },
   {
    "duration": 5,
    "start_time": "2022-05-15T14:18:31.566Z"
   },
   {
    "duration": 8,
    "start_time": "2022-05-15T14:21:02.686Z"
   },
   {
    "duration": 8,
    "start_time": "2022-05-15T14:21:21.167Z"
   },
   {
    "duration": 22,
    "start_time": "2022-05-15T14:22:13.643Z"
   },
   {
    "duration": 10,
    "start_time": "2022-05-15T14:23:36.864Z"
   },
   {
    "duration": 22,
    "start_time": "2022-05-15T14:23:57.559Z"
   },
   {
    "duration": 17,
    "start_time": "2022-05-15T14:26:23.828Z"
   },
   {
    "duration": 581,
    "start_time": "2022-05-15T18:53:46.724Z"
   },
   {
    "duration": 17,
    "start_time": "2022-05-15T18:53:47.308Z"
   },
   {
    "duration": 18,
    "start_time": "2022-05-15T18:53:47.327Z"
   },
   {
    "duration": 12,
    "start_time": "2022-05-15T18:53:47.348Z"
   },
   {
    "duration": 14,
    "start_time": "2022-05-15T18:53:47.362Z"
   },
   {
    "duration": 12,
    "start_time": "2022-05-15T18:53:47.378Z"
   },
   {
    "duration": 51,
    "start_time": "2022-05-15T18:53:47.391Z"
   },
   {
    "duration": 68,
    "start_time": "2022-05-15T19:00:12.956Z"
   },
   {
    "duration": 10,
    "start_time": "2022-05-15T19:04:09.862Z"
   },
   {
    "duration": 9,
    "start_time": "2022-05-15T19:04:44.436Z"
   },
   {
    "duration": 5,
    "start_time": "2022-05-15T19:06:28.203Z"
   },
   {
    "duration": 8,
    "start_time": "2022-05-15T19:06:31.976Z"
   },
   {
    "duration": 8,
    "start_time": "2022-05-15T19:07:42.504Z"
   },
   {
    "duration": 184,
    "start_time": "2022-05-15T19:09:28.753Z"
   },
   {
    "duration": 166,
    "start_time": "2022-05-15T19:09:48.226Z"
   },
   {
    "duration": 14,
    "start_time": "2022-05-15T19:12:40.065Z"
   },
   {
    "duration": 154,
    "start_time": "2022-05-15T19:18:26.106Z"
   },
   {
    "duration": 165,
    "start_time": "2022-05-15T19:18:30.659Z"
   },
   {
    "duration": 16,
    "start_time": "2022-05-15T19:18:41.523Z"
   },
   {
    "duration": 236,
    "start_time": "2022-05-15T19:18:49.484Z"
   },
   {
    "duration": 504,
    "start_time": "2022-05-15T19:20:42.161Z"
   },
   {
    "duration": 16,
    "start_time": "2022-05-15T19:20:42.667Z"
   },
   {
    "duration": 8,
    "start_time": "2022-05-15T19:20:42.685Z"
   },
   {
    "duration": 32,
    "start_time": "2022-05-15T19:20:42.695Z"
   },
   {
    "duration": 30,
    "start_time": "2022-05-15T19:20:42.729Z"
   },
   {
    "duration": 16,
    "start_time": "2022-05-15T19:20:42.760Z"
   },
   {
    "duration": 71,
    "start_time": "2022-05-15T19:20:42.778Z"
   },
   {
    "duration": 0,
    "start_time": "2022-05-15T19:20:42.851Z"
   },
   {
    "duration": 0,
    "start_time": "2022-05-15T19:20:42.852Z"
   },
   {
    "duration": 545,
    "start_time": "2022-05-15T19:22:55.809Z"
   },
   {
    "duration": 15,
    "start_time": "2022-05-15T19:22:56.357Z"
   },
   {
    "duration": 6,
    "start_time": "2022-05-15T19:22:56.374Z"
   },
   {
    "duration": 9,
    "start_time": "2022-05-15T19:22:56.383Z"
   },
   {
    "duration": 23,
    "start_time": "2022-05-15T19:22:56.422Z"
   },
   {
    "duration": 6,
    "start_time": "2022-05-15T19:22:56.447Z"
   },
   {
    "duration": 4,
    "start_time": "2022-05-15T19:22:56.455Z"
   },
   {
    "duration": 14,
    "start_time": "2022-05-15T19:22:56.461Z"
   },
   {
    "duration": 173,
    "start_time": "2022-05-15T19:22:56.477Z"
   },
   {
    "duration": 179,
    "start_time": "2022-05-15T19:23:30.164Z"
   },
   {
    "duration": 168,
    "start_time": "2022-05-15T19:24:09.307Z"
   },
   {
    "duration": 154,
    "start_time": "2022-05-15T19:24:32.427Z"
   },
   {
    "duration": 605,
    "start_time": "2022-05-16T10:09:34.835Z"
   },
   {
    "duration": 21,
    "start_time": "2022-05-16T10:09:40.825Z"
   },
   {
    "duration": 6,
    "start_time": "2022-05-16T10:09:44.457Z"
   },
   {
    "duration": 11,
    "start_time": "2022-05-16T10:09:48.549Z"
   },
   {
    "duration": 30,
    "start_time": "2022-05-16T10:09:53.357Z"
   },
   {
    "duration": 10,
    "start_time": "2022-05-16T10:10:04.831Z"
   },
   {
    "duration": 8,
    "start_time": "2022-05-16T10:50:46.732Z"
   },
   {
    "duration": 818,
    "start_time": "2022-05-16T10:59:55.811Z"
   },
   {
    "duration": 28,
    "start_time": "2022-05-16T10:59:56.632Z"
   },
   {
    "duration": 5,
    "start_time": "2022-05-16T10:59:56.662Z"
   },
   {
    "duration": 12,
    "start_time": "2022-05-16T10:59:56.669Z"
   },
   {
    "duration": 21,
    "start_time": "2022-05-16T10:59:56.683Z"
   },
   {
    "duration": 11,
    "start_time": "2022-05-16T10:59:56.706Z"
   },
   {
    "duration": 5,
    "start_time": "2022-05-16T10:59:56.751Z"
   },
   {
    "duration": 28,
    "start_time": "2022-05-16T10:59:56.757Z"
   },
   {
    "duration": 9,
    "start_time": "2022-05-16T10:59:56.787Z"
   },
   {
    "duration": 54,
    "start_time": "2022-05-16T10:59:56.799Z"
   },
   {
    "duration": 593,
    "start_time": "2022-05-16T11:01:43.980Z"
   },
   {
    "duration": 20,
    "start_time": "2022-05-16T11:01:44.575Z"
   },
   {
    "duration": 6,
    "start_time": "2022-05-16T11:01:44.597Z"
   },
   {
    "duration": 15,
    "start_time": "2022-05-16T11:01:44.606Z"
   },
   {
    "duration": 47,
    "start_time": "2022-05-16T11:01:44.623Z"
   },
   {
    "duration": 11,
    "start_time": "2022-05-16T11:01:44.672Z"
   },
   {
    "duration": 4,
    "start_time": "2022-05-16T11:01:44.685Z"
   },
   {
    "duration": 62,
    "start_time": "2022-05-16T11:01:44.691Z"
   },
   {
    "duration": 112,
    "start_time": "2022-05-16T11:01:44.755Z"
   },
   {
    "duration": 0,
    "start_time": "2022-05-16T11:01:44.869Z"
   },
   {
    "duration": 623,
    "start_time": "2022-05-16T11:02:45.691Z"
   },
   {
    "duration": 35,
    "start_time": "2022-05-16T11:02:46.317Z"
   },
   {
    "duration": 8,
    "start_time": "2022-05-16T11:02:46.355Z"
   },
   {
    "duration": 19,
    "start_time": "2022-05-16T11:02:46.367Z"
   },
   {
    "duration": 34,
    "start_time": "2022-05-16T11:02:46.388Z"
   },
   {
    "duration": 9,
    "start_time": "2022-05-16T11:02:46.454Z"
   },
   {
    "duration": 19,
    "start_time": "2022-05-16T11:02:46.466Z"
   },
   {
    "duration": 23,
    "start_time": "2022-05-16T11:02:46.488Z"
   },
   {
    "duration": 56,
    "start_time": "2022-05-16T11:02:46.513Z"
   },
   {
    "duration": 28,
    "start_time": "2022-05-16T11:02:46.574Z"
   },
   {
    "duration": 678,
    "start_time": "2022-05-16T11:06:37.781Z"
   },
   {
    "duration": 36,
    "start_time": "2022-05-16T11:06:38.465Z"
   },
   {
    "duration": 6,
    "start_time": "2022-05-16T11:06:38.507Z"
   },
   {
    "duration": 43,
    "start_time": "2022-05-16T11:06:38.518Z"
   },
   {
    "duration": 32,
    "start_time": "2022-05-16T11:06:38.568Z"
   },
   {
    "duration": 46,
    "start_time": "2022-05-16T11:06:38.606Z"
   },
   {
    "duration": 21,
    "start_time": "2022-05-16T11:06:38.659Z"
   },
   {
    "duration": 28,
    "start_time": "2022-05-16T11:06:38.685Z"
   },
   {
    "duration": 104,
    "start_time": "2022-05-16T11:06:38.780Z"
   },
   {
    "duration": 37,
    "start_time": "2022-05-16T11:06:38.887Z"
   },
   {
    "duration": 693,
    "start_time": "2022-05-16T11:07:43.605Z"
   },
   {
    "duration": 19,
    "start_time": "2022-05-16T11:07:44.300Z"
   },
   {
    "duration": 11,
    "start_time": "2022-05-16T11:07:44.322Z"
   },
   {
    "duration": 26,
    "start_time": "2022-05-16T11:07:44.336Z"
   },
   {
    "duration": 22,
    "start_time": "2022-05-16T11:07:44.366Z"
   },
   {
    "duration": 7,
    "start_time": "2022-05-16T11:07:44.390Z"
   },
   {
    "duration": 5,
    "start_time": "2022-05-16T11:07:44.399Z"
   },
   {
    "duration": 70,
    "start_time": "2022-05-16T11:07:44.405Z"
   },
   {
    "duration": 87,
    "start_time": "2022-05-16T11:07:44.477Z"
   },
   {
    "duration": 37,
    "start_time": "2022-05-16T11:07:44.568Z"
   },
   {
    "duration": 683,
    "start_time": "2022-05-16T11:15:15.209Z"
   },
   {
    "duration": 22,
    "start_time": "2022-05-16T11:15:15.895Z"
   },
   {
    "duration": 6,
    "start_time": "2022-05-16T11:15:15.919Z"
   },
   {
    "duration": 9,
    "start_time": "2022-05-16T11:15:15.951Z"
   },
   {
    "duration": 22,
    "start_time": "2022-05-16T11:15:15.962Z"
   },
   {
    "duration": 13,
    "start_time": "2022-05-16T11:15:15.987Z"
   },
   {
    "duration": 8,
    "start_time": "2022-05-16T11:15:16.003Z"
   },
   {
    "duration": 46,
    "start_time": "2022-05-16T11:15:16.013Z"
   },
   {
    "duration": 62,
    "start_time": "2022-05-16T11:15:16.061Z"
   },
   {
    "duration": 25,
    "start_time": "2022-05-16T11:15:16.151Z"
   },
   {
    "duration": 886,
    "start_time": "2022-05-16T11:16:19.957Z"
   },
   {
    "duration": 31,
    "start_time": "2022-05-16T11:16:20.851Z"
   },
   {
    "duration": 7,
    "start_time": "2022-05-16T11:16:20.891Z"
   },
   {
    "duration": 27,
    "start_time": "2022-05-16T11:16:20.900Z"
   },
   {
    "duration": 31,
    "start_time": "2022-05-16T11:16:20.952Z"
   },
   {
    "duration": 15,
    "start_time": "2022-05-16T11:16:20.986Z"
   },
   {
    "duration": 6,
    "start_time": "2022-05-16T11:16:21.004Z"
   },
   {
    "duration": 54,
    "start_time": "2022-05-16T11:16:21.013Z"
   },
   {
    "duration": 48,
    "start_time": "2022-05-16T11:16:21.071Z"
   },
   {
    "duration": 27,
    "start_time": "2022-05-16T11:16:21.153Z"
   },
   {
    "duration": 634,
    "start_time": "2022-05-16T11:17:20.325Z"
   },
   {
    "duration": 20,
    "start_time": "2022-05-16T11:17:20.962Z"
   },
   {
    "duration": 13,
    "start_time": "2022-05-16T11:17:20.985Z"
   },
   {
    "duration": 27,
    "start_time": "2022-05-16T11:17:21.001Z"
   },
   {
    "duration": 34,
    "start_time": "2022-05-16T11:17:21.030Z"
   },
   {
    "duration": 9,
    "start_time": "2022-05-16T11:17:21.066Z"
   },
   {
    "duration": 6,
    "start_time": "2022-05-16T11:17:21.077Z"
   },
   {
    "duration": 30,
    "start_time": "2022-05-16T11:17:21.085Z"
   },
   {
    "duration": 73,
    "start_time": "2022-05-16T11:17:21.117Z"
   },
   {
    "duration": 11,
    "start_time": "2022-05-16T11:17:21.195Z"
   },
   {
    "duration": 754,
    "start_time": "2022-05-18T10:19:29.003Z"
   },
   {
    "duration": 19,
    "start_time": "2022-05-18T10:19:29.759Z"
   },
   {
    "duration": 16,
    "start_time": "2022-05-18T10:19:29.779Z"
   },
   {
    "duration": 9,
    "start_time": "2022-05-18T10:19:29.798Z"
   },
   {
    "duration": 16,
    "start_time": "2022-05-18T10:19:29.808Z"
   },
   {
    "duration": 11,
    "start_time": "2022-05-18T10:19:29.826Z"
   },
   {
    "duration": 14,
    "start_time": "2022-05-18T10:19:29.838Z"
   },
   {
    "duration": 41,
    "start_time": "2022-05-18T10:19:29.854Z"
   },
   {
    "duration": 4,
    "start_time": "2022-05-18T10:19:29.897Z"
   },
   {
    "duration": 10,
    "start_time": "2022-05-18T10:19:29.905Z"
   },
   {
    "duration": 13,
    "start_time": "2022-05-18T10:19:29.917Z"
   },
   {
    "duration": 8,
    "start_time": "2022-05-18T10:19:29.932Z"
   },
   {
    "duration": 57,
    "start_time": "2022-05-18T10:19:29.941Z"
   },
   {
    "duration": 20,
    "start_time": "2022-05-18T10:19:30.000Z"
   },
   {
    "duration": 11,
    "start_time": "2022-05-18T10:19:30.022Z"
   },
   {
    "duration": 10,
    "start_time": "2022-05-18T10:19:30.034Z"
   },
   {
    "duration": 10,
    "start_time": "2022-05-18T10:19:30.045Z"
   },
   {
    "duration": 10,
    "start_time": "2022-05-18T10:19:30.056Z"
   },
   {
    "duration": 28,
    "start_time": "2022-05-18T10:19:30.068Z"
   },
   {
    "duration": 15,
    "start_time": "2022-05-18T10:19:30.097Z"
   },
   {
    "duration": 11,
    "start_time": "2022-05-18T10:19:30.114Z"
   },
   {
    "duration": 11,
    "start_time": "2022-05-18T10:19:30.127Z"
   },
   {
    "duration": 9,
    "start_time": "2022-05-18T10:19:30.140Z"
   },
   {
    "duration": 12,
    "start_time": "2022-05-18T10:19:30.151Z"
   },
   {
    "duration": 34,
    "start_time": "2022-05-18T10:19:30.164Z"
   },
   {
    "duration": 23,
    "start_time": "2022-05-18T10:19:30.200Z"
   },
   {
    "duration": 10,
    "start_time": "2022-05-18T10:19:30.224Z"
   },
   {
    "duration": 7,
    "start_time": "2022-05-18T10:22:03.101Z"
   },
   {
    "duration": 5,
    "start_time": "2022-05-18T10:22:07.055Z"
   },
   {
    "duration": 10,
    "start_time": "2022-05-18T10:52:12.353Z"
   },
   {
    "duration": 11,
    "start_time": "2022-05-18T10:53:58.596Z"
   },
   {
    "duration": 10,
    "start_time": "2022-05-18T10:57:29.907Z"
   },
   {
    "duration": 11,
    "start_time": "2022-05-18T10:57:49.869Z"
   },
   {
    "duration": 4,
    "start_time": "2022-05-18T11:02:10.819Z"
   },
   {
    "duration": 10,
    "start_time": "2022-05-18T11:02:22.615Z"
   },
   {
    "duration": 3,
    "start_time": "2022-05-18T11:27:04.220Z"
   },
   {
    "duration": 4,
    "start_time": "2022-05-18T11:28:00.404Z"
   },
   {
    "duration": 4,
    "start_time": "2022-05-18T11:28:40.700Z"
   },
   {
    "duration": 9,
    "start_time": "2022-05-18T11:32:52.898Z"
   },
   {
    "duration": 14,
    "start_time": "2022-05-18T11:34:47.924Z"
   },
   {
    "duration": 15,
    "start_time": "2022-05-18T11:35:28.046Z"
   },
   {
    "duration": 19,
    "start_time": "2022-05-18T11:36:47.507Z"
   },
   {
    "duration": 7,
    "start_time": "2022-05-18T11:42:54.964Z"
   },
   {
    "duration": 13,
    "start_time": "2022-05-18T11:43:12.180Z"
   },
   {
    "duration": 501,
    "start_time": "2022-05-18T18:28:05.901Z"
   },
   {
    "duration": 13,
    "start_time": "2022-05-18T18:28:06.404Z"
   },
   {
    "duration": 7,
    "start_time": "2022-05-18T18:28:06.419Z"
   },
   {
    "duration": 7,
    "start_time": "2022-05-18T18:28:06.427Z"
   },
   {
    "duration": 12,
    "start_time": "2022-05-18T18:28:06.436Z"
   },
   {
    "duration": 5,
    "start_time": "2022-05-18T18:28:06.483Z"
   },
   {
    "duration": 14,
    "start_time": "2022-05-18T18:28:06.490Z"
   },
   {
    "duration": 3,
    "start_time": "2022-05-18T18:28:06.506Z"
   },
   {
    "duration": 5,
    "start_time": "2022-05-18T18:28:06.511Z"
   },
   {
    "duration": 8,
    "start_time": "2022-05-18T18:28:06.519Z"
   },
   {
    "duration": 5,
    "start_time": "2022-05-18T18:28:06.529Z"
   },
   {
    "duration": 51,
    "start_time": "2022-05-18T18:28:06.535Z"
   },
   {
    "duration": 5,
    "start_time": "2022-05-18T18:28:06.588Z"
   },
   {
    "duration": 12,
    "start_time": "2022-05-18T18:28:06.595Z"
   },
   {
    "duration": 5,
    "start_time": "2022-05-18T18:28:06.609Z"
   },
   {
    "duration": 4,
    "start_time": "2022-05-18T18:28:06.615Z"
   },
   {
    "duration": 9,
    "start_time": "2022-05-18T18:28:06.620Z"
   },
   {
    "duration": 11,
    "start_time": "2022-05-18T18:28:06.630Z"
   },
   {
    "duration": 53,
    "start_time": "2022-05-18T18:28:06.642Z"
   },
   {
    "duration": 29,
    "start_time": "2022-05-18T18:28:06.697Z"
   },
   {
    "duration": 9,
    "start_time": "2022-05-18T18:28:06.728Z"
   },
   {
    "duration": 11,
    "start_time": "2022-05-18T18:28:06.739Z"
   },
   {
    "duration": 10,
    "start_time": "2022-05-18T18:28:06.752Z"
   },
   {
    "duration": 5,
    "start_time": "2022-05-18T18:28:06.783Z"
   },
   {
    "duration": 9,
    "start_time": "2022-05-18T18:28:06.790Z"
   },
   {
    "duration": 17,
    "start_time": "2022-05-18T18:28:06.801Z"
   },
   {
    "duration": 14,
    "start_time": "2022-05-18T18:28:06.820Z"
   },
   {
    "duration": 54,
    "start_time": "2022-05-18T18:28:06.837Z"
   },
   {
    "duration": 4,
    "start_time": "2022-05-18T18:28:06.893Z"
   },
   {
    "duration": 13,
    "start_time": "2022-05-18T18:28:06.899Z"
   },
   {
    "duration": 4,
    "start_time": "2022-05-18T18:28:06.914Z"
   },
   {
    "duration": 7,
    "start_time": "2022-05-18T18:28:06.919Z"
   },
   {
    "duration": 5,
    "start_time": "2022-05-18T18:28:06.927Z"
   },
   {
    "duration": 59,
    "start_time": "2022-05-18T18:28:06.934Z"
   },
   {
    "duration": 5,
    "start_time": "2022-05-18T18:28:06.995Z"
   },
   {
    "duration": 11,
    "start_time": "2022-05-18T18:28:07.001Z"
   },
   {
    "duration": 7,
    "start_time": "2022-05-18T18:28:07.014Z"
   },
   {
    "duration": 9,
    "start_time": "2022-05-18T18:41:40.625Z"
   },
   {
    "duration": 6,
    "start_time": "2022-05-18T18:45:10.386Z"
   },
   {
    "duration": 4,
    "start_time": "2022-05-18T18:46:38.452Z"
   },
   {
    "duration": 3,
    "start_time": "2022-05-18T18:47:42.099Z"
   },
   {
    "duration": 4,
    "start_time": "2022-05-18T18:48:12.614Z"
   },
   {
    "duration": 524,
    "start_time": "2022-05-18T18:58:14.544Z"
   },
   {
    "duration": 25,
    "start_time": "2022-05-18T18:58:15.070Z"
   },
   {
    "duration": 5,
    "start_time": "2022-05-18T18:58:15.097Z"
   },
   {
    "duration": 13,
    "start_time": "2022-05-18T18:58:15.104Z"
   },
   {
    "duration": 17,
    "start_time": "2022-05-18T18:58:15.118Z"
   },
   {
    "duration": 6,
    "start_time": "2022-05-18T18:58:15.136Z"
   },
   {
    "duration": 53,
    "start_time": "2022-05-18T18:58:15.144Z"
   },
   {
    "duration": 4,
    "start_time": "2022-05-18T18:58:15.198Z"
   },
   {
    "duration": 6,
    "start_time": "2022-05-18T18:58:15.204Z"
   },
   {
    "duration": 5,
    "start_time": "2022-05-18T18:58:15.213Z"
   },
   {
    "duration": 6,
    "start_time": "2022-05-18T18:58:15.220Z"
   },
   {
    "duration": 57,
    "start_time": "2022-05-18T18:58:15.228Z"
   },
   {
    "duration": 6,
    "start_time": "2022-05-18T18:58:15.286Z"
   },
   {
    "duration": 15,
    "start_time": "2022-05-18T18:58:15.293Z"
   },
   {
    "duration": 9,
    "start_time": "2022-05-18T18:58:15.310Z"
   },
   {
    "duration": 5,
    "start_time": "2022-05-18T18:58:15.321Z"
   },
   {
    "duration": 63,
    "start_time": "2022-05-18T18:58:15.328Z"
   },
   {
    "duration": 10,
    "start_time": "2022-05-18T18:58:15.393Z"
   },
   {
    "duration": 9,
    "start_time": "2022-05-18T18:58:15.405Z"
   },
   {
    "duration": 14,
    "start_time": "2022-05-18T18:58:15.415Z"
   },
   {
    "duration": 10,
    "start_time": "2022-05-18T18:58:15.430Z"
   },
   {
    "duration": 7,
    "start_time": "2022-05-18T18:58:15.484Z"
   },
   {
    "duration": 11,
    "start_time": "2022-05-18T18:58:15.493Z"
   },
   {
    "duration": 5,
    "start_time": "2022-05-18T18:58:15.506Z"
   },
   {
    "duration": 10,
    "start_time": "2022-05-18T18:58:15.512Z"
   },
   {
    "duration": 61,
    "start_time": "2022-05-18T18:58:15.524Z"
   },
   {
    "duration": 18,
    "start_time": "2022-05-18T18:58:15.587Z"
   },
   {
    "duration": 12,
    "start_time": "2022-05-18T18:58:15.609Z"
   },
   {
    "duration": 5,
    "start_time": "2022-05-18T18:58:15.623Z"
   },
   {
    "duration": 12,
    "start_time": "2022-05-18T18:58:15.629Z"
   },
   {
    "duration": 43,
    "start_time": "2022-05-18T18:58:15.643Z"
   },
   {
    "duration": 6,
    "start_time": "2022-05-18T18:58:15.689Z"
   },
   {
    "duration": 8,
    "start_time": "2022-05-18T18:58:15.697Z"
   },
   {
    "duration": 28,
    "start_time": "2022-05-18T18:58:15.706Z"
   },
   {
    "duration": 9,
    "start_time": "2022-05-18T18:58:15.736Z"
   },
   {
    "duration": 12,
    "start_time": "2022-05-18T18:58:15.785Z"
   },
   {
    "duration": 6,
    "start_time": "2022-05-18T18:58:15.799Z"
   },
   {
    "duration": 8,
    "start_time": "2022-05-18T18:58:15.807Z"
   },
   {
    "duration": 6,
    "start_time": "2022-05-18T18:58:15.817Z"
   },
   {
    "duration": 5,
    "start_time": "2022-05-18T18:58:42.916Z"
   },
   {
    "duration": 6,
    "start_time": "2022-05-18T19:00:01.295Z"
   },
   {
    "duration": 5,
    "start_time": "2022-05-18T19:00:04.155Z"
   },
   {
    "duration": 5,
    "start_time": "2022-05-18T19:00:06.456Z"
   },
   {
    "duration": 5,
    "start_time": "2022-05-18T19:00:11.228Z"
   },
   {
    "duration": 3,
    "start_time": "2022-05-18T19:00:57.549Z"
   },
   {
    "duration": 4,
    "start_time": "2022-05-18T19:01:00.301Z"
   },
   {
    "duration": 5,
    "start_time": "2022-05-18T19:01:01.390Z"
   },
   {
    "duration": 4,
    "start_time": "2022-05-18T19:01:02.776Z"
   },
   {
    "duration": 4,
    "start_time": "2022-05-18T19:03:17.649Z"
   },
   {
    "duration": 4,
    "start_time": "2022-05-18T19:03:19.272Z"
   },
   {
    "duration": 4,
    "start_time": "2022-05-18T19:03:20.179Z"
   },
   {
    "duration": 3,
    "start_time": "2022-05-18T19:03:21.026Z"
   },
   {
    "duration": 3,
    "start_time": "2022-05-18T19:03:25.376Z"
   },
   {
    "duration": 4,
    "start_time": "2022-05-18T19:05:37.039Z"
   },
   {
    "duration": 4,
    "start_time": "2022-05-18T19:05:38.384Z"
   },
   {
    "duration": 4,
    "start_time": "2022-05-18T19:05:39.357Z"
   },
   {
    "duration": 3,
    "start_time": "2022-05-18T19:05:40.345Z"
   },
   {
    "duration": 3,
    "start_time": "2022-05-18T19:05:45.690Z"
   },
   {
    "duration": 4,
    "start_time": "2022-05-18T19:06:21.364Z"
   },
   {
    "duration": 4,
    "start_time": "2022-05-18T19:06:22.093Z"
   },
   {
    "duration": 4,
    "start_time": "2022-05-18T19:06:22.954Z"
   },
   {
    "duration": 3,
    "start_time": "2022-05-18T19:06:23.764Z"
   },
   {
    "duration": 3,
    "start_time": "2022-05-18T19:07:24.005Z"
   },
   {
    "duration": 4,
    "start_time": "2022-05-18T19:07:24.749Z"
   },
   {
    "duration": 3,
    "start_time": "2022-05-18T19:07:25.552Z"
   },
   {
    "duration": 2,
    "start_time": "2022-05-18T19:07:26.362Z"
   },
   {
    "duration": 11,
    "start_time": "2022-05-18T19:12:36.731Z"
   },
   {
    "duration": 12,
    "start_time": "2022-05-18T19:13:06.016Z"
   },
   {
    "duration": 574,
    "start_time": "2022-05-18T19:29:36.343Z"
   },
   {
    "duration": 14,
    "start_time": "2022-05-18T19:29:36.920Z"
   },
   {
    "duration": 7,
    "start_time": "2022-05-18T19:29:36.936Z"
   },
   {
    "duration": 9,
    "start_time": "2022-05-18T19:29:36.945Z"
   },
   {
    "duration": 17,
    "start_time": "2022-05-18T19:29:36.984Z"
   },
   {
    "duration": 5,
    "start_time": "2022-05-18T19:29:37.002Z"
   },
   {
    "duration": 18,
    "start_time": "2022-05-18T19:29:37.009Z"
   },
   {
    "duration": 4,
    "start_time": "2022-05-18T19:29:37.029Z"
   },
   {
    "duration": 5,
    "start_time": "2022-05-18T19:29:37.034Z"
   },
   {
    "duration": 7,
    "start_time": "2022-05-18T19:29:37.083Z"
   },
   {
    "duration": 8,
    "start_time": "2022-05-18T19:29:37.092Z"
   },
   {
    "duration": 11,
    "start_time": "2022-05-18T19:29:37.101Z"
   },
   {
    "duration": 9,
    "start_time": "2022-05-18T19:29:37.113Z"
   },
   {
    "duration": 14,
    "start_time": "2022-05-18T19:29:37.124Z"
   },
   {
    "duration": 44,
    "start_time": "2022-05-18T19:29:37.140Z"
   },
   {
    "duration": 5,
    "start_time": "2022-05-18T19:29:37.186Z"
   },
   {
    "duration": 11,
    "start_time": "2022-05-18T19:29:37.192Z"
   },
   {
    "duration": 12,
    "start_time": "2022-05-18T19:29:37.205Z"
   },
   {
    "duration": 8,
    "start_time": "2022-05-18T19:29:37.219Z"
   },
   {
    "duration": 14,
    "start_time": "2022-05-18T19:29:37.229Z"
   },
   {
    "duration": 40,
    "start_time": "2022-05-18T19:29:37.245Z"
   },
   {
    "duration": 7,
    "start_time": "2022-05-18T19:29:37.287Z"
   },
   {
    "duration": 9,
    "start_time": "2022-05-18T19:29:37.295Z"
   },
   {
    "duration": 8,
    "start_time": "2022-05-18T19:29:37.305Z"
   },
   {
    "duration": 8,
    "start_time": "2022-05-18T19:29:37.314Z"
   },
   {
    "duration": 17,
    "start_time": "2022-05-18T19:29:37.324Z"
   },
   {
    "duration": 48,
    "start_time": "2022-05-18T19:29:37.343Z"
   },
   {
    "duration": 11,
    "start_time": "2022-05-18T19:29:37.394Z"
   },
   {
    "duration": 5,
    "start_time": "2022-05-18T19:29:37.408Z"
   },
   {
    "duration": 13,
    "start_time": "2022-05-18T19:29:37.415Z"
   },
   {
    "duration": 4,
    "start_time": "2022-05-18T19:29:37.429Z"
   },
   {
    "duration": 9,
    "start_time": "2022-05-18T19:29:37.435Z"
   },
   {
    "duration": 41,
    "start_time": "2022-05-18T19:29:37.445Z"
   },
   {
    "duration": 24,
    "start_time": "2022-05-18T19:29:37.488Z"
   },
   {
    "duration": 10,
    "start_time": "2022-05-18T19:29:37.514Z"
   },
   {
    "duration": 17,
    "start_time": "2022-05-18T19:29:37.525Z"
   },
   {
    "duration": 7,
    "start_time": "2022-05-18T19:29:37.544Z"
   },
   {
    "duration": 32,
    "start_time": "2022-05-18T19:29:37.553Z"
   },
   {
    "duration": 7,
    "start_time": "2022-05-18T19:29:37.586Z"
   },
   {
    "duration": 12,
    "start_time": "2022-05-18T19:29:37.594Z"
   },
   {
    "duration": 14,
    "start_time": "2022-05-18T19:29:37.608Z"
   },
   {
    "duration": 89,
    "start_time": "2022-05-19T10:44:03.288Z"
   },
   {
    "duration": 23,
    "start_time": "2022-05-19T10:51:31.694Z"
   },
   {
    "duration": 18,
    "start_time": "2022-05-19T10:52:10.223Z"
   },
   {
    "duration": 22,
    "start_time": "2022-05-19T10:52:35.231Z"
   },
   {
    "duration": 18,
    "start_time": "2022-05-19T10:54:06.177Z"
   },
   {
    "duration": 26,
    "start_time": "2022-05-19T10:54:48.246Z"
   },
   {
    "duration": 19,
    "start_time": "2022-05-19T10:57:01.979Z"
   },
   {
    "duration": 21,
    "start_time": "2022-05-19T10:57:57.772Z"
   },
   {
    "duration": 13,
    "start_time": "2022-05-19T11:00:12.183Z"
   },
   {
    "duration": 25,
    "start_time": "2022-05-19T11:00:22.988Z"
   },
   {
    "duration": 13,
    "start_time": "2022-05-19T11:00:51.524Z"
   },
   {
    "duration": 27,
    "start_time": "2022-05-19T11:01:02.991Z"
   },
   {
    "duration": 9,
    "start_time": "2022-05-19T11:01:18.831Z"
   },
   {
    "duration": 13,
    "start_time": "2022-05-19T11:06:07.621Z"
   },
   {
    "duration": 37,
    "start_time": "2022-05-19T11:06:26.550Z"
   },
   {
    "duration": 24,
    "start_time": "2022-05-19T11:09:12.441Z"
   },
   {
    "duration": 47,
    "start_time": "2022-05-19T11:16:12.051Z"
   },
   {
    "duration": 38,
    "start_time": "2022-05-19T11:16:53.317Z"
   },
   {
    "duration": 17,
    "start_time": "2022-05-19T11:17:16.181Z"
   },
   {
    "duration": 24,
    "start_time": "2022-05-19T11:17:47.833Z"
   },
   {
    "duration": 26,
    "start_time": "2022-05-19T11:30:47.752Z"
   },
   {
    "duration": 25,
    "start_time": "2022-05-19T11:30:53.717Z"
   },
   {
    "duration": 7,
    "start_time": "2022-05-19T11:39:19.153Z"
   },
   {
    "duration": 356,
    "start_time": "2022-05-19T11:41:39.229Z"
   },
   {
    "duration": 656,
    "start_time": "2022-05-19T17:30:01.765Z"
   },
   {
    "duration": 18,
    "start_time": "2022-05-19T17:30:02.423Z"
   },
   {
    "duration": 14,
    "start_time": "2022-05-19T17:30:02.443Z"
   },
   {
    "duration": 18,
    "start_time": "2022-05-19T17:30:02.459Z"
   },
   {
    "duration": 17,
    "start_time": "2022-05-19T17:30:02.480Z"
   },
   {
    "duration": 36,
    "start_time": "2022-05-19T17:30:02.499Z"
   },
   {
    "duration": 26,
    "start_time": "2022-05-19T17:30:02.537Z"
   },
   {
    "duration": 10,
    "start_time": "2022-05-19T17:30:02.565Z"
   },
   {
    "duration": 9,
    "start_time": "2022-05-19T17:30:02.581Z"
   },
   {
    "duration": 19,
    "start_time": "2022-05-19T17:30:02.592Z"
   },
   {
    "duration": 54,
    "start_time": "2022-05-19T17:30:02.612Z"
   },
   {
    "duration": 30,
    "start_time": "2022-05-19T17:30:02.668Z"
   },
   {
    "duration": 33,
    "start_time": "2022-05-19T17:30:02.700Z"
   },
   {
    "duration": 31,
    "start_time": "2022-05-19T17:30:02.738Z"
   },
   {
    "duration": 16,
    "start_time": "2022-05-19T17:30:02.771Z"
   },
   {
    "duration": 26,
    "start_time": "2022-05-19T17:30:02.789Z"
   },
   {
    "duration": 21,
    "start_time": "2022-05-19T17:30:02.816Z"
   },
   {
    "duration": 40,
    "start_time": "2022-05-19T17:30:02.839Z"
   },
   {
    "duration": 36,
    "start_time": "2022-05-19T17:30:02.881Z"
   },
   {
    "duration": 59,
    "start_time": "2022-05-19T17:30:02.919Z"
   },
   {
    "duration": 34,
    "start_time": "2022-05-19T17:30:02.979Z"
   },
   {
    "duration": 31,
    "start_time": "2022-05-19T17:30:03.015Z"
   },
   {
    "duration": 32,
    "start_time": "2022-05-19T17:30:03.048Z"
   },
   {
    "duration": 91,
    "start_time": "2022-05-19T17:30:03.081Z"
   },
   {
    "duration": 69,
    "start_time": "2022-05-19T17:30:03.173Z"
   },
   {
    "duration": 50,
    "start_time": "2022-05-19T17:30:03.244Z"
   },
   {
    "duration": 20,
    "start_time": "2022-05-19T17:30:03.295Z"
   },
   {
    "duration": 36,
    "start_time": "2022-05-19T17:30:03.317Z"
   },
   {
    "duration": 8,
    "start_time": "2022-05-19T17:30:03.354Z"
   },
   {
    "duration": 17,
    "start_time": "2022-05-19T17:30:03.364Z"
   },
   {
    "duration": 19,
    "start_time": "2022-05-19T17:30:03.383Z"
   },
   {
    "duration": 13,
    "start_time": "2022-05-19T17:30:03.404Z"
   },
   {
    "duration": 10,
    "start_time": "2022-05-19T17:30:03.419Z"
   },
   {
    "duration": 34,
    "start_time": "2022-05-19T17:30:03.432Z"
   },
   {
    "duration": 37,
    "start_time": "2022-05-19T17:30:03.468Z"
   },
   {
    "duration": 15,
    "start_time": "2022-05-19T17:30:03.506Z"
   },
   {
    "duration": 16,
    "start_time": "2022-05-19T17:30:03.523Z"
   },
   {
    "duration": 13,
    "start_time": "2022-05-19T17:30:03.541Z"
   },
   {
    "duration": 8,
    "start_time": "2022-05-19T17:30:03.555Z"
   },
   {
    "duration": 31,
    "start_time": "2022-05-19T17:30:03.565Z"
   },
   {
    "duration": 15,
    "start_time": "2022-05-19T17:30:03.601Z"
   },
   {
    "duration": 37,
    "start_time": "2022-05-19T17:30:03.618Z"
   },
   {
    "duration": 5,
    "start_time": "2022-05-19T17:30:03.657Z"
   },
   {
    "duration": 15,
    "start_time": "2022-05-19T17:30:03.664Z"
   },
   {
    "duration": 109,
    "start_time": "2022-05-19T17:30:11.322Z"
   },
   {
    "duration": 301,
    "start_time": "2022-05-19T17:31:16.721Z"
   },
   {
    "duration": 14,
    "start_time": "2022-05-19T17:31:54.064Z"
   },
   {
    "duration": 9,
    "start_time": "2022-05-19T17:32:46.146Z"
   },
   {
    "duration": 6,
    "start_time": "2022-05-19T17:33:17.278Z"
   },
   {
    "duration": 26,
    "start_time": "2022-05-19T17:44:42.094Z"
   },
   {
    "duration": 35,
    "start_time": "2022-05-19T17:47:02.839Z"
   },
   {
    "duration": 610,
    "start_time": "2022-05-19T18:05:38.908Z"
   },
   {
    "duration": 1261,
    "start_time": "2022-05-19T18:06:11.387Z"
   },
   {
    "duration": 14,
    "start_time": "2022-05-19T18:14:14.708Z"
   },
   {
    "duration": 22,
    "start_time": "2022-05-19T18:14:24.482Z"
   },
   {
    "duration": 18,
    "start_time": "2022-05-19T18:14:36.299Z"
   },
   {
    "duration": 18,
    "start_time": "2022-05-19T18:15:07.348Z"
   },
   {
    "duration": 26,
    "start_time": "2022-05-19T18:15:19.569Z"
   },
   {
    "duration": 32,
    "start_time": "2022-05-19T18:16:23.110Z"
   },
   {
    "duration": 11,
    "start_time": "2022-05-19T18:16:52.447Z"
   },
   {
    "duration": 10,
    "start_time": "2022-05-19T18:16:59.771Z"
   },
   {
    "duration": 19,
    "start_time": "2022-05-19T18:17:56.474Z"
   },
   {
    "duration": 511,
    "start_time": "2022-05-19T18:30:08.905Z"
   },
   {
    "duration": 7,
    "start_time": "2022-05-19T18:34:34.561Z"
   },
   {
    "duration": 4,
    "start_time": "2022-05-19T18:34:43.900Z"
   },
   {
    "duration": 8,
    "start_time": "2022-05-19T18:43:19.268Z"
   },
   {
    "duration": 8,
    "start_time": "2022-05-19T18:44:22.651Z"
   },
   {
    "duration": 7,
    "start_time": "2022-05-19T18:45:00.474Z"
   },
   {
    "duration": 6,
    "start_time": "2022-05-19T18:45:16.459Z"
   },
   {
    "duration": 7,
    "start_time": "2022-05-19T18:46:14.379Z"
   },
   {
    "duration": 6,
    "start_time": "2022-05-19T18:46:50.147Z"
   },
   {
    "duration": 7,
    "start_time": "2022-05-19T18:48:31.775Z"
   },
   {
    "duration": 6,
    "start_time": "2022-05-19T18:49:05.898Z"
   },
   {
    "duration": 4,
    "start_time": "2022-05-19T18:51:13.000Z"
   },
   {
    "duration": 4,
    "start_time": "2022-05-19T18:53:13.772Z"
   },
   {
    "duration": 6,
    "start_time": "2022-05-19T18:53:54.823Z"
   },
   {
    "duration": 5,
    "start_time": "2022-05-19T18:54:57.504Z"
   },
   {
    "duration": 4,
    "start_time": "2022-05-19T18:55:29.975Z"
   },
   {
    "duration": 6,
    "start_time": "2022-05-19T18:56:55.385Z"
   },
   {
    "duration": 567,
    "start_time": "2022-05-19T19:02:46.428Z"
   },
   {
    "duration": 14,
    "start_time": "2022-05-19T19:02:46.997Z"
   },
   {
    "duration": 10,
    "start_time": "2022-05-19T19:02:47.028Z"
   },
   {
    "duration": 20,
    "start_time": "2022-05-19T19:02:47.041Z"
   },
   {
    "duration": 13,
    "start_time": "2022-05-19T19:02:47.062Z"
   },
   {
    "duration": 5,
    "start_time": "2022-05-19T19:02:47.077Z"
   },
   {
    "duration": 16,
    "start_time": "2022-05-19T19:02:47.084Z"
   },
   {
    "duration": 27,
    "start_time": "2022-05-19T19:02:47.102Z"
   },
   {
    "duration": 27,
    "start_time": "2022-05-19T19:02:47.132Z"
   },
   {
    "duration": 23,
    "start_time": "2022-05-19T19:02:47.163Z"
   },
   {
    "duration": 7,
    "start_time": "2022-05-19T19:02:47.189Z"
   },
   {
    "duration": 13,
    "start_time": "2022-05-19T19:02:47.198Z"
   },
   {
    "duration": 19,
    "start_time": "2022-05-19T19:02:47.212Z"
   },
   {
    "duration": 30,
    "start_time": "2022-05-19T19:02:47.233Z"
   },
   {
    "duration": 9,
    "start_time": "2022-05-19T19:02:47.265Z"
   },
   {
    "duration": 6,
    "start_time": "2022-05-19T19:02:47.276Z"
   },
   {
    "duration": 19,
    "start_time": "2022-05-19T19:02:47.284Z"
   },
   {
    "duration": 11,
    "start_time": "2022-05-19T19:02:47.305Z"
   },
   {
    "duration": 26,
    "start_time": "2022-05-19T19:02:47.317Z"
   },
   {
    "duration": 29,
    "start_time": "2022-05-19T19:02:47.345Z"
   },
   {
    "duration": 36,
    "start_time": "2022-05-19T19:02:47.376Z"
   },
   {
    "duration": 13,
    "start_time": "2022-05-19T19:02:47.413Z"
   },
   {
    "duration": 33,
    "start_time": "2022-05-19T19:02:47.428Z"
   },
   {
    "duration": 12,
    "start_time": "2022-05-19T19:02:47.463Z"
   },
   {
    "duration": 10,
    "start_time": "2022-05-19T19:02:47.479Z"
   },
   {
    "duration": 19,
    "start_time": "2022-05-19T19:02:47.491Z"
   },
   {
    "duration": 30,
    "start_time": "2022-05-19T19:02:47.513Z"
   },
   {
    "duration": 15,
    "start_time": "2022-05-19T19:02:47.553Z"
   },
   {
    "duration": 9,
    "start_time": "2022-05-19T19:02:47.570Z"
   },
   {
    "duration": 20,
    "start_time": "2022-05-19T19:02:47.581Z"
   },
   {
    "duration": 28,
    "start_time": "2022-05-19T19:02:47.604Z"
   },
   {
    "duration": 38,
    "start_time": "2022-05-19T19:02:47.635Z"
   },
   {
    "duration": 11,
    "start_time": "2022-05-19T19:02:47.675Z"
   },
   {
    "duration": 23,
    "start_time": "2022-05-19T19:02:47.687Z"
   },
   {
    "duration": 8,
    "start_time": "2022-05-19T19:02:47.711Z"
   },
   {
    "duration": 39,
    "start_time": "2022-05-19T19:02:47.720Z"
   },
   {
    "duration": 21,
    "start_time": "2022-05-19T19:02:47.761Z"
   },
   {
    "duration": 17,
    "start_time": "2022-05-19T19:02:47.784Z"
   },
   {
    "duration": 21,
    "start_time": "2022-05-19T19:02:47.803Z"
   },
   {
    "duration": 30,
    "start_time": "2022-05-19T19:02:47.829Z"
   },
   {
    "duration": 16,
    "start_time": "2022-05-19T19:02:47.861Z"
   },
   {
    "duration": 27,
    "start_time": "2022-05-19T19:02:47.879Z"
   },
   {
    "duration": 7,
    "start_time": "2022-05-19T19:02:47.908Z"
   },
   {
    "duration": 13,
    "start_time": "2022-05-19T19:02:47.917Z"
   },
   {
    "duration": 27,
    "start_time": "2022-05-19T19:02:47.933Z"
   },
   {
    "duration": 7,
    "start_time": "2022-05-19T19:02:47.963Z"
   },
   {
    "duration": 8,
    "start_time": "2022-05-19T19:02:47.972Z"
   },
   {
    "duration": 9,
    "start_time": "2022-05-19T19:02:47.982Z"
   },
   {
    "duration": 8,
    "start_time": "2022-05-19T19:02:47.993Z"
   },
   {
    "duration": 27,
    "start_time": "2022-05-19T19:02:48.004Z"
   },
   {
    "duration": 19,
    "start_time": "2022-05-19T19:02:48.033Z"
   },
   {
    "duration": 8,
    "start_time": "2022-05-19T19:02:48.053Z"
   },
   {
    "duration": 7,
    "start_time": "2022-05-19T19:02:48.062Z"
   },
   {
    "duration": 9,
    "start_time": "2022-05-19T19:02:48.070Z"
   },
   {
    "duration": 5,
    "start_time": "2022-05-19T19:02:48.081Z"
   },
   {
    "duration": 40,
    "start_time": "2022-05-19T19:02:48.087Z"
   },
   {
    "duration": 5,
    "start_time": "2022-05-19T19:03:56.719Z"
   },
   {
    "duration": 610,
    "start_time": "2022-05-19T19:06:16.400Z"
   },
   {
    "duration": 34,
    "start_time": "2022-05-19T19:06:17.012Z"
   },
   {
    "duration": 12,
    "start_time": "2022-05-19T19:06:17.049Z"
   },
   {
    "duration": 24,
    "start_time": "2022-05-19T19:06:17.064Z"
   },
   {
    "duration": 15,
    "start_time": "2022-05-19T19:06:17.090Z"
   },
   {
    "duration": 5,
    "start_time": "2022-05-19T19:06:17.107Z"
   },
   {
    "duration": 33,
    "start_time": "2022-05-19T19:06:17.113Z"
   },
   {
    "duration": 7,
    "start_time": "2022-05-19T19:06:17.148Z"
   },
   {
    "duration": 8,
    "start_time": "2022-05-19T19:06:17.156Z"
   },
   {
    "duration": 8,
    "start_time": "2022-05-19T19:06:17.167Z"
   },
   {
    "duration": 6,
    "start_time": "2022-05-19T19:06:17.176Z"
   },
   {
    "duration": 54,
    "start_time": "2022-05-19T19:06:17.184Z"
   },
   {
    "duration": 8,
    "start_time": "2022-05-19T19:06:17.240Z"
   },
   {
    "duration": 24,
    "start_time": "2022-05-19T19:06:17.249Z"
   },
   {
    "duration": 14,
    "start_time": "2022-05-19T19:06:17.275Z"
   },
   {
    "duration": 6,
    "start_time": "2022-05-19T19:06:17.291Z"
   },
   {
    "duration": 36,
    "start_time": "2022-05-19T19:06:17.299Z"
   },
   {
    "duration": 23,
    "start_time": "2022-05-19T19:06:17.338Z"
   },
   {
    "duration": 13,
    "start_time": "2022-05-19T19:06:17.363Z"
   },
   {
    "duration": 21,
    "start_time": "2022-05-19T19:06:17.378Z"
   },
   {
    "duration": 14,
    "start_time": "2022-05-19T19:06:17.401Z"
   },
   {
    "duration": 23,
    "start_time": "2022-05-19T19:06:17.430Z"
   },
   {
    "duration": 10,
    "start_time": "2022-05-19T19:06:17.455Z"
   },
   {
    "duration": 12,
    "start_time": "2022-05-19T19:06:17.467Z"
   },
   {
    "duration": 13,
    "start_time": "2022-05-19T19:06:17.481Z"
   },
   {
    "duration": 52,
    "start_time": "2022-05-19T19:06:17.497Z"
   },
   {
    "duration": 17,
    "start_time": "2022-05-19T19:06:17.550Z"
   },
   {
    "duration": 15,
    "start_time": "2022-05-19T19:06:17.570Z"
   },
   {
    "duration": 40,
    "start_time": "2022-05-19T19:06:17.587Z"
   },
   {
    "duration": 23,
    "start_time": "2022-05-19T19:06:17.633Z"
   },
   {
    "duration": 9,
    "start_time": "2022-05-19T19:06:17.658Z"
   },
   {
    "duration": 9,
    "start_time": "2022-05-19T19:06:17.669Z"
   },
   {
    "duration": 9,
    "start_time": "2022-05-19T19:06:17.680Z"
   },
   {
    "duration": 19,
    "start_time": "2022-05-19T19:06:17.691Z"
   },
   {
    "duration": 36,
    "start_time": "2022-05-19T19:06:17.712Z"
   },
   {
    "duration": 29,
    "start_time": "2022-05-19T19:06:17.750Z"
   },
   {
    "duration": 12,
    "start_time": "2022-05-19T19:06:17.782Z"
   },
   {
    "duration": 18,
    "start_time": "2022-05-19T19:06:17.796Z"
   },
   {
    "duration": 9,
    "start_time": "2022-05-19T19:06:17.815Z"
   },
   {
    "duration": 35,
    "start_time": "2022-05-19T19:06:17.828Z"
   },
   {
    "duration": 23,
    "start_time": "2022-05-19T19:06:17.866Z"
   },
   {
    "duration": 36,
    "start_time": "2022-05-19T19:06:17.891Z"
   },
   {
    "duration": 7,
    "start_time": "2022-05-19T19:06:17.929Z"
   },
   {
    "duration": 26,
    "start_time": "2022-05-19T19:06:17.938Z"
   },
   {
    "duration": 18,
    "start_time": "2022-05-19T19:06:17.966Z"
   },
   {
    "duration": 4,
    "start_time": "2022-05-19T19:06:17.986Z"
   },
   {
    "duration": 10,
    "start_time": "2022-05-19T19:06:17.992Z"
   },
   {
    "duration": 24,
    "start_time": "2022-05-19T19:06:18.003Z"
   },
   {
    "duration": 8,
    "start_time": "2022-05-19T19:06:18.036Z"
   },
   {
    "duration": 10,
    "start_time": "2022-05-19T19:06:18.045Z"
   },
   {
    "duration": 13,
    "start_time": "2022-05-19T19:06:18.057Z"
   },
   {
    "duration": 11,
    "start_time": "2022-05-19T19:06:18.072Z"
   },
   {
    "duration": 25,
    "start_time": "2022-05-19T19:06:18.085Z"
   },
   {
    "duration": 13,
    "start_time": "2022-05-19T19:06:18.112Z"
   },
   {
    "duration": 18,
    "start_time": "2022-05-19T19:06:18.127Z"
   },
   {
    "duration": 7,
    "start_time": "2022-05-19T19:06:18.148Z"
   },
   {
    "duration": 597,
    "start_time": "2022-05-19T19:14:20.050Z"
   },
   {
    "duration": 13,
    "start_time": "2022-05-19T19:14:20.650Z"
   },
   {
    "duration": 6,
    "start_time": "2022-05-19T19:14:20.666Z"
   },
   {
    "duration": 10,
    "start_time": "2022-05-19T19:14:20.673Z"
   },
   {
    "duration": 42,
    "start_time": "2022-05-19T19:14:20.685Z"
   },
   {
    "duration": 9,
    "start_time": "2022-05-19T19:14:20.729Z"
   },
   {
    "duration": 31,
    "start_time": "2022-05-19T19:14:20.739Z"
   },
   {
    "duration": 5,
    "start_time": "2022-05-19T19:14:20.772Z"
   },
   {
    "duration": 11,
    "start_time": "2022-05-19T19:14:20.779Z"
   },
   {
    "duration": 10,
    "start_time": "2022-05-19T19:14:20.792Z"
   },
   {
    "duration": 33,
    "start_time": "2022-05-19T19:14:20.803Z"
   },
   {
    "duration": 22,
    "start_time": "2022-05-19T19:14:20.844Z"
   },
   {
    "duration": 8,
    "start_time": "2022-05-19T19:14:20.868Z"
   },
   {
    "duration": 18,
    "start_time": "2022-05-19T19:14:20.880Z"
   },
   {
    "duration": 30,
    "start_time": "2022-05-19T19:14:20.900Z"
   },
   {
    "duration": 19,
    "start_time": "2022-05-19T19:14:20.935Z"
   },
   {
    "duration": 11,
    "start_time": "2022-05-19T19:14:20.956Z"
   },
   {
    "duration": 21,
    "start_time": "2022-05-19T19:14:20.970Z"
   },
   {
    "duration": 13,
    "start_time": "2022-05-19T19:14:20.993Z"
   },
   {
    "duration": 24,
    "start_time": "2022-05-19T19:14:21.008Z"
   },
   {
    "duration": 15,
    "start_time": "2022-05-19T19:14:21.043Z"
   },
   {
    "duration": 23,
    "start_time": "2022-05-19T19:14:21.060Z"
   },
   {
    "duration": 10,
    "start_time": "2022-05-19T19:14:21.085Z"
   },
   {
    "duration": 11,
    "start_time": "2022-05-19T19:14:21.097Z"
   },
   {
    "duration": 12,
    "start_time": "2022-05-19T19:14:21.110Z"
   },
   {
    "duration": 39,
    "start_time": "2022-05-19T19:14:21.123Z"
   },
   {
    "duration": 24,
    "start_time": "2022-05-19T19:14:21.163Z"
   },
   {
    "duration": 11,
    "start_time": "2022-05-19T19:14:21.189Z"
   },
   {
    "duration": 6,
    "start_time": "2022-05-19T19:14:21.202Z"
   },
   {
    "duration": 31,
    "start_time": "2022-05-19T19:14:21.226Z"
   },
   {
    "duration": 6,
    "start_time": "2022-05-19T19:14:21.259Z"
   },
   {
    "duration": 7,
    "start_time": "2022-05-19T19:14:21.267Z"
   },
   {
    "duration": 9,
    "start_time": "2022-05-19T19:14:21.276Z"
   },
   {
    "duration": 20,
    "start_time": "2022-05-19T19:14:21.287Z"
   },
   {
    "duration": 15,
    "start_time": "2022-05-19T19:14:21.330Z"
   },
   {
    "duration": 15,
    "start_time": "2022-05-19T19:14:21.347Z"
   },
   {
    "duration": 6,
    "start_time": "2022-05-19T19:14:21.365Z"
   },
   {
    "duration": 14,
    "start_time": "2022-05-19T19:14:21.373Z"
   },
   {
    "duration": 11,
    "start_time": "2022-05-19T19:14:21.389Z"
   },
   {
    "duration": 33,
    "start_time": "2022-05-19T19:14:21.402Z"
   },
   {
    "duration": 19,
    "start_time": "2022-05-19T19:14:21.443Z"
   },
   {
    "duration": 38,
    "start_time": "2022-05-19T19:14:21.464Z"
   },
   {
    "duration": 29,
    "start_time": "2022-05-19T19:14:21.504Z"
   },
   {
    "duration": 25,
    "start_time": "2022-05-19T19:14:21.535Z"
   },
   {
    "duration": 7,
    "start_time": "2022-05-19T19:14:21.561Z"
   },
   {
    "duration": 9,
    "start_time": "2022-05-19T19:14:21.570Z"
   },
   {
    "duration": 6,
    "start_time": "2022-05-19T19:14:21.582Z"
   },
   {
    "duration": 15,
    "start_time": "2022-05-19T19:14:21.590Z"
   },
   {
    "duration": 7,
    "start_time": "2022-05-19T19:14:21.641Z"
   },
   {
    "duration": 11,
    "start_time": "2022-05-19T19:14:21.651Z"
   },
   {
    "duration": 6,
    "start_time": "2022-05-19T19:14:21.665Z"
   },
   {
    "duration": 10,
    "start_time": "2022-05-19T19:14:21.674Z"
   },
   {
    "duration": 11,
    "start_time": "2022-05-19T19:14:21.687Z"
   },
   {
    "duration": 39,
    "start_time": "2022-05-19T19:14:21.699Z"
   },
   {
    "duration": 12,
    "start_time": "2022-05-19T19:14:21.741Z"
   },
   {
    "duration": 8,
    "start_time": "2022-05-19T19:14:21.754Z"
   },
   {
    "duration": 781,
    "start_time": "2022-05-20T10:21:33.116Z"
   },
   {
    "duration": 14,
    "start_time": "2022-05-20T10:21:33.900Z"
   },
   {
    "duration": 29,
    "start_time": "2022-05-20T10:21:33.915Z"
   },
   {
    "duration": 27,
    "start_time": "2022-05-20T10:21:33.946Z"
   },
   {
    "duration": 44,
    "start_time": "2022-05-20T10:21:33.975Z"
   },
   {
    "duration": 27,
    "start_time": "2022-05-20T10:21:34.021Z"
   },
   {
    "duration": 46,
    "start_time": "2022-05-20T10:21:34.050Z"
   },
   {
    "duration": 20,
    "start_time": "2022-05-20T10:21:34.098Z"
   },
   {
    "duration": 25,
    "start_time": "2022-05-20T10:21:34.120Z"
   },
   {
    "duration": 50,
    "start_time": "2022-05-20T10:21:34.149Z"
   },
   {
    "duration": 25,
    "start_time": "2022-05-20T10:21:34.200Z"
   },
   {
    "duration": 36,
    "start_time": "2022-05-20T10:21:34.227Z"
   },
   {
    "duration": 34,
    "start_time": "2022-05-20T10:21:34.264Z"
   },
   {
    "duration": 51,
    "start_time": "2022-05-20T10:21:34.300Z"
   },
   {
    "duration": 37,
    "start_time": "2022-05-20T10:21:34.353Z"
   },
   {
    "duration": 44,
    "start_time": "2022-05-20T10:21:34.392Z"
   },
   {
    "duration": 34,
    "start_time": "2022-05-20T10:21:34.438Z"
   },
   {
    "duration": 35,
    "start_time": "2022-05-20T10:21:34.474Z"
   },
   {
    "duration": 33,
    "start_time": "2022-05-20T10:21:34.511Z"
   },
   {
    "duration": 58,
    "start_time": "2022-05-20T10:21:34.546Z"
   },
   {
    "duration": 49,
    "start_time": "2022-05-20T10:21:34.606Z"
   },
   {
    "duration": 44,
    "start_time": "2022-05-20T10:21:34.657Z"
   },
   {
    "duration": 26,
    "start_time": "2022-05-20T10:21:34.703Z"
   },
   {
    "duration": 48,
    "start_time": "2022-05-20T10:21:34.730Z"
   },
   {
    "duration": 47,
    "start_time": "2022-05-20T10:21:34.779Z"
   },
   {
    "duration": 78,
    "start_time": "2022-05-20T10:21:34.828Z"
   },
   {
    "duration": 46,
    "start_time": "2022-05-20T10:21:34.909Z"
   },
   {
    "duration": 46,
    "start_time": "2022-05-20T10:21:34.959Z"
   },
   {
    "duration": 34,
    "start_time": "2022-05-20T10:21:35.006Z"
   },
   {
    "duration": 64,
    "start_time": "2022-05-20T10:21:35.042Z"
   },
   {
    "duration": 62,
    "start_time": "2022-05-20T10:21:35.108Z"
   },
   {
    "duration": 44,
    "start_time": "2022-05-20T10:21:35.172Z"
   },
   {
    "duration": 54,
    "start_time": "2022-05-20T10:21:35.218Z"
   },
   {
    "duration": 35,
    "start_time": "2022-05-20T10:21:35.274Z"
   },
   {
    "duration": 27,
    "start_time": "2022-05-20T10:21:35.310Z"
   },
   {
    "duration": 22,
    "start_time": "2022-05-20T10:21:35.339Z"
   },
   {
    "duration": 57,
    "start_time": "2022-05-20T10:21:35.363Z"
   },
   {
    "duration": 42,
    "start_time": "2022-05-20T10:21:35.422Z"
   },
   {
    "duration": 53,
    "start_time": "2022-05-20T10:21:35.467Z"
   },
   {
    "duration": 50,
    "start_time": "2022-05-20T10:21:35.522Z"
   },
   {
    "duration": 27,
    "start_time": "2022-05-20T10:21:35.574Z"
   },
   {
    "duration": 94,
    "start_time": "2022-05-20T10:21:35.603Z"
   },
   {
    "duration": 15,
    "start_time": "2022-05-20T10:21:35.699Z"
   },
   {
    "duration": 31,
    "start_time": "2022-05-20T10:21:35.716Z"
   },
   {
    "duration": 51,
    "start_time": "2022-05-20T10:21:35.750Z"
   },
   {
    "duration": 26,
    "start_time": "2022-05-20T10:21:35.803Z"
   },
   {
    "duration": 52,
    "start_time": "2022-05-20T10:21:35.831Z"
   },
   {
    "duration": 37,
    "start_time": "2022-05-20T10:21:35.885Z"
   },
   {
    "duration": 49,
    "start_time": "2022-05-20T10:21:35.924Z"
   },
   {
    "duration": 18,
    "start_time": "2022-05-20T10:21:35.976Z"
   },
   {
    "duration": 59,
    "start_time": "2022-05-20T10:21:35.998Z"
   },
   {
    "duration": 29,
    "start_time": "2022-05-20T10:21:36.059Z"
   },
   {
    "duration": 15,
    "start_time": "2022-05-20T10:21:36.090Z"
   },
   {
    "duration": 25,
    "start_time": "2022-05-20T10:21:36.107Z"
   },
   {
    "duration": 27,
    "start_time": "2022-05-20T10:21:36.133Z"
   },
   {
    "duration": 33,
    "start_time": "2022-05-20T10:21:36.161Z"
   },
   {
    "duration": 19,
    "start_time": "2022-05-20T10:58:18.811Z"
   },
   {
    "duration": 454,
    "start_time": "2022-05-20T10:59:37.410Z"
   },
   {
    "duration": 352,
    "start_time": "2022-05-20T10:59:53.321Z"
   },
   {
    "duration": 687,
    "start_time": "2022-05-20T11:00:03.528Z"
   },
   {
    "duration": 34,
    "start_time": "2022-05-20T11:00:52.064Z"
   },
   {
    "duration": 472,
    "start_time": "2022-05-20T11:01:04.605Z"
   },
   {
    "duration": 461,
    "start_time": "2022-05-20T11:02:16.497Z"
   },
   {
    "duration": 411,
    "start_time": "2022-05-20T11:02:33.543Z"
   },
   {
    "duration": 5,
    "start_time": "2022-05-20T11:03:18.245Z"
   },
   {
    "duration": 4,
    "start_time": "2022-05-20T11:03:38.353Z"
   },
   {
    "duration": 6,
    "start_time": "2022-05-20T11:10:17.664Z"
   },
   {
    "duration": 6,
    "start_time": "2022-05-20T11:11:59.305Z"
   },
   {
    "duration": 6,
    "start_time": "2022-05-20T11:13:39.286Z"
   },
   {
    "duration": 7,
    "start_time": "2022-05-20T11:15:02.181Z"
   },
   {
    "duration": 8,
    "start_time": "2022-05-20T11:16:27.041Z"
   },
   {
    "duration": 6,
    "start_time": "2022-05-20T11:19:49.058Z"
   },
   {
    "duration": 6,
    "start_time": "2022-05-20T11:22:18.173Z"
   },
   {
    "duration": 710,
    "start_time": "2022-05-20T13:09:50.733Z"
   },
   {
    "duration": 12,
    "start_time": "2022-05-20T13:09:51.445Z"
   },
   {
    "duration": 18,
    "start_time": "2022-05-20T13:09:51.459Z"
   },
   {
    "duration": 8,
    "start_time": "2022-05-20T13:09:51.479Z"
   },
   {
    "duration": 13,
    "start_time": "2022-05-20T13:09:51.488Z"
   },
   {
    "duration": 5,
    "start_time": "2022-05-20T13:09:51.503Z"
   },
   {
    "duration": 18,
    "start_time": "2022-05-20T13:09:51.509Z"
   },
   {
    "duration": 4,
    "start_time": "2022-05-20T13:09:51.528Z"
   },
   {
    "duration": 8,
    "start_time": "2022-05-20T13:09:51.533Z"
   },
   {
    "duration": 7,
    "start_time": "2022-05-20T13:09:51.544Z"
   },
   {
    "duration": 26,
    "start_time": "2022-05-20T13:09:51.552Z"
   },
   {
    "duration": 8,
    "start_time": "2022-05-20T13:09:51.579Z"
   },
   {
    "duration": 20,
    "start_time": "2022-05-20T13:09:51.589Z"
   },
   {
    "duration": 12,
    "start_time": "2022-05-20T13:09:51.610Z"
   },
   {
    "duration": 5,
    "start_time": "2022-05-20T13:09:51.623Z"
   },
   {
    "duration": 4,
    "start_time": "2022-05-20T13:09:51.629Z"
   },
   {
    "duration": 14,
    "start_time": "2022-05-20T13:09:51.634Z"
   },
   {
    "duration": 7,
    "start_time": "2022-05-20T13:09:51.650Z"
   },
   {
    "duration": 17,
    "start_time": "2022-05-20T13:09:51.658Z"
   },
   {
    "duration": 13,
    "start_time": "2022-05-20T13:09:51.676Z"
   },
   {
    "duration": 13,
    "start_time": "2022-05-20T13:09:51.690Z"
   },
   {
    "duration": 7,
    "start_time": "2022-05-20T13:09:51.705Z"
   },
   {
    "duration": 9,
    "start_time": "2022-05-20T13:09:51.713Z"
   },
   {
    "duration": 8,
    "start_time": "2022-05-20T13:09:51.723Z"
   },
   {
    "duration": 15,
    "start_time": "2022-05-20T13:09:51.732Z"
   },
   {
    "duration": 31,
    "start_time": "2022-05-20T13:09:51.748Z"
   },
   {
    "duration": 13,
    "start_time": "2022-05-20T13:09:51.780Z"
   },
   {
    "duration": 10,
    "start_time": "2022-05-20T13:09:51.797Z"
   },
   {
    "duration": 7,
    "start_time": "2022-05-20T13:09:51.808Z"
   },
   {
    "duration": 17,
    "start_time": "2022-05-20T13:09:51.816Z"
   },
   {
    "duration": 5,
    "start_time": "2022-05-20T13:09:51.835Z"
   },
   {
    "duration": 9,
    "start_time": "2022-05-20T13:09:51.841Z"
   },
   {
    "duration": 4,
    "start_time": "2022-05-20T13:09:51.874Z"
   },
   {
    "duration": 31,
    "start_time": "2022-05-20T13:09:51.879Z"
   },
   {
    "duration": 6,
    "start_time": "2022-05-20T13:09:51.911Z"
   },
   {
    "duration": 13,
    "start_time": "2022-05-20T13:09:51.918Z"
   },
   {
    "duration": 16,
    "start_time": "2022-05-20T13:09:51.932Z"
   },
   {
    "duration": 7,
    "start_time": "2022-05-20T13:09:51.949Z"
   },
   {
    "duration": 6,
    "start_time": "2022-05-20T13:09:51.958Z"
   },
   {
    "duration": 9,
    "start_time": "2022-05-20T13:09:51.966Z"
   },
   {
    "duration": 10,
    "start_time": "2022-05-20T13:09:51.977Z"
   },
   {
    "duration": 32,
    "start_time": "2022-05-20T13:09:51.989Z"
   },
   {
    "duration": 34,
    "start_time": "2022-05-20T13:09:52.023Z"
   },
   {
    "duration": 10,
    "start_time": "2022-05-20T13:09:52.058Z"
   },
   {
    "duration": 6,
    "start_time": "2022-05-20T13:09:52.069Z"
   },
   {
    "duration": 6,
    "start_time": "2022-05-20T13:09:52.076Z"
   },
   {
    "duration": 7,
    "start_time": "2022-05-20T13:09:52.083Z"
   },
   {
    "duration": 6,
    "start_time": "2022-05-20T13:09:52.091Z"
   },
   {
    "duration": 7,
    "start_time": "2022-05-20T13:09:52.099Z"
   },
   {
    "duration": 6,
    "start_time": "2022-05-20T13:09:52.107Z"
   },
   {
    "duration": 13,
    "start_time": "2022-05-20T13:09:52.114Z"
   },
   {
    "duration": 5,
    "start_time": "2022-05-20T13:09:52.128Z"
   },
   {
    "duration": 5,
    "start_time": "2022-05-20T13:09:52.134Z"
   },
   {
    "duration": 5,
    "start_time": "2022-05-20T13:09:52.141Z"
   },
   {
    "duration": 8,
    "start_time": "2022-05-20T13:09:52.147Z"
   },
   {
    "duration": 5,
    "start_time": "2022-05-20T13:09:52.174Z"
   },
   {
    "duration": 5,
    "start_time": "2022-05-20T13:09:52.180Z"
   },
   {
    "duration": 6,
    "start_time": "2022-05-20T13:09:52.186Z"
   },
   {
    "duration": 9,
    "start_time": "2022-05-20T13:09:52.193Z"
   },
   {
    "duration": 9,
    "start_time": "2022-05-20T13:09:52.204Z"
   },
   {
    "duration": 21,
    "start_time": "2022-05-20T13:09:52.214Z"
   },
   {
    "duration": 18,
    "start_time": "2022-05-20T13:10:46.555Z"
   },
   {
    "duration": 18,
    "start_time": "2022-05-20T13:15:32.186Z"
   },
   {
    "duration": 19,
    "start_time": "2022-05-20T13:16:48.609Z"
   },
   {
    "duration": 63,
    "start_time": "2022-05-20T13:18:47.577Z"
   },
   {
    "duration": 7,
    "start_time": "2022-05-20T13:19:08.551Z"
   },
   {
    "duration": 6,
    "start_time": "2022-05-20T13:19:48.827Z"
   },
   {
    "duration": 3,
    "start_time": "2022-05-20T13:20:07.158Z"
   },
   {
    "duration": 3,
    "start_time": "2022-05-20T13:20:15.969Z"
   },
   {
    "duration": 544,
    "start_time": "2022-05-20T13:24:45.793Z"
   },
   {
    "duration": 422,
    "start_time": "2022-05-20T13:25:09.012Z"
   },
   {
    "duration": 461,
    "start_time": "2022-05-20T13:25:35.536Z"
   },
   {
    "duration": 515,
    "start_time": "2022-05-20T13:25:53.361Z"
   },
   {
    "duration": 16,
    "start_time": "2022-05-20T13:25:53.878Z"
   },
   {
    "duration": 6,
    "start_time": "2022-05-20T13:25:53.896Z"
   },
   {
    "duration": 12,
    "start_time": "2022-05-20T13:25:53.904Z"
   },
   {
    "duration": 12,
    "start_time": "2022-05-20T13:25:53.917Z"
   },
   {
    "duration": 21,
    "start_time": "2022-05-20T13:25:53.930Z"
   },
   {
    "duration": 21,
    "start_time": "2022-05-20T13:25:53.953Z"
   },
   {
    "duration": 5,
    "start_time": "2022-05-20T13:25:53.976Z"
   },
   {
    "duration": 10,
    "start_time": "2022-05-20T13:25:53.983Z"
   },
   {
    "duration": 12,
    "start_time": "2022-05-20T13:25:53.996Z"
   },
   {
    "duration": 6,
    "start_time": "2022-05-20T13:25:54.010Z"
   },
   {
    "duration": 12,
    "start_time": "2022-05-20T13:25:54.017Z"
   },
   {
    "duration": 13,
    "start_time": "2022-05-20T13:25:54.030Z"
   },
   {
    "duration": 21,
    "start_time": "2022-05-20T13:25:54.044Z"
   },
   {
    "duration": 9,
    "start_time": "2022-05-20T13:25:54.066Z"
   },
   {
    "duration": 18,
    "start_time": "2022-05-20T13:25:54.076Z"
   },
   {
    "duration": 9,
    "start_time": "2022-05-20T13:25:54.095Z"
   },
   {
    "duration": 15,
    "start_time": "2022-05-20T13:25:54.106Z"
   },
   {
    "duration": 15,
    "start_time": "2022-05-20T13:25:54.123Z"
   },
   {
    "duration": 14,
    "start_time": "2022-05-20T13:25:54.139Z"
   },
   {
    "duration": 11,
    "start_time": "2022-05-20T13:25:54.154Z"
   },
   {
    "duration": 21,
    "start_time": "2022-05-20T13:25:54.166Z"
   },
   {
    "duration": 10,
    "start_time": "2022-05-20T13:25:54.189Z"
   },
   {
    "duration": 6,
    "start_time": "2022-05-20T13:25:54.201Z"
   },
   {
    "duration": 14,
    "start_time": "2022-05-20T13:25:54.209Z"
   },
   {
    "duration": 23,
    "start_time": "2022-05-20T13:25:54.224Z"
   },
   {
    "duration": 11,
    "start_time": "2022-05-20T13:25:54.249Z"
   },
   {
    "duration": 12,
    "start_time": "2022-05-20T13:25:54.263Z"
   },
   {
    "duration": 10,
    "start_time": "2022-05-20T13:25:54.277Z"
   },
   {
    "duration": 20,
    "start_time": "2022-05-20T13:25:54.289Z"
   },
   {
    "duration": 11,
    "start_time": "2022-05-20T13:25:54.310Z"
   },
   {
    "duration": 12,
    "start_time": "2022-05-20T13:25:54.322Z"
   },
   {
    "duration": 8,
    "start_time": "2022-05-20T13:25:54.335Z"
   },
   {
    "duration": 26,
    "start_time": "2022-05-20T13:25:54.345Z"
   },
   {
    "duration": 8,
    "start_time": "2022-05-20T13:25:54.373Z"
   },
   {
    "duration": 20,
    "start_time": "2022-05-20T13:25:54.384Z"
   },
   {
    "duration": 8,
    "start_time": "2022-05-20T13:25:54.405Z"
   },
   {
    "duration": 12,
    "start_time": "2022-05-20T13:25:54.414Z"
   },
   {
    "duration": 11,
    "start_time": "2022-05-20T13:25:54.427Z"
   },
   {
    "duration": 12,
    "start_time": "2022-05-20T13:25:54.439Z"
   },
   {
    "duration": 42,
    "start_time": "2022-05-20T13:25:54.452Z"
   },
   {
    "duration": 27,
    "start_time": "2022-05-20T13:25:54.496Z"
   },
   {
    "duration": 6,
    "start_time": "2022-05-20T13:25:54.524Z"
   },
   {
    "duration": 12,
    "start_time": "2022-05-20T13:25:54.531Z"
   },
   {
    "duration": 4,
    "start_time": "2022-05-20T13:25:54.545Z"
   },
   {
    "duration": 9,
    "start_time": "2022-05-20T13:25:54.551Z"
   },
   {
    "duration": 13,
    "start_time": "2022-05-20T13:25:54.561Z"
   },
   {
    "duration": 14,
    "start_time": "2022-05-20T13:25:54.576Z"
   },
   {
    "duration": 8,
    "start_time": "2022-05-20T13:25:54.592Z"
   },
   {
    "duration": 7,
    "start_time": "2022-05-20T13:25:54.601Z"
   },
   {
    "duration": 7,
    "start_time": "2022-05-20T13:25:54.609Z"
   },
   {
    "duration": 10,
    "start_time": "2022-05-20T13:25:54.617Z"
   },
   {
    "duration": 7,
    "start_time": "2022-05-20T13:25:54.628Z"
   },
   {
    "duration": 10,
    "start_time": "2022-05-20T13:25:54.636Z"
   },
   {
    "duration": 6,
    "start_time": "2022-05-20T13:25:54.648Z"
   },
   {
    "duration": 10,
    "start_time": "2022-05-20T13:25:54.655Z"
   },
   {
    "duration": 12,
    "start_time": "2022-05-20T13:25:54.666Z"
   },
   {
    "duration": 14,
    "start_time": "2022-05-20T13:25:54.680Z"
   },
   {
    "duration": 6,
    "start_time": "2022-05-20T13:25:54.696Z"
   },
   {
    "duration": 8,
    "start_time": "2022-05-20T13:25:54.703Z"
   },
   {
    "duration": 18,
    "start_time": "2022-05-20T13:25:54.712Z"
   },
   {
    "duration": 115,
    "start_time": "2022-05-20T13:25:54.731Z"
   },
   {
    "duration": 0,
    "start_time": "2022-05-20T13:25:54.847Z"
   },
   {
    "duration": 684,
    "start_time": "2022-05-20T13:43:05.145Z"
   },
   {
    "duration": 7,
    "start_time": "2022-05-20T13:44:13.054Z"
   },
   {
    "duration": 5,
    "start_time": "2022-05-20T13:44:22.418Z"
   },
   {
    "duration": 10,
    "start_time": "2022-05-20T13:44:35.414Z"
   },
   {
    "duration": 5,
    "start_time": "2022-05-20T13:44:43.656Z"
   },
   {
    "duration": 8,
    "start_time": "2022-05-20T13:47:03.112Z"
   },
   {
    "duration": 9,
    "start_time": "2022-05-20T13:47:17.576Z"
   },
   {
    "duration": 9,
    "start_time": "2022-05-20T13:49:36.874Z"
   },
   {
    "duration": 6,
    "start_time": "2022-05-20T13:49:51.404Z"
   },
   {
    "duration": 9,
    "start_time": "2022-05-20T13:50:49.945Z"
   },
   {
    "duration": 7,
    "start_time": "2022-05-20T13:51:21.486Z"
   },
   {
    "duration": 7,
    "start_time": "2022-05-20T13:52:12.830Z"
   },
   {
    "duration": 6,
    "start_time": "2022-05-20T13:52:38.932Z"
   },
   {
    "duration": 590,
    "start_time": "2022-05-20T13:56:12.626Z"
   },
   {
    "duration": 13,
    "start_time": "2022-05-20T13:56:13.218Z"
   },
   {
    "duration": 27,
    "start_time": "2022-05-20T13:56:13.234Z"
   },
   {
    "duration": 14,
    "start_time": "2022-05-20T13:56:13.263Z"
   },
   {
    "duration": 12,
    "start_time": "2022-05-20T13:56:13.279Z"
   },
   {
    "duration": 8,
    "start_time": "2022-05-20T13:56:13.293Z"
   },
   {
    "duration": 15,
    "start_time": "2022-05-20T13:56:13.302Z"
   },
   {
    "duration": 4,
    "start_time": "2022-05-20T13:56:13.319Z"
   },
   {
    "duration": 51,
    "start_time": "2022-05-20T13:56:13.326Z"
   },
   {
    "duration": 13,
    "start_time": "2022-05-20T13:56:13.379Z"
   },
   {
    "duration": 6,
    "start_time": "2022-05-20T13:56:13.394Z"
   },
   {
    "duration": 9,
    "start_time": "2022-05-20T13:56:13.402Z"
   },
   {
    "duration": 5,
    "start_time": "2022-05-20T13:56:13.413Z"
   },
   {
    "duration": 15,
    "start_time": "2022-05-20T13:56:13.420Z"
   },
   {
    "duration": 43,
    "start_time": "2022-05-20T13:56:13.437Z"
   },
   {
    "duration": 7,
    "start_time": "2022-05-20T13:56:13.482Z"
   },
   {
    "duration": 16,
    "start_time": "2022-05-20T13:56:13.491Z"
   },
   {
    "duration": 14,
    "start_time": "2022-05-20T13:56:13.509Z"
   },
   {
    "duration": 9,
    "start_time": "2022-05-20T13:56:13.524Z"
   },
   {
    "duration": 41,
    "start_time": "2022-05-20T13:56:13.535Z"
   },
   {
    "duration": 22,
    "start_time": "2022-05-20T13:56:13.578Z"
   },
   {
    "duration": 8,
    "start_time": "2022-05-20T13:56:13.601Z"
   },
   {
    "duration": 15,
    "start_time": "2022-05-20T13:56:13.611Z"
   },
   {
    "duration": 17,
    "start_time": "2022-05-20T13:56:13.627Z"
   },
   {
    "duration": 11,
    "start_time": "2022-05-20T13:56:13.646Z"
   },
   {
    "duration": 39,
    "start_time": "2022-05-20T13:56:13.659Z"
   },
   {
    "duration": 19,
    "start_time": "2022-05-20T13:56:13.704Z"
   },
   {
    "duration": 12,
    "start_time": "2022-05-20T13:56:13.725Z"
   },
   {
    "duration": 37,
    "start_time": "2022-05-20T13:56:13.738Z"
   },
   {
    "duration": 12,
    "start_time": "2022-05-20T13:56:13.777Z"
   },
   {
    "duration": 6,
    "start_time": "2022-05-20T13:56:13.790Z"
   },
   {
    "duration": 6,
    "start_time": "2022-05-20T13:56:13.798Z"
   },
   {
    "duration": 7,
    "start_time": "2022-05-20T13:56:13.806Z"
   },
   {
    "duration": 20,
    "start_time": "2022-05-20T13:56:13.815Z"
   },
   {
    "duration": 38,
    "start_time": "2022-05-20T13:56:13.837Z"
   },
   {
    "duration": 12,
    "start_time": "2022-05-20T13:56:13.877Z"
   },
   {
    "duration": 15,
    "start_time": "2022-05-20T13:56:13.891Z"
   },
   {
    "duration": 6,
    "start_time": "2022-05-20T13:56:13.908Z"
   },
   {
    "duration": 10,
    "start_time": "2022-05-20T13:56:13.915Z"
   },
   {
    "duration": 15,
    "start_time": "2022-05-20T13:56:13.927Z"
   },
   {
    "duration": 32,
    "start_time": "2022-05-20T13:56:13.944Z"
   },
   {
    "duration": 27,
    "start_time": "2022-05-20T13:56:13.978Z"
   },
   {
    "duration": 7,
    "start_time": "2022-05-20T13:56:14.006Z"
   },
   {
    "duration": 16,
    "start_time": "2022-05-20T13:56:14.015Z"
   },
   {
    "duration": 16,
    "start_time": "2022-05-20T13:56:14.033Z"
   },
   {
    "duration": 28,
    "start_time": "2022-05-20T13:56:14.051Z"
   },
   {
    "duration": 13,
    "start_time": "2022-05-20T13:56:14.081Z"
   },
   {
    "duration": 7,
    "start_time": "2022-05-20T13:56:14.096Z"
   },
   {
    "duration": 6,
    "start_time": "2022-05-20T13:56:14.105Z"
   },
   {
    "duration": 8,
    "start_time": "2022-05-20T13:56:14.113Z"
   },
   {
    "duration": 16,
    "start_time": "2022-05-20T13:56:14.123Z"
   },
   {
    "duration": 40,
    "start_time": "2022-05-20T13:56:14.140Z"
   },
   {
    "duration": 5,
    "start_time": "2022-05-20T13:56:14.182Z"
   },
   {
    "duration": 5,
    "start_time": "2022-05-20T13:56:14.189Z"
   },
   {
    "duration": 7,
    "start_time": "2022-05-20T13:56:14.195Z"
   },
   {
    "duration": 19,
    "start_time": "2022-05-20T13:56:14.204Z"
   },
   {
    "duration": 10,
    "start_time": "2022-05-20T13:56:14.225Z"
   },
   {
    "duration": 40,
    "start_time": "2022-05-20T13:56:14.237Z"
   },
   {
    "duration": 7,
    "start_time": "2022-05-20T13:56:14.279Z"
   },
   {
    "duration": 9,
    "start_time": "2022-05-20T13:56:14.288Z"
   },
   {
    "duration": 26,
    "start_time": "2022-05-20T13:56:14.299Z"
   },
   {
    "duration": 7,
    "start_time": "2022-05-20T13:56:14.327Z"
   },
   {
    "duration": 12,
    "start_time": "2022-05-20T13:56:14.375Z"
   },
   {
    "duration": 12,
    "start_time": "2022-05-20T13:56:14.389Z"
   },
   {
    "duration": 8,
    "start_time": "2022-05-20T13:56:14.403Z"
   },
   {
    "duration": 15,
    "start_time": "2022-05-20T13:56:14.413Z"
   },
   {
    "duration": 6,
    "start_time": "2022-05-20T14:01:31.237Z"
   },
   {
    "duration": 498,
    "start_time": "2022-05-20T14:10:26.319Z"
   },
   {
    "duration": 11,
    "start_time": "2022-05-20T14:10:26.819Z"
   },
   {
    "duration": 8,
    "start_time": "2022-05-20T14:10:26.832Z"
   },
   {
    "duration": 7,
    "start_time": "2022-05-20T14:10:26.842Z"
   },
   {
    "duration": 34,
    "start_time": "2022-05-20T14:10:26.850Z"
   },
   {
    "duration": 5,
    "start_time": "2022-05-20T14:10:26.885Z"
   },
   {
    "duration": 15,
    "start_time": "2022-05-20T14:10:26.892Z"
   },
   {
    "duration": 4,
    "start_time": "2022-05-20T14:10:26.908Z"
   },
   {
    "duration": 7,
    "start_time": "2022-05-20T14:10:26.913Z"
   },
   {
    "duration": 6,
    "start_time": "2022-05-20T14:10:26.922Z"
   },
   {
    "duration": 48,
    "start_time": "2022-05-20T14:10:26.930Z"
   },
   {
    "duration": 10,
    "start_time": "2022-05-20T14:10:26.980Z"
   },
   {
    "duration": 5,
    "start_time": "2022-05-20T14:10:26.992Z"
   },
   {
    "duration": 14,
    "start_time": "2022-05-20T14:10:26.999Z"
   },
   {
    "duration": 5,
    "start_time": "2022-05-20T14:10:27.014Z"
   },
   {
    "duration": 4,
    "start_time": "2022-05-20T14:10:27.021Z"
   },
   {
    "duration": 7,
    "start_time": "2022-05-20T14:10:27.026Z"
   },
   {
    "duration": 44,
    "start_time": "2022-05-20T14:10:27.034Z"
   },
   {
    "duration": 18,
    "start_time": "2022-05-20T14:10:27.079Z"
   },
   {
    "duration": 17,
    "start_time": "2022-05-20T14:10:27.098Z"
   },
   {
    "duration": 11,
    "start_time": "2022-05-20T14:10:27.117Z"
   },
   {
    "duration": 9,
    "start_time": "2022-05-20T14:10:27.130Z"
   },
   {
    "duration": 10,
    "start_time": "2022-05-20T14:10:27.140Z"
   },
   {
    "duration": 6,
    "start_time": "2022-05-20T14:10:27.151Z"
   },
   {
    "duration": 7,
    "start_time": "2022-05-20T14:10:27.174Z"
   },
   {
    "duration": 20,
    "start_time": "2022-05-20T14:10:27.182Z"
   },
   {
    "duration": 13,
    "start_time": "2022-05-20T14:10:27.204Z"
   },
   {
    "duration": 10,
    "start_time": "2022-05-20T14:10:27.222Z"
   },
   {
    "duration": 44,
    "start_time": "2022-05-20T14:10:27.234Z"
   },
   {
    "duration": 15,
    "start_time": "2022-05-20T14:10:27.280Z"
   },
   {
    "duration": 6,
    "start_time": "2022-05-20T14:10:27.297Z"
   },
   {
    "duration": 6,
    "start_time": "2022-05-20T14:10:27.305Z"
   },
   {
    "duration": 8,
    "start_time": "2022-05-20T14:10:27.313Z"
   },
   {
    "duration": 54,
    "start_time": "2022-05-20T14:10:27.322Z"
   },
   {
    "duration": 9,
    "start_time": "2022-05-20T14:10:27.378Z"
   },
   {
    "duration": 11,
    "start_time": "2022-05-20T14:10:27.389Z"
   },
   {
    "duration": 8,
    "start_time": "2022-05-20T14:10:27.401Z"
   },
   {
    "duration": 6,
    "start_time": "2022-05-20T14:10:27.411Z"
   },
   {
    "duration": 6,
    "start_time": "2022-05-20T14:10:27.418Z"
   },
   {
    "duration": 14,
    "start_time": "2022-05-20T14:10:27.425Z"
   },
   {
    "duration": 41,
    "start_time": "2022-05-20T14:10:27.441Z"
   },
   {
    "duration": 21,
    "start_time": "2022-05-20T14:10:27.484Z"
   },
   {
    "duration": 6,
    "start_time": "2022-05-20T14:10:27.507Z"
   },
   {
    "duration": 5,
    "start_time": "2022-05-20T14:10:27.514Z"
   },
   {
    "duration": 5,
    "start_time": "2022-05-20T14:10:27.520Z"
   },
   {
    "duration": 50,
    "start_time": "2022-05-20T14:10:27.527Z"
   },
   {
    "duration": 5,
    "start_time": "2022-05-20T14:10:27.579Z"
   },
   {
    "duration": 6,
    "start_time": "2022-05-20T14:10:27.586Z"
   },
   {
    "duration": 13,
    "start_time": "2022-05-20T14:10:27.593Z"
   },
   {
    "duration": 10,
    "start_time": "2022-05-20T14:10:27.608Z"
   },
   {
    "duration": 7,
    "start_time": "2022-05-20T14:10:27.619Z"
   },
   {
    "duration": 5,
    "start_time": "2022-05-20T14:10:27.628Z"
   },
   {
    "duration": 5,
    "start_time": "2022-05-20T14:10:27.634Z"
   },
   {
    "duration": 5,
    "start_time": "2022-05-20T14:10:27.674Z"
   },
   {
    "duration": 8,
    "start_time": "2022-05-20T14:10:27.680Z"
   },
   {
    "duration": 7,
    "start_time": "2022-05-20T14:10:27.689Z"
   },
   {
    "duration": 10,
    "start_time": "2022-05-20T14:10:27.697Z"
   },
   {
    "duration": 9,
    "start_time": "2022-05-20T14:10:27.708Z"
   },
   {
    "duration": 5,
    "start_time": "2022-05-20T14:10:27.719Z"
   },
   {
    "duration": 6,
    "start_time": "2022-05-20T14:10:27.726Z"
   },
   {
    "duration": 61,
    "start_time": "2022-05-20T14:10:27.733Z"
   },
   {
    "duration": 6,
    "start_time": "2022-05-20T14:10:27.795Z"
   },
   {
    "duration": 8,
    "start_time": "2022-05-20T14:10:27.803Z"
   },
   {
    "duration": 8,
    "start_time": "2022-05-20T14:10:27.813Z"
   },
   {
    "duration": 10,
    "start_time": "2022-05-20T14:10:27.822Z"
   },
   {
    "duration": 44,
    "start_time": "2022-05-20T14:10:27.833Z"
   },
   {
    "duration": 6,
    "start_time": "2022-05-20T14:10:27.879Z"
   },
   {
    "duration": 5,
    "start_time": "2022-05-20T14:28:14.853Z"
   },
   {
    "duration": 4,
    "start_time": "2022-05-20T14:28:41.911Z"
   },
   {
    "duration": 19,
    "start_time": "2022-05-20T14:30:35.246Z"
   },
   {
    "duration": 2675,
    "start_time": "2022-05-20T14:35:34.016Z"
   },
   {
    "duration": 459,
    "start_time": "2022-05-20T14:40:35.376Z"
   },
   {
    "duration": 20,
    "start_time": "2022-05-20T14:41:25.975Z"
   },
   {
    "duration": 562,
    "start_time": "2022-05-20T14:41:48.477Z"
   },
   {
    "duration": 494,
    "start_time": "2022-05-20T14:42:13.961Z"
   },
   {
    "duration": 4,
    "start_time": "2022-05-20T14:43:48.001Z"
   },
   {
    "duration": 7,
    "start_time": "2022-05-20T14:45:15.085Z"
   },
   {
    "duration": 9,
    "start_time": "2022-05-20T14:45:25.183Z"
   },
   {
    "duration": 6,
    "start_time": "2022-05-20T14:46:01.725Z"
   },
   {
    "duration": 8,
    "start_time": "2022-05-20T14:48:32.783Z"
   },
   {
    "duration": 6,
    "start_time": "2022-05-20T14:49:52.685Z"
   },
   {
    "duration": 6,
    "start_time": "2022-05-20T14:50:46.500Z"
   },
   {
    "duration": 551,
    "start_time": "2022-05-20T15:00:32.492Z"
   },
   {
    "duration": 13,
    "start_time": "2022-05-20T15:00:33.046Z"
   },
   {
    "duration": 5,
    "start_time": "2022-05-20T15:00:33.075Z"
   },
   {
    "duration": 11,
    "start_time": "2022-05-20T15:00:33.082Z"
   },
   {
    "duration": 15,
    "start_time": "2022-05-20T15:00:33.094Z"
   },
   {
    "duration": 8,
    "start_time": "2022-05-20T15:00:33.110Z"
   },
   {
    "duration": 18,
    "start_time": "2022-05-20T15:00:33.120Z"
   },
   {
    "duration": 37,
    "start_time": "2022-05-20T15:00:33.140Z"
   },
   {
    "duration": 9,
    "start_time": "2022-05-20T15:00:33.178Z"
   },
   {
    "duration": 9,
    "start_time": "2022-05-20T15:00:33.190Z"
   },
   {
    "duration": 7,
    "start_time": "2022-05-20T15:00:33.201Z"
   },
   {
    "duration": 7,
    "start_time": "2022-05-20T15:00:33.209Z"
   },
   {
    "duration": 14,
    "start_time": "2022-05-20T15:00:33.217Z"
   },
   {
    "duration": 43,
    "start_time": "2022-05-20T15:00:33.232Z"
   },
   {
    "duration": 15,
    "start_time": "2022-05-20T15:00:33.276Z"
   },
   {
    "duration": 7,
    "start_time": "2022-05-20T15:00:33.292Z"
   },
   {
    "duration": 13,
    "start_time": "2022-05-20T15:00:33.301Z"
   },
   {
    "duration": 10,
    "start_time": "2022-05-20T15:00:33.315Z"
   },
   {
    "duration": 9,
    "start_time": "2022-05-20T15:00:33.326Z"
   },
   {
    "duration": 13,
    "start_time": "2022-05-20T15:00:33.336Z"
   },
   {
    "duration": 11,
    "start_time": "2022-05-20T15:00:33.350Z"
   },
   {
    "duration": 18,
    "start_time": "2022-05-20T15:00:33.362Z"
   },
   {
    "duration": 6,
    "start_time": "2022-05-20T15:00:33.382Z"
   },
   {
    "duration": 5,
    "start_time": "2022-05-20T15:00:33.390Z"
   },
   {
    "duration": 10,
    "start_time": "2022-05-20T15:00:33.396Z"
   },
   {
    "duration": 18,
    "start_time": "2022-05-20T15:00:33.407Z"
   },
   {
    "duration": 11,
    "start_time": "2022-05-20T15:00:33.426Z"
   },
   {
    "duration": 10,
    "start_time": "2022-05-20T15:00:33.475Z"
   },
   {
    "duration": 5,
    "start_time": "2022-05-20T15:00:33.486Z"
   },
   {
    "duration": 16,
    "start_time": "2022-05-20T15:00:33.493Z"
   },
   {
    "duration": 4,
    "start_time": "2022-05-20T15:00:33.511Z"
   },
   {
    "duration": 14,
    "start_time": "2022-05-20T15:00:33.517Z"
   },
   {
    "duration": 5,
    "start_time": "2022-05-20T15:00:33.533Z"
   },
   {
    "duration": 36,
    "start_time": "2022-05-20T15:00:33.539Z"
   },
   {
    "duration": 6,
    "start_time": "2022-05-20T15:00:33.577Z"
   },
   {
    "duration": 9,
    "start_time": "2022-05-20T15:00:33.585Z"
   },
   {
    "duration": 5,
    "start_time": "2022-05-20T15:00:33.596Z"
   },
   {
    "duration": 9,
    "start_time": "2022-05-20T15:00:33.602Z"
   },
   {
    "duration": 5,
    "start_time": "2022-05-20T15:00:33.613Z"
   },
   {
    "duration": 13,
    "start_time": "2022-05-20T15:00:33.619Z"
   },
   {
    "duration": 43,
    "start_time": "2022-05-20T15:00:33.633Z"
   },
   {
    "duration": 21,
    "start_time": "2022-05-20T15:00:33.677Z"
   },
   {
    "duration": 5,
    "start_time": "2022-05-20T15:00:33.700Z"
   },
   {
    "duration": 14,
    "start_time": "2022-05-20T15:00:33.707Z"
   },
   {
    "duration": 8,
    "start_time": "2022-05-20T15:00:33.722Z"
   },
   {
    "duration": 5,
    "start_time": "2022-05-20T15:00:33.732Z"
   },
   {
    "duration": 4,
    "start_time": "2022-05-20T15:00:33.738Z"
   },
   {
    "duration": 32,
    "start_time": "2022-05-20T15:00:33.744Z"
   },
   {
    "duration": 4,
    "start_time": "2022-05-20T15:00:33.778Z"
   },
   {
    "duration": 8,
    "start_time": "2022-05-20T15:00:33.783Z"
   },
   {
    "duration": 4,
    "start_time": "2022-05-20T15:00:33.792Z"
   },
   {
    "duration": 8,
    "start_time": "2022-05-20T15:00:33.797Z"
   },
   {
    "duration": 5,
    "start_time": "2022-05-20T15:00:33.806Z"
   },
   {
    "duration": 8,
    "start_time": "2022-05-20T15:00:33.813Z"
   },
   {
    "duration": 6,
    "start_time": "2022-05-20T15:00:33.823Z"
   },
   {
    "duration": 45,
    "start_time": "2022-05-20T15:00:33.830Z"
   },
   {
    "duration": 7,
    "start_time": "2022-05-20T15:00:33.877Z"
   },
   {
    "duration": 5,
    "start_time": "2022-05-20T15:00:33.886Z"
   },
   {
    "duration": 6,
    "start_time": "2022-05-20T15:00:33.893Z"
   },
   {
    "duration": 7,
    "start_time": "2022-05-20T15:00:33.901Z"
   },
   {
    "duration": 19,
    "start_time": "2022-05-20T15:00:33.910Z"
   },
   {
    "duration": 49,
    "start_time": "2022-05-20T15:00:33.931Z"
   },
   {
    "duration": 9,
    "start_time": "2022-05-20T15:00:33.982Z"
   },
   {
    "duration": 10,
    "start_time": "2022-05-20T15:00:33.992Z"
   },
   {
    "duration": 7,
    "start_time": "2022-05-20T15:00:34.003Z"
   },
   {
    "duration": 8,
    "start_time": "2022-05-20T15:00:34.011Z"
   },
   {
    "duration": 10,
    "start_time": "2022-05-20T15:00:34.020Z"
   },
   {
    "duration": 44,
    "start_time": "2022-05-20T15:00:34.031Z"
   },
   {
    "duration": 7,
    "start_time": "2022-05-20T15:00:34.076Z"
   },
   {
    "duration": 8,
    "start_time": "2022-05-20T15:00:34.085Z"
   },
   {
    "duration": 9,
    "start_time": "2022-05-20T15:00:34.094Z"
   },
   {
    "duration": 12,
    "start_time": "2022-05-20T18:01:34.437Z"
   },
   {
    "duration": 524,
    "start_time": "2022-05-20T18:04:46.968Z"
   },
   {
    "duration": 5,
    "start_time": "2022-05-20T18:04:53.880Z"
   },
   {
    "duration": 29,
    "start_time": "2022-05-20T18:11:27.200Z"
   },
   {
    "duration": 30,
    "start_time": "2022-05-20T18:12:21.338Z"
   },
   {
    "duration": 6,
    "start_time": "2022-05-20T18:13:03.552Z"
   },
   {
    "duration": 9,
    "start_time": "2022-05-20T18:13:31.099Z"
   },
   {
    "duration": 10,
    "start_time": "2022-05-20T18:14:01.065Z"
   },
   {
    "duration": 5,
    "start_time": "2022-05-20T18:14:23.531Z"
   },
   {
    "duration": 13,
    "start_time": "2022-05-20T18:14:46.660Z"
   },
   {
    "duration": 714,
    "start_time": "2022-05-20T18:14:53.387Z"
   },
   {
    "duration": 8,
    "start_time": "2022-05-20T18:15:03.661Z"
   },
   {
    "duration": 6,
    "start_time": "2022-05-20T18:15:59.752Z"
   },
   {
    "duration": 14,
    "start_time": "2022-05-20T18:16:23.302Z"
   },
   {
    "duration": 558,
    "start_time": "2022-05-20T18:16:58.222Z"
   },
   {
    "duration": 12,
    "start_time": "2022-05-20T18:16:58.782Z"
   },
   {
    "duration": 4,
    "start_time": "2022-05-20T18:16:58.795Z"
   },
   {
    "duration": 10,
    "start_time": "2022-05-20T18:16:58.800Z"
   },
   {
    "duration": 31,
    "start_time": "2022-05-20T18:16:58.812Z"
   },
   {
    "duration": 7,
    "start_time": "2022-05-20T18:16:58.844Z"
   },
   {
    "duration": 14,
    "start_time": "2022-05-20T18:16:58.852Z"
   },
   {
    "duration": 3,
    "start_time": "2022-05-20T18:16:58.867Z"
   },
   {
    "duration": 10,
    "start_time": "2022-05-20T18:16:58.872Z"
   },
   {
    "duration": 11,
    "start_time": "2022-05-20T18:16:58.883Z"
   },
   {
    "duration": 5,
    "start_time": "2022-05-20T18:16:58.896Z"
   },
   {
    "duration": 43,
    "start_time": "2022-05-20T18:16:58.902Z"
   },
   {
    "duration": 6,
    "start_time": "2022-05-20T18:16:58.946Z"
   },
   {
    "duration": 15,
    "start_time": "2022-05-20T18:16:58.955Z"
   },
   {
    "duration": 6,
    "start_time": "2022-05-20T18:16:58.972Z"
   },
   {
    "duration": 5,
    "start_time": "2022-05-20T18:16:58.979Z"
   },
   {
    "duration": 7,
    "start_time": "2022-05-20T18:16:58.986Z"
   },
   {
    "duration": 11,
    "start_time": "2022-05-20T18:16:58.994Z"
   },
   {
    "duration": 8,
    "start_time": "2022-05-20T18:16:59.040Z"
   },
   {
    "duration": 12,
    "start_time": "2022-05-20T18:16:59.050Z"
   },
   {
    "duration": 7,
    "start_time": "2022-05-20T18:16:59.064Z"
   },
   {
    "duration": 5,
    "start_time": "2022-05-20T18:16:59.073Z"
   },
   {
    "duration": 8,
    "start_time": "2022-05-20T18:16:59.079Z"
   },
   {
    "duration": 4,
    "start_time": "2022-05-20T18:16:59.089Z"
   },
   {
    "duration": 8,
    "start_time": "2022-05-20T18:16:59.094Z"
   },
   {
    "duration": 51,
    "start_time": "2022-05-20T18:16:59.104Z"
   },
   {
    "duration": 13,
    "start_time": "2022-05-20T18:16:59.156Z"
   },
   {
    "duration": 11,
    "start_time": "2022-05-20T18:16:59.170Z"
   },
   {
    "duration": 5,
    "start_time": "2022-05-20T18:16:59.182Z"
   },
   {
    "duration": 13,
    "start_time": "2022-05-20T18:16:59.189Z"
   },
   {
    "duration": 5,
    "start_time": "2022-05-20T18:16:59.204Z"
   },
   {
    "duration": 34,
    "start_time": "2022-05-20T18:16:59.210Z"
   },
   {
    "duration": 6,
    "start_time": "2022-05-20T18:16:59.246Z"
   },
   {
    "duration": 16,
    "start_time": "2022-05-20T18:16:59.254Z"
   },
   {
    "duration": 7,
    "start_time": "2022-05-20T18:16:59.272Z"
   },
   {
    "duration": 13,
    "start_time": "2022-05-20T18:16:59.281Z"
   },
   {
    "duration": 5,
    "start_time": "2022-05-20T18:16:59.296Z"
   },
   {
    "duration": 40,
    "start_time": "2022-05-20T18:16:59.302Z"
   },
   {
    "duration": 5,
    "start_time": "2022-05-20T18:16:59.344Z"
   },
   {
    "duration": 16,
    "start_time": "2022-05-20T18:16:59.351Z"
   },
   {
    "duration": 14,
    "start_time": "2022-05-20T18:16:59.372Z"
   },
   {
    "duration": 22,
    "start_time": "2022-05-20T18:16:59.388Z"
   },
   {
    "duration": 33,
    "start_time": "2022-05-20T18:16:59.412Z"
   },
   {
    "duration": 71,
    "start_time": "2022-05-20T18:16:59.447Z"
   },
   {
    "duration": 0,
    "start_time": "2022-05-20T18:16:59.520Z"
   },
   {
    "duration": 0,
    "start_time": "2022-05-20T18:16:59.521Z"
   },
   {
    "duration": 0,
    "start_time": "2022-05-20T18:16:59.523Z"
   },
   {
    "duration": 0,
    "start_time": "2022-05-20T18:16:59.540Z"
   },
   {
    "duration": 0,
    "start_time": "2022-05-20T18:16:59.541Z"
   },
   {
    "duration": 0,
    "start_time": "2022-05-20T18:16:59.543Z"
   },
   {
    "duration": 0,
    "start_time": "2022-05-20T18:16:59.544Z"
   },
   {
    "duration": 0,
    "start_time": "2022-05-20T18:16:59.545Z"
   },
   {
    "duration": 0,
    "start_time": "2022-05-20T18:16:59.546Z"
   },
   {
    "duration": 0,
    "start_time": "2022-05-20T18:16:59.547Z"
   },
   {
    "duration": 0,
    "start_time": "2022-05-20T18:16:59.548Z"
   },
   {
    "duration": 0,
    "start_time": "2022-05-20T18:16:59.549Z"
   },
   {
    "duration": 0,
    "start_time": "2022-05-20T18:16:59.551Z"
   },
   {
    "duration": 0,
    "start_time": "2022-05-20T18:16:59.552Z"
   },
   {
    "duration": 0,
    "start_time": "2022-05-20T18:16:59.553Z"
   },
   {
    "duration": 1,
    "start_time": "2022-05-20T18:16:59.553Z"
   },
   {
    "duration": 0,
    "start_time": "2022-05-20T18:16:59.555Z"
   },
   {
    "duration": 0,
    "start_time": "2022-05-20T18:16:59.556Z"
   },
   {
    "duration": 0,
    "start_time": "2022-05-20T18:16:59.557Z"
   },
   {
    "duration": 0,
    "start_time": "2022-05-20T18:16:59.558Z"
   },
   {
    "duration": 7,
    "start_time": "2022-05-20T18:18:15.555Z"
   },
   {
    "duration": 6,
    "start_time": "2022-05-20T18:18:26.497Z"
   },
   {
    "duration": 4,
    "start_time": "2022-05-20T18:18:56.358Z"
   },
   {
    "duration": 11,
    "start_time": "2022-05-20T18:20:10.766Z"
   },
   {
    "duration": 8,
    "start_time": "2022-05-20T18:22:39.988Z"
   },
   {
    "duration": 36,
    "start_time": "2022-05-20T18:23:07.150Z"
   },
   {
    "duration": 12,
    "start_time": "2022-05-20T18:23:49.416Z"
   },
   {
    "duration": 12,
    "start_time": "2022-05-20T18:24:10.274Z"
   },
   {
    "duration": 325,
    "start_time": "2022-05-20T18:25:21.494Z"
   },
   {
    "duration": 10,
    "start_time": "2022-05-20T18:25:40.024Z"
   },
   {
    "duration": 25,
    "start_time": "2022-05-20T18:28:59.276Z"
   },
   {
    "duration": 20,
    "start_time": "2022-05-20T18:29:13.585Z"
   },
   {
    "duration": 7,
    "start_time": "2022-05-20T18:29:55.560Z"
   },
   {
    "duration": 8,
    "start_time": "2022-05-20T18:30:19.457Z"
   },
   {
    "duration": 555,
    "start_time": "2022-05-20T18:30:27.301Z"
   },
   {
    "duration": 12,
    "start_time": "2022-05-20T18:30:27.857Z"
   },
   {
    "duration": 4,
    "start_time": "2022-05-20T18:30:27.870Z"
   },
   {
    "duration": 10,
    "start_time": "2022-05-20T18:30:27.875Z"
   },
   {
    "duration": 12,
    "start_time": "2022-05-20T18:30:27.887Z"
   },
   {
    "duration": 5,
    "start_time": "2022-05-20T18:30:27.901Z"
   },
   {
    "duration": 39,
    "start_time": "2022-05-20T18:30:27.908Z"
   },
   {
    "duration": 5,
    "start_time": "2022-05-20T18:30:27.948Z"
   },
   {
    "duration": 7,
    "start_time": "2022-05-20T18:30:27.955Z"
   },
   {
    "duration": 8,
    "start_time": "2022-05-20T18:30:27.963Z"
   },
   {
    "duration": 4,
    "start_time": "2022-05-20T18:30:27.973Z"
   },
   {
    "duration": 7,
    "start_time": "2022-05-20T18:30:27.979Z"
   },
   {
    "duration": 6,
    "start_time": "2022-05-20T18:30:27.988Z"
   },
   {
    "duration": 13,
    "start_time": "2022-05-20T18:30:27.997Z"
   },
   {
    "duration": 36,
    "start_time": "2022-05-20T18:30:28.011Z"
   },
   {
    "duration": 6,
    "start_time": "2022-05-20T18:30:28.052Z"
   },
   {
    "duration": 11,
    "start_time": "2022-05-20T18:30:28.060Z"
   },
   {
    "duration": 9,
    "start_time": "2022-05-20T18:30:28.073Z"
   },
   {
    "duration": 8,
    "start_time": "2022-05-20T18:30:28.083Z"
   },
   {
    "duration": 13,
    "start_time": "2022-05-20T18:30:28.093Z"
   },
   {
    "duration": 9,
    "start_time": "2022-05-20T18:30:28.108Z"
   },
   {
    "duration": 27,
    "start_time": "2022-05-20T18:30:28.119Z"
   },
   {
    "duration": 20,
    "start_time": "2022-05-20T18:30:28.147Z"
   },
   {
    "duration": 14,
    "start_time": "2022-05-20T18:30:28.168Z"
   },
   {
    "duration": 10,
    "start_time": "2022-05-20T18:30:28.184Z"
   },
   {
    "duration": 19,
    "start_time": "2022-05-20T18:30:28.196Z"
   },
   {
    "duration": 19,
    "start_time": "2022-05-20T18:30:28.217Z"
   },
   {
    "duration": 27,
    "start_time": "2022-05-20T18:30:28.238Z"
   },
   {
    "duration": 6,
    "start_time": "2022-05-20T18:30:28.267Z"
   },
   {
    "duration": 13,
    "start_time": "2022-05-20T18:30:28.275Z"
   },
   {
    "duration": 5,
    "start_time": "2022-05-20T18:30:28.290Z"
   },
   {
    "duration": 5,
    "start_time": "2022-05-20T18:30:28.296Z"
   },
   {
    "duration": 5,
    "start_time": "2022-05-20T18:30:28.303Z"
   },
   {
    "duration": 43,
    "start_time": "2022-05-20T18:30:28.310Z"
   },
   {
    "duration": 9,
    "start_time": "2022-05-20T18:30:28.355Z"
   },
   {
    "duration": 10,
    "start_time": "2022-05-20T18:30:28.366Z"
   },
   {
    "duration": 7,
    "start_time": "2022-05-20T18:30:28.377Z"
   },
   {
    "duration": 7,
    "start_time": "2022-05-20T18:30:28.385Z"
   },
   {
    "duration": 6,
    "start_time": "2022-05-20T18:30:28.394Z"
   },
   {
    "duration": 11,
    "start_time": "2022-05-20T18:30:28.402Z"
   },
   {
    "duration": 35,
    "start_time": "2022-05-20T18:30:28.419Z"
   },
   {
    "duration": 33,
    "start_time": "2022-05-20T18:30:28.456Z"
   },
   {
    "duration": 5,
    "start_time": "2022-05-20T18:30:28.491Z"
   },
   {
    "duration": 79,
    "start_time": "2022-05-20T18:30:28.498Z"
   },
   {
    "duration": 0,
    "start_time": "2022-05-20T18:30:28.580Z"
   },
   {
    "duration": 0,
    "start_time": "2022-05-20T18:30:28.581Z"
   },
   {
    "duration": 0,
    "start_time": "2022-05-20T18:30:28.583Z"
   },
   {
    "duration": 0,
    "start_time": "2022-05-20T18:30:28.585Z"
   },
   {
    "duration": 0,
    "start_time": "2022-05-20T18:30:28.586Z"
   },
   {
    "duration": 0,
    "start_time": "2022-05-20T18:30:28.587Z"
   },
   {
    "duration": 0,
    "start_time": "2022-05-20T18:30:28.588Z"
   },
   {
    "duration": 0,
    "start_time": "2022-05-20T18:30:28.590Z"
   },
   {
    "duration": 0,
    "start_time": "2022-05-20T18:30:28.592Z"
   },
   {
    "duration": 0,
    "start_time": "2022-05-20T18:30:28.593Z"
   },
   {
    "duration": 0,
    "start_time": "2022-05-20T18:30:28.595Z"
   },
   {
    "duration": 0,
    "start_time": "2022-05-20T18:30:28.596Z"
   },
   {
    "duration": 0,
    "start_time": "2022-05-20T18:30:28.597Z"
   },
   {
    "duration": 0,
    "start_time": "2022-05-20T18:30:28.599Z"
   },
   {
    "duration": 0,
    "start_time": "2022-05-20T18:30:28.600Z"
   },
   {
    "duration": 0,
    "start_time": "2022-05-20T18:30:28.602Z"
   },
   {
    "duration": 0,
    "start_time": "2022-05-20T18:30:28.603Z"
   },
   {
    "duration": 0,
    "start_time": "2022-05-20T18:30:28.604Z"
   },
   {
    "duration": 0,
    "start_time": "2022-05-20T18:30:28.643Z"
   },
   {
    "duration": 10,
    "start_time": "2022-05-20T18:30:52.562Z"
   },
   {
    "duration": 24,
    "start_time": "2022-05-20T18:31:09.549Z"
   },
   {
    "duration": 14,
    "start_time": "2022-05-20T18:31:27.345Z"
   },
   {
    "duration": 561,
    "start_time": "2022-05-20T18:32:28.632Z"
   },
   {
    "duration": 13,
    "start_time": "2022-05-20T18:32:29.194Z"
   },
   {
    "duration": 4,
    "start_time": "2022-05-20T18:32:29.208Z"
   },
   {
    "duration": 14,
    "start_time": "2022-05-20T18:32:29.213Z"
   },
   {
    "duration": 28,
    "start_time": "2022-05-20T18:32:29.229Z"
   },
   {
    "duration": 5,
    "start_time": "2022-05-20T18:32:29.259Z"
   },
   {
    "duration": 13,
    "start_time": "2022-05-20T18:32:29.265Z"
   },
   {
    "duration": 3,
    "start_time": "2022-05-20T18:32:29.280Z"
   },
   {
    "duration": 9,
    "start_time": "2022-05-20T18:32:29.284Z"
   },
   {
    "duration": 7,
    "start_time": "2022-05-20T18:32:29.296Z"
   },
   {
    "duration": 6,
    "start_time": "2022-05-20T18:32:29.305Z"
   },
   {
    "duration": 43,
    "start_time": "2022-05-20T18:32:29.313Z"
   },
   {
    "duration": 14,
    "start_time": "2022-05-20T18:32:29.358Z"
   },
   {
    "duration": 22,
    "start_time": "2022-05-20T18:32:29.374Z"
   },
   {
    "duration": 9,
    "start_time": "2022-05-20T18:32:29.398Z"
   },
   {
    "duration": 6,
    "start_time": "2022-05-20T18:32:29.408Z"
   },
   {
    "duration": 10,
    "start_time": "2022-05-20T18:32:29.416Z"
   },
   {
    "duration": 11,
    "start_time": "2022-05-20T18:32:29.427Z"
   },
   {
    "duration": 28,
    "start_time": "2022-05-20T18:32:29.439Z"
   },
   {
    "duration": 17,
    "start_time": "2022-05-20T18:32:29.469Z"
   },
   {
    "duration": 9,
    "start_time": "2022-05-20T18:32:29.488Z"
   },
   {
    "duration": 10,
    "start_time": "2022-05-20T18:32:29.498Z"
   },
   {
    "duration": 11,
    "start_time": "2022-05-20T18:32:29.510Z"
   },
   {
    "duration": 10,
    "start_time": "2022-05-20T18:32:29.522Z"
   },
   {
    "duration": 11,
    "start_time": "2022-05-20T18:32:29.533Z"
   },
   {
    "duration": 19,
    "start_time": "2022-05-20T18:32:29.549Z"
   },
   {
    "duration": 14,
    "start_time": "2022-05-20T18:32:29.570Z"
   },
   {
    "duration": 10,
    "start_time": "2022-05-20T18:32:29.587Z"
   },
   {
    "duration": 5,
    "start_time": "2022-05-20T18:32:29.598Z"
   },
   {
    "duration": 16,
    "start_time": "2022-05-20T18:32:29.604Z"
   },
   {
    "duration": 7,
    "start_time": "2022-05-20T18:32:29.621Z"
   },
   {
    "duration": 15,
    "start_time": "2022-05-20T18:32:29.630Z"
   },
   {
    "duration": 20,
    "start_time": "2022-05-20T18:32:29.647Z"
   },
   {
    "duration": 17,
    "start_time": "2022-05-20T18:32:29.669Z"
   },
   {
    "duration": 7,
    "start_time": "2022-05-20T18:32:29.688Z"
   },
   {
    "duration": 12,
    "start_time": "2022-05-20T18:32:29.696Z"
   },
   {
    "duration": 9,
    "start_time": "2022-05-20T18:32:29.709Z"
   },
   {
    "duration": 17,
    "start_time": "2022-05-20T18:32:29.720Z"
   },
   {
    "duration": 18,
    "start_time": "2022-05-20T18:32:29.738Z"
   },
   {
    "duration": 13,
    "start_time": "2022-05-20T18:32:29.758Z"
   },
   {
    "duration": 11,
    "start_time": "2022-05-20T18:32:29.772Z"
   },
   {
    "duration": 27,
    "start_time": "2022-05-20T18:32:29.785Z"
   },
   {
    "duration": 95,
    "start_time": "2022-05-20T18:32:29.814Z"
   },
   {
    "duration": 1,
    "start_time": "2022-05-20T18:32:29.911Z"
   },
   {
    "duration": 0,
    "start_time": "2022-05-20T18:32:29.912Z"
   },
   {
    "duration": 0,
    "start_time": "2022-05-20T18:32:29.913Z"
   },
   {
    "duration": 0,
    "start_time": "2022-05-20T18:32:29.914Z"
   },
   {
    "duration": 0,
    "start_time": "2022-05-20T18:32:29.916Z"
   },
   {
    "duration": 0,
    "start_time": "2022-05-20T18:32:29.917Z"
   },
   {
    "duration": 0,
    "start_time": "2022-05-20T18:32:29.919Z"
   },
   {
    "duration": 0,
    "start_time": "2022-05-20T18:32:29.920Z"
   },
   {
    "duration": 0,
    "start_time": "2022-05-20T18:32:29.921Z"
   },
   {
    "duration": 0,
    "start_time": "2022-05-20T18:32:29.945Z"
   },
   {
    "duration": 0,
    "start_time": "2022-05-20T18:32:29.949Z"
   },
   {
    "duration": 0,
    "start_time": "2022-05-20T18:32:29.950Z"
   },
   {
    "duration": 0,
    "start_time": "2022-05-20T18:32:29.951Z"
   },
   {
    "duration": 0,
    "start_time": "2022-05-20T18:32:29.959Z"
   },
   {
    "duration": 0,
    "start_time": "2022-05-20T18:32:29.960Z"
   },
   {
    "duration": 0,
    "start_time": "2022-05-20T18:32:29.963Z"
   },
   {
    "duration": 0,
    "start_time": "2022-05-20T18:32:29.965Z"
   },
   {
    "duration": 0,
    "start_time": "2022-05-20T18:32:29.967Z"
   },
   {
    "duration": 0,
    "start_time": "2022-05-20T18:32:29.968Z"
   },
   {
    "duration": 0,
    "start_time": "2022-05-20T18:32:29.970Z"
   },
   {
    "duration": 12,
    "start_time": "2022-05-20T18:32:55.572Z"
   },
   {
    "duration": 7,
    "start_time": "2022-05-20T18:33:21.934Z"
   },
   {
    "duration": 536,
    "start_time": "2022-05-20T18:33:59.159Z"
   },
   {
    "duration": 12,
    "start_time": "2022-05-20T18:33:59.697Z"
   },
   {
    "duration": 3,
    "start_time": "2022-05-20T18:33:59.711Z"
   },
   {
    "duration": 26,
    "start_time": "2022-05-20T18:33:59.716Z"
   },
   {
    "duration": 13,
    "start_time": "2022-05-20T18:33:59.744Z"
   },
   {
    "duration": 6,
    "start_time": "2022-05-20T18:33:59.758Z"
   },
   {
    "duration": 14,
    "start_time": "2022-05-20T18:33:59.766Z"
   },
   {
    "duration": 5,
    "start_time": "2022-05-20T18:33:59.781Z"
   },
   {
    "duration": 6,
    "start_time": "2022-05-20T18:33:59.787Z"
   },
   {
    "duration": 9,
    "start_time": "2022-05-20T18:33:59.795Z"
   },
   {
    "duration": 5,
    "start_time": "2022-05-20T18:33:59.841Z"
   },
   {
    "duration": 7,
    "start_time": "2022-05-20T18:33:59.848Z"
   },
   {
    "duration": 6,
    "start_time": "2022-05-20T18:33:59.856Z"
   },
   {
    "duration": 16,
    "start_time": "2022-05-20T18:33:59.865Z"
   },
   {
    "duration": 10,
    "start_time": "2022-05-20T18:33:59.883Z"
   },
   {
    "duration": 8,
    "start_time": "2022-05-20T18:33:59.895Z"
   },
   {
    "duration": 39,
    "start_time": "2022-05-20T18:33:59.905Z"
   },
   {
    "duration": 17,
    "start_time": "2022-05-20T18:33:59.946Z"
   },
   {
    "duration": 10,
    "start_time": "2022-05-20T18:33:59.965Z"
   },
   {
    "duration": 17,
    "start_time": "2022-05-20T18:33:59.976Z"
   },
   {
    "duration": 7,
    "start_time": "2022-05-20T18:33:59.995Z"
   },
   {
    "duration": 8,
    "start_time": "2022-05-20T18:34:00.003Z"
   },
   {
    "duration": 33,
    "start_time": "2022-05-20T18:34:00.012Z"
   },
   {
    "duration": 13,
    "start_time": "2022-05-20T18:34:00.046Z"
   },
   {
    "duration": 15,
    "start_time": "2022-05-20T18:34:00.060Z"
   },
   {
    "duration": 27,
    "start_time": "2022-05-20T18:34:00.076Z"
   },
   {
    "duration": 18,
    "start_time": "2022-05-20T18:34:00.104Z"
   },
   {
    "duration": 10,
    "start_time": "2022-05-20T18:34:00.126Z"
   },
   {
    "duration": 9,
    "start_time": "2022-05-20T18:34:00.141Z"
   },
   {
    "duration": 38,
    "start_time": "2022-05-20T18:34:00.151Z"
   },
   {
    "duration": 28,
    "start_time": "2022-05-20T18:34:00.191Z"
   },
   {
    "duration": 38,
    "start_time": "2022-05-20T18:34:00.221Z"
   },
   {
    "duration": 22,
    "start_time": "2022-05-20T18:34:00.260Z"
   },
   {
    "duration": 50,
    "start_time": "2022-05-20T18:34:00.284Z"
   },
   {
    "duration": 15,
    "start_time": "2022-05-20T18:34:00.336Z"
   },
   {
    "duration": 16,
    "start_time": "2022-05-20T18:34:00.353Z"
   },
   {
    "duration": 14,
    "start_time": "2022-05-20T18:34:00.371Z"
   },
   {
    "duration": 15,
    "start_time": "2022-05-20T18:34:00.386Z"
   },
   {
    "duration": 15,
    "start_time": "2022-05-20T18:34:00.402Z"
   },
   {
    "duration": 19,
    "start_time": "2022-05-20T18:34:00.418Z"
   },
   {
    "duration": 16,
    "start_time": "2022-05-20T18:34:00.439Z"
   },
   {
    "duration": 32,
    "start_time": "2022-05-20T18:34:00.457Z"
   },
   {
    "duration": 6,
    "start_time": "2022-05-20T18:34:00.491Z"
   },
   {
    "duration": 19,
    "start_time": "2022-05-20T18:34:00.499Z"
   },
   {
    "duration": 8,
    "start_time": "2022-05-20T18:34:00.520Z"
   },
   {
    "duration": 15,
    "start_time": "2022-05-20T18:34:00.530Z"
   },
   {
    "duration": 30,
    "start_time": "2022-05-20T18:34:00.547Z"
   },
   {
    "duration": 11,
    "start_time": "2022-05-20T18:34:00.579Z"
   },
   {
    "duration": 25,
    "start_time": "2022-05-20T18:34:00.591Z"
   },
   {
    "duration": 11,
    "start_time": "2022-05-20T18:34:00.618Z"
   },
   {
    "duration": 14,
    "start_time": "2022-05-20T18:34:00.631Z"
   },
   {
    "duration": 12,
    "start_time": "2022-05-20T18:34:00.647Z"
   },
   {
    "duration": 28,
    "start_time": "2022-05-20T18:34:00.661Z"
   },
   {
    "duration": 8,
    "start_time": "2022-05-20T18:34:00.690Z"
   },
   {
    "duration": 13,
    "start_time": "2022-05-20T18:34:00.699Z"
   },
   {
    "duration": 19,
    "start_time": "2022-05-20T18:34:00.713Z"
   },
   {
    "duration": 12,
    "start_time": "2022-05-20T18:34:00.733Z"
   },
   {
    "duration": 26,
    "start_time": "2022-05-20T18:34:00.747Z"
   },
   {
    "duration": 17,
    "start_time": "2022-05-20T18:34:00.775Z"
   },
   {
    "duration": 23,
    "start_time": "2022-05-20T18:34:00.793Z"
   },
   {
    "duration": 11,
    "start_time": "2022-05-20T18:34:00.818Z"
   },
   {
    "duration": 9,
    "start_time": "2022-05-20T18:34:00.830Z"
   },
   {
    "duration": 8,
    "start_time": "2022-05-20T18:34:00.840Z"
   },
   {
    "duration": 5,
    "start_time": "2022-05-20T18:38:00.323Z"
   },
   {
    "duration": 7,
    "start_time": "2022-05-20T18:45:29.869Z"
   },
   {
    "duration": 5,
    "start_time": "2022-05-20T18:45:48.155Z"
   },
   {
    "duration": 557,
    "start_time": "2022-05-21T10:19:40.420Z"
   },
   {
    "duration": 16,
    "start_time": "2022-05-21T10:19:40.979Z"
   },
   {
    "duration": 7,
    "start_time": "2022-05-21T10:19:40.997Z"
   },
   {
    "duration": 23,
    "start_time": "2022-05-21T10:19:41.006Z"
   },
   {
    "duration": 20,
    "start_time": "2022-05-21T10:19:41.030Z"
   },
   {
    "duration": 16,
    "start_time": "2022-05-21T10:19:41.051Z"
   },
   {
    "duration": 19,
    "start_time": "2022-05-21T10:19:41.068Z"
   },
   {
    "duration": 4,
    "start_time": "2022-05-21T10:19:41.089Z"
   },
   {
    "duration": 8,
    "start_time": "2022-05-21T10:19:41.094Z"
   },
   {
    "duration": 6,
    "start_time": "2022-05-21T10:19:41.105Z"
   },
   {
    "duration": 36,
    "start_time": "2022-05-21T10:19:41.113Z"
   },
   {
    "duration": 15,
    "start_time": "2022-05-21T10:19:41.151Z"
   },
   {
    "duration": 6,
    "start_time": "2022-05-21T10:19:41.168Z"
   },
   {
    "duration": 16,
    "start_time": "2022-05-21T10:19:41.175Z"
   },
   {
    "duration": 5,
    "start_time": "2022-05-21T10:19:41.193Z"
   },
   {
    "duration": 5,
    "start_time": "2022-05-21T10:19:41.199Z"
   },
   {
    "duration": 11,
    "start_time": "2022-05-21T10:19:41.206Z"
   },
   {
    "duration": 29,
    "start_time": "2022-05-21T10:19:41.218Z"
   },
   {
    "duration": 15,
    "start_time": "2022-05-21T10:19:41.257Z"
   },
   {
    "duration": 20,
    "start_time": "2022-05-21T10:19:41.273Z"
   },
   {
    "duration": 11,
    "start_time": "2022-05-21T10:19:41.295Z"
   },
   {
    "duration": 7,
    "start_time": "2022-05-21T10:19:41.307Z"
   },
   {
    "duration": 9,
    "start_time": "2022-05-21T10:19:41.316Z"
   },
   {
    "duration": 33,
    "start_time": "2022-05-21T10:19:41.326Z"
   },
   {
    "duration": 22,
    "start_time": "2022-05-21T10:19:41.361Z"
   },
   {
    "duration": 18,
    "start_time": "2022-05-21T10:19:41.385Z"
   },
   {
    "duration": 18,
    "start_time": "2022-05-21T10:19:41.405Z"
   },
   {
    "duration": 25,
    "start_time": "2022-05-21T10:19:41.427Z"
   },
   {
    "duration": 11,
    "start_time": "2022-05-21T10:19:41.458Z"
   },
   {
    "duration": 14,
    "start_time": "2022-05-21T10:19:41.471Z"
   },
   {
    "duration": 6,
    "start_time": "2022-05-21T10:19:41.487Z"
   },
   {
    "duration": 9,
    "start_time": "2022-05-21T10:19:41.494Z"
   },
   {
    "duration": 11,
    "start_time": "2022-05-21T10:19:41.504Z"
   },
   {
    "duration": 23,
    "start_time": "2022-05-21T10:19:41.517Z"
   },
   {
    "duration": 30,
    "start_time": "2022-05-21T10:19:41.541Z"
   },
   {
    "duration": 13,
    "start_time": "2022-05-21T10:19:41.573Z"
   },
   {
    "duration": 100,
    "start_time": "2022-05-21T10:19:41.588Z"
   },
   {
    "duration": 0,
    "start_time": "2022-05-21T10:19:41.690Z"
   },
   {
    "duration": 0,
    "start_time": "2022-05-21T10:19:41.691Z"
   },
   {
    "duration": 0,
    "start_time": "2022-05-21T10:19:41.693Z"
   },
   {
    "duration": 0,
    "start_time": "2022-05-21T10:19:41.694Z"
   },
   {
    "duration": 0,
    "start_time": "2022-05-21T10:19:41.695Z"
   },
   {
    "duration": 0,
    "start_time": "2022-05-21T10:19:41.696Z"
   },
   {
    "duration": 0,
    "start_time": "2022-05-21T10:19:41.697Z"
   },
   {
    "duration": 0,
    "start_time": "2022-05-21T10:19:41.698Z"
   },
   {
    "duration": 0,
    "start_time": "2022-05-21T10:19:41.699Z"
   },
   {
    "duration": 0,
    "start_time": "2022-05-21T10:19:41.700Z"
   },
   {
    "duration": 0,
    "start_time": "2022-05-21T10:19:41.701Z"
   },
   {
    "duration": 0,
    "start_time": "2022-05-21T10:19:41.702Z"
   },
   {
    "duration": 0,
    "start_time": "2022-05-21T10:19:41.704Z"
   },
   {
    "duration": 0,
    "start_time": "2022-05-21T10:19:41.705Z"
   },
   {
    "duration": 0,
    "start_time": "2022-05-21T10:19:41.706Z"
   },
   {
    "duration": 0,
    "start_time": "2022-05-21T10:19:41.708Z"
   },
   {
    "duration": 0,
    "start_time": "2022-05-21T10:19:41.729Z"
   },
   {
    "duration": 0,
    "start_time": "2022-05-21T10:19:41.730Z"
   },
   {
    "duration": 0,
    "start_time": "2022-05-21T10:19:41.731Z"
   },
   {
    "duration": 0,
    "start_time": "2022-05-21T10:19:41.731Z"
   },
   {
    "duration": 0,
    "start_time": "2022-05-21T10:19:41.732Z"
   },
   {
    "duration": 0,
    "start_time": "2022-05-21T10:19:41.733Z"
   },
   {
    "duration": 0,
    "start_time": "2022-05-21T10:19:41.734Z"
   },
   {
    "duration": 0,
    "start_time": "2022-05-21T10:19:41.735Z"
   },
   {
    "duration": 0,
    "start_time": "2022-05-21T10:19:41.736Z"
   },
   {
    "duration": 0,
    "start_time": "2022-05-21T10:19:41.737Z"
   },
   {
    "duration": 0,
    "start_time": "2022-05-21T10:19:41.738Z"
   },
   {
    "duration": 0,
    "start_time": "2022-05-21T10:19:41.738Z"
   },
   {
    "duration": 0,
    "start_time": "2022-05-21T10:19:41.739Z"
   },
   {
    "duration": 17,
    "start_time": "2022-05-21T10:22:04.262Z"
   },
   {
    "duration": 7,
    "start_time": "2022-05-21T10:24:30.326Z"
   },
   {
    "duration": 4,
    "start_time": "2022-05-21T10:24:46.281Z"
   },
   {
    "duration": 5,
    "start_time": "2022-05-21T10:24:47.353Z"
   },
   {
    "duration": 4,
    "start_time": "2022-05-21T10:24:48.651Z"
   },
   {
    "duration": 9,
    "start_time": "2022-05-21T10:24:53.217Z"
   },
   {
    "duration": 12,
    "start_time": "2022-05-21T10:24:55.958Z"
   },
   {
    "duration": 29,
    "start_time": "2022-05-21T10:27:45.463Z"
   },
   {
    "duration": 11,
    "start_time": "2022-05-21T10:29:21.415Z"
   },
   {
    "duration": 6,
    "start_time": "2022-05-21T10:29:39.956Z"
   },
   {
    "duration": 613,
    "start_time": "2022-05-21T10:44:39.251Z"
   },
   {
    "duration": 14,
    "start_time": "2022-05-21T10:44:39.865Z"
   },
   {
    "duration": 4,
    "start_time": "2022-05-21T10:44:39.881Z"
   },
   {
    "duration": 10,
    "start_time": "2022-05-21T10:44:39.886Z"
   },
   {
    "duration": 43,
    "start_time": "2022-05-21T10:44:39.899Z"
   },
   {
    "duration": 19,
    "start_time": "2022-05-21T10:44:39.945Z"
   },
   {
    "duration": 17,
    "start_time": "2022-05-21T10:44:39.966Z"
   },
   {
    "duration": 16,
    "start_time": "2022-05-21T10:44:39.984Z"
   },
   {
    "duration": 11,
    "start_time": "2022-05-21T10:44:40.002Z"
   },
   {
    "duration": 21,
    "start_time": "2022-05-21T10:44:40.015Z"
   },
   {
    "duration": 30,
    "start_time": "2022-05-21T10:44:40.041Z"
   },
   {
    "duration": 10,
    "start_time": "2022-05-21T10:44:40.073Z"
   },
   {
    "duration": 9,
    "start_time": "2022-05-21T10:44:40.084Z"
   },
   {
    "duration": 16,
    "start_time": "2022-05-21T10:44:40.096Z"
   },
   {
    "duration": 5,
    "start_time": "2022-05-21T10:44:40.114Z"
   },
   {
    "duration": 40,
    "start_time": "2022-05-21T10:44:40.121Z"
   },
   {
    "duration": 8,
    "start_time": "2022-05-21T10:44:40.163Z"
   },
   {
    "duration": 8,
    "start_time": "2022-05-21T10:44:40.173Z"
   },
   {
    "duration": 10,
    "start_time": "2022-05-21T10:44:40.182Z"
   },
   {
    "duration": 14,
    "start_time": "2022-05-21T10:44:40.193Z"
   },
   {
    "duration": 7,
    "start_time": "2022-05-21T10:44:40.208Z"
   },
   {
    "duration": 15,
    "start_time": "2022-05-21T10:44:40.216Z"
   },
   {
    "duration": 34,
    "start_time": "2022-05-21T10:44:40.232Z"
   },
   {
    "duration": 6,
    "start_time": "2022-05-21T10:44:40.268Z"
   },
   {
    "duration": 11,
    "start_time": "2022-05-21T10:44:40.275Z"
   },
   {
    "duration": 22,
    "start_time": "2022-05-21T10:44:40.287Z"
   },
   {
    "duration": 21,
    "start_time": "2022-05-21T10:44:40.311Z"
   },
   {
    "duration": 41,
    "start_time": "2022-05-21T10:44:40.336Z"
   },
   {
    "duration": 5,
    "start_time": "2022-05-21T10:44:40.379Z"
   },
   {
    "duration": 13,
    "start_time": "2022-05-21T10:44:40.386Z"
   },
   {
    "duration": 27,
    "start_time": "2022-05-21T10:44:40.401Z"
   },
   {
    "duration": 37,
    "start_time": "2022-05-21T10:44:40.437Z"
   },
   {
    "duration": 13,
    "start_time": "2022-05-21T10:44:40.476Z"
   },
   {
    "duration": 20,
    "start_time": "2022-05-21T10:44:40.491Z"
   },
   {
    "duration": 7,
    "start_time": "2022-05-21T10:44:40.512Z"
   },
   {
    "duration": 49,
    "start_time": "2022-05-21T10:44:40.520Z"
   },
   {
    "duration": 17,
    "start_time": "2022-05-21T10:44:40.570Z"
   },
   {
    "duration": 5,
    "start_time": "2022-05-21T10:44:40.588Z"
   },
   {
    "duration": 6,
    "start_time": "2022-05-21T10:44:40.595Z"
   },
   {
    "duration": 10,
    "start_time": "2022-05-21T10:44:40.602Z"
   },
   {
    "duration": 8,
    "start_time": "2022-05-21T10:44:40.616Z"
   },
   {
    "duration": 44,
    "start_time": "2022-05-21T10:44:40.625Z"
   },
   {
    "duration": 14,
    "start_time": "2022-05-21T10:44:40.670Z"
   },
   {
    "duration": 5,
    "start_time": "2022-05-21T10:44:40.685Z"
   },
   {
    "duration": 17,
    "start_time": "2022-05-21T10:44:40.692Z"
   },
   {
    "duration": 26,
    "start_time": "2022-05-21T10:44:40.711Z"
   },
   {
    "duration": 8,
    "start_time": "2022-05-21T10:44:40.738Z"
   },
   {
    "duration": 22,
    "start_time": "2022-05-21T10:44:40.748Z"
   },
   {
    "duration": 6,
    "start_time": "2022-05-21T10:44:40.772Z"
   },
   {
    "duration": 6,
    "start_time": "2022-05-21T10:44:40.779Z"
   },
   {
    "duration": 10,
    "start_time": "2022-05-21T10:44:40.786Z"
   },
   {
    "duration": 6,
    "start_time": "2022-05-21T10:44:40.798Z"
   },
   {
    "duration": 29,
    "start_time": "2022-05-21T10:44:40.806Z"
   },
   {
    "duration": 39,
    "start_time": "2022-05-21T10:44:40.836Z"
   },
   {
    "duration": 8,
    "start_time": "2022-05-21T10:44:40.877Z"
   },
   {
    "duration": 7,
    "start_time": "2022-05-21T10:44:40.887Z"
   },
   {
    "duration": 6,
    "start_time": "2022-05-21T10:44:40.895Z"
   },
   {
    "duration": 8,
    "start_time": "2022-05-21T10:44:40.903Z"
   },
   {
    "duration": 47,
    "start_time": "2022-05-21T10:44:40.912Z"
   },
   {
    "duration": 12,
    "start_time": "2022-05-21T10:44:40.961Z"
   },
   {
    "duration": 14,
    "start_time": "2022-05-21T10:44:40.975Z"
   },
   {
    "duration": 9,
    "start_time": "2022-05-21T10:44:40.991Z"
   },
   {
    "duration": 10,
    "start_time": "2022-05-21T10:44:41.001Z"
   },
   {
    "duration": 24,
    "start_time": "2022-05-21T10:44:41.013Z"
   },
   {
    "duration": 25,
    "start_time": "2022-05-21T10:44:41.044Z"
   },
   {
    "duration": 13,
    "start_time": "2022-05-21T10:44:41.071Z"
   },
   {
    "duration": 13,
    "start_time": "2022-05-21T10:44:41.086Z"
   },
   {
    "duration": 16,
    "start_time": "2022-05-21T10:44:41.100Z"
   },
   {
    "duration": 35,
    "start_time": "2022-05-21T10:44:41.118Z"
   },
   {
    "duration": 1068,
    "start_time": "2022-05-21T10:45:27.625Z"
   },
   {
    "duration": 14,
    "start_time": "2022-05-21T10:45:28.695Z"
   },
   {
    "duration": 5,
    "start_time": "2022-05-21T10:45:28.710Z"
   },
   {
    "duration": 60,
    "start_time": "2022-05-21T10:45:28.718Z"
   },
   {
    "duration": 22,
    "start_time": "2022-05-21T10:45:28.780Z"
   },
   {
    "duration": 9,
    "start_time": "2022-05-21T10:45:28.804Z"
   },
   {
    "duration": 33,
    "start_time": "2022-05-21T10:45:28.815Z"
   },
   {
    "duration": 4,
    "start_time": "2022-05-21T10:45:28.854Z"
   },
   {
    "duration": 15,
    "start_time": "2022-05-21T10:45:28.859Z"
   },
   {
    "duration": 13,
    "start_time": "2022-05-21T10:45:28.878Z"
   },
   {
    "duration": 6,
    "start_time": "2022-05-21T10:45:28.893Z"
   },
   {
    "duration": 14,
    "start_time": "2022-05-21T10:45:28.900Z"
   },
   {
    "duration": 25,
    "start_time": "2022-05-21T10:45:28.916Z"
   },
   {
    "duration": 23,
    "start_time": "2022-05-21T10:45:28.942Z"
   },
   {
    "duration": 35,
    "start_time": "2022-05-21T10:45:28.967Z"
   },
   {
    "duration": 8,
    "start_time": "2022-05-21T10:45:29.004Z"
   },
   {
    "duration": 68,
    "start_time": "2022-05-21T10:45:29.014Z"
   },
   {
    "duration": 27,
    "start_time": "2022-05-21T10:45:29.084Z"
   },
   {
    "duration": 74,
    "start_time": "2022-05-21T10:45:29.113Z"
   },
   {
    "duration": 55,
    "start_time": "2022-05-21T10:45:29.189Z"
   },
   {
    "duration": 78,
    "start_time": "2022-05-21T10:45:29.245Z"
   },
   {
    "duration": 57,
    "start_time": "2022-05-21T10:45:29.325Z"
   },
   {
    "duration": 24,
    "start_time": "2022-05-21T10:45:29.383Z"
   },
   {
    "duration": 47,
    "start_time": "2022-05-21T10:45:29.409Z"
   },
   {
    "duration": 39,
    "start_time": "2022-05-21T10:45:29.462Z"
   },
   {
    "duration": 115,
    "start_time": "2022-05-21T10:45:29.503Z"
   },
   {
    "duration": 72,
    "start_time": "2022-05-21T10:45:29.620Z"
   },
   {
    "duration": 16,
    "start_time": "2022-05-21T10:45:29.698Z"
   },
   {
    "duration": 65,
    "start_time": "2022-05-21T10:45:29.716Z"
   },
   {
    "duration": 27,
    "start_time": "2022-05-21T10:45:29.783Z"
   },
   {
    "duration": 57,
    "start_time": "2022-05-21T10:45:29.812Z"
   },
   {
    "duration": 30,
    "start_time": "2022-05-21T10:45:29.871Z"
   },
   {
    "duration": 62,
    "start_time": "2022-05-21T10:45:29.903Z"
   },
   {
    "duration": 30,
    "start_time": "2022-05-21T10:45:29.967Z"
   },
   {
    "duration": 73,
    "start_time": "2022-05-21T10:45:30.000Z"
   },
   {
    "duration": 41,
    "start_time": "2022-05-21T10:45:30.075Z"
   },
   {
    "duration": 96,
    "start_time": "2022-05-21T10:45:30.118Z"
   },
   {
    "duration": 59,
    "start_time": "2022-05-21T10:45:30.216Z"
   },
   {
    "duration": 81,
    "start_time": "2022-05-21T10:45:30.278Z"
   },
   {
    "duration": 50,
    "start_time": "2022-05-21T10:45:30.362Z"
   },
   {
    "duration": 89,
    "start_time": "2022-05-21T10:45:30.414Z"
   },
   {
    "duration": 1354,
    "start_time": "2022-05-21T10:45:30.505Z"
   },
   {
    "duration": 341,
    "start_time": "2022-05-21T10:45:31.861Z"
   },
   {
    "duration": 69,
    "start_time": "2022-05-21T10:45:32.204Z"
   },
   {
    "duration": 58,
    "start_time": "2022-05-21T10:45:32.275Z"
   },
   {
    "duration": 202,
    "start_time": "2022-05-21T10:45:32.338Z"
   },
   {
    "duration": 50,
    "start_time": "2022-05-21T10:45:32.542Z"
   },
   {
    "duration": 21,
    "start_time": "2022-05-21T10:45:32.594Z"
   },
   {
    "duration": 93,
    "start_time": "2022-05-21T10:45:32.617Z"
   },
   {
    "duration": 53,
    "start_time": "2022-05-21T10:45:32.712Z"
   },
   {
    "duration": 19,
    "start_time": "2022-05-21T10:45:32.767Z"
   },
   {
    "duration": 13,
    "start_time": "2022-05-21T10:45:32.788Z"
   },
   {
    "duration": 10,
    "start_time": "2022-05-21T10:45:32.803Z"
   },
   {
    "duration": 20,
    "start_time": "2022-05-21T10:45:32.815Z"
   },
   {
    "duration": 51,
    "start_time": "2022-05-21T10:45:32.836Z"
   },
   {
    "duration": 12,
    "start_time": "2022-05-21T10:45:32.890Z"
   },
   {
    "duration": 12,
    "start_time": "2022-05-21T10:45:32.903Z"
   },
   {
    "duration": 18,
    "start_time": "2022-05-21T10:45:32.917Z"
   },
   {
    "duration": 36,
    "start_time": "2022-05-21T10:45:32.943Z"
   },
   {
    "duration": 26,
    "start_time": "2022-05-21T10:45:32.981Z"
   },
   {
    "duration": 6,
    "start_time": "2022-05-21T10:45:33.009Z"
   },
   {
    "duration": 44,
    "start_time": "2022-05-21T10:45:33.017Z"
   },
   {
    "duration": 31,
    "start_time": "2022-05-21T10:45:33.062Z"
   },
   {
    "duration": 11,
    "start_time": "2022-05-21T10:45:33.094Z"
   },
   {
    "duration": 16,
    "start_time": "2022-05-21T10:45:33.107Z"
   },
   {
    "duration": 53,
    "start_time": "2022-05-21T10:45:33.124Z"
   },
   {
    "duration": 18,
    "start_time": "2022-05-21T10:45:33.179Z"
   },
   {
    "duration": 12,
    "start_time": "2022-05-21T10:45:33.198Z"
   },
   {
    "duration": 8,
    "start_time": "2022-05-21T10:45:33.212Z"
   },
   {
    "duration": 31,
    "start_time": "2022-05-21T10:45:33.221Z"
   },
   {
    "duration": 613,
    "start_time": "2022-05-21T11:09:23.478Z"
   },
   {
    "duration": 15,
    "start_time": "2022-05-21T11:09:24.094Z"
   },
   {
    "duration": 36,
    "start_time": "2022-05-21T11:09:24.112Z"
   },
   {
    "duration": 21,
    "start_time": "2022-05-21T11:09:24.151Z"
   },
   {
    "duration": 14,
    "start_time": "2022-05-21T11:09:24.174Z"
   },
   {
    "duration": 7,
    "start_time": "2022-05-21T11:09:24.189Z"
   },
   {
    "duration": 15,
    "start_time": "2022-05-21T11:09:24.198Z"
   },
   {
    "duration": 4,
    "start_time": "2022-05-21T11:09:24.215Z"
   },
   {
    "duration": 17,
    "start_time": "2022-05-21T11:09:24.221Z"
   },
   {
    "duration": 22,
    "start_time": "2022-05-21T11:09:24.241Z"
   },
   {
    "duration": 17,
    "start_time": "2022-05-21T11:09:24.265Z"
   },
   {
    "duration": 9,
    "start_time": "2022-05-21T11:09:24.284Z"
   },
   {
    "duration": 7,
    "start_time": "2022-05-21T11:09:24.295Z"
   },
   {
    "duration": 30,
    "start_time": "2022-05-21T11:09:24.303Z"
   },
   {
    "duration": 33,
    "start_time": "2022-05-21T11:09:24.335Z"
   },
   {
    "duration": 6,
    "start_time": "2022-05-21T11:09:24.370Z"
   },
   {
    "duration": 18,
    "start_time": "2022-05-21T11:09:24.378Z"
   },
   {
    "duration": 17,
    "start_time": "2022-05-21T11:09:24.401Z"
   },
   {
    "duration": 35,
    "start_time": "2022-05-21T11:09:24.420Z"
   },
   {
    "duration": 26,
    "start_time": "2022-05-21T11:09:24.457Z"
   },
   {
    "duration": 10,
    "start_time": "2022-05-21T11:09:24.485Z"
   },
   {
    "duration": 9,
    "start_time": "2022-05-21T11:09:24.496Z"
   },
   {
    "duration": 9,
    "start_time": "2022-05-21T11:09:24.507Z"
   },
   {
    "duration": 6,
    "start_time": "2022-05-21T11:09:24.518Z"
   },
   {
    "duration": 46,
    "start_time": "2022-05-21T11:09:24.526Z"
   },
   {
    "duration": 31,
    "start_time": "2022-05-21T11:09:24.573Z"
   },
   {
    "duration": 12,
    "start_time": "2022-05-21T11:09:24.606Z"
   },
   {
    "duration": 27,
    "start_time": "2022-05-21T11:09:24.623Z"
   },
   {
    "duration": 19,
    "start_time": "2022-05-21T11:09:24.652Z"
   },
   {
    "duration": 15,
    "start_time": "2022-05-21T11:09:24.672Z"
   },
   {
    "duration": 9,
    "start_time": "2022-05-21T11:09:24.688Z"
   },
   {
    "duration": 10,
    "start_time": "2022-05-21T11:09:24.698Z"
   },
   {
    "duration": 6,
    "start_time": "2022-05-21T11:09:24.710Z"
   },
   {
    "duration": 27,
    "start_time": "2022-05-21T11:09:24.718Z"
   },
   {
    "duration": 28,
    "start_time": "2022-05-21T11:09:24.747Z"
   },
   {
    "duration": 17,
    "start_time": "2022-05-21T11:09:24.777Z"
   },
   {
    "duration": 17,
    "start_time": "2022-05-21T11:09:24.795Z"
   },
   {
    "duration": 11,
    "start_time": "2022-05-21T11:09:24.814Z"
   },
   {
    "duration": 47,
    "start_time": "2022-05-21T11:09:24.829Z"
   },
   {
    "duration": 13,
    "start_time": "2022-05-21T11:09:24.879Z"
   },
   {
    "duration": 14,
    "start_time": "2022-05-21T11:09:24.893Z"
   },
   {
    "duration": 52,
    "start_time": "2022-05-21T11:09:24.909Z"
   },
   {
    "duration": 11,
    "start_time": "2022-05-21T11:09:24.963Z"
   },
   {
    "duration": 15,
    "start_time": "2022-05-21T11:09:24.976Z"
   },
   {
    "duration": 4,
    "start_time": "2022-05-21T11:09:24.993Z"
   },
   {
    "duration": 20,
    "start_time": "2022-05-21T11:09:24.999Z"
   },
   {
    "duration": 38,
    "start_time": "2022-05-21T11:09:25.022Z"
   },
   {
    "duration": 8,
    "start_time": "2022-05-21T11:09:25.062Z"
   },
   {
    "duration": 7,
    "start_time": "2022-05-21T11:09:25.072Z"
   },
   {
    "duration": 7,
    "start_time": "2022-05-21T11:09:25.081Z"
   },
   {
    "duration": 7,
    "start_time": "2022-05-21T11:09:25.090Z"
   },
   {
    "duration": 34,
    "start_time": "2022-05-21T11:09:25.099Z"
   },
   {
    "duration": 43,
    "start_time": "2022-05-21T11:09:25.135Z"
   },
   {
    "duration": 12,
    "start_time": "2022-05-21T11:09:25.180Z"
   },
   {
    "duration": 14,
    "start_time": "2022-05-21T11:09:25.194Z"
   },
   {
    "duration": 7,
    "start_time": "2022-05-21T11:09:25.210Z"
   },
   {
    "duration": 7,
    "start_time": "2022-05-21T11:09:25.218Z"
   },
   {
    "duration": 48,
    "start_time": "2022-05-21T11:09:25.227Z"
   },
   {
    "duration": 14,
    "start_time": "2022-05-21T11:09:25.277Z"
   },
   {
    "duration": 25,
    "start_time": "2022-05-21T11:09:25.293Z"
   },
   {
    "duration": 15,
    "start_time": "2022-05-21T11:09:25.321Z"
   },
   {
    "duration": 37,
    "start_time": "2022-05-21T11:09:25.340Z"
   },
   {
    "duration": 14,
    "start_time": "2022-05-21T11:09:25.379Z"
   },
   {
    "duration": 6,
    "start_time": "2022-05-21T11:09:25.395Z"
   },
   {
    "duration": 13,
    "start_time": "2022-05-21T11:09:25.402Z"
   },
   {
    "duration": 10,
    "start_time": "2022-05-21T11:09:25.416Z"
   },
   {
    "duration": 46,
    "start_time": "2022-05-21T11:09:25.427Z"
   },
   {
    "duration": 12,
    "start_time": "2022-05-21T11:09:25.474Z"
   },
   {
    "duration": 10,
    "start_time": "2022-05-21T11:09:25.488Z"
   },
   {
    "duration": 12,
    "start_time": "2022-05-21T11:09:25.499Z"
   },
   {
    "duration": 987,
    "start_time": "2022-05-21T17:31:04.087Z"
   },
   {
    "duration": 13,
    "start_time": "2022-05-21T17:31:05.076Z"
   },
   {
    "duration": 4,
    "start_time": "2022-05-21T17:31:05.090Z"
   },
   {
    "duration": 9,
    "start_time": "2022-05-21T17:31:05.096Z"
   },
   {
    "duration": 13,
    "start_time": "2022-05-21T17:31:05.107Z"
   },
   {
    "duration": 8,
    "start_time": "2022-05-21T17:31:05.121Z"
   },
   {
    "duration": 20,
    "start_time": "2022-05-21T17:31:05.130Z"
   },
   {
    "duration": 5,
    "start_time": "2022-05-21T17:31:05.152Z"
   },
   {
    "duration": 29,
    "start_time": "2022-05-21T17:31:05.158Z"
   },
   {
    "duration": 10,
    "start_time": "2022-05-21T17:31:05.189Z"
   },
   {
    "duration": 6,
    "start_time": "2022-05-21T17:31:05.201Z"
   },
   {
    "duration": 10,
    "start_time": "2022-05-21T17:31:05.209Z"
   },
   {
    "duration": 6,
    "start_time": "2022-05-21T17:31:05.220Z"
   },
   {
    "duration": 14,
    "start_time": "2022-05-21T17:31:05.229Z"
   },
   {
    "duration": 38,
    "start_time": "2022-05-21T17:31:05.245Z"
   },
   {
    "duration": 6,
    "start_time": "2022-05-21T17:31:05.285Z"
   },
   {
    "duration": 10,
    "start_time": "2022-05-21T17:31:05.292Z"
   },
   {
    "duration": 8,
    "start_time": "2022-05-21T17:31:05.304Z"
   },
   {
    "duration": 8,
    "start_time": "2022-05-21T17:31:05.313Z"
   },
   {
    "duration": 15,
    "start_time": "2022-05-21T17:31:05.322Z"
   },
   {
    "duration": 10,
    "start_time": "2022-05-21T17:31:05.339Z"
   },
   {
    "duration": 7,
    "start_time": "2022-05-21T17:31:05.383Z"
   },
   {
    "duration": 9,
    "start_time": "2022-05-21T17:31:05.392Z"
   },
   {
    "duration": 5,
    "start_time": "2022-05-21T17:31:05.402Z"
   },
   {
    "duration": 8,
    "start_time": "2022-05-21T17:31:05.409Z"
   },
   {
    "duration": 18,
    "start_time": "2022-05-21T17:31:05.419Z"
   },
   {
    "duration": 22,
    "start_time": "2022-05-21T17:31:08.292Z"
   },
   {
    "duration": 90,
    "start_time": "2022-05-21T17:43:11.409Z"
   },
   {
    "duration": 15,
    "start_time": "2022-05-21T17:43:11.501Z"
   },
   {
    "duration": 4,
    "start_time": "2022-05-21T17:43:11.517Z"
   },
   {
    "duration": 7,
    "start_time": "2022-05-21T17:43:11.523Z"
   },
   {
    "duration": 12,
    "start_time": "2022-05-21T17:43:11.531Z"
   },
   {
    "duration": 5,
    "start_time": "2022-05-21T17:43:11.584Z"
   },
   {
    "duration": 21,
    "start_time": "2022-05-21T17:43:11.590Z"
   },
   {
    "duration": 4,
    "start_time": "2022-05-21T17:43:11.613Z"
   },
   {
    "duration": 5,
    "start_time": "2022-05-21T17:43:11.619Z"
   },
   {
    "duration": 9,
    "start_time": "2022-05-21T17:43:11.626Z"
   },
   {
    "duration": 4,
    "start_time": "2022-05-21T17:43:11.636Z"
   },
   {
    "duration": 48,
    "start_time": "2022-05-21T17:43:11.642Z"
   },
   {
    "duration": 12,
    "start_time": "2022-05-21T17:43:11.692Z"
   },
   {
    "duration": 16,
    "start_time": "2022-05-21T17:43:11.707Z"
   },
   {
    "duration": 6,
    "start_time": "2022-05-21T17:43:11.724Z"
   },
   {
    "duration": 4,
    "start_time": "2022-05-21T17:43:11.732Z"
   },
   {
    "duration": 12,
    "start_time": "2022-05-21T17:43:11.737Z"
   },
   {
    "duration": 10,
    "start_time": "2022-05-21T17:43:11.784Z"
   },
   {
    "duration": 12,
    "start_time": "2022-05-21T17:43:11.796Z"
   },
   {
    "duration": 19,
    "start_time": "2022-05-21T17:43:11.810Z"
   },
   {
    "duration": 9,
    "start_time": "2022-05-21T17:43:11.830Z"
   },
   {
    "duration": 8,
    "start_time": "2022-05-21T17:43:11.841Z"
   },
   {
    "duration": 37,
    "start_time": "2022-05-21T17:43:11.851Z"
   },
   {
    "duration": 5,
    "start_time": "2022-05-21T17:43:11.890Z"
   },
   {
    "duration": 10,
    "start_time": "2022-05-21T17:43:11.897Z"
   },
   {
    "duration": 26,
    "start_time": "2022-05-21T17:43:11.909Z"
   },
   {
    "duration": 48,
    "start_time": "2022-05-21T17:43:11.937Z"
   },
   {
    "duration": 14,
    "start_time": "2022-05-21T17:43:11.991Z"
   },
   {
    "duration": 5,
    "start_time": "2022-05-21T17:43:12.007Z"
   },
   {
    "duration": 14,
    "start_time": "2022-05-21T17:43:12.013Z"
   },
   {
    "duration": 7,
    "start_time": "2022-05-21T17:43:12.028Z"
   },
   {
    "duration": 13,
    "start_time": "2022-05-21T17:43:12.036Z"
   },
   {
    "duration": 6,
    "start_time": "2022-05-21T17:43:12.050Z"
   },
   {
    "duration": 24,
    "start_time": "2022-05-21T17:43:12.085Z"
   },
   {
    "duration": 8,
    "start_time": "2022-05-21T17:43:12.112Z"
   },
   {
    "duration": 13,
    "start_time": "2022-05-21T17:43:12.122Z"
   },
   {
    "duration": 13,
    "start_time": "2022-05-21T17:43:12.137Z"
   },
   {
    "duration": 32,
    "start_time": "2022-05-21T17:43:12.152Z"
   },
   {
    "duration": 12,
    "start_time": "2022-05-21T17:43:12.186Z"
   },
   {
    "duration": 5,
    "start_time": "2022-05-21T17:43:12.200Z"
   },
   {
    "duration": 15,
    "start_time": "2022-05-21T17:43:12.207Z"
   },
   {
    "duration": 17,
    "start_time": "2022-05-21T17:43:12.224Z"
   },
   {
    "duration": 44,
    "start_time": "2022-05-21T17:43:12.243Z"
   },
   {
    "duration": 31,
    "start_time": "2022-05-21T17:43:12.289Z"
   },
   {
    "duration": 34,
    "start_time": "2022-05-21T17:43:12.322Z"
   },
   {
    "duration": 37,
    "start_time": "2022-05-21T17:43:12.358Z"
   },
   {
    "duration": 24,
    "start_time": "2022-05-21T17:43:12.396Z"
   },
   {
    "duration": 7,
    "start_time": "2022-05-21T17:43:12.422Z"
   },
   {
    "duration": 12,
    "start_time": "2022-05-21T17:43:12.430Z"
   },
   {
    "duration": 7,
    "start_time": "2022-05-21T17:43:12.443Z"
   },
   {
    "duration": 12,
    "start_time": "2022-05-21T17:43:12.451Z"
   },
   {
    "duration": 19,
    "start_time": "2022-05-21T17:43:12.465Z"
   },
   {
    "duration": 9,
    "start_time": "2022-05-21T17:43:12.486Z"
   },
   {
    "duration": 9,
    "start_time": "2022-05-21T17:43:12.497Z"
   },
   {
    "duration": 17,
    "start_time": "2022-05-21T17:43:12.508Z"
   },
   {
    "duration": 26,
    "start_time": "2022-05-21T17:43:12.527Z"
   },
   {
    "duration": 7,
    "start_time": "2022-05-21T17:43:12.555Z"
   },
   {
    "duration": 22,
    "start_time": "2022-05-21T17:43:12.564Z"
   },
   {
    "duration": 24,
    "start_time": "2022-05-21T17:43:12.588Z"
   },
   {
    "duration": 30,
    "start_time": "2022-05-21T17:43:12.614Z"
   },
   {
    "duration": 7,
    "start_time": "2022-05-21T17:43:12.646Z"
   },
   {
    "duration": 37,
    "start_time": "2022-05-21T17:43:12.655Z"
   },
   {
    "duration": 25,
    "start_time": "2022-05-21T17:43:12.693Z"
   },
   {
    "duration": 29,
    "start_time": "2022-05-21T17:43:12.720Z"
   },
   {
    "duration": 34,
    "start_time": "2022-05-21T17:43:12.751Z"
   },
   {
    "duration": 30,
    "start_time": "2022-05-21T17:43:12.787Z"
   },
   {
    "duration": 708,
    "start_time": "2022-05-22T07:14:38.511Z"
   },
   {
    "duration": 111,
    "start_time": "2022-05-22T07:14:40.293Z"
   },
   {
    "duration": 18,
    "start_time": "2022-05-22T07:14:41.713Z"
   },
   {
    "duration": 17,
    "start_time": "2022-05-22T07:14:54.424Z"
   },
   {
    "duration": 19,
    "start_time": "2022-05-22T07:16:52.288Z"
   },
   {
    "duration": 4,
    "start_time": "2022-05-22T07:16:57.389Z"
   },
   {
    "duration": 5,
    "start_time": "2022-05-22T07:17:46.970Z"
   },
   {
    "duration": 10,
    "start_time": "2022-05-22T07:19:40.468Z"
   },
   {
    "duration": 16,
    "start_time": "2022-05-22T07:20:25.456Z"
   },
   {
    "duration": 5,
    "start_time": "2022-05-22T07:23:17.979Z"
   },
   {
    "duration": 3,
    "start_time": "2022-05-22T07:24:11.543Z"
   },
   {
    "duration": 2,
    "start_time": "2022-05-22T07:27:40.673Z"
   },
   {
    "duration": 4,
    "start_time": "2022-05-22T07:27:43.316Z"
   },
   {
    "duration": 24,
    "start_time": "2022-05-22T07:29:08.651Z"
   },
   {
    "duration": 52,
    "start_time": "2022-05-22T07:30:01.375Z"
   },
   {
    "duration": 40,
    "start_time": "2022-05-22T07:30:22.465Z"
   },
   {
    "duration": 25,
    "start_time": "2022-05-22T07:30:31.780Z"
   },
   {
    "duration": 4,
    "start_time": "2022-05-22T07:30:42.704Z"
   },
   {
    "duration": 74,
    "start_time": "2022-05-22T07:46:22.448Z"
   },
   {
    "duration": 6,
    "start_time": "2022-05-22T07:46:36.627Z"
   },
   {
    "duration": 4,
    "start_time": "2022-05-22T07:47:04.854Z"
   },
   {
    "duration": 463,
    "start_time": "2022-05-22T07:55:03.728Z"
   },
   {
    "duration": 59,
    "start_time": "2022-05-22T07:55:04.193Z"
   },
   {
    "duration": 18,
    "start_time": "2022-05-22T07:55:04.254Z"
   },
   {
    "duration": 15,
    "start_time": "2022-05-22T07:55:04.274Z"
   },
   {
    "duration": 13,
    "start_time": "2022-05-22T07:55:04.291Z"
   },
   {
    "duration": 2,
    "start_time": "2022-05-22T07:55:04.306Z"
   },
   {
    "duration": 8,
    "start_time": "2022-05-22T07:55:04.310Z"
   },
   {
    "duration": 33,
    "start_time": "2022-05-22T07:55:04.320Z"
   },
   {
    "duration": 13,
    "start_time": "2022-05-22T07:55:04.354Z"
   },
   {
    "duration": 4,
    "start_time": "2022-05-22T07:55:04.370Z"
   },
   {
    "duration": 14,
    "start_time": "2022-05-22T07:55:04.376Z"
   },
   {
    "duration": 21,
    "start_time": "2022-05-22T07:55:04.391Z"
   },
   {
    "duration": 30,
    "start_time": "2022-05-22T07:55:04.413Z"
   },
   {
    "duration": 3,
    "start_time": "2022-05-22T07:55:04.445Z"
   },
   {
    "duration": 25,
    "start_time": "2022-05-22T07:55:04.449Z"
   },
   {
    "duration": 8,
    "start_time": "2022-05-22T07:55:04.476Z"
   },
   {
    "duration": 5,
    "start_time": "2022-05-22T07:55:04.486Z"
   },
   {
    "duration": 10,
    "start_time": "2022-05-22T07:55:04.492Z"
   },
   {
    "duration": 7,
    "start_time": "2022-05-22T07:55:04.504Z"
   },
   {
    "duration": 15,
    "start_time": "2022-05-22T07:55:04.513Z"
   },
   {
    "duration": 5,
    "start_time": "2022-05-22T07:55:04.530Z"
   },
   {
    "duration": 15,
    "start_time": "2022-05-22T07:55:04.537Z"
   },
   {
    "duration": 9,
    "start_time": "2022-05-22T07:55:04.554Z"
   },
   {
    "duration": 8,
    "start_time": "2022-05-22T07:55:04.565Z"
   },
   {
    "duration": 8,
    "start_time": "2022-05-22T07:55:04.574Z"
   },
   {
    "duration": 15,
    "start_time": "2022-05-22T07:55:04.584Z"
   },
   {
    "duration": 9,
    "start_time": "2022-05-22T07:55:04.600Z"
   },
   {
    "duration": 0,
    "start_time": "2022-05-22T07:55:04.612Z"
   },
   {
    "duration": 0,
    "start_time": "2022-05-22T07:55:04.614Z"
   },
   {
    "duration": 0,
    "start_time": "2022-05-22T07:55:04.615Z"
   },
   {
    "duration": 0,
    "start_time": "2022-05-22T07:55:04.617Z"
   },
   {
    "duration": 0,
    "start_time": "2022-05-22T07:55:04.618Z"
   },
   {
    "duration": 0,
    "start_time": "2022-05-22T07:55:04.653Z"
   },
   {
    "duration": 0,
    "start_time": "2022-05-22T07:55:04.655Z"
   },
   {
    "duration": 0,
    "start_time": "2022-05-22T07:55:04.656Z"
   },
   {
    "duration": 1,
    "start_time": "2022-05-22T07:55:04.657Z"
   },
   {
    "duration": 0,
    "start_time": "2022-05-22T07:55:04.659Z"
   },
   {
    "duration": 0,
    "start_time": "2022-05-22T07:55:04.661Z"
   },
   {
    "duration": 0,
    "start_time": "2022-05-22T07:55:04.662Z"
   },
   {
    "duration": 0,
    "start_time": "2022-05-22T07:55:04.664Z"
   },
   {
    "duration": 0,
    "start_time": "2022-05-22T07:55:04.665Z"
   },
   {
    "duration": 0,
    "start_time": "2022-05-22T07:55:04.666Z"
   },
   {
    "duration": 0,
    "start_time": "2022-05-22T07:55:04.668Z"
   },
   {
    "duration": 0,
    "start_time": "2022-05-22T07:55:04.669Z"
   },
   {
    "duration": 0,
    "start_time": "2022-05-22T07:55:04.671Z"
   },
   {
    "duration": 0,
    "start_time": "2022-05-22T07:55:04.672Z"
   },
   {
    "duration": 0,
    "start_time": "2022-05-22T07:55:04.674Z"
   },
   {
    "duration": 0,
    "start_time": "2022-05-22T07:55:04.675Z"
   },
   {
    "duration": 0,
    "start_time": "2022-05-22T07:55:04.676Z"
   },
   {
    "duration": 0,
    "start_time": "2022-05-22T07:55:04.678Z"
   },
   {
    "duration": 0,
    "start_time": "2022-05-22T07:55:04.679Z"
   },
   {
    "duration": 0,
    "start_time": "2022-05-22T07:55:04.681Z"
   },
   {
    "duration": 0,
    "start_time": "2022-05-22T07:55:04.682Z"
   },
   {
    "duration": 0,
    "start_time": "2022-05-22T07:55:04.684Z"
   },
   {
    "duration": 0,
    "start_time": "2022-05-22T07:55:04.685Z"
   },
   {
    "duration": 0,
    "start_time": "2022-05-22T07:55:04.687Z"
   },
   {
    "duration": 0,
    "start_time": "2022-05-22T07:55:04.688Z"
   },
   {
    "duration": 0,
    "start_time": "2022-05-22T07:55:04.690Z"
   },
   {
    "duration": 0,
    "start_time": "2022-05-22T07:55:04.753Z"
   },
   {
    "duration": 0,
    "start_time": "2022-05-22T07:55:04.754Z"
   },
   {
    "duration": 0,
    "start_time": "2022-05-22T07:55:04.755Z"
   },
   {
    "duration": 0,
    "start_time": "2022-05-22T07:55:04.756Z"
   },
   {
    "duration": 0,
    "start_time": "2022-05-22T07:55:04.757Z"
   },
   {
    "duration": 0,
    "start_time": "2022-05-22T07:55:04.758Z"
   },
   {
    "duration": 1,
    "start_time": "2022-05-22T07:55:04.758Z"
   },
   {
    "duration": 0,
    "start_time": "2022-05-22T07:55:04.759Z"
   },
   {
    "duration": 0,
    "start_time": "2022-05-22T07:55:04.760Z"
   },
   {
    "duration": 0,
    "start_time": "2022-05-22T07:55:04.761Z"
   },
   {
    "duration": 0,
    "start_time": "2022-05-22T07:55:04.762Z"
   },
   {
    "duration": 0,
    "start_time": "2022-05-22T07:55:04.763Z"
   },
   {
    "duration": 0,
    "start_time": "2022-05-22T07:55:04.764Z"
   },
   {
    "duration": 0,
    "start_time": "2022-05-22T07:55:04.765Z"
   },
   {
    "duration": 0,
    "start_time": "2022-05-22T07:55:04.766Z"
   },
   {
    "duration": 0,
    "start_time": "2022-05-22T07:55:04.768Z"
   },
   {
    "duration": 0,
    "start_time": "2022-05-22T07:55:04.769Z"
   },
   {
    "duration": 0,
    "start_time": "2022-05-22T07:55:04.769Z"
   },
   {
    "duration": 0,
    "start_time": "2022-05-22T07:55:04.771Z"
   },
   {
    "duration": 5,
    "start_time": "2022-05-22T07:57:47.132Z"
   },
   {
    "duration": 6,
    "start_time": "2022-05-22T07:58:23.097Z"
   },
   {
    "duration": 7,
    "start_time": "2022-05-22T07:58:42.808Z"
   },
   {
    "duration": 6,
    "start_time": "2022-05-22T08:00:05.723Z"
   },
   {
    "duration": 7,
    "start_time": "2022-05-22T08:00:09.049Z"
   },
   {
    "duration": 6,
    "start_time": "2022-05-22T08:03:02.964Z"
   },
   {
    "duration": 7,
    "start_time": "2022-05-22T08:03:04.655Z"
   },
   {
    "duration": 7,
    "start_time": "2022-05-22T08:05:42.252Z"
   },
   {
    "duration": 6,
    "start_time": "2022-05-22T08:05:45.780Z"
   },
   {
    "duration": 448,
    "start_time": "2022-05-22T08:07:35.287Z"
   },
   {
    "duration": 58,
    "start_time": "2022-05-22T08:07:35.737Z"
   },
   {
    "duration": 21,
    "start_time": "2022-05-22T08:07:35.799Z"
   },
   {
    "duration": 16,
    "start_time": "2022-05-22T08:07:35.823Z"
   },
   {
    "duration": 21,
    "start_time": "2022-05-22T08:07:35.852Z"
   },
   {
    "duration": 5,
    "start_time": "2022-05-22T08:07:35.876Z"
   },
   {
    "duration": 8,
    "start_time": "2022-05-22T08:07:35.884Z"
   },
   {
    "duration": 10,
    "start_time": "2022-05-22T08:07:35.894Z"
   },
   {
    "duration": 15,
    "start_time": "2022-05-22T08:07:35.905Z"
   },
   {
    "duration": 11,
    "start_time": "2022-05-22T08:07:35.922Z"
   },
   {
    "duration": 30,
    "start_time": "2022-05-22T08:07:35.934Z"
   },
   {
    "duration": 6,
    "start_time": "2022-05-22T08:07:35.966Z"
   },
   {
    "duration": 16,
    "start_time": "2022-05-22T08:07:35.974Z"
   },
   {
    "duration": 4,
    "start_time": "2022-05-22T08:07:35.993Z"
   },
   {
    "duration": 16,
    "start_time": "2022-05-22T08:07:35.999Z"
   },
   {
    "duration": 24,
    "start_time": "2022-05-22T08:07:36.016Z"
   },
   {
    "duration": 15,
    "start_time": "2022-05-22T08:07:36.041Z"
   },
   {
    "duration": 12,
    "start_time": "2022-05-22T08:07:36.058Z"
   },
   {
    "duration": 10,
    "start_time": "2022-05-22T08:07:36.072Z"
   },
   {
    "duration": 20,
    "start_time": "2022-05-22T08:07:36.085Z"
   },
   {
    "duration": 6,
    "start_time": "2022-05-22T08:07:36.107Z"
   },
   {
    "duration": 5,
    "start_time": "2022-05-22T08:07:36.116Z"
   },
   {
    "duration": 37,
    "start_time": "2022-05-22T08:07:36.123Z"
   },
   {
    "duration": 15,
    "start_time": "2022-05-22T08:07:36.162Z"
   },
   {
    "duration": 12,
    "start_time": "2022-05-22T08:07:36.178Z"
   },
   {
    "duration": 18,
    "start_time": "2022-05-22T08:07:36.192Z"
   },
   {
    "duration": 10,
    "start_time": "2022-05-22T08:07:36.212Z"
   },
   {
    "duration": 27,
    "start_time": "2022-05-22T08:07:36.228Z"
   },
   {
    "duration": 9,
    "start_time": "2022-05-22T08:07:36.257Z"
   },
   {
    "duration": 12,
    "start_time": "2022-05-22T08:07:36.267Z"
   },
   {
    "duration": 17,
    "start_time": "2022-05-22T08:07:36.281Z"
   },
   {
    "duration": 6,
    "start_time": "2022-05-22T08:07:36.300Z"
   },
   {
    "duration": 11,
    "start_time": "2022-05-22T08:07:36.308Z"
   },
   {
    "duration": 31,
    "start_time": "2022-05-22T08:07:36.322Z"
   },
   {
    "duration": 14,
    "start_time": "2022-05-22T08:07:36.355Z"
   },
   {
    "duration": 12,
    "start_time": "2022-05-22T08:07:36.371Z"
   },
   {
    "duration": 6,
    "start_time": "2022-05-22T08:07:36.385Z"
   },
   {
    "duration": 22,
    "start_time": "2022-05-22T08:07:36.393Z"
   },
   {
    "duration": 35,
    "start_time": "2022-05-22T08:07:36.417Z"
   },
   {
    "duration": 4,
    "start_time": "2022-05-22T08:07:36.454Z"
   },
   {
    "duration": 19,
    "start_time": "2022-05-22T08:07:36.460Z"
   },
   {
    "duration": 36,
    "start_time": "2022-05-22T08:07:36.481Z"
   },
   {
    "duration": 9,
    "start_time": "2022-05-22T08:07:36.520Z"
   },
   {
    "duration": 28,
    "start_time": "2022-05-22T08:07:36.531Z"
   },
   {
    "duration": 26,
    "start_time": "2022-05-22T08:07:36.560Z"
   },
   {
    "duration": 10,
    "start_time": "2022-05-22T08:07:36.588Z"
   },
   {
    "duration": 17,
    "start_time": "2022-05-22T08:07:36.600Z"
   },
   {
    "duration": 9,
    "start_time": "2022-05-22T08:07:36.618Z"
   },
   {
    "duration": 13,
    "start_time": "2022-05-22T08:07:36.629Z"
   },
   {
    "duration": 8,
    "start_time": "2022-05-22T08:07:36.645Z"
   },
   {
    "duration": 18,
    "start_time": "2022-05-22T08:07:36.656Z"
   },
   {
    "duration": 12,
    "start_time": "2022-05-22T08:07:36.675Z"
   },
   {
    "duration": 4,
    "start_time": "2022-05-22T08:07:36.689Z"
   },
   {
    "duration": 16,
    "start_time": "2022-05-22T08:07:36.694Z"
   },
   {
    "duration": 58,
    "start_time": "2022-05-22T08:07:36.712Z"
   },
   {
    "duration": 6,
    "start_time": "2022-05-22T08:07:36.771Z"
   },
   {
    "duration": 8,
    "start_time": "2022-05-22T08:07:36.779Z"
   },
   {
    "duration": 8,
    "start_time": "2022-05-22T08:07:36.789Z"
   },
   {
    "duration": 9,
    "start_time": "2022-05-22T08:07:36.798Z"
   },
   {
    "duration": 43,
    "start_time": "2022-05-22T08:07:36.809Z"
   },
   {
    "duration": 6,
    "start_time": "2022-05-22T08:07:36.855Z"
   },
   {
    "duration": 10,
    "start_time": "2022-05-22T08:07:36.863Z"
   },
   {
    "duration": 8,
    "start_time": "2022-05-22T08:07:36.875Z"
   },
   {
    "duration": 9,
    "start_time": "2022-05-22T08:07:36.884Z"
   },
   {
    "duration": 14,
    "start_time": "2022-05-22T08:07:36.895Z"
   },
   {
    "duration": 14,
    "start_time": "2022-05-22T08:07:36.911Z"
   },
   {
    "duration": 26,
    "start_time": "2022-05-22T08:07:36.926Z"
   },
   {
    "duration": 24,
    "start_time": "2022-05-22T08:07:36.953Z"
   },
   {
    "duration": 5,
    "start_time": "2022-05-22T08:07:36.979Z"
   },
   {
    "duration": 21,
    "start_time": "2022-05-22T08:07:36.986Z"
   },
   {
    "duration": 16,
    "start_time": "2022-05-22T08:07:37.009Z"
   },
   {
    "duration": 9,
    "start_time": "2022-05-22T08:07:37.027Z"
   },
   {
    "duration": 17,
    "start_time": "2022-05-22T08:07:37.038Z"
   },
   {
    "duration": 19,
    "start_time": "2022-05-22T08:07:37.057Z"
   },
   {
    "duration": 11,
    "start_time": "2022-05-22T08:07:37.078Z"
   },
   {
    "duration": 14,
    "start_time": "2022-05-22T08:07:37.091Z"
   },
   {
    "duration": 11,
    "start_time": "2022-05-22T08:07:37.107Z"
   },
   {
    "duration": 21,
    "start_time": "2022-05-22T08:07:37.119Z"
   },
   {
    "duration": 14,
    "start_time": "2022-05-22T08:12:14.545Z"
   },
   {
    "duration": 456,
    "start_time": "2022-05-22T08:12:22.521Z"
   },
   {
    "duration": 57,
    "start_time": "2022-05-22T08:12:22.978Z"
   },
   {
    "duration": 18,
    "start_time": "2022-05-22T08:12:23.037Z"
   },
   {
    "duration": 16,
    "start_time": "2022-05-22T08:12:23.057Z"
   },
   {
    "duration": 14,
    "start_time": "2022-05-22T08:12:23.074Z"
   },
   {
    "duration": 3,
    "start_time": "2022-05-22T08:12:23.089Z"
   },
   {
    "duration": 8,
    "start_time": "2022-05-22T08:12:23.093Z"
   },
   {
    "duration": 12,
    "start_time": "2022-05-22T08:12:23.102Z"
   },
   {
    "duration": 9,
    "start_time": "2022-05-22T08:12:23.116Z"
   },
   {
    "duration": 26,
    "start_time": "2022-05-22T08:12:23.127Z"
   },
   {
    "duration": 16,
    "start_time": "2022-05-22T08:12:23.154Z"
   },
   {
    "duration": 5,
    "start_time": "2022-05-22T08:12:23.171Z"
   },
   {
    "duration": 13,
    "start_time": "2022-05-22T08:12:23.178Z"
   },
   {
    "duration": 3,
    "start_time": "2022-05-22T08:12:23.193Z"
   },
   {
    "duration": 13,
    "start_time": "2022-05-22T08:12:23.197Z"
   },
   {
    "duration": 13,
    "start_time": "2022-05-22T08:12:23.212Z"
   },
   {
    "duration": 6,
    "start_time": "2022-05-22T08:12:23.226Z"
   },
   {
    "duration": 7,
    "start_time": "2022-05-22T08:12:23.251Z"
   },
   {
    "duration": 8,
    "start_time": "2022-05-22T08:12:23.260Z"
   },
   {
    "duration": 14,
    "start_time": "2022-05-22T08:12:23.270Z"
   },
   {
    "duration": 21,
    "start_time": "2022-05-22T08:12:23.286Z"
   },
   {
    "duration": 6,
    "start_time": "2022-05-22T08:12:23.308Z"
   },
   {
    "duration": 14,
    "start_time": "2022-05-22T08:12:23.315Z"
   },
   {
    "duration": 18,
    "start_time": "2022-05-22T08:12:23.331Z"
   },
   {
    "duration": 10,
    "start_time": "2022-05-22T08:12:23.350Z"
   },
   {
    "duration": 16,
    "start_time": "2022-05-22T08:12:23.361Z"
   },
   {
    "duration": 12,
    "start_time": "2022-05-22T08:12:23.379Z"
   },
   {
    "duration": 7,
    "start_time": "2022-05-22T08:12:23.395Z"
   },
   {
    "duration": 9,
    "start_time": "2022-05-22T08:12:23.403Z"
   },
   {
    "duration": 17,
    "start_time": "2022-05-22T08:12:23.413Z"
   },
   {
    "duration": 16,
    "start_time": "2022-05-22T08:12:23.432Z"
   },
   {
    "duration": 6,
    "start_time": "2022-05-22T08:12:23.450Z"
   },
   {
    "duration": 10,
    "start_time": "2022-05-22T08:12:23.458Z"
   },
   {
    "duration": 21,
    "start_time": "2022-05-22T08:12:23.470Z"
   },
   {
    "duration": 20,
    "start_time": "2022-05-22T08:12:23.493Z"
   },
   {
    "duration": 12,
    "start_time": "2022-05-22T08:12:23.515Z"
   },
   {
    "duration": 25,
    "start_time": "2022-05-22T08:12:23.529Z"
   },
   {
    "duration": 5,
    "start_time": "2022-05-22T08:12:23.555Z"
   },
   {
    "duration": 13,
    "start_time": "2022-05-22T08:12:23.562Z"
   },
   {
    "duration": 5,
    "start_time": "2022-05-22T08:12:23.576Z"
   },
   {
    "duration": 7,
    "start_time": "2022-05-22T08:12:23.583Z"
   },
   {
    "duration": 10,
    "start_time": "2022-05-22T08:12:23.591Z"
   },
   {
    "duration": 18,
    "start_time": "2022-05-22T08:12:23.603Z"
   },
   {
    "duration": 6,
    "start_time": "2022-05-22T08:12:23.623Z"
   },
   {
    "duration": 30,
    "start_time": "2022-05-22T08:12:23.630Z"
   },
   {
    "duration": 11,
    "start_time": "2022-05-22T08:12:23.662Z"
   },
   {
    "duration": 5,
    "start_time": "2022-05-22T08:12:23.674Z"
   },
   {
    "duration": 14,
    "start_time": "2022-05-22T08:12:23.680Z"
   },
   {
    "duration": 14,
    "start_time": "2022-05-22T08:12:23.695Z"
   },
   {
    "duration": 17,
    "start_time": "2022-05-22T08:12:23.710Z"
   },
   {
    "duration": 9,
    "start_time": "2022-05-22T08:12:23.728Z"
   },
   {
    "duration": 12,
    "start_time": "2022-05-22T08:12:23.738Z"
   },
   {
    "duration": 11,
    "start_time": "2022-05-22T08:12:23.751Z"
   },
   {
    "duration": 4,
    "start_time": "2022-05-22T08:12:23.763Z"
   },
   {
    "duration": 18,
    "start_time": "2022-05-22T08:12:23.768Z"
   },
   {
    "duration": 21,
    "start_time": "2022-05-22T08:12:23.788Z"
   },
   {
    "duration": 6,
    "start_time": "2022-05-22T08:12:23.810Z"
   },
   {
    "duration": 12,
    "start_time": "2022-05-22T08:12:23.817Z"
   },
   {
    "duration": 21,
    "start_time": "2022-05-22T08:12:23.831Z"
   },
   {
    "duration": 5,
    "start_time": "2022-05-22T08:12:23.853Z"
   },
   {
    "duration": 7,
    "start_time": "2022-05-22T08:12:23.860Z"
   },
   {
    "duration": 9,
    "start_time": "2022-05-22T08:12:23.869Z"
   },
   {
    "duration": 11,
    "start_time": "2022-05-22T08:12:23.880Z"
   },
   {
    "duration": 9,
    "start_time": "2022-05-22T08:12:23.893Z"
   },
   {
    "duration": 12,
    "start_time": "2022-05-22T08:12:23.903Z"
   },
   {
    "duration": 12,
    "start_time": "2022-05-22T08:12:23.918Z"
   },
   {
    "duration": 25,
    "start_time": "2022-05-22T08:12:23.932Z"
   },
   {
    "duration": 12,
    "start_time": "2022-05-22T08:12:23.959Z"
   },
   {
    "duration": 33,
    "start_time": "2022-05-22T08:12:23.973Z"
   },
   {
    "duration": 6,
    "start_time": "2022-05-22T08:12:24.008Z"
   },
   {
    "duration": 36,
    "start_time": "2022-05-22T08:12:24.016Z"
   },
   {
    "duration": 13,
    "start_time": "2022-05-22T08:12:24.054Z"
   },
   {
    "duration": 14,
    "start_time": "2022-05-22T08:12:24.069Z"
   },
   {
    "duration": 28,
    "start_time": "2022-05-22T08:12:24.085Z"
   },
   {
    "duration": 34,
    "start_time": "2022-05-22T08:12:24.115Z"
   },
   {
    "duration": 24,
    "start_time": "2022-05-22T08:12:24.150Z"
   },
   {
    "duration": 10,
    "start_time": "2022-05-22T08:12:24.175Z"
   },
   {
    "duration": 7,
    "start_time": "2022-05-22T08:12:24.187Z"
   },
   {
    "duration": 7,
    "start_time": "2022-05-22T08:12:24.195Z"
   },
   {
    "duration": 86,
    "start_time": "2022-05-22T08:13:21.540Z"
   },
   {
    "duration": 14,
    "start_time": "2022-05-22T08:13:56.325Z"
   },
   {
    "duration": 443,
    "start_time": "2022-05-22T08:14:07.535Z"
   },
   {
    "duration": 66,
    "start_time": "2022-05-22T08:14:07.980Z"
   },
   {
    "duration": 23,
    "start_time": "2022-05-22T08:14:08.048Z"
   },
   {
    "duration": 16,
    "start_time": "2022-05-22T08:14:08.074Z"
   },
   {
    "duration": 18,
    "start_time": "2022-05-22T08:14:08.092Z"
   },
   {
    "duration": 4,
    "start_time": "2022-05-22T08:14:08.111Z"
   },
   {
    "duration": 8,
    "start_time": "2022-05-22T08:14:08.116Z"
   },
   {
    "duration": 27,
    "start_time": "2022-05-22T08:14:08.126Z"
   },
   {
    "duration": 13,
    "start_time": "2022-05-22T08:14:08.155Z"
   },
   {
    "duration": 14,
    "start_time": "2022-05-22T08:14:08.171Z"
   },
   {
    "duration": 34,
    "start_time": "2022-05-22T08:14:08.186Z"
   },
   {
    "duration": 5,
    "start_time": "2022-05-22T08:14:08.222Z"
   },
   {
    "duration": 37,
    "start_time": "2022-05-22T08:14:08.228Z"
   },
   {
    "duration": 4,
    "start_time": "2022-05-22T08:14:08.267Z"
   },
   {
    "duration": 16,
    "start_time": "2022-05-22T08:14:08.273Z"
   },
   {
    "duration": 23,
    "start_time": "2022-05-22T08:14:08.291Z"
   },
   {
    "duration": 7,
    "start_time": "2022-05-22T08:14:08.316Z"
   },
   {
    "duration": 19,
    "start_time": "2022-05-22T08:14:08.325Z"
   },
   {
    "duration": 27,
    "start_time": "2022-05-22T08:14:08.346Z"
   },
   {
    "duration": 24,
    "start_time": "2022-05-22T08:14:08.374Z"
   },
   {
    "duration": 23,
    "start_time": "2022-05-22T08:14:08.400Z"
   },
   {
    "duration": 5,
    "start_time": "2022-05-22T08:14:08.425Z"
   },
   {
    "duration": 21,
    "start_time": "2022-05-22T08:14:08.431Z"
   },
   {
    "duration": 13,
    "start_time": "2022-05-22T08:14:08.453Z"
   },
   {
    "duration": 31,
    "start_time": "2022-05-22T08:14:08.467Z"
   },
   {
    "duration": 18,
    "start_time": "2022-05-22T08:14:08.500Z"
   },
   {
    "duration": 14,
    "start_time": "2022-05-22T08:14:08.520Z"
   },
   {
    "duration": 9,
    "start_time": "2022-05-22T08:14:08.539Z"
   },
   {
    "duration": 15,
    "start_time": "2022-05-22T08:14:08.550Z"
   },
   {
    "duration": 15,
    "start_time": "2022-05-22T08:14:08.567Z"
   },
   {
    "duration": 21,
    "start_time": "2022-05-22T08:14:08.583Z"
   },
   {
    "duration": 22,
    "start_time": "2022-05-22T08:14:08.606Z"
   },
   {
    "duration": 27,
    "start_time": "2022-05-22T08:14:08.629Z"
   },
   {
    "duration": 34,
    "start_time": "2022-05-22T08:14:08.657Z"
   },
   {
    "duration": 22,
    "start_time": "2022-05-22T08:14:08.693Z"
   },
   {
    "duration": 13,
    "start_time": "2022-05-22T08:14:08.717Z"
   },
   {
    "duration": 21,
    "start_time": "2022-05-22T08:14:08.732Z"
   },
   {
    "duration": 5,
    "start_time": "2022-05-22T08:14:08.756Z"
   },
   {
    "duration": 16,
    "start_time": "2022-05-22T08:14:08.763Z"
   },
   {
    "duration": 11,
    "start_time": "2022-05-22T08:14:08.781Z"
   },
   {
    "duration": 23,
    "start_time": "2022-05-22T08:14:08.793Z"
   },
   {
    "duration": 22,
    "start_time": "2022-05-22T08:14:08.818Z"
   },
   {
    "duration": 42,
    "start_time": "2022-05-22T08:14:08.842Z"
   },
   {
    "duration": 23,
    "start_time": "2022-05-22T08:14:08.886Z"
   },
   {
    "duration": 21,
    "start_time": "2022-05-22T08:14:08.911Z"
   },
   {
    "duration": 30,
    "start_time": "2022-05-22T08:14:08.934Z"
   },
   {
    "duration": 7,
    "start_time": "2022-05-22T08:14:08.966Z"
   },
   {
    "duration": 28,
    "start_time": "2022-05-22T08:14:08.974Z"
   },
   {
    "duration": 20,
    "start_time": "2022-05-22T08:14:09.003Z"
   },
   {
    "duration": 40,
    "start_time": "2022-05-22T08:14:09.025Z"
   },
   {
    "duration": 6,
    "start_time": "2022-05-22T08:14:09.066Z"
   },
   {
    "duration": 11,
    "start_time": "2022-05-22T08:14:09.074Z"
   },
   {
    "duration": 12,
    "start_time": "2022-05-22T08:14:09.087Z"
   },
   {
    "duration": 9,
    "start_time": "2022-05-22T08:14:09.101Z"
   },
   {
    "duration": 16,
    "start_time": "2022-05-22T08:14:09.112Z"
   },
   {
    "duration": 23,
    "start_time": "2022-05-22T08:14:09.130Z"
   },
   {
    "duration": 7,
    "start_time": "2022-05-22T08:14:09.155Z"
   },
   {
    "duration": 6,
    "start_time": "2022-05-22T08:14:09.164Z"
   },
   {
    "duration": 9,
    "start_time": "2022-05-22T08:14:09.172Z"
   },
   {
    "duration": 9,
    "start_time": "2022-05-22T08:14:09.183Z"
   },
   {
    "duration": 8,
    "start_time": "2022-05-22T08:14:09.194Z"
   },
   {
    "duration": 8,
    "start_time": "2022-05-22T08:14:09.203Z"
   },
   {
    "duration": 7,
    "start_time": "2022-05-22T08:14:09.213Z"
   },
   {
    "duration": 8,
    "start_time": "2022-05-22T08:14:09.252Z"
   },
   {
    "duration": 10,
    "start_time": "2022-05-22T08:14:09.261Z"
   },
   {
    "duration": 8,
    "start_time": "2022-05-22T08:14:09.273Z"
   },
   {
    "duration": 10,
    "start_time": "2022-05-22T08:14:09.283Z"
   },
   {
    "duration": 10,
    "start_time": "2022-05-22T08:14:09.294Z"
   },
   {
    "duration": 22,
    "start_time": "2022-05-22T08:14:09.305Z"
   },
   {
    "duration": 5,
    "start_time": "2022-05-22T08:14:09.329Z"
   },
   {
    "duration": 21,
    "start_time": "2022-05-22T08:14:09.335Z"
   },
   {
    "duration": 8,
    "start_time": "2022-05-22T08:14:09.358Z"
   },
   {
    "duration": 9,
    "start_time": "2022-05-22T08:14:09.368Z"
   },
   {
    "duration": 12,
    "start_time": "2022-05-22T08:14:09.378Z"
   },
   {
    "duration": 10,
    "start_time": "2022-05-22T08:14:09.391Z"
   },
   {
    "duration": 12,
    "start_time": "2022-05-22T08:14:09.403Z"
   },
   {
    "duration": 16,
    "start_time": "2022-05-22T08:14:09.416Z"
   },
   {
    "duration": 25,
    "start_time": "2022-05-22T08:14:09.434Z"
   },
   {
    "duration": 8,
    "start_time": "2022-05-22T08:14:09.460Z"
   },
   {
    "duration": 15,
    "start_time": "2022-05-22T08:17:51.422Z"
   },
   {
    "duration": 443,
    "start_time": "2022-05-22T08:18:00.457Z"
   },
   {
    "duration": 61,
    "start_time": "2022-05-22T08:18:00.901Z"
   },
   {
    "duration": 20,
    "start_time": "2022-05-22T08:18:00.964Z"
   },
   {
    "duration": 44,
    "start_time": "2022-05-22T08:18:00.985Z"
   },
   {
    "duration": 44,
    "start_time": "2022-05-22T08:18:01.031Z"
   },
   {
    "duration": 14,
    "start_time": "2022-05-22T08:18:01.077Z"
   },
   {
    "duration": 16,
    "start_time": "2022-05-22T08:18:01.092Z"
   },
   {
    "duration": 15,
    "start_time": "2022-05-22T08:18:01.110Z"
   },
   {
    "duration": 24,
    "start_time": "2022-05-22T08:18:01.127Z"
   },
   {
    "duration": 9,
    "start_time": "2022-05-22T08:18:01.155Z"
   },
   {
    "duration": 23,
    "start_time": "2022-05-22T08:18:01.165Z"
   },
   {
    "duration": 11,
    "start_time": "2022-05-22T08:18:01.189Z"
   },
   {
    "duration": 32,
    "start_time": "2022-05-22T08:18:01.202Z"
   },
   {
    "duration": 26,
    "start_time": "2022-05-22T08:18:01.238Z"
   },
   {
    "duration": 19,
    "start_time": "2022-05-22T08:18:01.266Z"
   },
   {
    "duration": 35,
    "start_time": "2022-05-22T08:18:01.287Z"
   },
   {
    "duration": 9,
    "start_time": "2022-05-22T08:18:01.325Z"
   },
   {
    "duration": 24,
    "start_time": "2022-05-22T08:18:01.336Z"
   },
   {
    "duration": 26,
    "start_time": "2022-05-22T08:18:01.362Z"
   },
   {
    "duration": 22,
    "start_time": "2022-05-22T08:18:01.389Z"
   },
   {
    "duration": 10,
    "start_time": "2022-05-22T08:18:01.413Z"
   },
   {
    "duration": 38,
    "start_time": "2022-05-22T08:18:01.425Z"
   },
   {
    "duration": 18,
    "start_time": "2022-05-22T08:18:01.465Z"
   },
   {
    "duration": 17,
    "start_time": "2022-05-22T08:18:01.485Z"
   },
   {
    "duration": 19,
    "start_time": "2022-05-22T08:18:01.504Z"
   },
   {
    "duration": 27,
    "start_time": "2022-05-22T08:18:01.526Z"
   },
   {
    "duration": 9,
    "start_time": "2022-05-22T08:18:01.555Z"
   },
   {
    "duration": 10,
    "start_time": "2022-05-22T08:18:01.567Z"
   },
   {
    "duration": 10,
    "start_time": "2022-05-22T08:18:01.580Z"
   },
   {
    "duration": 11,
    "start_time": "2022-05-22T08:18:01.591Z"
   },
   {
    "duration": 8,
    "start_time": "2022-05-22T08:18:01.604Z"
   },
   {
    "duration": 39,
    "start_time": "2022-05-22T08:18:01.614Z"
   },
   {
    "duration": 42,
    "start_time": "2022-05-22T08:18:01.655Z"
   },
   {
    "duration": 22,
    "start_time": "2022-05-22T08:18:01.698Z"
   },
   {
    "duration": 22,
    "start_time": "2022-05-22T08:18:01.722Z"
   },
   {
    "duration": 10,
    "start_time": "2022-05-22T08:18:01.745Z"
   },
   {
    "duration": 36,
    "start_time": "2022-05-22T08:18:01.756Z"
   },
   {
    "duration": 26,
    "start_time": "2022-05-22T08:18:01.794Z"
   },
   {
    "duration": 13,
    "start_time": "2022-05-22T08:18:01.822Z"
   },
   {
    "duration": 16,
    "start_time": "2022-05-22T08:18:01.837Z"
   },
   {
    "duration": 22,
    "start_time": "2022-05-22T08:18:01.855Z"
   },
   {
    "duration": 30,
    "start_time": "2022-05-22T08:18:01.879Z"
   },
   {
    "duration": 8,
    "start_time": "2022-05-22T08:18:01.911Z"
   },
   {
    "duration": 27,
    "start_time": "2022-05-22T08:18:01.921Z"
   },
   {
    "duration": 7,
    "start_time": "2022-05-22T08:18:01.949Z"
   },
   {
    "duration": 22,
    "start_time": "2022-05-22T08:18:01.957Z"
   },
   {
    "duration": 35,
    "start_time": "2022-05-22T08:18:01.981Z"
   },
   {
    "duration": 10,
    "start_time": "2022-05-22T08:18:02.019Z"
   },
   {
    "duration": 19,
    "start_time": "2022-05-22T08:18:02.031Z"
   },
   {
    "duration": 9,
    "start_time": "2022-05-22T08:18:02.052Z"
   },
   {
    "duration": 25,
    "start_time": "2022-05-22T08:18:02.063Z"
   },
   {
    "duration": 15,
    "start_time": "2022-05-22T08:18:02.090Z"
   },
   {
    "duration": 16,
    "start_time": "2022-05-22T08:18:02.107Z"
   },
   {
    "duration": 37,
    "start_time": "2022-05-22T08:18:02.125Z"
   },
   {
    "duration": 33,
    "start_time": "2022-05-22T08:18:02.164Z"
   },
   {
    "duration": 41,
    "start_time": "2022-05-22T08:18:02.198Z"
   },
   {
    "duration": 30,
    "start_time": "2022-05-22T08:18:02.240Z"
   },
   {
    "duration": 6,
    "start_time": "2022-05-22T08:18:02.271Z"
   },
   {
    "duration": 22,
    "start_time": "2022-05-22T08:18:02.278Z"
   },
   {
    "duration": 6,
    "start_time": "2022-05-22T08:18:02.301Z"
   },
   {
    "duration": 10,
    "start_time": "2022-05-22T08:18:02.309Z"
   },
   {
    "duration": 55,
    "start_time": "2022-05-22T08:18:02.321Z"
   },
   {
    "duration": 17,
    "start_time": "2022-05-22T08:18:02.377Z"
   },
   {
    "duration": 11,
    "start_time": "2022-05-22T08:18:02.396Z"
   },
   {
    "duration": 14,
    "start_time": "2022-05-22T08:18:02.408Z"
   },
   {
    "duration": 9,
    "start_time": "2022-05-22T08:18:02.424Z"
   },
   {
    "duration": 16,
    "start_time": "2022-05-22T08:18:02.435Z"
   },
   {
    "duration": 10,
    "start_time": "2022-05-22T08:18:02.453Z"
   },
   {
    "duration": 17,
    "start_time": "2022-05-22T08:18:02.465Z"
   },
   {
    "duration": 40,
    "start_time": "2022-05-22T08:18:02.484Z"
   },
   {
    "duration": 21,
    "start_time": "2022-05-22T08:18:02.527Z"
   },
   {
    "duration": 39,
    "start_time": "2022-05-22T08:18:02.549Z"
   },
   {
    "duration": 10,
    "start_time": "2022-05-22T08:18:02.591Z"
   },
   {
    "duration": 11,
    "start_time": "2022-05-22T08:18:02.603Z"
   },
   {
    "duration": 11,
    "start_time": "2022-05-22T08:18:02.616Z"
   },
   {
    "duration": 27,
    "start_time": "2022-05-22T08:18:02.629Z"
   },
   {
    "duration": 19,
    "start_time": "2022-05-22T08:18:02.658Z"
   },
   {
    "duration": 28,
    "start_time": "2022-05-22T08:18:02.679Z"
   },
   {
    "duration": 18,
    "start_time": "2022-05-22T08:18:02.709Z"
   },
   {
    "duration": 16,
    "start_time": "2022-05-22T08:18:02.729Z"
   },
   {
    "duration": 88,
    "start_time": "2022-05-22T08:18:43.696Z"
   },
   {
    "duration": 6,
    "start_time": "2022-05-22T08:19:19.493Z"
   },
   {
    "duration": 14,
    "start_time": "2022-05-22T08:20:18.729Z"
   },
   {
    "duration": 483,
    "start_time": "2022-05-22T08:20:53.923Z"
   },
   {
    "duration": 56,
    "start_time": "2022-05-22T08:20:54.408Z"
   },
   {
    "duration": 18,
    "start_time": "2022-05-22T08:20:54.466Z"
   },
   {
    "duration": 16,
    "start_time": "2022-05-22T08:20:54.486Z"
   },
   {
    "duration": 14,
    "start_time": "2022-05-22T08:20:54.503Z"
   },
   {
    "duration": 5,
    "start_time": "2022-05-22T08:20:54.519Z"
   },
   {
    "duration": 5,
    "start_time": "2022-05-22T08:20:54.551Z"
   },
   {
    "duration": 4,
    "start_time": "2022-05-22T08:20:54.558Z"
   },
   {
    "duration": 8,
    "start_time": "2022-05-22T08:20:54.563Z"
   },
   {
    "duration": 4,
    "start_time": "2022-05-22T08:20:54.574Z"
   },
   {
    "duration": 17,
    "start_time": "2022-05-22T08:20:54.580Z"
   },
   {
    "duration": 6,
    "start_time": "2022-05-22T08:20:54.599Z"
   },
   {
    "duration": 57,
    "start_time": "2022-05-22T08:20:54.607Z"
   },
   {
    "duration": 5,
    "start_time": "2022-05-22T08:20:54.666Z"
   },
   {
    "duration": 6,
    "start_time": "2022-05-22T08:20:54.673Z"
   },
   {
    "duration": 8,
    "start_time": "2022-05-22T08:20:54.681Z"
   },
   {
    "duration": 5,
    "start_time": "2022-05-22T08:20:54.691Z"
   },
   {
    "duration": 8,
    "start_time": "2022-05-22T08:20:54.697Z"
   },
   {
    "duration": 9,
    "start_time": "2022-05-22T08:20:54.707Z"
   },
   {
    "duration": 47,
    "start_time": "2022-05-22T08:20:54.717Z"
   },
   {
    "duration": 7,
    "start_time": "2022-05-22T08:20:54.766Z"
   },
   {
    "duration": 9,
    "start_time": "2022-05-22T08:20:54.775Z"
   },
   {
    "duration": 17,
    "start_time": "2022-05-22T08:20:54.786Z"
   },
   {
    "duration": 14,
    "start_time": "2022-05-22T08:20:54.804Z"
   },
   {
    "duration": 16,
    "start_time": "2022-05-22T08:20:54.819Z"
   },
   {
    "duration": 23,
    "start_time": "2022-05-22T08:20:54.837Z"
   },
   {
    "duration": 6,
    "start_time": "2022-05-22T08:20:54.862Z"
   },
   {
    "duration": 9,
    "start_time": "2022-05-22T08:20:54.872Z"
   },
   {
    "duration": 9,
    "start_time": "2022-05-22T08:20:54.883Z"
   },
   {
    "duration": 7,
    "start_time": "2022-05-22T08:20:54.893Z"
   },
   {
    "duration": 9,
    "start_time": "2022-05-22T08:20:54.901Z"
   },
   {
    "duration": 4,
    "start_time": "2022-05-22T08:20:54.912Z"
   },
   {
    "duration": 9,
    "start_time": "2022-05-22T08:20:54.918Z"
   },
   {
    "duration": 16,
    "start_time": "2022-05-22T08:20:54.951Z"
   },
   {
    "duration": 19,
    "start_time": "2022-05-22T08:20:54.969Z"
   },
   {
    "duration": 19,
    "start_time": "2022-05-22T08:20:54.989Z"
   },
   {
    "duration": 12,
    "start_time": "2022-05-22T08:20:55.010Z"
   },
   {
    "duration": 12,
    "start_time": "2022-05-22T08:20:55.051Z"
   },
   {
    "duration": 4,
    "start_time": "2022-05-22T08:20:55.065Z"
   },
   {
    "duration": 14,
    "start_time": "2022-05-22T08:20:55.071Z"
   },
   {
    "duration": 5,
    "start_time": "2022-05-22T08:20:55.086Z"
   },
   {
    "duration": 6,
    "start_time": "2022-05-22T08:20:55.092Z"
   },
   {
    "duration": 6,
    "start_time": "2022-05-22T08:20:55.100Z"
   },
   {
    "duration": 55,
    "start_time": "2022-05-22T08:20:55.108Z"
   },
   {
    "duration": 14,
    "start_time": "2022-05-22T08:20:55.166Z"
   },
   {
    "duration": 25,
    "start_time": "2022-05-22T08:20:55.183Z"
   },
   {
    "duration": 25,
    "start_time": "2022-05-22T08:20:55.211Z"
   },
   {
    "duration": 9,
    "start_time": "2022-05-22T08:20:55.238Z"
   },
   {
    "duration": 25,
    "start_time": "2022-05-22T08:20:55.249Z"
   },
   {
    "duration": 13,
    "start_time": "2022-05-22T08:20:55.277Z"
   },
   {
    "duration": 17,
    "start_time": "2022-05-22T08:20:55.292Z"
   },
   {
    "duration": 16,
    "start_time": "2022-05-22T08:20:55.312Z"
   },
   {
    "duration": 25,
    "start_time": "2022-05-22T08:20:55.330Z"
   },
   {
    "duration": 18,
    "start_time": "2022-05-22T08:20:55.357Z"
   },
   {
    "duration": 9,
    "start_time": "2022-05-22T08:20:55.378Z"
   },
   {
    "duration": 31,
    "start_time": "2022-05-22T08:20:55.390Z"
   },
   {
    "duration": 26,
    "start_time": "2022-05-22T08:20:55.424Z"
   },
   {
    "duration": 6,
    "start_time": "2022-05-22T08:20:55.451Z"
   },
   {
    "duration": 10,
    "start_time": "2022-05-22T08:20:55.458Z"
   },
   {
    "duration": 8,
    "start_time": "2022-05-22T08:20:55.470Z"
   },
   {
    "duration": 9,
    "start_time": "2022-05-22T08:20:55.480Z"
   },
   {
    "duration": 9,
    "start_time": "2022-05-22T08:20:55.491Z"
   },
   {
    "duration": 12,
    "start_time": "2022-05-22T08:20:55.501Z"
   },
   {
    "duration": 8,
    "start_time": "2022-05-22T08:20:55.514Z"
   },
   {
    "duration": 8,
    "start_time": "2022-05-22T08:20:55.524Z"
   },
   {
    "duration": 7,
    "start_time": "2022-05-22T08:20:55.552Z"
   },
   {
    "duration": 8,
    "start_time": "2022-05-22T08:20:55.561Z"
   },
   {
    "duration": 10,
    "start_time": "2022-05-22T08:20:55.571Z"
   },
   {
    "duration": 30,
    "start_time": "2022-05-22T08:20:55.583Z"
   },
   {
    "duration": 21,
    "start_time": "2022-05-22T08:20:55.615Z"
   },
   {
    "duration": 6,
    "start_time": "2022-05-22T08:20:55.638Z"
   },
   {
    "duration": 19,
    "start_time": "2022-05-22T08:20:55.645Z"
   },
   {
    "duration": 10,
    "start_time": "2022-05-22T08:20:55.666Z"
   },
   {
    "duration": 7,
    "start_time": "2022-05-22T08:20:55.677Z"
   },
   {
    "duration": 9,
    "start_time": "2022-05-22T08:20:55.685Z"
   },
   {
    "duration": 11,
    "start_time": "2022-05-22T08:20:55.695Z"
   },
   {
    "duration": 8,
    "start_time": "2022-05-22T08:20:55.708Z"
   },
   {
    "duration": 13,
    "start_time": "2022-05-22T08:20:55.718Z"
   },
   {
    "duration": 25,
    "start_time": "2022-05-22T08:20:55.732Z"
   },
   {
    "duration": 8,
    "start_time": "2022-05-22T08:20:55.758Z"
   },
   {
    "duration": 441,
    "start_time": "2022-05-22T08:24:36.327Z"
   },
   {
    "duration": 57,
    "start_time": "2022-05-22T08:24:36.770Z"
   },
   {
    "duration": 18,
    "start_time": "2022-05-22T08:24:36.829Z"
   },
   {
    "duration": 16,
    "start_time": "2022-05-22T08:24:36.853Z"
   },
   {
    "duration": 12,
    "start_time": "2022-05-22T08:24:36.870Z"
   },
   {
    "duration": 2,
    "start_time": "2022-05-22T08:24:36.884Z"
   },
   {
    "duration": 7,
    "start_time": "2022-05-22T08:24:36.887Z"
   },
   {
    "duration": 5,
    "start_time": "2022-05-22T08:24:36.896Z"
   },
   {
    "duration": 9,
    "start_time": "2022-05-22T08:24:36.902Z"
   },
   {
    "duration": 4,
    "start_time": "2022-05-22T08:24:36.913Z"
   },
   {
    "duration": 43,
    "start_time": "2022-05-22T08:24:36.919Z"
   },
   {
    "duration": 4,
    "start_time": "2022-05-22T08:24:36.964Z"
   },
   {
    "duration": 15,
    "start_time": "2022-05-22T08:24:36.970Z"
   },
   {
    "duration": 3,
    "start_time": "2022-05-22T08:24:36.987Z"
   },
   {
    "duration": 5,
    "start_time": "2022-05-22T08:24:36.992Z"
   },
   {
    "duration": 10,
    "start_time": "2022-05-22T08:24:36.999Z"
   },
   {
    "duration": 5,
    "start_time": "2022-05-22T08:24:37.010Z"
   },
   {
    "duration": 36,
    "start_time": "2022-05-22T08:24:37.016Z"
   },
   {
    "duration": 14,
    "start_time": "2022-05-22T08:24:37.054Z"
   },
   {
    "duration": 18,
    "start_time": "2022-05-22T08:24:37.070Z"
   },
   {
    "duration": 9,
    "start_time": "2022-05-22T08:24:37.090Z"
   },
   {
    "duration": 6,
    "start_time": "2022-05-22T08:24:37.101Z"
   },
   {
    "duration": 11,
    "start_time": "2022-05-22T08:24:37.108Z"
   },
   {
    "duration": 9,
    "start_time": "2022-05-22T08:24:37.120Z"
   },
   {
    "duration": 7,
    "start_time": "2022-05-22T08:24:37.130Z"
   },
   {
    "duration": 25,
    "start_time": "2022-05-22T08:24:37.139Z"
   },
   {
    "duration": 7,
    "start_time": "2022-05-22T08:24:37.165Z"
   },
   {
    "duration": 6,
    "start_time": "2022-05-22T08:24:37.176Z"
   },
   {
    "duration": 9,
    "start_time": "2022-05-22T08:24:37.184Z"
   },
   {
    "duration": 7,
    "start_time": "2022-05-22T08:24:37.195Z"
   },
   {
    "duration": 7,
    "start_time": "2022-05-22T08:24:37.204Z"
   },
   {
    "duration": 4,
    "start_time": "2022-05-22T08:24:37.213Z"
   },
   {
    "duration": 35,
    "start_time": "2022-05-22T08:24:37.218Z"
   },
   {
    "duration": 16,
    "start_time": "2022-05-22T08:24:37.255Z"
   },
   {
    "duration": 18,
    "start_time": "2022-05-22T08:24:37.272Z"
   },
   {
    "duration": 4,
    "start_time": "2022-05-22T08:24:37.292Z"
   },
   {
    "duration": 0,
    "start_time": "2022-05-22T08:24:37.298Z"
   },
   {
    "duration": 0,
    "start_time": "2022-05-22T08:24:37.299Z"
   },
   {
    "duration": 0,
    "start_time": "2022-05-22T08:24:37.300Z"
   },
   {
    "duration": 0,
    "start_time": "2022-05-22T08:24:37.301Z"
   },
   {
    "duration": 0,
    "start_time": "2022-05-22T08:24:37.302Z"
   },
   {
    "duration": 0,
    "start_time": "2022-05-22T08:24:37.304Z"
   },
   {
    "duration": 0,
    "start_time": "2022-05-22T08:24:37.305Z"
   },
   {
    "duration": 0,
    "start_time": "2022-05-22T08:24:37.305Z"
   },
   {
    "duration": 0,
    "start_time": "2022-05-22T08:24:37.307Z"
   },
   {
    "duration": 0,
    "start_time": "2022-05-22T08:24:37.308Z"
   },
   {
    "duration": 0,
    "start_time": "2022-05-22T08:24:37.309Z"
   },
   {
    "duration": 0,
    "start_time": "2022-05-22T08:24:37.310Z"
   },
   {
    "duration": 0,
    "start_time": "2022-05-22T08:24:37.352Z"
   },
   {
    "duration": 0,
    "start_time": "2022-05-22T08:24:37.354Z"
   },
   {
    "duration": 0,
    "start_time": "2022-05-22T08:24:37.355Z"
   },
   {
    "duration": 0,
    "start_time": "2022-05-22T08:24:37.356Z"
   },
   {
    "duration": 0,
    "start_time": "2022-05-22T08:24:37.356Z"
   },
   {
    "duration": 0,
    "start_time": "2022-05-22T08:24:37.358Z"
   },
   {
    "duration": 0,
    "start_time": "2022-05-22T08:24:37.359Z"
   },
   {
    "duration": 0,
    "start_time": "2022-05-22T08:24:37.359Z"
   },
   {
    "duration": 0,
    "start_time": "2022-05-22T08:24:37.360Z"
   },
   {
    "duration": 0,
    "start_time": "2022-05-22T08:24:37.361Z"
   },
   {
    "duration": 0,
    "start_time": "2022-05-22T08:24:37.363Z"
   },
   {
    "duration": 0,
    "start_time": "2022-05-22T08:24:37.364Z"
   },
   {
    "duration": 1,
    "start_time": "2022-05-22T08:24:37.364Z"
   },
   {
    "duration": 0,
    "start_time": "2022-05-22T08:24:37.366Z"
   },
   {
    "duration": 0,
    "start_time": "2022-05-22T08:24:37.367Z"
   },
   {
    "duration": 0,
    "start_time": "2022-05-22T08:24:37.368Z"
   },
   {
    "duration": 0,
    "start_time": "2022-05-22T08:24:37.369Z"
   },
   {
    "duration": 0,
    "start_time": "2022-05-22T08:24:37.370Z"
   },
   {
    "duration": 0,
    "start_time": "2022-05-22T08:24:37.371Z"
   },
   {
    "duration": 0,
    "start_time": "2022-05-22T08:24:37.372Z"
   },
   {
    "duration": 0,
    "start_time": "2022-05-22T08:24:37.373Z"
   },
   {
    "duration": 0,
    "start_time": "2022-05-22T08:24:37.375Z"
   },
   {
    "duration": 0,
    "start_time": "2022-05-22T08:24:37.375Z"
   },
   {
    "duration": 0,
    "start_time": "2022-05-22T08:24:37.376Z"
   },
   {
    "duration": 0,
    "start_time": "2022-05-22T08:24:37.378Z"
   },
   {
    "duration": 0,
    "start_time": "2022-05-22T08:24:37.379Z"
   },
   {
    "duration": 0,
    "start_time": "2022-05-22T08:24:37.379Z"
   },
   {
    "duration": 0,
    "start_time": "2022-05-22T08:24:37.380Z"
   },
   {
    "duration": 0,
    "start_time": "2022-05-22T08:24:37.381Z"
   },
   {
    "duration": 0,
    "start_time": "2022-05-22T08:24:37.382Z"
   },
   {
    "duration": 0,
    "start_time": "2022-05-22T08:24:37.384Z"
   },
   {
    "duration": 0,
    "start_time": "2022-05-22T08:24:37.385Z"
   },
   {
    "duration": 18,
    "start_time": "2022-05-22T08:24:55.503Z"
   },
   {
    "duration": 45,
    "start_time": "2022-05-22T08:26:29.482Z"
   },
   {
    "duration": 16,
    "start_time": "2022-05-22T08:26:38.979Z"
   },
   {
    "duration": 31,
    "start_time": "2022-05-22T08:26:39.977Z"
   },
   {
    "duration": 30,
    "start_time": "2022-05-22T08:32:39.705Z"
   },
   {
    "duration": 30,
    "start_time": "2022-05-22T08:37:28.624Z"
   },
   {
    "duration": 5,
    "start_time": "2022-05-22T10:10:32.244Z"
   },
   {
    "duration": 7,
    "start_time": "2022-05-22T10:10:33.510Z"
   },
   {
    "duration": 420,
    "start_time": "2022-05-22T10:14:23.297Z"
   },
   {
    "duration": 58,
    "start_time": "2022-05-22T10:14:23.719Z"
   },
   {
    "duration": 21,
    "start_time": "2022-05-22T10:14:23.778Z"
   },
   {
    "duration": 15,
    "start_time": "2022-05-22T10:14:23.800Z"
   },
   {
    "duration": 13,
    "start_time": "2022-05-22T10:14:23.817Z"
   },
   {
    "duration": 2,
    "start_time": "2022-05-22T10:14:23.831Z"
   },
   {
    "duration": 6,
    "start_time": "2022-05-22T10:14:23.835Z"
   },
   {
    "duration": 4,
    "start_time": "2022-05-22T10:14:23.843Z"
   },
   {
    "duration": 12,
    "start_time": "2022-05-22T10:14:23.848Z"
   },
   {
    "duration": 4,
    "start_time": "2022-05-22T10:14:23.862Z"
   },
   {
    "duration": 37,
    "start_time": "2022-05-22T10:14:23.867Z"
   },
   {
    "duration": 4,
    "start_time": "2022-05-22T10:14:23.906Z"
   },
   {
    "duration": 15,
    "start_time": "2022-05-22T10:14:23.911Z"
   },
   {
    "duration": 3,
    "start_time": "2022-05-22T10:14:23.929Z"
   },
   {
    "duration": 6,
    "start_time": "2022-05-22T10:14:23.934Z"
   },
   {
    "duration": 7,
    "start_time": "2022-05-22T10:14:23.941Z"
   },
   {
    "duration": 4,
    "start_time": "2022-05-22T10:14:23.949Z"
   },
   {
    "duration": 41,
    "start_time": "2022-05-22T10:14:23.954Z"
   },
   {
    "duration": 5,
    "start_time": "2022-05-22T10:14:23.996Z"
   },
   {
    "duration": 14,
    "start_time": "2022-05-22T10:14:24.003Z"
   },
   {
    "duration": 4,
    "start_time": "2022-05-22T10:14:24.019Z"
   },
   {
    "duration": 6,
    "start_time": "2022-05-22T10:14:24.025Z"
   },
   {
    "duration": 8,
    "start_time": "2022-05-22T10:14:24.032Z"
   },
   {
    "duration": 12,
    "start_time": "2022-05-22T10:14:24.042Z"
   },
   {
    "duration": 8,
    "start_time": "2022-05-22T10:14:24.055Z"
   },
   {
    "duration": 37,
    "start_time": "2022-05-22T10:14:24.064Z"
   },
   {
    "duration": 5,
    "start_time": "2022-05-22T10:14:24.102Z"
   },
   {
    "duration": 7,
    "start_time": "2022-05-22T10:14:24.108Z"
   },
   {
    "duration": 9,
    "start_time": "2022-05-22T10:14:24.117Z"
   },
   {
    "duration": 8,
    "start_time": "2022-05-22T10:14:24.127Z"
   },
   {
    "duration": 8,
    "start_time": "2022-05-22T10:14:24.136Z"
   },
   {
    "duration": 8,
    "start_time": "2022-05-22T10:14:24.146Z"
   },
   {
    "duration": 11,
    "start_time": "2022-05-22T10:14:24.155Z"
   },
   {
    "duration": 31,
    "start_time": "2022-05-22T10:14:24.167Z"
   },
   {
    "duration": 18,
    "start_time": "2022-05-22T10:14:24.200Z"
   },
   {
    "duration": 26,
    "start_time": "2022-05-22T10:14:24.219Z"
   },
   {
    "duration": 3,
    "start_time": "2022-05-22T10:14:24.246Z"
   },
   {
    "duration": 11,
    "start_time": "2022-05-22T10:14:24.250Z"
   },
   {
    "duration": 4,
    "start_time": "2022-05-22T10:14:24.263Z"
   },
   {
    "duration": 5,
    "start_time": "2022-05-22T10:14:24.268Z"
   },
   {
    "duration": 19,
    "start_time": "2022-05-22T10:14:24.277Z"
   },
   {
    "duration": 0,
    "start_time": "2022-05-22T10:14:24.297Z"
   },
   {
    "duration": 0,
    "start_time": "2022-05-22T10:14:24.298Z"
   },
   {
    "duration": 0,
    "start_time": "2022-05-22T10:14:24.299Z"
   },
   {
    "duration": 0,
    "start_time": "2022-05-22T10:14:24.300Z"
   },
   {
    "duration": 0,
    "start_time": "2022-05-22T10:14:24.301Z"
   },
   {
    "duration": 0,
    "start_time": "2022-05-22T10:14:24.302Z"
   },
   {
    "duration": 0,
    "start_time": "2022-05-22T10:14:24.303Z"
   },
   {
    "duration": 0,
    "start_time": "2022-05-22T10:14:24.304Z"
   },
   {
    "duration": 0,
    "start_time": "2022-05-22T10:14:24.305Z"
   },
   {
    "duration": 0,
    "start_time": "2022-05-22T10:14:24.306Z"
   },
   {
    "duration": 0,
    "start_time": "2022-05-22T10:14:24.307Z"
   },
   {
    "duration": 0,
    "start_time": "2022-05-22T10:14:24.308Z"
   },
   {
    "duration": 0,
    "start_time": "2022-05-22T10:14:24.309Z"
   },
   {
    "duration": 0,
    "start_time": "2022-05-22T10:14:24.310Z"
   },
   {
    "duration": 0,
    "start_time": "2022-05-22T10:14:24.310Z"
   },
   {
    "duration": 0,
    "start_time": "2022-05-22T10:14:24.311Z"
   },
   {
    "duration": 0,
    "start_time": "2022-05-22T10:14:24.312Z"
   },
   {
    "duration": 0,
    "start_time": "2022-05-22T10:14:24.313Z"
   },
   {
    "duration": 0,
    "start_time": "2022-05-22T10:14:24.314Z"
   },
   {
    "duration": 0,
    "start_time": "2022-05-22T10:14:24.315Z"
   },
   {
    "duration": 0,
    "start_time": "2022-05-22T10:14:24.315Z"
   },
   {
    "duration": 0,
    "start_time": "2022-05-22T10:14:24.316Z"
   },
   {
    "duration": 0,
    "start_time": "2022-05-22T10:14:24.317Z"
   },
   {
    "duration": 0,
    "start_time": "2022-05-22T10:14:24.318Z"
   },
   {
    "duration": 0,
    "start_time": "2022-05-22T10:14:24.319Z"
   },
   {
    "duration": 0,
    "start_time": "2022-05-22T10:14:24.320Z"
   },
   {
    "duration": 0,
    "start_time": "2022-05-22T10:14:24.321Z"
   },
   {
    "duration": 0,
    "start_time": "2022-05-22T10:14:24.321Z"
   },
   {
    "duration": 0,
    "start_time": "2022-05-22T10:14:24.322Z"
   },
   {
    "duration": 0,
    "start_time": "2022-05-22T10:14:24.323Z"
   },
   {
    "duration": 0,
    "start_time": "2022-05-22T10:14:24.324Z"
   },
   {
    "duration": 0,
    "start_time": "2022-05-22T10:14:24.325Z"
   },
   {
    "duration": 0,
    "start_time": "2022-05-22T10:14:24.326Z"
   },
   {
    "duration": 0,
    "start_time": "2022-05-22T10:14:24.326Z"
   },
   {
    "duration": 0,
    "start_time": "2022-05-22T10:14:24.327Z"
   },
   {
    "duration": 0,
    "start_time": "2022-05-22T10:14:24.328Z"
   },
   {
    "duration": 0,
    "start_time": "2022-05-22T10:14:24.329Z"
   },
   {
    "duration": 0,
    "start_time": "2022-05-22T10:14:24.330Z"
   },
   {
    "duration": 0,
    "start_time": "2022-05-22T10:14:24.331Z"
   },
   {
    "duration": 28,
    "start_time": "2022-05-22T10:15:54.228Z"
   },
   {
    "duration": 26,
    "start_time": "2022-05-22T10:16:34.917Z"
   },
   {
    "duration": 17,
    "start_time": "2022-05-22T10:25:05.590Z"
   },
   {
    "duration": 29,
    "start_time": "2022-05-22T10:25:08.035Z"
   },
   {
    "duration": 24,
    "start_time": "2022-05-22T10:45:50.592Z"
   },
   {
    "duration": 16,
    "start_time": "2022-05-22T10:46:28.332Z"
   },
   {
    "duration": 20,
    "start_time": "2022-05-22T10:47:25.730Z"
   },
   {
    "duration": 17,
    "start_time": "2022-05-22T10:48:27.467Z"
   },
   {
    "duration": 435,
    "start_time": "2022-05-22T11:06:35.581Z"
   },
   {
    "duration": 56,
    "start_time": "2022-05-22T11:06:36.018Z"
   },
   {
    "duration": 15,
    "start_time": "2022-05-22T11:06:36.076Z"
   },
   {
    "duration": 18,
    "start_time": "2022-05-22T11:06:36.093Z"
   },
   {
    "duration": 11,
    "start_time": "2022-05-22T11:06:36.113Z"
   },
   {
    "duration": 5,
    "start_time": "2022-05-22T11:06:36.125Z"
   },
   {
    "duration": 6,
    "start_time": "2022-05-22T11:06:36.131Z"
   },
   {
    "duration": 6,
    "start_time": "2022-05-22T11:06:36.138Z"
   },
   {
    "duration": 9,
    "start_time": "2022-05-22T11:06:36.145Z"
   },
   {
    "duration": 6,
    "start_time": "2022-05-22T11:06:36.155Z"
   },
   {
    "duration": 13,
    "start_time": "2022-05-22T11:06:36.162Z"
   },
   {
    "duration": 21,
    "start_time": "2022-05-22T11:06:36.176Z"
   },
   {
    "duration": 16,
    "start_time": "2022-05-22T11:06:36.198Z"
   },
   {
    "duration": 4,
    "start_time": "2022-05-22T11:06:36.216Z"
   },
   {
    "duration": 7,
    "start_time": "2022-05-22T11:06:36.221Z"
   },
   {
    "duration": 7,
    "start_time": "2022-05-22T11:06:36.230Z"
   },
   {
    "duration": 7,
    "start_time": "2022-05-22T11:06:36.239Z"
   },
   {
    "duration": 9,
    "start_time": "2022-05-22T11:06:36.247Z"
   },
   {
    "duration": 5,
    "start_time": "2022-05-22T11:06:36.257Z"
   },
   {
    "duration": 42,
    "start_time": "2022-05-22T11:06:36.263Z"
   },
   {
    "duration": 10,
    "start_time": "2022-05-22T11:06:36.307Z"
   },
   {
    "duration": 7,
    "start_time": "2022-05-22T11:06:36.319Z"
   },
   {
    "duration": 9,
    "start_time": "2022-05-22T11:06:36.328Z"
   },
   {
    "duration": 7,
    "start_time": "2022-05-22T11:06:36.339Z"
   },
   {
    "duration": 8,
    "start_time": "2022-05-22T11:06:36.348Z"
   },
   {
    "duration": 13,
    "start_time": "2022-05-22T11:06:36.357Z"
   },
   {
    "duration": 26,
    "start_time": "2022-05-22T11:06:36.371Z"
   },
   {
    "duration": 8,
    "start_time": "2022-05-22T11:06:36.398Z"
   },
   {
    "duration": 8,
    "start_time": "2022-05-22T11:06:36.408Z"
   },
   {
    "duration": 7,
    "start_time": "2022-05-22T11:06:36.417Z"
   },
   {
    "duration": 12,
    "start_time": "2022-05-22T11:06:36.425Z"
   },
   {
    "duration": 13,
    "start_time": "2022-05-22T11:06:36.438Z"
   },
   {
    "duration": 8,
    "start_time": "2022-05-22T11:06:36.452Z"
   },
   {
    "duration": 20,
    "start_time": "2022-05-22T11:06:36.462Z"
   },
   {
    "duration": 17,
    "start_time": "2022-05-22T11:06:36.494Z"
   },
   {
    "duration": 18,
    "start_time": "2022-05-22T11:06:36.513Z"
   },
   {
    "duration": 16,
    "start_time": "2022-05-22T11:06:36.532Z"
   },
   {
    "duration": 11,
    "start_time": "2022-05-22T11:06:36.549Z"
   },
   {
    "duration": 37,
    "start_time": "2022-05-22T11:06:36.562Z"
   },
   {
    "duration": 5,
    "start_time": "2022-05-22T11:06:36.600Z"
   },
   {
    "duration": 10,
    "start_time": "2022-05-22T11:06:36.610Z"
   },
   {
    "duration": 7,
    "start_time": "2022-05-22T11:06:36.621Z"
   },
   {
    "duration": 0,
    "start_time": "2022-05-22T11:06:36.629Z"
   },
   {
    "duration": 0,
    "start_time": "2022-05-22T11:06:36.630Z"
   },
   {
    "duration": 0,
    "start_time": "2022-05-22T11:06:36.631Z"
   },
   {
    "duration": 0,
    "start_time": "2022-05-22T11:06:36.632Z"
   },
   {
    "duration": 0,
    "start_time": "2022-05-22T11:06:36.632Z"
   },
   {
    "duration": 0,
    "start_time": "2022-05-22T11:06:36.633Z"
   },
   {
    "duration": 0,
    "start_time": "2022-05-22T11:06:36.634Z"
   },
   {
    "duration": 0,
    "start_time": "2022-05-22T11:06:36.635Z"
   },
   {
    "duration": 0,
    "start_time": "2022-05-22T11:06:36.636Z"
   },
   {
    "duration": 0,
    "start_time": "2022-05-22T11:06:36.637Z"
   },
   {
    "duration": 0,
    "start_time": "2022-05-22T11:06:36.638Z"
   },
   {
    "duration": 0,
    "start_time": "2022-05-22T11:06:36.639Z"
   },
   {
    "duration": 0,
    "start_time": "2022-05-22T11:06:36.640Z"
   },
   {
    "duration": 0,
    "start_time": "2022-05-22T11:06:36.641Z"
   },
   {
    "duration": 0,
    "start_time": "2022-05-22T11:06:36.642Z"
   },
   {
    "duration": 0,
    "start_time": "2022-05-22T11:06:36.643Z"
   },
   {
    "duration": 0,
    "start_time": "2022-05-22T11:06:36.644Z"
   },
   {
    "duration": 0,
    "start_time": "2022-05-22T11:06:36.645Z"
   },
   {
    "duration": 0,
    "start_time": "2022-05-22T11:06:36.646Z"
   },
   {
    "duration": 0,
    "start_time": "2022-05-22T11:06:36.647Z"
   },
   {
    "duration": 0,
    "start_time": "2022-05-22T11:06:36.694Z"
   },
   {
    "duration": 0,
    "start_time": "2022-05-22T11:06:36.695Z"
   },
   {
    "duration": 0,
    "start_time": "2022-05-22T11:06:36.696Z"
   },
   {
    "duration": 0,
    "start_time": "2022-05-22T11:06:36.697Z"
   },
   {
    "duration": 0,
    "start_time": "2022-05-22T11:06:36.698Z"
   },
   {
    "duration": 0,
    "start_time": "2022-05-22T11:06:36.699Z"
   },
   {
    "duration": 0,
    "start_time": "2022-05-22T11:06:36.700Z"
   },
   {
    "duration": 0,
    "start_time": "2022-05-22T11:06:36.701Z"
   },
   {
    "duration": 0,
    "start_time": "2022-05-22T11:06:36.702Z"
   },
   {
    "duration": 0,
    "start_time": "2022-05-22T11:06:36.703Z"
   },
   {
    "duration": 0,
    "start_time": "2022-05-22T11:06:36.704Z"
   },
   {
    "duration": 0,
    "start_time": "2022-05-22T11:06:36.705Z"
   },
   {
    "duration": 0,
    "start_time": "2022-05-22T11:06:36.706Z"
   },
   {
    "duration": 0,
    "start_time": "2022-05-22T11:06:36.707Z"
   },
   {
    "duration": 0,
    "start_time": "2022-05-22T11:06:36.708Z"
   },
   {
    "duration": 0,
    "start_time": "2022-05-22T11:06:36.709Z"
   },
   {
    "duration": 0,
    "start_time": "2022-05-22T11:06:36.710Z"
   },
   {
    "duration": 0,
    "start_time": "2022-05-22T11:06:36.711Z"
   },
   {
    "duration": 0,
    "start_time": "2022-05-22T11:06:36.711Z"
   },
   {
    "duration": 464,
    "start_time": "2022-05-23T10:04:27.779Z"
   },
   {
    "duration": 127,
    "start_time": "2022-05-23T10:04:28.251Z"
   },
   {
    "duration": 19,
    "start_time": "2022-05-23T10:04:28.379Z"
   },
   {
    "duration": 15,
    "start_time": "2022-05-23T10:04:28.400Z"
   },
   {
    "duration": 40,
    "start_time": "2022-05-23T10:04:28.417Z"
   },
   {
    "duration": 25,
    "start_time": "2022-05-23T10:04:28.459Z"
   },
   {
    "duration": 19,
    "start_time": "2022-05-23T10:04:28.486Z"
   },
   {
    "duration": 6,
    "start_time": "2022-05-23T10:04:28.507Z"
   },
   {
    "duration": 13,
    "start_time": "2022-05-23T10:04:28.515Z"
   },
   {
    "duration": 5,
    "start_time": "2022-05-23T10:04:28.531Z"
   },
   {
    "duration": 24,
    "start_time": "2022-05-23T10:04:28.538Z"
   },
   {
    "duration": 12,
    "start_time": "2022-05-23T10:04:28.565Z"
   },
   {
    "duration": 17,
    "start_time": "2022-05-23T10:04:28.579Z"
   },
   {
    "duration": 4,
    "start_time": "2022-05-23T10:04:28.598Z"
   },
   {
    "duration": 13,
    "start_time": "2022-05-23T10:04:28.603Z"
   },
   {
    "duration": 46,
    "start_time": "2022-05-23T10:04:28.618Z"
   },
   {
    "duration": 13,
    "start_time": "2022-05-23T10:04:28.667Z"
   },
   {
    "duration": 23,
    "start_time": "2022-05-23T10:04:28.682Z"
   },
   {
    "duration": 11,
    "start_time": "2022-05-23T10:04:28.707Z"
   },
   {
    "duration": 19,
    "start_time": "2022-05-23T10:04:28.720Z"
   },
   {
    "duration": 23,
    "start_time": "2022-05-23T10:04:28.741Z"
   },
   {
    "duration": 6,
    "start_time": "2022-05-23T10:04:28.766Z"
   },
   {
    "duration": 13,
    "start_time": "2022-05-23T10:04:28.773Z"
   },
   {
    "duration": 15,
    "start_time": "2022-05-23T10:04:28.787Z"
   },
   {
    "duration": 17,
    "start_time": "2022-05-23T10:04:28.804Z"
   },
   {
    "duration": 48,
    "start_time": "2022-05-23T10:04:28.823Z"
   },
   {
    "duration": 6,
    "start_time": "2022-05-23T10:04:28.873Z"
   },
   {
    "duration": 7,
    "start_time": "2022-05-23T10:04:28.884Z"
   },
   {
    "duration": 22,
    "start_time": "2022-05-23T10:04:28.893Z"
   },
   {
    "duration": 40,
    "start_time": "2022-05-23T10:04:28.916Z"
   },
   {
    "duration": 18,
    "start_time": "2022-05-23T10:04:28.958Z"
   },
   {
    "duration": 11,
    "start_time": "2022-05-23T10:04:28.978Z"
   },
   {
    "duration": 9,
    "start_time": "2022-05-23T10:04:28.991Z"
   },
   {
    "duration": 23,
    "start_time": "2022-05-23T10:04:29.002Z"
   },
   {
    "duration": 24,
    "start_time": "2022-05-23T10:04:29.051Z"
   },
   {
    "duration": 22,
    "start_time": "2022-05-23T10:04:29.076Z"
   },
   {
    "duration": 18,
    "start_time": "2022-05-23T10:04:29.100Z"
   },
   {
    "duration": 45,
    "start_time": "2022-05-23T10:04:29.121Z"
   },
   {
    "duration": 18,
    "start_time": "2022-05-23T10:04:29.169Z"
   },
   {
    "duration": 18,
    "start_time": "2022-05-23T10:04:29.190Z"
   },
   {
    "duration": 49,
    "start_time": "2022-05-23T10:04:29.210Z"
   },
   {
    "duration": 11,
    "start_time": "2022-05-23T10:04:29.261Z"
   },
   {
    "duration": 14,
    "start_time": "2022-05-23T10:04:29.275Z"
   },
   {
    "duration": 6,
    "start_time": "2022-05-23T10:04:29.291Z"
   },
   {
    "duration": 18,
    "start_time": "2022-05-23T10:04:29.299Z"
   },
   {
    "duration": 18,
    "start_time": "2022-05-23T10:04:29.319Z"
   },
   {
    "duration": 13,
    "start_time": "2022-05-23T10:04:29.339Z"
   },
   {
    "duration": 5,
    "start_time": "2022-05-23T10:04:29.354Z"
   },
   {
    "duration": 16,
    "start_time": "2022-05-23T10:04:29.361Z"
   },
   {
    "duration": 14,
    "start_time": "2022-05-23T10:04:29.379Z"
   },
   {
    "duration": 15,
    "start_time": "2022-05-23T10:04:29.395Z"
   },
   {
    "duration": 0,
    "start_time": "2022-05-23T10:04:29.412Z"
   },
   {
    "duration": 0,
    "start_time": "2022-05-23T10:04:29.413Z"
   },
   {
    "duration": 0,
    "start_time": "2022-05-23T10:04:29.415Z"
   },
   {
    "duration": 0,
    "start_time": "2022-05-23T10:04:29.416Z"
   },
   {
    "duration": 0,
    "start_time": "2022-05-23T10:04:29.416Z"
   },
   {
    "duration": 0,
    "start_time": "2022-05-23T10:04:29.418Z"
   },
   {
    "duration": 0,
    "start_time": "2022-05-23T10:04:29.419Z"
   },
   {
    "duration": 0,
    "start_time": "2022-05-23T10:04:29.421Z"
   },
   {
    "duration": 0,
    "start_time": "2022-05-23T10:04:29.422Z"
   },
   {
    "duration": 0,
    "start_time": "2022-05-23T10:04:29.423Z"
   },
   {
    "duration": 0,
    "start_time": "2022-05-23T10:04:29.425Z"
   },
   {
    "duration": 0,
    "start_time": "2022-05-23T10:04:29.426Z"
   },
   {
    "duration": 0,
    "start_time": "2022-05-23T10:04:29.427Z"
   },
   {
    "duration": 0,
    "start_time": "2022-05-23T10:04:29.428Z"
   },
   {
    "duration": 0,
    "start_time": "2022-05-23T10:04:29.429Z"
   },
   {
    "duration": 1,
    "start_time": "2022-05-23T10:04:29.430Z"
   },
   {
    "duration": 0,
    "start_time": "2022-05-23T10:04:29.453Z"
   },
   {
    "duration": 0,
    "start_time": "2022-05-23T10:04:29.454Z"
   },
   {
    "duration": 0,
    "start_time": "2022-05-23T10:04:29.457Z"
   },
   {
    "duration": 0,
    "start_time": "2022-05-23T10:04:29.458Z"
   },
   {
    "duration": 0,
    "start_time": "2022-05-23T10:04:29.459Z"
   },
   {
    "duration": 0,
    "start_time": "2022-05-23T10:04:29.460Z"
   },
   {
    "duration": 0,
    "start_time": "2022-05-23T10:04:29.461Z"
   },
   {
    "duration": 0,
    "start_time": "2022-05-23T10:04:29.463Z"
   },
   {
    "duration": 0,
    "start_time": "2022-05-23T10:04:29.464Z"
   },
   {
    "duration": 0,
    "start_time": "2022-05-23T10:04:29.465Z"
   },
   {
    "duration": 0,
    "start_time": "2022-05-23T10:04:29.466Z"
   },
   {
    "duration": 0,
    "start_time": "2022-05-23T10:04:29.467Z"
   },
   {
    "duration": 0,
    "start_time": "2022-05-23T10:04:29.468Z"
   },
   {
    "duration": 0,
    "start_time": "2022-05-23T10:04:29.469Z"
   },
   {
    "duration": 3,
    "start_time": "2022-05-23T10:05:06.591Z"
   },
   {
    "duration": 4,
    "start_time": "2022-05-23T10:05:09.907Z"
   },
   {
    "duration": 10,
    "start_time": "2022-05-23T10:05:12.931Z"
   },
   {
    "duration": 17,
    "start_time": "2022-05-23T10:05:18.855Z"
   },
   {
    "duration": 9,
    "start_time": "2022-05-23T10:06:14.330Z"
   },
   {
    "duration": 11,
    "start_time": "2022-05-23T10:06:15.078Z"
   },
   {
    "duration": 9,
    "start_time": "2022-05-23T10:06:20.274Z"
   },
   {
    "duration": 6,
    "start_time": "2022-05-23T10:06:21.263Z"
   },
   {
    "duration": 12,
    "start_time": "2022-05-23T10:06:22.082Z"
   },
   {
    "duration": 4,
    "start_time": "2022-05-23T10:06:33.666Z"
   },
   {
    "duration": 5,
    "start_time": "2022-05-23T10:08:11.759Z"
   },
   {
    "duration": 5,
    "start_time": "2022-05-23T10:08:24.825Z"
   },
   {
    "duration": 4,
    "start_time": "2022-05-23T10:08:31.072Z"
   },
   {
    "duration": 4,
    "start_time": "2022-05-23T10:09:01.550Z"
   },
   {
    "duration": 7,
    "start_time": "2022-05-23T10:13:42.467Z"
   },
   {
    "duration": 13,
    "start_time": "2022-05-23T10:13:43.229Z"
   },
   {
    "duration": 5,
    "start_time": "2022-05-23T10:13:43.953Z"
   },
   {
    "duration": 10,
    "start_time": "2022-05-23T10:13:44.872Z"
   },
   {
    "duration": 85,
    "start_time": "2022-05-23T10:21:51.634Z"
   },
   {
    "duration": 21,
    "start_time": "2022-05-23T10:22:19.904Z"
   },
   {
    "duration": 20,
    "start_time": "2022-05-23T10:23:11.072Z"
   },
   {
    "duration": 10,
    "start_time": "2022-05-23T10:23:23.230Z"
   },
   {
    "duration": 22,
    "start_time": "2022-05-23T10:23:33.063Z"
   },
   {
    "duration": 14,
    "start_time": "2022-05-23T10:24:21.631Z"
   },
   {
    "duration": 16,
    "start_time": "2022-05-23T10:24:28.436Z"
   },
   {
    "duration": 15,
    "start_time": "2022-05-23T10:24:34.823Z"
   },
   {
    "duration": 13,
    "start_time": "2022-05-23T10:24:51.755Z"
   },
   {
    "duration": 22,
    "start_time": "2022-05-23T10:25:07.997Z"
   },
   {
    "duration": 13,
    "start_time": "2022-05-23T10:25:24.966Z"
   },
   {
    "duration": 7,
    "start_time": "2022-05-23T10:30:17.500Z"
   },
   {
    "duration": 32,
    "start_time": "2022-05-23T10:35:42.141Z"
   },
   {
    "duration": 25,
    "start_time": "2022-05-23T10:36:23.304Z"
   },
   {
    "duration": 43,
    "start_time": "2022-05-23T10:37:36.031Z"
   },
   {
    "duration": 40,
    "start_time": "2022-05-23T10:38:08.312Z"
   },
   {
    "duration": 22,
    "start_time": "2022-05-23T10:40:16.330Z"
   },
   {
    "duration": 49,
    "start_time": "2022-05-23T10:40:46.749Z"
   },
   {
    "duration": 6,
    "start_time": "2022-05-23T10:40:56.231Z"
   },
   {
    "duration": 7,
    "start_time": "2022-05-23T10:40:59.703Z"
   },
   {
    "duration": 6,
    "start_time": "2022-05-23T10:41:01.014Z"
   },
   {
    "duration": 5,
    "start_time": "2022-05-23T10:41:02.187Z"
   },
   {
    "duration": 6,
    "start_time": "2022-05-23T10:41:03.958Z"
   },
   {
    "duration": 6,
    "start_time": "2022-05-23T10:41:11.357Z"
   },
   {
    "duration": 6,
    "start_time": "2022-05-23T10:41:16.481Z"
   },
   {
    "duration": 62,
    "start_time": "2022-05-23T10:47:43.254Z"
   },
   {
    "duration": 458,
    "start_time": "2022-05-23T10:48:47.484Z"
   },
   {
    "duration": 107,
    "start_time": "2022-05-23T10:48:47.944Z"
   },
   {
    "duration": 20,
    "start_time": "2022-05-23T10:48:48.053Z"
   },
   {
    "duration": 16,
    "start_time": "2022-05-23T10:48:48.075Z"
   },
   {
    "duration": 13,
    "start_time": "2022-05-23T10:48:48.093Z"
   },
   {
    "duration": 3,
    "start_time": "2022-05-23T10:48:48.107Z"
   },
   {
    "duration": 43,
    "start_time": "2022-05-23T10:48:48.111Z"
   },
   {
    "duration": 3,
    "start_time": "2022-05-23T10:48:48.155Z"
   },
   {
    "duration": 10,
    "start_time": "2022-05-23T10:48:48.159Z"
   },
   {
    "duration": 6,
    "start_time": "2022-05-23T10:48:48.171Z"
   },
   {
    "duration": 17,
    "start_time": "2022-05-23T10:48:48.178Z"
   },
   {
    "duration": 5,
    "start_time": "2022-05-23T10:48:48.197Z"
   },
   {
    "duration": 49,
    "start_time": "2022-05-23T10:48:48.204Z"
   },
   {
    "duration": 4,
    "start_time": "2022-05-23T10:48:48.255Z"
   },
   {
    "duration": 17,
    "start_time": "2022-05-23T10:48:48.261Z"
   },
   {
    "duration": 16,
    "start_time": "2022-05-23T10:48:48.279Z"
   },
   {
    "duration": 5,
    "start_time": "2022-05-23T10:48:48.297Z"
   },
   {
    "duration": 9,
    "start_time": "2022-05-23T10:48:48.304Z"
   },
   {
    "duration": 34,
    "start_time": "2022-05-23T10:48:48.315Z"
   },
   {
    "duration": 22,
    "start_time": "2022-05-23T10:48:48.351Z"
   },
   {
    "duration": 10,
    "start_time": "2022-05-23T10:48:48.375Z"
   },
   {
    "duration": 8,
    "start_time": "2022-05-23T10:48:48.387Z"
   },
   {
    "duration": 18,
    "start_time": "2022-05-23T10:48:48.397Z"
   },
   {
    "duration": 18,
    "start_time": "2022-05-23T10:48:48.417Z"
   },
   {
    "duration": 20,
    "start_time": "2022-05-23T10:48:48.436Z"
   },
   {
    "duration": 25,
    "start_time": "2022-05-23T10:48:48.458Z"
   },
   {
    "duration": 15,
    "start_time": "2022-05-23T10:48:48.484Z"
   },
   {
    "duration": 8,
    "start_time": "2022-05-23T10:48:48.503Z"
   },
   {
    "duration": 9,
    "start_time": "2022-05-23T10:48:48.513Z"
   },
   {
    "duration": 8,
    "start_time": "2022-05-23T10:48:48.523Z"
   },
   {
    "duration": 24,
    "start_time": "2022-05-23T10:48:48.532Z"
   },
   {
    "duration": 13,
    "start_time": "2022-05-23T10:48:48.557Z"
   },
   {
    "duration": 10,
    "start_time": "2022-05-23T10:48:48.571Z"
   },
   {
    "duration": 19,
    "start_time": "2022-05-23T10:48:48.583Z"
   },
   {
    "duration": 21,
    "start_time": "2022-05-23T10:48:48.603Z"
   },
   {
    "duration": 38,
    "start_time": "2022-05-23T10:48:48.626Z"
   },
   {
    "duration": 19,
    "start_time": "2022-05-23T10:48:48.665Z"
   },
   {
    "duration": 13,
    "start_time": "2022-05-23T10:48:48.686Z"
   },
   {
    "duration": 57,
    "start_time": "2022-05-23T10:48:48.701Z"
   },
   {
    "duration": 6,
    "start_time": "2022-05-23T10:48:48.759Z"
   },
   {
    "duration": 12,
    "start_time": "2022-05-23T10:48:48.766Z"
   },
   {
    "duration": 7,
    "start_time": "2022-05-23T10:48:48.780Z"
   },
   {
    "duration": 7,
    "start_time": "2022-05-23T10:48:48.789Z"
   },
   {
    "duration": 6,
    "start_time": "2022-05-23T10:48:48.797Z"
   },
   {
    "duration": 53,
    "start_time": "2022-05-23T10:48:48.805Z"
   },
   {
    "duration": 8,
    "start_time": "2022-05-23T10:48:48.860Z"
   },
   {
    "duration": 11,
    "start_time": "2022-05-23T10:48:48.870Z"
   },
   {
    "duration": 10,
    "start_time": "2022-05-23T10:48:48.883Z"
   },
   {
    "duration": 6,
    "start_time": "2022-05-23T10:48:48.894Z"
   },
   {
    "duration": 14,
    "start_time": "2022-05-23T10:48:48.902Z"
   },
   {
    "duration": 4,
    "start_time": "2022-05-23T10:48:48.952Z"
   },
   {
    "duration": 11,
    "start_time": "2022-05-23T10:48:48.958Z"
   },
   {
    "duration": 5,
    "start_time": "2022-05-23T10:48:48.972Z"
   },
   {
    "duration": 10,
    "start_time": "2022-05-23T10:48:48.979Z"
   },
   {
    "duration": 12,
    "start_time": "2022-05-23T10:48:48.991Z"
   },
   {
    "duration": 4,
    "start_time": "2022-05-23T10:48:49.005Z"
   },
   {
    "duration": 11,
    "start_time": "2022-05-23T10:48:49.052Z"
   },
   {
    "duration": 30,
    "start_time": "2022-05-23T10:48:49.064Z"
   },
   {
    "duration": 8,
    "start_time": "2022-05-23T10:48:49.096Z"
   },
   {
    "duration": 6,
    "start_time": "2022-05-23T10:48:49.106Z"
   },
   {
    "duration": 42,
    "start_time": "2022-05-23T10:48:49.115Z"
   },
   {
    "duration": 8,
    "start_time": "2022-05-23T10:48:49.159Z"
   },
   {
    "duration": 7,
    "start_time": "2022-05-23T10:48:49.169Z"
   },
   {
    "duration": 7,
    "start_time": "2022-05-23T10:48:49.178Z"
   },
   {
    "duration": 9,
    "start_time": "2022-05-23T10:48:49.187Z"
   },
   {
    "duration": 3,
    "start_time": "2022-05-23T10:48:49.198Z"
   },
   {
    "duration": 49,
    "start_time": "2022-05-23T10:48:49.203Z"
   },
   {
    "duration": 5,
    "start_time": "2022-05-23T10:48:49.254Z"
   },
   {
    "duration": 10,
    "start_time": "2022-05-23T10:48:49.261Z"
   },
   {
    "duration": 6,
    "start_time": "2022-05-23T10:48:49.273Z"
   },
   {
    "duration": 44,
    "start_time": "2022-05-23T10:48:49.280Z"
   },
   {
    "duration": 3,
    "start_time": "2022-05-23T10:48:49.325Z"
   },
   {
    "duration": 22,
    "start_time": "2022-05-23T10:48:49.330Z"
   },
   {
    "duration": 13,
    "start_time": "2022-05-23T10:48:49.354Z"
   },
   {
    "duration": 8,
    "start_time": "2022-05-23T10:48:49.368Z"
   },
   {
    "duration": 5,
    "start_time": "2022-05-23T10:48:49.378Z"
   },
   {
    "duration": 16,
    "start_time": "2022-05-23T10:48:49.385Z"
   },
   {
    "duration": 8,
    "start_time": "2022-05-23T10:48:49.402Z"
   },
   {
    "duration": 59,
    "start_time": "2022-05-23T10:49:22.328Z"
   },
   {
    "duration": 596,
    "start_time": "2022-05-23T10:49:30.474Z"
   },
   {
    "duration": 102,
    "start_time": "2022-05-23T10:49:31.072Z"
   },
   {
    "duration": 20,
    "start_time": "2022-05-23T10:49:31.176Z"
   },
   {
    "duration": 44,
    "start_time": "2022-05-23T10:49:31.198Z"
   },
   {
    "duration": 25,
    "start_time": "2022-05-23T10:49:31.243Z"
   },
   {
    "duration": 9,
    "start_time": "2022-05-23T10:49:31.269Z"
   },
   {
    "duration": 24,
    "start_time": "2022-05-23T10:49:31.280Z"
   },
   {
    "duration": 16,
    "start_time": "2022-05-23T10:49:31.306Z"
   },
   {
    "duration": 17,
    "start_time": "2022-05-23T10:49:31.324Z"
   },
   {
    "duration": 12,
    "start_time": "2022-05-23T10:49:31.344Z"
   },
   {
    "duration": 21,
    "start_time": "2022-05-23T10:49:31.358Z"
   },
   {
    "duration": 12,
    "start_time": "2022-05-23T10:49:31.380Z"
   },
   {
    "duration": 24,
    "start_time": "2022-05-23T10:49:31.394Z"
   },
   {
    "duration": 5,
    "start_time": "2022-05-23T10:49:31.420Z"
   },
   {
    "duration": 18,
    "start_time": "2022-05-23T10:49:31.427Z"
   },
   {
    "duration": 25,
    "start_time": "2022-05-23T10:49:31.452Z"
   },
   {
    "duration": 15,
    "start_time": "2022-05-23T10:49:31.479Z"
   },
   {
    "duration": 11,
    "start_time": "2022-05-23T10:49:31.496Z"
   },
   {
    "duration": 19,
    "start_time": "2022-05-23T10:49:31.510Z"
   },
   {
    "duration": 43,
    "start_time": "2022-05-23T10:49:31.530Z"
   },
   {
    "duration": 19,
    "start_time": "2022-05-23T10:49:31.574Z"
   },
   {
    "duration": 13,
    "start_time": "2022-05-23T10:49:31.595Z"
   },
   {
    "duration": 13,
    "start_time": "2022-05-23T10:49:31.610Z"
   },
   {
    "duration": 25,
    "start_time": "2022-05-23T10:49:31.625Z"
   },
   {
    "duration": 15,
    "start_time": "2022-05-23T10:49:31.651Z"
   },
   {
    "duration": 28,
    "start_time": "2022-05-23T10:49:31.667Z"
   },
   {
    "duration": 22,
    "start_time": "2022-05-23T10:49:31.696Z"
   },
   {
    "duration": 12,
    "start_time": "2022-05-23T10:49:31.722Z"
   },
   {
    "duration": 18,
    "start_time": "2022-05-23T10:49:31.735Z"
   },
   {
    "duration": 13,
    "start_time": "2022-05-23T10:49:31.754Z"
   },
   {
    "duration": 22,
    "start_time": "2022-05-23T10:49:31.769Z"
   },
   {
    "duration": 16,
    "start_time": "2022-05-23T10:49:31.793Z"
   },
   {
    "duration": 15,
    "start_time": "2022-05-23T10:49:31.811Z"
   },
   {
    "duration": 24,
    "start_time": "2022-05-23T10:49:31.829Z"
   },
   {
    "duration": 54,
    "start_time": "2022-05-23T10:49:31.855Z"
   },
   {
    "duration": 24,
    "start_time": "2022-05-23T10:49:31.911Z"
   },
   {
    "duration": 19,
    "start_time": "2022-05-23T10:49:31.938Z"
   },
   {
    "duration": 12,
    "start_time": "2022-05-23T10:49:31.960Z"
   },
   {
    "duration": 18,
    "start_time": "2022-05-23T10:49:31.974Z"
   },
   {
    "duration": 6,
    "start_time": "2022-05-23T10:49:31.994Z"
   },
   {
    "duration": 19,
    "start_time": "2022-05-23T10:49:32.001Z"
   },
   {
    "duration": 32,
    "start_time": "2022-05-23T10:49:32.022Z"
   },
   {
    "duration": 24,
    "start_time": "2022-05-23T10:49:32.056Z"
   },
   {
    "duration": 12,
    "start_time": "2022-05-23T10:49:32.082Z"
   },
   {
    "duration": 25,
    "start_time": "2022-05-23T10:49:32.095Z"
   },
   {
    "duration": 19,
    "start_time": "2022-05-23T10:49:32.122Z"
   },
   {
    "duration": 19,
    "start_time": "2022-05-23T10:49:32.143Z"
   },
   {
    "duration": 19,
    "start_time": "2022-05-23T10:49:32.164Z"
   },
   {
    "duration": 17,
    "start_time": "2022-05-23T10:49:32.185Z"
   },
   {
    "duration": 15,
    "start_time": "2022-05-23T10:49:32.203Z"
   },
   {
    "duration": 38,
    "start_time": "2022-05-23T10:49:32.221Z"
   },
   {
    "duration": 23,
    "start_time": "2022-05-23T10:49:32.261Z"
   },
   {
    "duration": 16,
    "start_time": "2022-05-23T10:49:32.285Z"
   },
   {
    "duration": 14,
    "start_time": "2022-05-23T10:49:32.302Z"
   },
   {
    "duration": 18,
    "start_time": "2022-05-23T10:49:32.318Z"
   },
   {
    "duration": 8,
    "start_time": "2022-05-23T10:49:32.337Z"
   },
   {
    "duration": 36,
    "start_time": "2022-05-23T10:49:32.347Z"
   },
   {
    "duration": 24,
    "start_time": "2022-05-23T10:49:32.385Z"
   },
   {
    "duration": 9,
    "start_time": "2022-05-23T10:49:32.411Z"
   },
   {
    "duration": 7,
    "start_time": "2022-05-23T10:49:32.422Z"
   },
   {
    "duration": 6,
    "start_time": "2022-05-23T10:49:32.431Z"
   },
   {
    "duration": 6,
    "start_time": "2022-05-23T10:49:32.452Z"
   },
   {
    "duration": 9,
    "start_time": "2022-05-23T10:49:32.461Z"
   },
   {
    "duration": 9,
    "start_time": "2022-05-23T10:49:32.473Z"
   },
   {
    "duration": 7,
    "start_time": "2022-05-23T10:49:32.484Z"
   },
   {
    "duration": 4,
    "start_time": "2022-05-23T10:49:32.493Z"
   },
   {
    "duration": 53,
    "start_time": "2022-05-23T10:49:32.499Z"
   },
   {
    "duration": 9,
    "start_time": "2022-05-23T10:49:32.555Z"
   },
   {
    "duration": 20,
    "start_time": "2022-05-23T10:49:32.566Z"
   },
   {
    "duration": 9,
    "start_time": "2022-05-23T10:49:32.588Z"
   },
   {
    "duration": 64,
    "start_time": "2022-05-23T10:49:32.599Z"
   },
   {
    "duration": 2,
    "start_time": "2022-05-23T10:49:32.665Z"
   },
   {
    "duration": 7,
    "start_time": "2022-05-23T10:49:32.669Z"
   },
   {
    "duration": 8,
    "start_time": "2022-05-23T10:49:32.678Z"
   },
   {
    "duration": 7,
    "start_time": "2022-05-23T10:49:32.688Z"
   },
   {
    "duration": 7,
    "start_time": "2022-05-23T10:49:32.697Z"
   },
   {
    "duration": 17,
    "start_time": "2022-05-23T10:49:32.705Z"
   },
   {
    "duration": 10,
    "start_time": "2022-05-23T10:49:32.723Z"
   },
   {
    "duration": 515,
    "start_time": "2022-05-23T10:53:35.875Z"
   },
   {
    "duration": 102,
    "start_time": "2022-05-23T10:53:36.392Z"
   },
   {
    "duration": 20,
    "start_time": "2022-05-23T10:53:36.495Z"
   },
   {
    "duration": 16,
    "start_time": "2022-05-23T10:53:36.517Z"
   },
   {
    "duration": 24,
    "start_time": "2022-05-23T10:53:36.535Z"
   },
   {
    "duration": 5,
    "start_time": "2022-05-23T10:53:36.561Z"
   },
   {
    "duration": 8,
    "start_time": "2022-05-23T10:53:36.567Z"
   },
   {
    "duration": 5,
    "start_time": "2022-05-23T10:53:36.577Z"
   },
   {
    "duration": 9,
    "start_time": "2022-05-23T10:53:36.584Z"
   },
   {
    "duration": 7,
    "start_time": "2022-05-23T10:53:36.596Z"
   },
   {
    "duration": 16,
    "start_time": "2022-05-23T10:53:36.604Z"
   },
   {
    "duration": 6,
    "start_time": "2022-05-23T10:53:36.652Z"
   },
   {
    "duration": 15,
    "start_time": "2022-05-23T10:53:36.659Z"
   },
   {
    "duration": 4,
    "start_time": "2022-05-23T10:53:36.676Z"
   },
   {
    "duration": 7,
    "start_time": "2022-05-23T10:53:36.681Z"
   },
   {
    "duration": 11,
    "start_time": "2022-05-23T10:53:36.689Z"
   },
   {
    "duration": 4,
    "start_time": "2022-05-23T10:53:36.702Z"
   },
   {
    "duration": 6,
    "start_time": "2022-05-23T10:53:36.753Z"
   },
   {
    "duration": 5,
    "start_time": "2022-05-23T10:53:36.761Z"
   },
   {
    "duration": 15,
    "start_time": "2022-05-23T10:53:36.768Z"
   },
   {
    "duration": 8,
    "start_time": "2022-05-23T10:53:36.785Z"
   },
   {
    "duration": 4,
    "start_time": "2022-05-23T10:53:36.795Z"
   },
   {
    "duration": 9,
    "start_time": "2022-05-23T10:53:36.801Z"
   },
   {
    "duration": 7,
    "start_time": "2022-05-23T10:53:36.853Z"
   },
   {
    "duration": 10,
    "start_time": "2022-05-23T10:53:36.862Z"
   },
   {
    "duration": 15,
    "start_time": "2022-05-23T10:53:36.874Z"
   },
   {
    "duration": 8,
    "start_time": "2022-05-23T10:53:36.891Z"
   },
   {
    "duration": 6,
    "start_time": "2022-05-23T10:53:36.905Z"
   },
   {
    "duration": 46,
    "start_time": "2022-05-23T10:53:36.913Z"
   },
   {
    "duration": 7,
    "start_time": "2022-05-23T10:53:36.961Z"
   },
   {
    "duration": 9,
    "start_time": "2022-05-23T10:53:36.970Z"
   },
   {
    "duration": 6,
    "start_time": "2022-05-23T10:53:36.981Z"
   },
   {
    "duration": 12,
    "start_time": "2022-05-23T10:53:36.988Z"
   },
   {
    "duration": 58,
    "start_time": "2022-05-23T10:53:37.002Z"
   },
   {
    "duration": 19,
    "start_time": "2022-05-23T10:53:37.062Z"
   },
   {
    "duration": 20,
    "start_time": "2022-05-23T10:53:37.083Z"
   },
   {
    "duration": 49,
    "start_time": "2022-05-23T10:53:37.104Z"
   },
   {
    "duration": 13,
    "start_time": "2022-05-23T10:53:37.155Z"
   },
   {
    "duration": 13,
    "start_time": "2022-05-23T10:53:37.170Z"
   },
   {
    "duration": 6,
    "start_time": "2022-05-23T10:53:37.186Z"
   },
   {
    "duration": 16,
    "start_time": "2022-05-23T10:53:37.193Z"
   },
   {
    "duration": 47,
    "start_time": "2022-05-23T10:53:37.211Z"
   },
   {
    "duration": 7,
    "start_time": "2022-05-23T10:53:37.260Z"
   },
   {
    "duration": 7,
    "start_time": "2022-05-23T10:53:37.269Z"
   },
   {
    "duration": 18,
    "start_time": "2022-05-23T10:53:37.277Z"
   },
   {
    "duration": 7,
    "start_time": "2022-05-23T10:53:37.296Z"
   },
   {
    "duration": 13,
    "start_time": "2022-05-23T10:53:37.304Z"
   },
   {
    "duration": 10,
    "start_time": "2022-05-23T10:53:37.352Z"
   },
   {
    "duration": 5,
    "start_time": "2022-05-23T10:53:37.363Z"
   },
   {
    "duration": 13,
    "start_time": "2022-05-23T10:53:37.370Z"
   },
   {
    "duration": 5,
    "start_time": "2022-05-23T10:53:37.384Z"
   },
   {
    "duration": 10,
    "start_time": "2022-05-23T10:53:37.390Z"
   },
   {
    "duration": 30,
    "start_time": "2022-05-23T10:53:37.401Z"
   },
   {
    "duration": 35,
    "start_time": "2022-05-23T10:53:37.432Z"
   },
   {
    "duration": 36,
    "start_time": "2022-05-23T10:53:37.468Z"
   },
   {
    "duration": 19,
    "start_time": "2022-05-23T10:53:37.505Z"
   },
   {
    "duration": 49,
    "start_time": "2022-05-23T10:53:37.525Z"
   },
   {
    "duration": 51,
    "start_time": "2022-05-23T10:53:37.575Z"
   },
   {
    "duration": 9,
    "start_time": "2022-05-23T10:53:37.627Z"
   },
   {
    "duration": 21,
    "start_time": "2022-05-23T10:53:37.637Z"
   },
   {
    "duration": 24,
    "start_time": "2022-05-23T10:53:37.660Z"
   },
   {
    "duration": 17,
    "start_time": "2022-05-23T10:53:37.685Z"
   },
   {
    "duration": 32,
    "start_time": "2022-05-23T10:53:37.704Z"
   },
   {
    "duration": 10,
    "start_time": "2022-05-23T10:53:37.738Z"
   },
   {
    "duration": 31,
    "start_time": "2022-05-23T10:53:37.750Z"
   },
   {
    "duration": 11,
    "start_time": "2022-05-23T10:53:37.783Z"
   },
   {
    "duration": 32,
    "start_time": "2022-05-23T10:53:37.795Z"
   },
   {
    "duration": 31,
    "start_time": "2022-05-23T10:53:37.829Z"
   },
   {
    "duration": 16,
    "start_time": "2022-05-23T10:53:37.862Z"
   },
   {
    "duration": 29,
    "start_time": "2022-05-23T10:53:37.879Z"
   },
   {
    "duration": 50,
    "start_time": "2022-05-23T10:53:37.910Z"
   },
   {
    "duration": 2,
    "start_time": "2022-05-23T10:53:37.962Z"
   },
   {
    "duration": 8,
    "start_time": "2022-05-23T10:53:37.966Z"
   },
   {
    "duration": 23,
    "start_time": "2022-05-23T10:53:37.976Z"
   },
   {
    "duration": 27,
    "start_time": "2022-05-23T10:53:38.001Z"
   },
   {
    "duration": 20,
    "start_time": "2022-05-23T10:53:38.029Z"
   },
   {
    "duration": 22,
    "start_time": "2022-05-23T10:53:38.051Z"
   },
   {
    "duration": 7,
    "start_time": "2022-05-23T10:53:38.074Z"
   },
   {
    "duration": 574,
    "start_time": "2022-05-23T10:54:21.121Z"
   },
   {
    "duration": 95,
    "start_time": "2022-05-23T10:54:21.697Z"
   },
   {
    "duration": 22,
    "start_time": "2022-05-23T10:54:21.794Z"
   },
   {
    "duration": 27,
    "start_time": "2022-05-23T10:54:21.819Z"
   },
   {
    "duration": 15,
    "start_time": "2022-05-23T10:54:21.848Z"
   },
   {
    "duration": 2,
    "start_time": "2022-05-23T10:54:21.866Z"
   },
   {
    "duration": 7,
    "start_time": "2022-05-23T10:54:21.870Z"
   },
   {
    "duration": 3,
    "start_time": "2022-05-23T10:54:21.879Z"
   },
   {
    "duration": 10,
    "start_time": "2022-05-23T10:54:21.884Z"
   },
   {
    "duration": 22,
    "start_time": "2022-05-23T10:54:21.897Z"
   },
   {
    "duration": 13,
    "start_time": "2022-05-23T10:54:21.952Z"
   },
   {
    "duration": 5,
    "start_time": "2022-05-23T10:54:21.966Z"
   },
   {
    "duration": 15,
    "start_time": "2022-05-23T10:54:21.972Z"
   },
   {
    "duration": 4,
    "start_time": "2022-05-23T10:54:21.988Z"
   },
   {
    "duration": 7,
    "start_time": "2022-05-23T10:54:21.994Z"
   },
   {
    "duration": 51,
    "start_time": "2022-05-23T10:54:22.002Z"
   },
   {
    "duration": 7,
    "start_time": "2022-05-23T10:54:22.055Z"
   },
   {
    "duration": 15,
    "start_time": "2022-05-23T10:54:22.064Z"
   },
   {
    "duration": 8,
    "start_time": "2022-05-23T10:54:22.081Z"
   },
   {
    "duration": 12,
    "start_time": "2022-05-23T10:54:22.091Z"
   },
   {
    "duration": 9,
    "start_time": "2022-05-23T10:54:22.105Z"
   },
   {
    "duration": 40,
    "start_time": "2022-05-23T10:54:22.115Z"
   },
   {
    "duration": 17,
    "start_time": "2022-05-23T10:54:22.156Z"
   },
   {
    "duration": 14,
    "start_time": "2022-05-23T10:54:22.175Z"
   },
   {
    "duration": 8,
    "start_time": "2022-05-23T10:54:22.190Z"
   },
   {
    "duration": 14,
    "start_time": "2022-05-23T10:54:22.200Z"
   },
   {
    "duration": 8,
    "start_time": "2022-05-23T10:54:22.216Z"
   },
   {
    "duration": 6,
    "start_time": "2022-05-23T10:54:22.255Z"
   },
   {
    "duration": 9,
    "start_time": "2022-05-23T10:54:22.263Z"
   },
   {
    "duration": 7,
    "start_time": "2022-05-23T10:54:22.273Z"
   },
   {
    "duration": 8,
    "start_time": "2022-05-23T10:54:22.282Z"
   },
   {
    "duration": 5,
    "start_time": "2022-05-23T10:54:22.292Z"
   },
   {
    "duration": 8,
    "start_time": "2022-05-23T10:54:22.298Z"
   },
   {
    "duration": 56,
    "start_time": "2022-05-23T10:54:22.308Z"
   },
   {
    "duration": 23,
    "start_time": "2022-05-23T10:54:22.366Z"
   },
   {
    "duration": 19,
    "start_time": "2022-05-23T10:54:22.391Z"
   },
   {
    "duration": 43,
    "start_time": "2022-05-23T10:54:22.412Z"
   },
   {
    "duration": 12,
    "start_time": "2022-05-23T10:54:22.456Z"
   },
   {
    "duration": 13,
    "start_time": "2022-05-23T10:54:22.469Z"
   },
   {
    "duration": 7,
    "start_time": "2022-05-23T10:54:22.484Z"
   },
   {
    "duration": 22,
    "start_time": "2022-05-23T10:54:22.493Z"
   },
   {
    "duration": 37,
    "start_time": "2022-05-23T10:54:22.518Z"
   },
   {
    "duration": 15,
    "start_time": "2022-05-23T10:54:22.557Z"
   },
   {
    "duration": 20,
    "start_time": "2022-05-23T10:54:22.574Z"
   },
   {
    "duration": 48,
    "start_time": "2022-05-23T10:54:22.596Z"
   },
   {
    "duration": 15,
    "start_time": "2022-05-23T10:54:22.647Z"
   },
   {
    "duration": 32,
    "start_time": "2022-05-23T10:54:22.664Z"
   },
   {
    "duration": 12,
    "start_time": "2022-05-23T10:54:22.698Z"
   },
   {
    "duration": 4,
    "start_time": "2022-05-23T10:54:22.712Z"
   },
   {
    "duration": 13,
    "start_time": "2022-05-23T10:54:22.718Z"
   },
   {
    "duration": 6,
    "start_time": "2022-05-23T10:54:22.733Z"
   },
   {
    "duration": 8,
    "start_time": "2022-05-23T10:54:22.741Z"
   },
   {
    "duration": 5,
    "start_time": "2022-05-23T10:54:22.752Z"
   },
   {
    "duration": 10,
    "start_time": "2022-05-23T10:54:22.759Z"
   },
   {
    "duration": 12,
    "start_time": "2022-05-23T10:54:22.771Z"
   },
   {
    "duration": 6,
    "start_time": "2022-05-23T10:54:22.784Z"
   },
   {
    "duration": 15,
    "start_time": "2022-05-23T10:54:22.791Z"
   },
   {
    "duration": 51,
    "start_time": "2022-05-23T10:54:22.808Z"
   },
   {
    "duration": 6,
    "start_time": "2022-05-23T10:54:22.861Z"
   },
   {
    "duration": 8,
    "start_time": "2022-05-23T10:54:22.869Z"
   },
   {
    "duration": 6,
    "start_time": "2022-05-23T10:54:22.878Z"
   },
   {
    "duration": 7,
    "start_time": "2022-05-23T10:54:22.885Z"
   },
   {
    "duration": 7,
    "start_time": "2022-05-23T10:54:22.894Z"
   },
   {
    "duration": 51,
    "start_time": "2022-05-23T10:54:22.903Z"
   },
   {
    "duration": 12,
    "start_time": "2022-05-23T10:54:22.955Z"
   },
   {
    "duration": 5,
    "start_time": "2022-05-23T10:54:22.968Z"
   },
   {
    "duration": 7,
    "start_time": "2022-05-23T10:54:22.975Z"
   },
   {
    "duration": 5,
    "start_time": "2022-05-23T10:54:22.984Z"
   },
   {
    "duration": 9,
    "start_time": "2022-05-23T10:54:22.990Z"
   },
   {
    "duration": 6,
    "start_time": "2022-05-23T10:54:23.001Z"
   },
   {
    "duration": 59,
    "start_time": "2022-05-23T10:54:23.008Z"
   },
   {
    "duration": 3,
    "start_time": "2022-05-23T10:54:23.069Z"
   },
   {
    "duration": 5,
    "start_time": "2022-05-23T10:54:23.074Z"
   },
   {
    "duration": 9,
    "start_time": "2022-05-23T10:54:23.080Z"
   },
   {
    "duration": 6,
    "start_time": "2022-05-23T10:54:23.090Z"
   },
   {
    "duration": 10,
    "start_time": "2022-05-23T10:54:23.098Z"
   },
   {
    "duration": 7,
    "start_time": "2022-05-23T10:54:23.110Z"
   },
   {
    "duration": 5,
    "start_time": "2022-05-23T10:54:23.119Z"
   },
   {
    "duration": 464,
    "start_time": "2022-05-23T10:57:38.842Z"
   },
   {
    "duration": 98,
    "start_time": "2022-05-23T10:57:39.308Z"
   },
   {
    "duration": 18,
    "start_time": "2022-05-23T10:57:39.407Z"
   },
   {
    "duration": 15,
    "start_time": "2022-05-23T10:57:39.427Z"
   },
   {
    "duration": 18,
    "start_time": "2022-05-23T10:57:39.443Z"
   },
   {
    "duration": 2,
    "start_time": "2022-05-23T10:57:39.463Z"
   },
   {
    "duration": 8,
    "start_time": "2022-05-23T10:57:39.466Z"
   },
   {
    "duration": 5,
    "start_time": "2022-05-23T10:57:39.475Z"
   },
   {
    "duration": 13,
    "start_time": "2022-05-23T10:57:39.482Z"
   },
   {
    "duration": 9,
    "start_time": "2022-05-23T10:57:39.497Z"
   },
   {
    "duration": 16,
    "start_time": "2022-05-23T10:57:39.508Z"
   },
   {
    "duration": 28,
    "start_time": "2022-05-23T10:57:39.526Z"
   },
   {
    "duration": 16,
    "start_time": "2022-05-23T10:57:39.556Z"
   },
   {
    "duration": 8,
    "start_time": "2022-05-23T10:57:39.574Z"
   },
   {
    "duration": 6,
    "start_time": "2022-05-23T10:57:39.583Z"
   },
   {
    "duration": 9,
    "start_time": "2022-05-23T10:57:39.590Z"
   },
   {
    "duration": 7,
    "start_time": "2022-05-23T10:57:39.600Z"
   },
   {
    "duration": 44,
    "start_time": "2022-05-23T10:57:39.609Z"
   },
   {
    "duration": 5,
    "start_time": "2022-05-23T10:57:39.655Z"
   },
   {
    "duration": 24,
    "start_time": "2022-05-23T10:57:39.662Z"
   },
   {
    "duration": 7,
    "start_time": "2022-05-23T10:57:39.687Z"
   },
   {
    "duration": 4,
    "start_time": "2022-05-23T10:57:39.695Z"
   },
   {
    "duration": 8,
    "start_time": "2022-05-23T10:57:39.701Z"
   },
   {
    "duration": 9,
    "start_time": "2022-05-23T10:57:39.710Z"
   },
   {
    "duration": 7,
    "start_time": "2022-05-23T10:57:39.752Z"
   },
   {
    "duration": 25,
    "start_time": "2022-05-23T10:57:39.761Z"
   },
   {
    "duration": 14,
    "start_time": "2022-05-23T10:57:39.787Z"
   },
   {
    "duration": 10,
    "start_time": "2022-05-23T10:57:39.805Z"
   },
   {
    "duration": 8,
    "start_time": "2022-05-23T10:57:39.817Z"
   },
   {
    "duration": 19,
    "start_time": "2022-05-23T10:57:39.826Z"
   },
   {
    "duration": 7,
    "start_time": "2022-05-23T10:57:39.853Z"
   },
   {
    "duration": 11,
    "start_time": "2022-05-23T10:57:39.861Z"
   },
   {
    "duration": 17,
    "start_time": "2022-05-23T10:57:39.873Z"
   },
   {
    "duration": 19,
    "start_time": "2022-05-23T10:57:39.891Z"
   },
   {
    "duration": 19,
    "start_time": "2022-05-23T10:57:39.912Z"
   },
   {
    "duration": 37,
    "start_time": "2022-05-23T10:57:39.933Z"
   },
   {
    "duration": 18,
    "start_time": "2022-05-23T10:57:39.972Z"
   },
   {
    "duration": 12,
    "start_time": "2022-05-23T10:57:39.991Z"
   },
   {
    "duration": 54,
    "start_time": "2022-05-23T10:57:40.004Z"
   },
   {
    "duration": 5,
    "start_time": "2022-05-23T10:57:40.060Z"
   },
   {
    "duration": 15,
    "start_time": "2022-05-23T10:57:40.067Z"
   },
   {
    "duration": 9,
    "start_time": "2022-05-23T10:57:40.084Z"
   },
   {
    "duration": 11,
    "start_time": "2022-05-23T10:57:40.095Z"
   },
   {
    "duration": 8,
    "start_time": "2022-05-23T10:57:40.108Z"
   },
   {
    "duration": 48,
    "start_time": "2022-05-23T10:57:40.119Z"
   },
   {
    "duration": 10,
    "start_time": "2022-05-23T10:57:40.169Z"
   },
   {
    "duration": 20,
    "start_time": "2022-05-23T10:57:40.180Z"
   },
   {
    "duration": 12,
    "start_time": "2022-05-23T10:57:40.202Z"
   },
   {
    "duration": 7,
    "start_time": "2022-05-23T10:57:40.216Z"
   },
   {
    "duration": 37,
    "start_time": "2022-05-23T10:57:40.224Z"
   },
   {
    "duration": 7,
    "start_time": "2022-05-23T10:57:40.263Z"
   },
   {
    "duration": 10,
    "start_time": "2022-05-23T10:57:40.272Z"
   },
   {
    "duration": 5,
    "start_time": "2022-05-23T10:57:40.284Z"
   },
   {
    "duration": 14,
    "start_time": "2022-05-23T10:57:40.291Z"
   },
   {
    "duration": 47,
    "start_time": "2022-05-23T10:57:40.307Z"
   },
   {
    "duration": 5,
    "start_time": "2022-05-23T10:57:40.355Z"
   },
   {
    "duration": 15,
    "start_time": "2022-05-23T10:57:40.362Z"
   },
   {
    "duration": 22,
    "start_time": "2022-05-23T10:57:40.378Z"
   },
   {
    "duration": 6,
    "start_time": "2022-05-23T10:57:40.402Z"
   },
   {
    "duration": 5,
    "start_time": "2022-05-23T10:57:40.410Z"
   },
   {
    "duration": 40,
    "start_time": "2022-05-23T10:57:40.416Z"
   },
   {
    "duration": 8,
    "start_time": "2022-05-23T10:57:40.457Z"
   },
   {
    "duration": 7,
    "start_time": "2022-05-23T10:57:40.466Z"
   },
   {
    "duration": 7,
    "start_time": "2022-05-23T10:57:40.475Z"
   },
   {
    "duration": 8,
    "start_time": "2022-05-23T10:57:40.483Z"
   },
   {
    "duration": 4,
    "start_time": "2022-05-23T10:57:40.492Z"
   },
   {
    "duration": 7,
    "start_time": "2022-05-23T10:57:40.498Z"
   },
   {
    "duration": 5,
    "start_time": "2022-05-23T10:57:40.506Z"
   },
   {
    "duration": 46,
    "start_time": "2022-05-23T10:57:40.512Z"
   },
   {
    "duration": 6,
    "start_time": "2022-05-23T10:57:40.560Z"
   },
   {
    "duration": 40,
    "start_time": "2022-05-23T10:57:40.567Z"
   },
   {
    "duration": 2,
    "start_time": "2022-05-23T10:57:40.609Z"
   },
   {
    "duration": 5,
    "start_time": "2022-05-23T10:57:40.612Z"
   },
   {
    "duration": 7,
    "start_time": "2022-05-23T10:57:40.619Z"
   },
   {
    "duration": 25,
    "start_time": "2022-05-23T10:57:40.627Z"
   },
   {
    "duration": 8,
    "start_time": "2022-05-23T10:57:40.654Z"
   },
   {
    "duration": 5,
    "start_time": "2022-05-23T10:57:40.663Z"
   },
   {
    "duration": 5,
    "start_time": "2022-05-23T10:57:40.669Z"
   },
   {
    "duration": 572,
    "start_time": "2022-05-23T11:00:05.034Z"
   },
   {
    "duration": 94,
    "start_time": "2022-05-23T11:00:05.608Z"
   },
   {
    "duration": 20,
    "start_time": "2022-05-23T11:00:05.704Z"
   },
   {
    "duration": 58,
    "start_time": "2022-05-23T11:00:05.727Z"
   },
   {
    "duration": 25,
    "start_time": "2022-05-23T11:00:05.787Z"
   },
   {
    "duration": 13,
    "start_time": "2022-05-23T11:00:05.814Z"
   },
   {
    "duration": 15,
    "start_time": "2022-05-23T11:00:05.828Z"
   },
   {
    "duration": 22,
    "start_time": "2022-05-23T11:00:05.845Z"
   },
   {
    "duration": 23,
    "start_time": "2022-05-23T11:00:05.869Z"
   },
   {
    "duration": 65,
    "start_time": "2022-05-23T11:00:05.895Z"
   },
   {
    "duration": 55,
    "start_time": "2022-05-23T11:00:05.961Z"
   },
   {
    "duration": 88,
    "start_time": "2022-05-23T11:00:06.018Z"
   },
   {
    "duration": 30,
    "start_time": "2022-05-23T11:00:06.108Z"
   },
   {
    "duration": 15,
    "start_time": "2022-05-23T11:00:06.140Z"
   },
   {
    "duration": 57,
    "start_time": "2022-05-23T11:00:06.157Z"
   },
   {
    "duration": 33,
    "start_time": "2022-05-23T11:00:06.215Z"
   },
   {
    "duration": 45,
    "start_time": "2022-05-23T11:00:06.250Z"
   },
   {
    "duration": 35,
    "start_time": "2022-05-23T11:00:06.297Z"
   },
   {
    "duration": 35,
    "start_time": "2022-05-23T11:00:06.333Z"
   },
   {
    "duration": 42,
    "start_time": "2022-05-23T11:00:06.370Z"
   },
   {
    "duration": 30,
    "start_time": "2022-05-23T11:00:06.413Z"
   },
   {
    "duration": 25,
    "start_time": "2022-05-23T11:00:06.445Z"
   },
   {
    "duration": 30,
    "start_time": "2022-05-23T11:00:06.471Z"
   },
   {
    "duration": 26,
    "start_time": "2022-05-23T11:00:06.503Z"
   },
   {
    "duration": 24,
    "start_time": "2022-05-23T11:00:06.530Z"
   },
   {
    "duration": 49,
    "start_time": "2022-05-23T11:00:06.556Z"
   },
   {
    "duration": 18,
    "start_time": "2022-05-23T11:00:06.607Z"
   },
   {
    "duration": 47,
    "start_time": "2022-05-23T11:00:06.630Z"
   },
   {
    "duration": 27,
    "start_time": "2022-05-23T11:00:06.679Z"
   },
   {
    "duration": 25,
    "start_time": "2022-05-23T11:00:06.708Z"
   },
   {
    "duration": 32,
    "start_time": "2022-05-23T11:00:06.735Z"
   },
   {
    "duration": 23,
    "start_time": "2022-05-23T11:00:06.769Z"
   },
   {
    "duration": 29,
    "start_time": "2022-05-23T11:00:06.794Z"
   },
   {
    "duration": 44,
    "start_time": "2022-05-23T11:00:06.825Z"
   },
   {
    "duration": 28,
    "start_time": "2022-05-23T11:00:06.870Z"
   },
   {
    "duration": 33,
    "start_time": "2022-05-23T11:00:06.900Z"
   },
   {
    "duration": 19,
    "start_time": "2022-05-23T11:00:06.934Z"
   },
   {
    "duration": 26,
    "start_time": "2022-05-23T11:00:06.955Z"
   },
   {
    "duration": 31,
    "start_time": "2022-05-23T11:00:06.982Z"
   },
   {
    "duration": 18,
    "start_time": "2022-05-23T11:00:07.015Z"
   },
   {
    "duration": 32,
    "start_time": "2022-05-23T11:00:07.034Z"
   },
   {
    "duration": 18,
    "start_time": "2022-05-23T11:00:07.068Z"
   },
   {
    "duration": 35,
    "start_time": "2022-05-23T11:00:07.087Z"
   },
   {
    "duration": 19,
    "start_time": "2022-05-23T11:00:07.124Z"
   },
   {
    "duration": 39,
    "start_time": "2022-05-23T11:00:07.145Z"
   },
   {
    "duration": 36,
    "start_time": "2022-05-23T11:00:07.186Z"
   },
   {
    "duration": 53,
    "start_time": "2022-05-23T11:00:07.223Z"
   },
   {
    "duration": 25,
    "start_time": "2022-05-23T11:00:07.277Z"
   },
   {
    "duration": 30,
    "start_time": "2022-05-23T11:00:07.304Z"
   },
   {
    "duration": 38,
    "start_time": "2022-05-23T11:00:07.336Z"
   },
   {
    "duration": 34,
    "start_time": "2022-05-23T11:00:07.375Z"
   },
   {
    "duration": 71,
    "start_time": "2022-05-23T11:00:07.411Z"
   },
   {
    "duration": 42,
    "start_time": "2022-05-23T11:00:07.483Z"
   },
   {
    "duration": 23,
    "start_time": "2022-05-23T11:00:07.527Z"
   },
   {
    "duration": 37,
    "start_time": "2022-05-23T11:00:07.552Z"
   },
   {
    "duration": 24,
    "start_time": "2022-05-23T11:00:07.591Z"
   },
   {
    "duration": 61,
    "start_time": "2022-05-23T11:00:07.616Z"
   },
   {
    "duration": 48,
    "start_time": "2022-05-23T11:00:07.678Z"
   },
   {
    "duration": 17,
    "start_time": "2022-05-23T11:00:07.728Z"
   },
   {
    "duration": 33,
    "start_time": "2022-05-23T11:00:07.746Z"
   },
   {
    "duration": 44,
    "start_time": "2022-05-23T11:00:07.780Z"
   },
   {
    "duration": 35,
    "start_time": "2022-05-23T11:00:07.825Z"
   },
   {
    "duration": 34,
    "start_time": "2022-05-23T11:00:07.862Z"
   },
   {
    "duration": 48,
    "start_time": "2022-05-23T11:00:07.898Z"
   },
   {
    "duration": 43,
    "start_time": "2022-05-23T11:00:07.948Z"
   },
   {
    "duration": 36,
    "start_time": "2022-05-23T11:00:07.992Z"
   },
   {
    "duration": 53,
    "start_time": "2022-05-23T11:00:08.030Z"
   },
   {
    "duration": 33,
    "start_time": "2022-05-23T11:00:08.085Z"
   },
   {
    "duration": 29,
    "start_time": "2022-05-23T11:00:08.119Z"
   },
   {
    "duration": 30,
    "start_time": "2022-05-23T11:00:08.150Z"
   },
   {
    "duration": 70,
    "start_time": "2022-05-23T11:00:08.182Z"
   },
   {
    "duration": 3,
    "start_time": "2022-05-23T11:00:08.254Z"
   },
   {
    "duration": 35,
    "start_time": "2022-05-23T11:00:08.259Z"
   },
   {
    "duration": 75,
    "start_time": "2022-05-23T11:00:08.296Z"
   },
   {
    "duration": 44,
    "start_time": "2022-05-23T11:00:08.373Z"
   },
   {
    "duration": 29,
    "start_time": "2022-05-23T11:00:08.419Z"
   },
   {
    "duration": 36,
    "start_time": "2022-05-23T11:00:08.450Z"
   },
   {
    "duration": 41,
    "start_time": "2022-05-23T11:00:08.487Z"
   },
   {
    "duration": 52,
    "start_time": "2022-05-23T11:00:08.530Z"
   },
   {
    "duration": 8,
    "start_time": "2022-05-23T11:00:08.584Z"
   },
   {
    "duration": 48,
    "start_time": "2022-05-23T11:00:08.594Z"
   },
   {
    "duration": 28,
    "start_time": "2022-05-23T11:00:08.646Z"
   },
   {
    "duration": 39,
    "start_time": "2022-05-23T11:00:08.676Z"
   },
   {
    "duration": 31,
    "start_time": "2022-05-23T11:02:33.506Z"
   },
   {
    "duration": 29,
    "start_time": "2022-05-23T11:03:17.521Z"
   },
   {
    "duration": 35,
    "start_time": "2022-05-23T11:04:29.401Z"
   },
   {
    "duration": 7,
    "start_time": "2022-05-23T11:06:04.016Z"
   },
   {
    "duration": 4,
    "start_time": "2022-05-23T11:07:21.700Z"
   },
   {
    "duration": 4,
    "start_time": "2022-05-23T11:08:03.894Z"
   },
   {
    "duration": 3,
    "start_time": "2022-05-23T11:08:06.338Z"
   },
   {
    "duration": 3,
    "start_time": "2022-05-23T11:08:07.336Z"
   },
   {
    "duration": 4,
    "start_time": "2022-05-23T11:08:08.640Z"
   },
   {
    "duration": 3,
    "start_time": "2022-05-23T11:08:36.414Z"
   },
   {
    "duration": 2,
    "start_time": "2022-05-23T11:08:41.583Z"
   },
   {
    "duration": 3,
    "start_time": "2022-05-23T11:09:35.680Z"
   },
   {
    "duration": 4,
    "start_time": "2022-05-23T11:09:37.521Z"
   },
   {
    "duration": 4,
    "start_time": "2022-05-23T11:09:39.283Z"
   },
   {
    "duration": 3,
    "start_time": "2022-05-23T11:09:40.521Z"
   },
   {
    "duration": 4,
    "start_time": "2022-05-23T11:09:45.502Z"
   },
   {
    "duration": 48,
    "start_time": "2022-05-23T11:10:28.302Z"
   },
   {
    "duration": 448,
    "start_time": "2022-05-23T11:10:38.360Z"
   },
   {
    "duration": 58,
    "start_time": "2022-05-23T11:10:38.810Z"
   },
   {
    "duration": 19,
    "start_time": "2022-05-23T11:10:38.869Z"
   },
   {
    "duration": 20,
    "start_time": "2022-05-23T11:10:38.890Z"
   },
   {
    "duration": 21,
    "start_time": "2022-05-23T11:10:38.912Z"
   },
   {
    "duration": 18,
    "start_time": "2022-05-23T11:10:38.935Z"
   },
   {
    "duration": 8,
    "start_time": "2022-05-23T11:10:38.954Z"
   },
   {
    "duration": 9,
    "start_time": "2022-05-23T11:10:38.963Z"
   },
   {
    "duration": 11,
    "start_time": "2022-05-23T11:10:38.973Z"
   },
   {
    "duration": 9,
    "start_time": "2022-05-23T11:10:38.987Z"
   },
   {
    "duration": 17,
    "start_time": "2022-05-23T11:10:38.998Z"
   },
   {
    "duration": 7,
    "start_time": "2022-05-23T11:10:39.016Z"
   },
   {
    "duration": 41,
    "start_time": "2022-05-23T11:10:39.024Z"
   },
   {
    "duration": 4,
    "start_time": "2022-05-23T11:10:39.066Z"
   },
   {
    "duration": 8,
    "start_time": "2022-05-23T11:10:39.072Z"
   },
   {
    "duration": 11,
    "start_time": "2022-05-23T11:10:39.081Z"
   },
   {
    "duration": 6,
    "start_time": "2022-05-23T11:10:39.094Z"
   },
   {
    "duration": 10,
    "start_time": "2022-05-23T11:10:39.102Z"
   },
   {
    "duration": 44,
    "start_time": "2022-05-23T11:10:39.113Z"
   },
   {
    "duration": 15,
    "start_time": "2022-05-23T11:10:39.159Z"
   },
   {
    "duration": 6,
    "start_time": "2022-05-23T11:10:39.175Z"
   },
   {
    "duration": 9,
    "start_time": "2022-05-23T11:10:39.182Z"
   },
   {
    "duration": 10,
    "start_time": "2022-05-23T11:10:39.193Z"
   },
   {
    "duration": 8,
    "start_time": "2022-05-23T11:10:39.205Z"
   },
   {
    "duration": 9,
    "start_time": "2022-05-23T11:10:39.252Z"
   },
   {
    "duration": 15,
    "start_time": "2022-05-23T11:10:39.262Z"
   },
   {
    "duration": 7,
    "start_time": "2022-05-23T11:10:39.279Z"
   },
   {
    "duration": 6,
    "start_time": "2022-05-23T11:10:39.290Z"
   },
   {
    "duration": 8,
    "start_time": "2022-05-23T11:10:39.298Z"
   },
   {
    "duration": 45,
    "start_time": "2022-05-23T11:10:39.308Z"
   },
   {
    "duration": 7,
    "start_time": "2022-05-23T11:10:39.355Z"
   },
   {
    "duration": 10,
    "start_time": "2022-05-23T11:10:39.363Z"
   },
   {
    "duration": 18,
    "start_time": "2022-05-23T11:10:39.375Z"
   },
   {
    "duration": 26,
    "start_time": "2022-05-23T11:10:39.395Z"
   },
   {
    "duration": 30,
    "start_time": "2022-05-23T11:10:39.423Z"
   },
   {
    "duration": 19,
    "start_time": "2022-05-23T11:10:39.455Z"
   },
   {
    "duration": 19,
    "start_time": "2022-05-23T11:10:39.476Z"
   },
   {
    "duration": 12,
    "start_time": "2022-05-23T11:10:39.496Z"
   },
   {
    "duration": 46,
    "start_time": "2022-05-23T11:10:39.510Z"
   },
   {
    "duration": 7,
    "start_time": "2022-05-23T11:10:39.558Z"
   },
   {
    "duration": 24,
    "start_time": "2022-05-23T11:10:39.567Z"
   },
   {
    "duration": 9,
    "start_time": "2022-05-23T11:10:39.593Z"
   },
   {
    "duration": 7,
    "start_time": "2022-05-23T11:10:39.604Z"
   },
   {
    "duration": 11,
    "start_time": "2022-05-23T11:10:39.613Z"
   },
   {
    "duration": 19,
    "start_time": "2022-05-23T11:10:39.652Z"
   },
   {
    "duration": 14,
    "start_time": "2022-05-23T11:10:39.672Z"
   },
   {
    "duration": 10,
    "start_time": "2022-05-23T11:10:39.688Z"
   },
   {
    "duration": 14,
    "start_time": "2022-05-23T11:10:39.700Z"
   },
   {
    "duration": 4,
    "start_time": "2022-05-23T11:10:39.716Z"
   },
   {
    "duration": 38,
    "start_time": "2022-05-23T11:10:39.722Z"
   },
   {
    "duration": 3,
    "start_time": "2022-05-23T11:10:39.762Z"
   },
   {
    "duration": 13,
    "start_time": "2022-05-23T11:10:39.766Z"
   },
   {
    "duration": 9,
    "start_time": "2022-05-23T11:10:39.781Z"
   },
   {
    "duration": 10,
    "start_time": "2022-05-23T11:10:39.792Z"
   },
   {
    "duration": 15,
    "start_time": "2022-05-23T11:10:39.804Z"
   },
   {
    "duration": 4,
    "start_time": "2022-05-23T11:10:39.820Z"
   },
   {
    "duration": 15,
    "start_time": "2022-05-23T11:10:39.853Z"
   },
   {
    "duration": 9,
    "start_time": "2022-05-23T11:10:39.870Z"
   },
   {
    "duration": 44,
    "start_time": "2022-05-23T11:10:39.881Z"
   },
   {
    "duration": 7,
    "start_time": "2022-05-23T11:10:39.927Z"
   },
   {
    "duration": 6,
    "start_time": "2022-05-23T11:10:39.952Z"
   },
   {
    "duration": 7,
    "start_time": "2022-05-23T11:10:39.960Z"
   },
   {
    "duration": 6,
    "start_time": "2022-05-23T11:10:39.968Z"
   },
   {
    "duration": 5,
    "start_time": "2022-05-23T11:10:39.976Z"
   },
   {
    "duration": 7,
    "start_time": "2022-05-23T11:10:39.983Z"
   },
   {
    "duration": 6,
    "start_time": "2022-05-23T11:10:39.992Z"
   },
   {
    "duration": 7,
    "start_time": "2022-05-23T11:10:40.000Z"
   },
   {
    "duration": 56,
    "start_time": "2022-05-23T11:10:40.008Z"
   },
   {
    "duration": 7,
    "start_time": "2022-05-23T11:10:40.065Z"
   },
   {
    "duration": 10,
    "start_time": "2022-05-23T11:10:40.074Z"
   },
   {
    "duration": 7,
    "start_time": "2022-05-23T11:10:40.085Z"
   },
   {
    "duration": 50,
    "start_time": "2022-05-23T11:10:40.093Z"
   },
   {
    "duration": 7,
    "start_time": "2022-05-23T11:10:40.145Z"
   },
   {
    "duration": 5,
    "start_time": "2022-05-23T11:10:40.159Z"
   },
   {
    "duration": 9,
    "start_time": "2022-05-23T11:10:40.165Z"
   },
   {
    "duration": 8,
    "start_time": "2022-05-23T11:10:40.176Z"
   },
   {
    "duration": 8,
    "start_time": "2022-05-23T11:10:40.186Z"
   },
   {
    "duration": 6,
    "start_time": "2022-05-23T11:10:40.196Z"
   },
   {
    "duration": 5,
    "start_time": "2022-05-23T11:10:40.203Z"
   },
   {
    "duration": 46,
    "start_time": "2022-05-23T11:10:40.210Z"
   },
   {
    "duration": 3,
    "start_time": "2022-05-23T11:10:40.257Z"
   },
   {
    "duration": 8,
    "start_time": "2022-05-23T11:10:40.264Z"
   },
   {
    "duration": 7,
    "start_time": "2022-05-23T11:10:40.273Z"
   },
   {
    "duration": 9,
    "start_time": "2022-05-23T11:10:40.282Z"
   },
   {
    "duration": 39,
    "start_time": "2022-05-23T11:10:40.292Z"
   },
   {
    "duration": 25,
    "start_time": "2022-05-23T11:13:24.009Z"
   },
   {
    "duration": 454,
    "start_time": "2022-05-23T11:22:56.266Z"
   },
   {
    "duration": 64,
    "start_time": "2022-05-23T11:22:56.722Z"
   },
   {
    "duration": 20,
    "start_time": "2022-05-23T11:22:56.793Z"
   },
   {
    "duration": 48,
    "start_time": "2022-05-23T11:22:56.815Z"
   },
   {
    "duration": 15,
    "start_time": "2022-05-23T11:22:56.865Z"
   },
   {
    "duration": 10,
    "start_time": "2022-05-23T11:22:56.881Z"
   },
   {
    "duration": 8,
    "start_time": "2022-05-23T11:22:56.892Z"
   },
   {
    "duration": 8,
    "start_time": "2022-05-23T11:22:56.903Z"
   },
   {
    "duration": 13,
    "start_time": "2022-05-23T11:22:56.912Z"
   },
   {
    "duration": 30,
    "start_time": "2022-05-23T11:22:56.927Z"
   },
   {
    "duration": 18,
    "start_time": "2022-05-23T11:22:56.959Z"
   },
   {
    "duration": 8,
    "start_time": "2022-05-23T11:22:56.978Z"
   },
   {
    "duration": 17,
    "start_time": "2022-05-23T11:22:56.988Z"
   },
   {
    "duration": 4,
    "start_time": "2022-05-23T11:22:57.007Z"
   },
   {
    "duration": 41,
    "start_time": "2022-05-23T11:22:57.013Z"
   },
   {
    "duration": 14,
    "start_time": "2022-05-23T11:22:57.056Z"
   },
   {
    "duration": 11,
    "start_time": "2022-05-23T11:22:57.073Z"
   },
   {
    "duration": 15,
    "start_time": "2022-05-23T11:22:57.086Z"
   },
   {
    "duration": 19,
    "start_time": "2022-05-23T11:22:57.102Z"
   },
   {
    "duration": 31,
    "start_time": "2022-05-23T11:22:57.123Z"
   },
   {
    "duration": 11,
    "start_time": "2022-05-23T11:22:57.156Z"
   },
   {
    "duration": 6,
    "start_time": "2022-05-23T11:22:57.168Z"
   },
   {
    "duration": 10,
    "start_time": "2022-05-23T11:22:57.176Z"
   },
   {
    "duration": 10,
    "start_time": "2022-05-23T11:22:57.188Z"
   },
   {
    "duration": 13,
    "start_time": "2022-05-23T11:22:57.200Z"
   },
   {
    "duration": 18,
    "start_time": "2022-05-23T11:22:57.257Z"
   },
   {
    "duration": 7,
    "start_time": "2022-05-23T11:22:57.277Z"
   },
   {
    "duration": 9,
    "start_time": "2022-05-23T11:22:57.286Z"
   },
   {
    "duration": 9,
    "start_time": "2022-05-23T11:22:57.297Z"
   },
   {
    "duration": 45,
    "start_time": "2022-05-23T11:22:57.308Z"
   },
   {
    "duration": 9,
    "start_time": "2022-05-23T11:22:57.355Z"
   },
   {
    "duration": 6,
    "start_time": "2022-05-23T11:22:57.366Z"
   },
   {
    "duration": 17,
    "start_time": "2022-05-23T11:22:57.373Z"
   },
   {
    "duration": 62,
    "start_time": "2022-05-23T11:22:57.391Z"
   },
   {
    "duration": 28,
    "start_time": "2022-05-23T11:22:57.455Z"
   },
   {
    "duration": 29,
    "start_time": "2022-05-23T11:22:57.485Z"
   },
   {
    "duration": 56,
    "start_time": "2022-05-23T11:22:57.516Z"
   },
   {
    "duration": 15,
    "start_time": "2022-05-23T11:22:57.574Z"
   },
   {
    "duration": 15,
    "start_time": "2022-05-23T11:22:57.590Z"
   },
   {
    "duration": 7,
    "start_time": "2022-05-23T11:22:57.607Z"
   },
   {
    "duration": 44,
    "start_time": "2022-05-23T11:22:57.615Z"
   },
   {
    "duration": 6,
    "start_time": "2022-05-23T11:22:57.661Z"
   },
   {
    "duration": 7,
    "start_time": "2022-05-23T11:22:57.668Z"
   },
   {
    "duration": 5,
    "start_time": "2022-05-23T11:22:57.677Z"
   },
   {
    "duration": 19,
    "start_time": "2022-05-23T11:22:57.684Z"
   },
   {
    "duration": 53,
    "start_time": "2022-05-23T11:22:57.705Z"
   },
   {
    "duration": 17,
    "start_time": "2022-05-23T11:22:57.760Z"
   },
   {
    "duration": 13,
    "start_time": "2022-05-23T11:22:57.779Z"
   },
   {
    "duration": 12,
    "start_time": "2022-05-23T11:22:57.794Z"
   },
   {
    "duration": 17,
    "start_time": "2022-05-23T11:22:57.808Z"
   },
   {
    "duration": 5,
    "start_time": "2022-05-23T11:22:57.852Z"
   },
   {
    "duration": 8,
    "start_time": "2022-05-23T11:22:57.860Z"
   },
   {
    "duration": 5,
    "start_time": "2022-05-23T11:22:57.871Z"
   },
   {
    "duration": 9,
    "start_time": "2022-05-23T11:22:57.878Z"
   },
   {
    "duration": 16,
    "start_time": "2022-05-23T11:22:57.889Z"
   },
   {
    "duration": 45,
    "start_time": "2022-05-23T11:22:57.907Z"
   },
   {
    "duration": 15,
    "start_time": "2022-05-23T11:22:57.954Z"
   },
   {
    "duration": 9,
    "start_time": "2022-05-23T11:22:57.971Z"
   },
   {
    "duration": 25,
    "start_time": "2022-05-23T11:22:57.981Z"
   },
   {
    "duration": 13,
    "start_time": "2022-05-23T11:22:58.008Z"
   },
   {
    "duration": 7,
    "start_time": "2022-05-23T11:22:58.054Z"
   },
   {
    "duration": 13,
    "start_time": "2022-05-23T11:22:58.063Z"
   },
   {
    "duration": 11,
    "start_time": "2022-05-23T11:22:58.078Z"
   },
   {
    "duration": 8,
    "start_time": "2022-05-23T11:22:58.091Z"
   },
   {
    "duration": 8,
    "start_time": "2022-05-23T11:22:58.100Z"
   },
   {
    "duration": 76,
    "start_time": "2022-05-23T11:22:58.110Z"
   },
   {
    "duration": 3,
    "start_time": "2022-05-23T11:22:58.188Z"
   },
   {
    "duration": 13,
    "start_time": "2022-05-23T11:22:58.193Z"
   },
   {
    "duration": 5,
    "start_time": "2022-05-23T11:22:58.208Z"
   },
   {
    "duration": 7,
    "start_time": "2022-05-23T11:22:58.214Z"
   },
   {
    "duration": 8,
    "start_time": "2022-05-23T11:22:58.223Z"
   },
   {
    "duration": 58,
    "start_time": "2022-05-23T11:22:58.253Z"
   },
   {
    "duration": 2,
    "start_time": "2022-05-23T11:22:58.313Z"
   },
   {
    "duration": 9,
    "start_time": "2022-05-23T11:22:58.316Z"
   },
   {
    "duration": 26,
    "start_time": "2022-05-23T11:22:58.326Z"
   },
   {
    "duration": 6,
    "start_time": "2022-05-23T11:22:58.354Z"
   },
   {
    "duration": 7,
    "start_time": "2022-05-23T11:22:58.361Z"
   },
   {
    "duration": 13,
    "start_time": "2022-05-23T11:22:58.369Z"
   },
   {
    "duration": 7,
    "start_time": "2022-05-23T11:22:58.384Z"
   },
   {
    "duration": 37,
    "start_time": "2022-05-23T11:22:58.396Z"
   },
   {
    "duration": 16,
    "start_time": "2022-05-23T11:22:58.436Z"
   },
   {
    "duration": 9,
    "start_time": "2022-05-23T11:22:58.454Z"
   },
   {
    "duration": 5,
    "start_time": "2022-05-23T11:22:58.465Z"
   },
   {
    "duration": 5,
    "start_time": "2022-05-23T11:22:58.472Z"
   },
   {
    "duration": 37,
    "start_time": "2022-05-23T11:22:58.478Z"
   }
  ],
  "kernelspec": {
   "display_name": "Python 3 (ipykernel)",
   "language": "python",
   "name": "python3"
  },
  "language_info": {
   "codemirror_mode": {
    "name": "ipython",
    "version": 3
   },
   "file_extension": ".py",
   "mimetype": "text/x-python",
   "name": "python",
   "nbconvert_exporter": "python",
   "pygments_lexer": "ipython3",
   "version": "3.9.7"
  },
  "toc": {
   "base_numbering": 1,
   "nav_menu": {},
   "number_sections": true,
   "sideBar": true,
   "skip_h1_title": true,
   "title_cell": "Содержание",
   "title_sidebar": "Содержание",
   "toc_cell": true,
   "toc_position": {
    "height": "calc(100% - 180px)",
    "left": "10px",
    "top": "150px",
    "width": "407.225px"
   },
   "toc_section_display": true,
   "toc_window_display": true
  }
 },
 "nbformat": 4,
 "nbformat_minor": 5
}
